{
  "cells": [
    {
      "cell_type": "markdown",
      "metadata": {
        "id": "T4r2z30vJSbA"
      },
      "source": [
        "# NumPy \n",
        "\n",
        "NumPy is a Python library, that provides support for large arrays of numerical data, as well as functions to perform mathematical operations on these arrays. It is widely used in scientific computing, data analysis, and machine learning.\n",
        "\n",
        "\n",
        "1.   Arrays and matrices: NumPy provides a way to store collections of numbers, called arrays, in a way that makes it easy to perform mathematical operations on them. For example, you can add, subtract, multiply, and divide arrays, just like you can with scalar numbers. You can also perform operations on arrays of higher dimensions, such as matrices, which are 2-D arrays.\n",
        "2.   Mathematical functions: NumPy provides a wide range of functions for performing mathematical operations on arrays, such as mean, sum, max, min, and standard deviation, among others. This makes it easy to perform complex mathematical computations without having to write your own functions.\n",
        "\n",
        "1.   Efficiency: NumPy is designed to be fast and efficient, especially for large arrays and matrices. This is because it uses optimized C code behind the scenes to perform operations, rather than relying on the slower Python interpreter.Élément de liste\n",
        "\n",
        "\n",
        "\n",
        "\n"
      ]
    },
    {
      "cell_type": "markdown",
      "metadata": {
        "id": "_mcCpCkvQmOS"
      },
      "source": [
        "###Differences between lists and NumPy Arrays\n",
        "\n",
        "\n",
        "*   An array's size is immutable. You cannot append, insert or remove elements, like you can with a list.\n",
        "\n",
        "*  All of an array's elements must be of the same data type.\n",
        "\n",
        "*   A NumPy array behaves in a Pythonic fashion. You can len(my_array) just like you would assume.\n",
        "\n",
        "\n",
        "\n",
        "\n",
        "\n",
        "\n"
      ]
    },
    {
      "cell_type": "markdown",
      "metadata": {
        "id": "vO47lN3aDOAv"
      },
      "source": [
        "## About Colabs\n",
        "\n",
        "Colab is Google's implementation of [Jupyter Notebook](https://jupyter.org/). Like all Jupyter Notebooks, a Colab consists of two kinds of components:\n",
        "\n",
        "  * **Text cells**, which contain explanations. You are currently reading a text cell.\n",
        "  * **Code cells**, which contain Python code for you to run. Code cells have a light gray background.\n",
        "\n",
        "You *read* the text cells and *run* the code cells. \n",
        "\n",
        "\n",
        "\n",
        "\n"
      ]
    },
    {
      "cell_type": "markdown",
      "metadata": {
        "id": "SQ-pvdPymocS"
      },
      "source": [
        "### Running code cells\n",
        "\n",
        "You must run code cells in order. In other words, you may only run a code cell once all the code cells preceding it have already been run. \n",
        "\n",
        "To run a code cell:\n",
        "\n",
        "  1. Place the cursor anywhere inside the [ ] area at the top left of a code cell. The area inside the [ ] will display an arrow.\n",
        "  2. Click the arrow.\n",
        "\n",
        "Alternatively, you may invoke **Runtime->Run all**. Note, though, that some of the code cells will fail because not all the coding is complete. (You'll complete the coding as part of the exercise.)"
      ]
    },
    {
      "cell_type": "markdown",
      "metadata": {
        "id": "Ll9RWewwFwX6"
      },
      "source": [
        "## Import NumPy module\n",
        "\n",
        "Run the following code cell to import the NumPy module:"
      ]
    },
    {
      "cell_type": "code",
      "execution_count": 2,
      "metadata": {
        "colab": {
          "base_uri": "https://localhost:8080/",
          "height": 35
        },
        "id": "guvPzSWYJGZ4",
        "outputId": "3eac79bc-0509-47b9-8062-20882ecc4c51"
      },
      "outputs": [
        {
          "output_type": "execute_result",
          "data": {
            "text/plain": [
              "'1.21.6'"
            ],
            "application/vnd.google.colaboratory.intrinsic+json": {
              "type": "string"
            }
          },
          "metadata": {},
          "execution_count": 2
        }
      ],
      "source": [
        "import numpy as np \n",
        "np.__version__"
      ]
    },
    {
      "cell_type": "markdown",
      "metadata": {
        "id": "7cT9fXS_JUpa"
      },
      "source": [
        "## Creating numpy arrays "
      ]
    },
    {
      "cell_type": "markdown",
      "metadata": {
        "id": "NwzD3mm_N7Zc"
      },
      "source": [
        "### From Python lists "
      ]
    },
    {
      "cell_type": "code",
      "execution_count": null,
      "metadata": {
        "colab": {
          "base_uri": "https://localhost:8080/"
        },
        "id": "XxJR5xKpJbB3",
        "outputId": "ac9e0d4b-bf32-4422-c6ce-569c7234d372"
      },
      "outputs": [
        {
          "name": "stdout",
          "output_type": "stream",
          "text": [
            "[1 2 3 4 6 7 8 9]\n"
          ]
        }
      ],
      "source": [
        "one_dimensional_array1 = np.array([1, 2, 3, 4, 6, 7, 8, 9])\n",
        "print(one_dimensional_array1)"
      ]
    },
    {
      "cell_type": "code",
      "execution_count": null,
      "metadata": {
        "colab": {
          "base_uri": "https://localhost:8080/"
        },
        "id": "Iess_LLUOgoe",
        "outputId": "fc55be0d-523a-4133-bb1e-1933df416c5f"
      },
      "outputs": [
        {
          "name": "stdout",
          "output_type": "stream",
          "text": [
            "[1.2 2.4 3.5 4.7 6.1 7.2 8.3 9.5]\n"
          ]
        }
      ],
      "source": [
        "one_dimensional_array2 = np.array([1.2, 2.4, 3.5, 4.7, 6.1, 7.2, 8.3, 9.5])\n",
        "print(one_dimensional_array2)"
      ]
    },
    {
      "cell_type": "code",
      "execution_count": null,
      "metadata": {
        "colab": {
          "base_uri": "https://localhost:8080/"
        },
        "id": "_z8HupNoO9Q_",
        "outputId": "6533be1f-9bf5-49f5-bebf-34719b7b3a2a"
      },
      "outputs": [
        {
          "name": "stdout",
          "output_type": "stream",
          "text": [
            "[1.5 2.  3.  4.  6.  7.  8.  9. ]\n",
            "float64\n"
          ]
        }
      ],
      "source": [
        "one_dimensional_array3 = np.array([1.5, 2, 3, 4, 6, 7, 8, 9])         # all elements are considered of the same type\n",
        "print(one_dimensional_array3)\n",
        "print(one_dimensional_array3.dtype)"
      ]
    },
    {
      "cell_type": "code",
      "execution_count": null,
      "metadata": {
        "colab": {
          "base_uri": "https://localhost:8080/"
        },
        "id": "J9B8GwXMRZhw",
        "outputId": "87fa6645-356d-406f-a905-e9a67feef2e9"
      },
      "outputs": [
        {
          "name": "stdout",
          "output_type": "stream",
          "text": [
            "[1. 2. 3. 4.]\n",
            "float32\n"
          ]
        }
      ],
      "source": [
        "one_dimensional_array4 = np.array([1, 2, 3, 4],dtype='float32') # to explicitly set the data type\n",
        "print(one_dimensional_array4)\n",
        "print(one_dimensional_array4.dtype)"
      ]
    },
    {
      "cell_type": "markdown",
      "metadata": {
        "id": "K9yCpUAAU_Vt"
      },
      "source": [
        "### From Scratch"
      ]
    },
    {
      "cell_type": "markdown",
      "metadata": {
        "id": "yeAKnlsCnQEO"
      },
      "source": [
        "####Populate arrays with specific numbers"
      ]
    },
    {
      "cell_type": "code",
      "execution_count": null,
      "metadata": {
        "colab": {
          "base_uri": "https://localhost:8080/"
        },
        "id": "fzVehfwsVuzV",
        "outputId": "a63ca0a8-ca40-48cc-8a46-81de6f0f2d7c"
      },
      "outputs": [
        {
          "data": {
            "text/plain": [
              "array([0, 0, 0, 0, 0, 0, 0, 0, 0, 0])"
            ]
          },
          "execution_count": 19,
          "metadata": {},
          "output_type": "execute_result"
        }
      ],
      "source": [
        "# Create a length-10 integer array filled with zeros\n",
        "np.zeros(10,dtype=int)"
      ]
    },
    {
      "cell_type": "code",
      "source": [
        "# 1. Create a 1-D array of 10 evenly spaced values from 0 to 1.\n",
        "a = np.linspace(0, 1, 10)\n",
        "print(\"1-D array: \\n\", a)"
      ],
      "metadata": {
        "colab": {
          "base_uri": "https://localhost:8080/"
        },
        "id": "964MoGU_QnKD",
        "outputId": "129f686d-9aaa-4457-d625-b5273d191778"
      },
      "execution_count": 4,
      "outputs": [
        {
          "output_type": "stream",
          "name": "stdout",
          "text": [
            "1-D array: \n",
            " [0.         0.11111111 0.22222222 0.33333333 0.44444444 0.55555556\n",
            " 0.66666667 0.77777778 0.88888889 1.        ]\n"
          ]
        }
      ]
    },
    {
      "cell_type": "code",
      "execution_count": null,
      "metadata": {
        "colab": {
          "base_uri": "https://localhost:8080/"
        },
        "id": "LGdaLtvkWhNM",
        "outputId": "4056e523-892a-4285-d69e-4d68c9bafcfe"
      },
      "outputs": [
        {
          "data": {
            "text/plain": [
              "array([[1., 1., 1., 1., 1.],\n",
              "       [1., 1., 1., 1., 1.],\n",
              "       [1., 1., 1., 1., 1.]])"
            ]
          },
          "execution_count": 20,
          "metadata": {},
          "output_type": "execute_result"
        }
      ],
      "source": [
        "# Create a 3*5 floating-point array filled with 1s\n",
        "np.ones((3,5),dtype=float)"
      ]
    },
    {
      "cell_type": "markdown",
      "metadata": {
        "id": "IzUli-jSYTo5"
      },
      "source": [
        "![1_lbPigku_qn_NeKAHHTGYPg.png](data:image/png;base64,iVBORw0KGgoAAAANSUhEUgAAAmwAAAJXCAIAAAChSp8cAACAAElEQVR42uyddXwUx/vHV84lyd1FLu7uIUgI7lLcWrRQilOkaHFtKQ4t7sWKu7sEAiSBEHe/S+4u57r2e10CNNBAaWn75Ufn/VdyOzP7zMzu85lndnaHRlEUBAAAAAAA4M+DgCYAAAAAAACIKAAAAAAAQEQBAAAAAAAiCgAAAAAAEFEAAAAAAABARAEAAAAAACIKAAAAAMD/FtofpkgYelhfogItBQAAAIBPg6hlnRzivUAkCgAAAADA/xIgogAAAAAAABEFAAAAAACIKAAAAAAAQEQBAAAAAPiUoX2A/qJ0ex6DR4NMBlOVicDBbjBvA0ZsuSwhA6Fwc6UON5F/88Y5DBaDQ+BanCTet1zEhoPiZtxEUCToHQAAAPgfiCgqGNE9tJcjmwtDFEnIZNJfEwsuVZr0BGjTNxUrskHMzHA7FyYMUZRJr7mTmrcnWyUxk3+LlCJcpwkdA5pRkhU3S5JVFuw9soh8A5Y2caTyM75/Vl1qBDIKAAAAf90Hf0B4BcEUrruVUniyUAcLxKNb+bcRMNnwW6IlG1HvJmHzYkRiFgK/T3RlI+rVOGxejL3z+6X/qANRGIIooqig6HB6ZQHEadU4ZJQf34Hx91SLInGNhTCYCQvx1gCXYSPq0Sh0bgMHdzYKQxCBYQYc11lIggSzBwAAAPA/iURrIU1peaUXqktTm0dO8HPo7l/xRIcZTfUENzwncfcAe2apjP5+2sFzEvcItGeWyhn/7zX0hdjJKqUnM7XHygMXxTs3CXa6Um5UWSyWDy/XqNhxLmEnBL1DD7kOjp8FOPArqhk1YyZVSf600nywGTsAAAD8r0X0BebEQmV/D46P2M6BpkHd3fuEOEaJmEzM9DyncG+mEnf1nhguELNQxN1vgcD53uOsU1pux1DXZq58BxpZKZXsf1L2TItbXrp1e2/fb16k950vED8us3g7slFF2bqn8nLCdmBzzxhYeSCDiA+zF1ZXPqOLWjizSUXF3ifSLD2OQRDCFfSM8mjryqVp5SceF92ptnw8c5byMtlTrYOHvV0oF03XQDhb0CPSva0bj65TnHxceEdhMZCI2M3tizBxpC2irSzb8liarceZQsee4a7NxGyWrmrHM3NMkEioqnpE2TUXmc8+N4YFOwYhqoOJFXInz2H+7LIiJdPVIcIGKswp3JerxsVe48JFrmyU5uYzx87pXlL2bdR5QKCAJi3cnqmSmCBnD/fPQ53CuGRZSdkvz2WFRtLJx/erQI6kRMVwdogR0tTS8j3J0kwdjoP7BQAAAP4BEYXMKmMlRnlzOc40xGTDc4ZM+ZW4l6tdm0bBpD75CI5Vm0mcghDcItebNThJomwvG1iu0BgEgnBf36mUadbDqhLji+lFHMOUZhKjILQmvUyLB/k5BHIEnhnKaqZNlKONu6JKDdEcBPxYd7smOKaFGQL7gMm4eUGyopy0HdYqpKeIzJPjLk5u45vispulqVrsYxEA3FihJTAR05mPMFSCIS2De9pThQpc5OgyLg6X3ypJp7tMjPeMpJmey82IhTBQECp0m9zGp5kdqlHr5UazkqI5CGwiXGximXSmTnKDRrqJbIIQsw0NVjNY3vaiOBeR2YwjLHpAkyCzIfUMjinNBE5BMI7JDWYNTqE8tq89n6ansxBI6Ok7s6mrH2IowdgNIoJd6NTSFDnBYnnZi5q7ivR6C85kegX5DlLr1mWppWYQvQIAAMA/IKKkBTNQFEVHOQhUlp4+Kx2CINg7PHJJA0GQE9eSVLaXzo8UMZiSkp8fysqsYlm24mIZBEGo0H1xB58YBztXenWF8cW6GFVZyV52bfrSTYmyEhOX5ePo7cj1ZiLFdhwRjSqu1OosNgQEI5TmwJX0C4R4eluvKHd7vzQ1InZtIaQVZaSufG4IaRw9ztc+1kaSp8c0H0kwSmE6jCIgGocBi71dmgvpJZnPVz3XBzSMGucramArMdjauDCQnPScDelqiVW0GC1jXCJtkMK0tBXPFCVGErZxNUMQi42W5eRuT5GkEg6NXgk0RVEwRMqKF98uN3oFzYwSNnTnn3lcsT+HFyFi8qWlWxOrCvSEI+9lBpgT7ydyY5mv3U7/Rc4b1s6/tZdjaJY6s2YwQyhKl98oqXIJmB/r4CVi82ha2EwAFQUAAIA6/E3vicIwbC2JsIabFATx7USfxfgP8OLa0hAei06r77kmwuQ2DvYeHenowaKhTLotCqNvlWhdWqXJQLK9BXQ/IZsFG7JkFpOFIiGI1OuLDKRWrsrS4RYOx4VOD3bg8miElmIFOPJ4MEVRDCc+Qkc/nhaHYWtjEBiB+Npz+TRCR7H8HXg2MEVBDCceYjSadSQUHOTVyYVjS4Mhuk2oA4NNqm4XaBWmGnGreUOGNFWfT6tKU2N1g0PrYQqSq/TVGJYn1cjMpIDP5tCQt3YynedjS2NiujwNYdTqCjQ4xuR48RAmAlEQVa3SK3BCqreYCIrNrL8TAQAAAESif4cWs+h8BIEtmIZEfMPCJ8c4OJP6XAMEU1C9vpdt7zatlU9TG6pcbkZhCoKhd3poMqdSowziuQl5PgIWXafI0pOmWvGgIGuESeFajKQglM9ikCwERdnNGoY1e5HVjCLQR+T+YYYdC6ZBhMZM59IRGsqOjw2Nf2lqFgLpS4sPirjjQkRD2nJ9HmVsKmfa0RDEbJFjFFZHLykTpsKpet/NpWqWDJEWXE9AEIPOrR3f1G8LjYMgMEYYSIqAcANGERTKocFoTXsRBEnVAm4TAAAA+EdF1N7J1o0BYzKdhOnQP0QgNktWXc1/YuO9tpmLXT3Om9Uywj2aj127/XxnGXvoZ0HtOX9QvqlKnWMUxwsd/O1o2nJ1GUZgdZUBRlgIDMOUBSctBESRhqt3s05KjBoCsv5jNKs/miUxCMcmyIbGpLRFatyCWa27fi/7RIVB/ZupVNWjVEm17zeNXBpFeT5VqegQRdFpHOSNSP0d0mbVQBhFGAgEY4QFeqsKUgSJURRFgxkwhEAInQbDEGnGIfDmCwAAALynU/9bgivbjn62QgbxtFilYTEc6Qiu0hWZCBhF0ZchJkaQJAUzUBSBYQhhu/BQGmnIV2IYhDDQeqywvEj/YiqSMqvSFBgkFIRxqFKZVo+9/KYDi2lPg+lsnicPpZmNErO5SGM2kTQnNlmtN5apDWUaU7U1wPpYxixBAY6hXLqpovq50ZCvMRtJmiObVBreMJUoyis4VWJUISxXmklmJHCGTbQjg/t+rwfZcBgsBBEKuA50RK8z6QnSRJIEBdFrG78uZqPUSBAMjisLZTDYLlyUThgrDIQZfIABAAAA/o1IFOU0iQpoJBCECeiG8rzjJcZqxCgjSH+xc78wJs1F5MBCLTWe22QwawjI3d1zTEP6ieRqtZEkHOw6RrjZI8JGXAaTgBHotUnXmvSUu7vnqEb0k0nlz3SWNKlO78ER4sr0KtyIQxCz5vxs+wFx/pGIbQM+TVNYnW3GygrlBX682PDACayqdC3FJbXnc5WVJuJ/rQuIq4fXGFdOqJgrwJR70qrKDZixSJ7vx28cFjieWZlWY+rFXKVG6NzXmWYkGJEuLB6hKtWoMwu0DQQOLRqH2riqJQrZkTL0nVoK27l7jGosQB0Ebmw8oUyjMhMmg0VLQD5uHiMb0k4mlUte5Se1iWX6dvbCjjGeHAO3iZBhKJU/N2JGEIkCAADAPx2JUhAEo5xYP8dwtuVZeua8W2XpOtyikR5Nqy6juB0inO1VmnIzXhOPwniV9FyZthrmNglwDOVg91JLktSUd4BnR64hU4OZYJSNQHXDJGv6Ul01zGni7xjKpTEgSKbQVWKETqZMM+KvvDyh16v59nFOLEJRvvWpXGIksOqyzQ/LHmkZscE+o5r4dPexc2cg/9t1RVTNhLOLq1MLZ4ZOWr7uSsYpiUlLQnh1+dbEsocaWswrU5mo2Na2SZD3qMbuUXT9tceFd9SmrKzcrc8rMy3MCB+Xjj52bkz0ndWhFGrMyV0UzKfyM3IPlxgUGITLKi+UamUQu5GfYxiPzvqtncm89Nyd2UqdwLmnLx+qLP45uapYT4BAFAAAAN4P+A/XjSQMPawvUdWXFUG5DBQlcR325qfPUTqdQ+F6gnrj6RqDweDChNZS87V6BLWlU3oL+Y4v19dJD3uFhi9qYFeV+mxlhqbKQiE81zld/eKoymVXi3ONlmoLib92MoTLQmkEofsTn2X/B1uZyaCxEcpoJiz1tPebpsIIyqdRRozEqNeTMRECJ8xv/7yfU1DY9w0dkKKMpalqucGse33lUW1j6iwE9nsL6HQ+TOgxEuwiAAAA/gNELevkEO/1txT1AdO5FEnoTPV/b57AMG19v1vqfuiOJNTmPzjFy/SIq5fP+Aiho6VqX7FRbXnd05OEykT8buUQqTd9PAEVZbZgb6/rm6ZSJKGx1JfsfZ9VUjhmUWNvaq3l7V8ZJDFMDW4rAAAA+NP8f9hPFGY7DmzoHMo2XXlSkqTFzKDXAAAAAPBRQPt/YCNlVN7Pk+YrKq5XGNQvJxwpi/rW88JcSF9iIsD2a7XoZJUnnmphlU6JgZc7AQAAAIjoC8wJKblvKqtFdzdDBzqwLnqF7JwCNAMAAAD8ayCgCQAAAAAAACIKAAAAAAAQUQAAAAAAgIgCAAAAAPAJA4NNOgAAAAAAAJEoAAAAAABARAEAAAAAACIKAAAAAAAQUQAAAAAAAG9CA03wz0Ma5OXllSqc6+TmKuLRUfhP5TZnX9p/TeXfvWNDVwH77xv0kJrU8ycLHRoF2KAwhL/6tD3MEnq72bMY/+KFYZCXSKr15toPOsJsB09XIYfx5nZvlpyrB68rvDu3b+gh4vxBK5DatIunCuxbNItwF7L/xWEiqUg+e/opFNGlZbjYjvn3l2/KvnrkZrVnx7axXvZcGNxXAACIRP8TWO4t6R7XILppy7gwT7FHk6Eb7pS8uRHNu11n+tlNa/fdKK42/J3rqC3Pdy9Zd79CeWn5oPaNw0JfEdFjaUaB/F9tn5Qto7rGR744f9TAtfcLFfjvWyHj/NZ1+64VKPR/vJUNwhWZk376ceft/Mp/dX9xSv7k2KYtxxPLq03/zFgs88K2Db9cza/SgR1fAYD/9yJKVt3Y8M1XS04VKj7Yt5OKqytHfd69U8eOHTv3W3yuUGH8pN66oSiKQgKG776fVZZxeKhtwqple1PKlNj/1ijtnSPnVJGt48OHrD1/LzX36qIugaF9lp+99zzn0qIwX4d/2xzUf8jWGymFFRJJyfk5LX3tPzAORpw79WpmTLj+qPwP9AaTPD68atv5XInmk5IlTPrkyJpt57LL1UBtAYCPVUQpddbtS7eelejNH7yHCsKw9woJj4r2QUuTHqWV6syf6q4sLK9OA7uEcSXZOVqD6X86UNDev3IfimgYbi8U2bu4e3o5CzkMBkdo/dNVxKCj/7pBKNNG5OAkFoudhFwG7cPnRziNWscxnycmVyq079ARUpOwb932s48rNJ/U/nqk9sH+jTvOJJapzeAlcADgYxXRvxN+dL/JcxYvndotVMShfdLPenCt1kDZ2Tsw6HQIgvTZJ5eO/Kx5s04jVl3Jra7dmbu+3+pgyjv747gezRq3HrT8XLbcSEKk5M7m6YM6NI6MbtZ75sFkiQ6HSMWNNRNnbty9/tvBHZs2aT9i3fWC6tc125L1NMPi7hvA57Lqa25SdnX1xBmbju5fMXnglK23flk0dsSCQ5kSLUUUnFg8ZuLq3CJZjSnnVo3v2bxx64HLzmTKDG9Yasg59f3obi2bdxr+48VaQ2XX1nwz4+cj+1dMHjRlW1Jx9duHSqT07raZQzo2joqO7zV9/+Nyzethu7Hg8poJPZo3iuv8zc5HpWoMgkz559dM7NWiSauBS06nV+mtJTNDw/zIkpwCtfa1qhsLLq+d0LNFo7jOE7ef27lwxrar2RWPDs4YOXjavmdlatKQe2bF2B4tm3f68ofzmVUGEiLl19dNmfnz4V9WTB0yZeujQoU+/8Lab3q3aNLqi8Un0yprTkUqk/Z9N7hj68/GbbtfpHxzpp6U3tsxe1inJlHR8T2/3fuw1t7CK+u+6dWiUVynidsfFKuwOonv7/juy85x0bWJS9S/n7CgNI93zxrYoU2PyTsTilWY4cmumaOn/3w7T26ByOrbP08dP2fGmJEbLmeUPT48e9TgabuTi1WkqeDS+sl9W8W1+nzR8WcSHdg6EAD4qESUMOqNOFnPeB8zW4j6v4f09iOfLpRFmXF2+Q9HZRG9esc4C1mU9My8r787o4ns0cEp+6eJM3c/KVFZJL//rc7jQVJxZcnY+RcMsX27uObuWLz+akGlAWLAPO+2Q8ZP6CYu2L9wxclMiYakZDkPTiyfvSPfvlGci+LKyuX7Ssur6/r1qozsSnt3bx77LctucFn2g4vrp0zdlKBh2iDKnId3nxaoDBhF6kpSEh6maXQmUnF12YT553TRvbu4FexauuFKvkRP1dGCswtGzzmpCO3STpy3dcqsXYlFShyvyn54acPUqZsS1AwbNpPxjtESHeZ5txk8fnx31+LDS1YeTy9X/+b3sbTdc+YcLvDoMmRQp7ggMYeOKK59P3HBWXVkz04ehXuXbbyUazUF4fv5O1eXFlQb9HXz7pk391CBW+chAzs1DfYJa9Y+1tee7xretmuPdhFinurC4nFzT1QFdm7nXLhz2uydCXkKHJPlPLy8cdq3m+5W03gs/d0VkxacUYb16ORZsv+HjRezy3Wk7Pz3078/UyKODtA9fpBTJX9zjoEOc71aDRw7vod7+bHlq46llshS986fdyjPpePggZ2bBrtw6HUmrxkwz6vlF2PG9fAoP7581bFnxco3FA9/eviXZ6iLB7Po2OLFex/la4VMderla3dL5BoCz3pw+U6p0SOmdWM/BxvXsNZderSLdLbR31o5ZeEpeVDXjl7lh378+UJmqRYEqADA38WHPXwyPlnfI2pOhdII20f3mr5i+VfxHrZMGDJkHVs+f9WBa08luJ1vkwEzln/XJ9KJZ429Xh55JsFtfZsMmL5sdt8occ2RTxsia9uAmJ9JiBsyeOW2ftEutnSy6PyRa6rw4T+OGhHL8ZR0mXPlSn53Zt7R66rwL+v+1iMo8lUh5ed/vaRrOGHy8H6hRlZW3wP3nylaeoc2HzKuuTW69JM+/OrM0yxlzxAeHYUJp84zFk3vHaoWlwzYmk0a9BAkeuWIpVIZzg4R0Glv6X4GHYU0WrdhW/dM7xAAnbqFQG/s3EpUXDxyWdNg9PIR/cNNnJwBBxKeqVr5uHK5tRpafOn49eqQgUtGfdWY7yfvPvf6VWXPYFsGDdLqXIdu3jO9Y5AT8zUNJcuvrpqQs5fPpInbTpoztFn8wDHNrHXylz3++nRqVrUmXPBqIJGWWgAHDx7y+dBYb1vEmvXA0cvqqK8WDf88CuPnf74/8Zm8tb8rly20s4VVSpnJglFQ7fwGWZ32PB8KGjjk8yENve2seZ3Kzq47hoR37NWveaCoZO/J6/LAvnNHfd3ULkDZa96t67k9QxswUEircxm8cdeMzsHEiQnXVJHD5o/4Ihq3LRq0/9Gz6pbM52fvyAMHrPlubCvnZE6fSaffmAtHRPFfjI63ViaoOmX0yefZ8gL4WQEU2G/Q50Ob+Nq9PopBhE0/H9W0JrHy6egTadkKdbSvgF+nrRBxp6lL5w6IgaLHfr7iwZ2C3mHh0f6svflZSk1UaU6eXOQzIK5zi5KsI2eosA49+7UKsZceXnZFGfrFzOGDGkKi0iG/PHlW1TbIk88Hy3sBgP99JErRPDtP33Tk1MGlXWh3lk1YfC5PZiCqry4eM31vrufQVYeObJkcrTg6Y8zya0VyE0W+OrLy4JEtk2Oqj80c+/3VQpnp0x8Xo/7Dtl6+efXAtwEpy0ZO3f2oVK3LzMgzOPmGiTgcmjA01JMhyctWpST97jed8VXzWDLSs7UMXPX0wZ3rmTKzSVJRYbBYKAgiqrNuHd974VmlSq5UYjgOQzCEit3cuEwmIhIK6UYDRLy23lWnNzE4XDr6tmefMIxA9OAWbQKEb3lTw5KRnqOh46qnD+9aTTFKJBUWs+XVnHN2Rr7e0SdUxOXShSEhnszKAsqoh2EYogW1aO0vFDDfdOAw094jIDgsIiIiyF3EpiMwRCiz75zYdyFFopQpVRiOU69kJjjYHUs8uO1KaqkGoyDInJGRo6HhqtTEu9czqkxGiUSiN5utoSifR8fNRpwgfpOo4CAP7PGhbZdTS9XYm1edOScrX+/gFSri8eiCkGAPVlVRrkFvgBCIFti8lb+9kGXJzMhRo5g6NfHe9Ywqo0EikVg0zzJytY4+4U42fBrXw92Jy6onxCaUOXdP7T+fXKaoUqlwvm+QO/7k1x2XnxbXt0y7NvGF5LJqa82xN+xExO4ePDab5hoW4sasLi3WmlwaRHlYynNL1ZXPs4vZ3kE+Alv2a1P3mbkqBFOnPb5/Pb3SYJBKJXWuKQAA8D+NRDlRPccM6hnqwodbi1X5Xx44dVvSEk3Zf65Q3O/n5RPb+9ozoVYOqq6jTh6+ObKxk+nqG0fUn40+8evNrxq7iFx4n/i7NihT4BoY37Z5KF3eY8avx5I72qo0JorNt6HRUAi24fNQo0qjqVaZyNd/01kI4oXDo3RKlQErurV7/XMOE4UggXO0gE0nyy4smDDrQJF9ZBBkISnolQdHEBSCYAiuL+BAEJgkiT/Ye4DN49PeIrOkTqXSY0W39mxM41pNsRVHCzmMl11I6jVaI8nm8a2RLszn8VCjHKqVMpjNrbdQ2D66/zezeoS7sq3mEmUXF0/8bn++XWggYnnzQQEjctSS2cWT5s0fPCTnhw3TP3NWqQxY8e29P6XzrKbwnaKEbKspJIbjJEKjIXVagB759aLZxZPmLxwyJOf79dN7hDPq1Emv0ZoIFpdHR2utppmkOgInfrOa1KvUBqz4zr6f0nksGgRxHSNFLEyvMxNsvm1NVG8dJ7zZ3kT55e8nzfklhxscQDOTFARRjIivFs4qnTxv8bChucvWT+8Z6cJDf0v8w+Q5v2RzAwNoJoKEIareAQ4E14wRaLjJQBBoRGyU+NdnWZIUcy7u0TRYaFv3ZiJ1arUeK76zf1PGaavRLPsI+5o+AwAAH4GI1pHT6Khg3p6nOWUah+e5BkFIrB+PU+OhbBo2COEffJ5ZataVZ/3uCO9Aalap0RQI8Zj/jcDfITzUk329ogSHbJgIhJnNFElClNlspuhMNovNQmDta78xUeSlR4QZTAbKjP5629oxjbwFL37VXJn141FN6+/3z+7CPT+m97r3WjMC8/kc3Gj4TZ/fnfrFazp1HDrCYDBozOiRW1aPjfMVvjn+QZgMJgpjFgtprYfFYqboDAh+/1GS9sbm1UeVzRbtmd3N7srEfmtNb+gSO3jAqkM+vlPHr1y1OSp4Eo2OMqNGbFo5Nt7fvo44kFqtnmA7W5Ucfi3vykM+PlPHr1y9JSpkTqvX6sREaqymaqy2kDQGE0HrmG2tNcqMGv7TinHNAl+eSnOGgcCY2Wytaz2SB2lvbV1zTNF43s5ZPUQ3p36xVltjRVC/FQe9fb6dsHLtlsjguX1jPHhwbeJta4/KG83ZMbun/a2pA2sT1w9pNptJOpOFoggnKjbC5lpJ4qOyIucWI4S2NnWbGmEw6DRm5Jdrvh/XKtgRiCcA8HFN59YNteh0FIYokiIIkoJRBH4ZAKA0FK6NewiCev0Iao2IrOnreh+qXl/0qaArLpaaODZCmo2vhwtDXl6oM5spS3FJhcnBxUsQ4P+737jMV3OfHE9PF7QsN12tf7UUFivJzlXw/aMDRXwmXuv/36evXN2cGRqF1Ixhf9zUCJfLpSNGvQ4nCEqvr5kepTiens5oeV6GSl/ftw/Ynu7OTEVFkc5koiwlJRUme2eIxXrfJsJKcvIUXN/IAHs+CzfXXydE1HDEsI6+5vKcKlLk6oJW5Ge+aQpeVSmniZwcWSx6PXk7+VnKc6oMRghFYIokrNcc28PNhVUtLdYZjTVWG0ViD+ZrZrM9PZxpkoJMle63U7HdXJ2YiopCncFIESqlxvJ6m2KlufkKjneEv70tm6jbQYgwdvjQjn54RW6VToe/SpxnTRzgYMsmzBj5+9V6FESqlXIzZqEMJaWVFqGLJ4/DhnnRMSFwxd276TyvIBehHQ1BUBoMQyRuHfqwPTyc6dKCLKUWfKIBAPiIRVSfnJSuQV383G1Cgr1YytznZXpjjWswPHuWrUNd/dyZ3CA/z9eOpKbmaGkufu4cFr1GJ9hsFoyZjQT5CS7cJTCDuirn9s7ZSw7l27fs2lDg2KhtSz/9w5MXMkvTTh6/UenSqHWQfXyX3/0mtH0lovTwTu1DzPd2bjqfXKRQlOQVKwyEyMmRrcx5klGWd/vkteeyaj32HhvEIqKwUI/qskKlwfAefpXu6enKLLp//nHmwxPHb+bKlCYIooV1aBdiSdi9+VxSgVxRmlcsN9R5u5ce2qaFn/HR6YsZxc9PnbgpdWrQkicQvPdwzNHJka3OS84sy7t9+kZqpVz3Wp2wkmdJ2RVVZSnJ2XKmyFXAa9CpbSj2cO+Wc0/yZYrS/GK53kRAEFmVnacQewfa8OpMbmIlqS/yZlnz2rFE9gI+WvYsIbNYooMCWzXztySdvZRemHr61K0Kh+gWwSJRXRGlh7RrG4In7tt67lHey1PBoa2b+2Epp48nJt86cOhyukRmrhuSog6ODmx1fkpWae6dMzdSJTItRllKnidnl1eWpaTkyBlCFwGLjdZJrMlPySzJuXPm5jOJTItDdXvTOt4ksy8duvTk8ZVdh29WejRs7u0kYkCIQ4MYP0VhAc83yENox4QhjkDAp5WnPswsrtBCgW1ah5JJ+7ede5hTKS8rKJHrTDhwfADAxyGipEZaUFpekHZ9+7Tvdj9jtundxkUU2r1/W6f8QwtXH76amHRr79wF+54zW/dq42xn4/3Za0fmzd+XymzZq62LgFtjBSpydbYl0q6dfpT+/GnC3ZRS7adxs8MwDJM5u4bGRTX4bF6C7YCVm2a283VkMRuMWTazpXJbv+jYsdfFX84a09zTwabB6KVv/lbHi9PDvlo6v7fw/rxOAY5OIV0Wn8uv5nceObyx4dSoVi0npTBd2HQaZg3s/1Cn/BtGO5RkpsrfJzqhh/b+sou3ZP/Idt2WFtm6cNgMhCLpYSOWzOttn7iwa5CTU3CXRWdy5XW+M8WI/nrxjFa6PYMaNhxzWTRo2uiWXk6s95/y7jR8WBPz+fFtW33zCHZkM+kY8VtMhpfe2/JN5xBXz9YrC2JHjuoS4CoK/3LhvD6OT5Z0CxE7BXdaeCpbZqDI6qTkPIFfiLOdzW9PLIjSe1snd6nN22DE110DXO0bfdYzhpm84vN+s488k/mPWDCtjXH/sCaNRp236T91dGt/8evv0dJDhy2c09cpeVnPUOup5p/IrDIwIod8OyJaeWhUx56rqtwDHQQcvE4IiTh0GDa0CX55Usc2ExJwIZvFxC3Fd7dN6Rrm7tlqRU7ksK+7BrrbIq8Sfzm0CXFlSqe2ExIwIYvFxHGiTgdZzBjs0z7efGhK717z7or6j+of6+NgjbMRt6AAF9vAJo0CRHYcGIIYDTp3j2Gnrh48YPahpAqPwXO/6+uauqJPuIs4qMOco+lSPVhXBAD8bVB/Ebz4lxExrryaj6nDCMspeuDq60UqE0lRFCF/8PNXzbxsmQiMMERhfVdcKVCZCKreI/nK2iM1GFO3D4t14dJgCGZ4Dd2TIdWR1CeBRa+SyxRqg4V4s0KEsVqmNFhw8g9+e600rbxKpjZirwozq+TvSl9vGc/W9W42fGNCoRJ/r/RmVUV5lfWcb5qieN2UN+pmtQv7S51orZP+LXkJo1qherPCtaa8+JWQHJnQqs/Cs2kSE1lv3joFExaNXKbSvyyOMCrlqndb/dqpXvyklss1RgtRfy6LSqHSm+s03u+teEfi37eNUqbQ1Lxq/TJLzs7hca3GbH9YqCHfqJb55TksumqZTPUnLxMAAPBHwNQHzJ2SpuqK0gqFmePi4y5kv7E7CaGtKJajDq4iHuONrxC9/QgEQWZFYUElxhe7i+3YNPB5/H8MUnrq2yF7+d98P759oBPrE3tn0Jiy/svZWW3mzRjQxNvuk19MY8jaP33Uyry4BSsndwl3ZoH3PwGAf3Wukfp4H0CSsuTzl5PLVKY3l5wizo16d4h04jOBv/igufiKQiXNSSzkMj+1by2aFCUVZp6zvS2b8alLKFF0fNpXc04ZOy/fPL1HhAsH3BIAwL/Lx7yfKCVPuXBob2Kp6s01pPQoOC4uyIEPXnf7EBAbF1+bT7NqLJGHz3+kF1F714iO0zp26BIfChQUAACRKAAAAAAA/4/CEdAEAAAAAAAAEQUAAAAAAIgoAAAAAABARAEAAAAAACIKAAAAAAAAiCgAAAAAAEBEAQAAAAAAIgoAAAAAABBRAAAAAACAiAIAAAAAAAAiCgAAAAAAEFEAAAAAAD4y0IULF4JW+IchdNLigsISqQ5i89gMFHn3ZhukMvXsri3bDydqnf3dRTzmH45zLNmX9xx5ohO7OvLZ9P/cRh6k5vmFI4lKgYPoY609aZQXZGYUKUkOj8OkIf+tHrLk3Th0LFFu6+hgRy+5+fJPLgP+ewq/efh4oszGwVHAY4AtbP4dKF3W9VMPJTS+QAg2o/w7IlFD/p3T5x4Wqn+35Sfgtzv93tKezRpGxsRGB7i7Bbb/Zu9jiQ57a2pj0rqvBk7aeDVHosPpMPQ+F6kx/ezmNftuFFUb3rYhD1l9e/Xw/t/uSipTf2odZUnbt3z93VILDtM/wlkVrPL+5lGtQvxCoxs1bDZmW1KRknzVIz9NHtarU8eOHTv3nXc0vVz7iW6mZMq6vHPjvsvZUi1pyrq8a+O+S1lSLfkn3bYq4ecJQ6ZuvpOnwF87YM62lng5S6ohP8RGY8mjK5cSsqQay/+rTjCWPrl6+X6mRP3vmg1zBJa0vT/tvvy8SAd2APtgESXy9s4c+fXnvWYdK5Tp37c9jVXZjx9nVurN/xXdpSiKQoNGHU4tKHy0pSd0ft6UNdcLZab628v86Oy5dH6nhdu27lw8INiR/2d3TMUqEg+s2HKhsOp1R0UYNcpqpc6Ek9Rbsj06+OPWCwVVWvIf0xPJo0Mrt57Pr/xbT6G9d+x8dViLOC9Hu49ua1xSnbBm3NgfEwRDNt8qkEnS945r6Gn34oZDGEKPoLCoaF9m5fOk9GKlEQP+6B2OxqhTVSu1RgtBYtLkY+u3n80oVf5dlxFRdPyHb8d90Wva3qT86vct1KQoeJqSUabU41S9syPFSRf3rVu6eOvlbMnrwyO87N7BDd9vOZterv6wChDFJ3+cNv6L3tN2P8pVvL/Zhc9SMkqr9XUvN2Np4tG1M77s2alt+26Dpm68kCbVvfDNlCbv5p6l4z//rH37z76YuPJkcpkGoyDEqXXnOCTz8eP8EiUJLs4PFFHUMTIuNiSmbVygDft9Z1PMD9aNGDBp84MKzX/MbcAQ3THqi2VLR4TKzh+6WiKrV0tIrVSiJB09vNks1l+ZKSE193av3nY+uVL7WqyLOHRadOrarm/ivQS0+rPd371m27kkqdbyjymK5v7etdvOJUk0f+cptAnXEqjQmDAHIfejm1giik/uPJ4p7L146dhejT1Fjk4iLuO3aJkX3n3M9AVLp/WKcbGlAz/07ltH1Hbm/vO7Z3QMcaRrEw/+vOP0gxKl+e9yH6h9cExUWGzrxkEOdu+7rbklZfeMryevvpgpNb45ZNakH1swoHXTjsMX7Dh3P1uiMdWRWUr5cNN33876btGeW3mVug8TIFQUFB0VFtuqUbCj4H0vfsvTvbNGT155Lq3CVEdDM8/s2Hc5VSvyDfGAc04uHjl+zcWnFSYKIvIPzh09afmxLFLs504rvLByzJjvTyaV6CmIHR3fkF+UkVpaUQ1UFII+bPhu0/Tbg7e+fYvXxIxGDGGyGP+1p0DvhBPbrpnXL8cep6p6BrrZ0PLObliz/Uyy1rPHtPmjW6J3Vi/ZfK1QYtg3eXhS16lTgnNPHL90N13O8O0wfu6UbhFijv7Wxu/2VjefObZroIPs5NIfbvD6TB0W9fIWlV5etWbbjYJK9S9Tht+NH7Xm2x7Bzvwat224v2nmTknDKWO7i7N2L75Mi3Epun7hQR4Z9PmsuUP8cnYt2XYjT6raP3X4vfhRq7/tHiKsurBx7fYzTzTu3afOH902wJ6DQNq0I6t/3Hm11L5LF6+8DE7XuSM6+TrT8s79tHbH6Sdq9+5T5o1qFyjSX1+35CqreYT2/kVpyNTJfaM8hShEVl5ZM2/btVyJ6sC0Effjh33Of3hX12DkxAENPe20NzYuOGZsPdQ9/VCqsImf9Pr5+0WMJiO/m9A1zIVPgyBT3vmf1+04/UTl9tnkuaPaBzpyfovOLdmpGWaXtn42PDYMGQsub16z6eSjKl6TkYum942kPd+7fuvxW8+rUK92Y76b1CPajae99dOSK3CEc8nNiw+L4NB+U8aElR7bdfBaPrPxyDnT+sS629IhU/6Fzet3nHxU7dp18pxR7YOduK/OR0rv7Vy/7fjN1ErUq+3o2ZN6xLjb0o2FV7au2XwiUcpt/NWCaX0beNrVaiJZevfec51Xxw4hTvasv3YHYBYMoaEogrx5Z5lMGExnMujom+WSFp3OCNG5bBat9hghfXLuhtQlPi7MXcSuLYdU3tm87BIe6FCecP1Blsmn19TZX7YOcGQjkCHv3Ka1O8+nGjw6j58+om2wmK28uemHK1BMkCH5htRnQJjsar4gzLHs/rXEPCKw96TRkdKz+w5eyabFfDnz235NvAS0qoQ9G7cfu/5Ugni0Hjnjm14NPesZpRuT9nx3Ltt5wNcDmvo7GO5uWX5M1fCrwZ3C3W1eJjYXXN72044TD2SOHcbPGt0pwi5z7+JdhX7DPrNLPLDn0vNiWencsU8ujVg6nEFCECFL2Dp9V2ahxq3b5FnD2waLOQhkLryy/acdxxOqHDuMmzWqc4SL5d7mHy8T4QHG1NtSr69G92kS6PTK9fEajNx4auTb5pFwk9EC05l0Gvoefsycc3jepO9v09svPTWpTyN3m9dCC7zk9PeLD5VRXI4dr76ijPmXtm3ccSZZ69J+9NQRHSJcuao7W1ddtgT7mjPuS9yGjOzbLET8m8PmxYxYd2LEh1vNjhmz+dQ4BIERGMIyd00YvTolsVjSNMLF1afz+PWNvnNxdhDyUKL40NThS5Mf5FS0iPTwZgUGeqO3S4sU1XrKng+DSPSvBRbSIxNbRPq5ubq6uoWN/CW76tV0LlF+Zl6vOB8Rj8Pn83hC3xZjdiZKax4CWh7+2KtR1KCfkkqTdo9sHuHj5urq0eq7y4UK839p1OLl7cFSVZZoLKaqK4vHzbtgbNivi2vu9oUbrhZZ3OPbNfC2s3GP7tTts3h/R67Ap93QCRO6ifP3L/jxZKZEQ5ql6Ql3nxaojRhFaouTEx6ml2tNxIumh3k+ce1ivQU8t8j23Xq1DXf8bbEFXpX58G5SvtKAkfLsByeWz96Rb98ozkVxZeXyfSnVdg3axnoLeW4R7T/r2S7ckau7tnT8/PO6Br27uOXvWrLhcr7UQErPLBw/50iJa7NG9Nt7dh8//6hUZ8IUV5dNmH9OF927i1vBrqUbruRLDJgs+8Gl9VOmbkpQM2zYzFoLEK5PkzYNfER8t4i23Xq2iwkTGZ5euHq3TKkl8YyEC3dK9RyzvPjBmR9nrE+i+XjCabtnzz+QUqLEScW15RMXnNVE9uzkXrhn2cbLuZI6zw1IWWZOpcjVi8/hIFjanrlzDhd4dBkyqFNckJhDpzEgnlebQWPHd3cr/XXpyuNpZSqSlOc+PLVi3q58YUysvfT8D1/3HL+r3KVRlG3hsR/Wnc4sU+OK6z9MWnBGGdajk2fJvuUbL+VU1H3uQ4d5Xq0Hjh3fw73syLJVx5+XqMzpe+fNO5Tv0mnwwE5Ng5y59FdOzpKfW6gXuAU6cHl/eqRqzD37/fDWga4CG4E4pM2YzbcLrYEXKbn8w9C2QY42PCtC76bDN1wvqK6NyEhd5smlg5v6ONkLBTZ8vr1n7OhdqcVqLP3Y6sWzp6w6XyjR/tZsirxHZ1bO3ZHBCY910935aeWevIIqiKy8uHzivKMSn3Zt3Ur3zpqz4262DMPluY+u/Dx9+s+3q2AuU1/y+Oyq+btyuOExjoqrq8f0Hre90D4mQlB2ZvWGk6lFKsLaQJ4tB4we19NTenLFmqMpRcp6HtowHRnqtKs37hTL1SSWlXj1TpGKTiGvBhpU9a1V0xadrPTv3MFbenTVz+fSipVVOY8TknLkhHODlg38nOxcQ1t17t4+ylXAhiEs9eyZIn5gjLvxwda1+x7kVJrJ6turpy86IfHt1MGn8ugaawEaTJ73+OqmmTM23ZBQHDb7xYIYSnZ+Yd/mITVeLGTg+rs5vwVWpPTa6q86hDrZcPnWxvZqMnT1pWyZiYKwlK2jO8b1W3oh9eGvM3rEB1q9WPw3B54U6ylScnHHnrt4s8kLJvaP93hdQSFzzq8rf07kdxn7RaswF/bvdIequrry2/mHC11btPao/HX+/G3XMyrNhDz/ybUts2b9fK2MYHM4L5fxULKLiwe0rDU7+Iu1t7JeTeeSldfXjuocJrblWa0WeDYevPJCZpWRgiDs6fZxXZr2XXwu5eHR7/o0rzG76YRfEgt1FITSULhWa1E+n8tgsek0xDpyg4WBYf5iIQ+tCXzthTw2jcAJirK6Gm9vsa6qTK5R4yAy+quRKGIX9+WCHzpoSi6uWnJZb8CJ31yNoSwzo8K174ol3UME1be2Lt86b5Fv6NZRse58/25Tlwbd3zFr/XP/r77pE+lsQ0f43pGOvP/SdBbC57FpsEmnMZWcOXRJ2+ibKSP6hhgYmX0P3HuOtOzWPtZ79TlFdOc+PWO97JBg/5rbz1f64KszKVnKHsFO7yyb5x/fIcZ75VFGRJfe/Rv5CusZIcE0Gg0mnDrPWDS9d6haXDJga3YWNXxwuxjv1UfpEZ379G/iK6j45chlbYOxPwzvH2biZPff/+CZqgXy6MQNWcjgLXPHNBWnsrqPOcKgwVTFxSOXNQ1GLx/RP9zEyRlwIOGZokULOgppdG7Dtuye3iHI8eVtz/Nr2r6Bz5pjtPDOvfo39bfzbBawc29OploXSmVlKxwDIlwERiZkEbabt2xuv3BT0PB+a27dLu4ZhCQeuayJHrlk+OeRGC9/wP6Hz+St/Vy5L6avcGmlDGf5CRg0OqlISy2AgwcN+XxorLdtbcWbDRzTzKpmgYqkUSdTsxSaCAENhXHXznPmT+sVonSqGLymosOMaVM6+uYwC8ddzyrWa0QPjl1RRQ6bP+KLaNy2cOAvic9krf3deC8CB0QU/8Xo+BdFjj6VmlWtFOc/L6ACBwweMLSxr13d9ib1arURZ9vaMei0PzdSJ5W3V0/7bneRT+/5u+JFZec3bVo2heRun9cnEpPkZpXbd5ozrVdDV8ODvWu2r/zB3X/dhHah9sorP0ydc6Dcv8+ifR0j7asvrV58tKJCb8ToQd3HTmFIPFp7OvFfXYF06yXg0H7K3GlfxFp8qoduLiR1GrL00ekbMt8eK0aNaiEK1faff/dGTrfwJnQU0upcvli9bUa3KP61NBru3HH6d9/2i9K7y75cXdxsypTJnwUV2lRMvJxTrNXEIp5x/b+OszZQiDp17PH0bLnK//ezrohLTHQA52lhdrWmQVlunkzo3cPVzu7lympScvXEVUVw36XDBzdBHSXD9iWlyhvZ1B7jejduHePneAIPbde9b/sIsUEKQ6hLx/Fzpg9qhPurhm8pzFWqNBXPT16TB/ZcPHxoHE0s/XJv8jNpG2caCun0zv1XbJ3ZM8b9pYbBNjF9Jy9oKCu6sX3dRZPejP82OUmZJHk55YK20zf0ifMwPz6wYceGH/f4ir/pEuHVduRst8B9y7c+5nUY3Ds+wImF8NyjfO2ZVMWdm4+rhN5NqxIv7EyEhUFNWzUJcrGtWV6P5R3dsDfHu9/Mz5tb9u+Cyn7X6aU3z92UunecN3JMe5cG2KAFD29Vdo92o6OQTufcd9nPM/s08nw11wzbRPf5Zn7s50U3dq6/aNLVMZsySvNzyu1aTVnTt5k39uTQxp0/rdzjI57ULdrZq82Ima7+v3y/LZHdZmDv5kFiFsJ1j/R3qB28YMrS/PyspEt7f76kCfm6baCnw+urMYiya9cflXP8uwU4O1pbD7G1taXpNNUGk5mC6DAQ0b8Ey71BW/cGRG7p/jU3f++saU4hrVq1CHPlN3csffT57ifJ6kFhbrai4OYdfLBbK9hlnrHtOnfyc2D9B1vfYsEoiMZi45kZ2VpGsDLlwR0JXW4xSSrKMfObzwuJ6qy7N+5ee1qpltspMfxvGPXBMAyhYjc3LpOJiIRCulGqtrxerjkjPUdD91M9fXinkikzm6QVFRYNmpFncGka5cjj0ZguLo4sFopClkxrQh/V04d3q5gys1EiqdCbLRQM0YJatPYX2b19/Tvq1yjGY8vVrFJtFZFVzPVr5WtrW4DAqIu7J5fJojlGhLjQjhcUaFTK9BwNzUv9LPGunCUzmaT6Cr3ZTEEvnwHpDSY6m01DaRBiExzkjm0+uO1KlNMXTTxsau9rQplz/+bda8kV1TKmCsMxCIYhxF7szGYyaQKBDdMGcrJnMWmoQGBHN+rUuP55Ro4adVOnJt6rZlcajVJN7fnqzL5Zi7x191pyeXUVXWUh+EFB7vjmw9uvRDkPjPO0rRN8EARl5c/P8VRePXYph99h7sJvekW5c+C2LkbphEOnbxXFeTpbm84hML5582aB9i1d5GkjtqelKlSNcNOVU9eLRJ8tXDi1e5Qrmyop/dX2XFVNaQyPFoNH1XMVoE6uLlwWC+EKBXRzAYTh5tzsAp0wLFjE49MFwUEe7FvFeRptOAXDtID4FgGO9mzYDMMwYu/kzGGxaHQ7W6ats6OIxaKjAoEtw2zQ4Bhe20C5D+7cu5ZUKq9yUVmw+lY+oD4NIj22X8gtVUkUOSUsz898BXavYjNLVlaeChaq0p8k6LlSnaHSIDUZGe8YlTq6uPLYbBpdYMc0yTRmTJ+VlaeEbdXpSQkGrkSnr9RLdSaz9bL0b9o8wPE1p8N0DmvmHEYUVV/Ze1tRj3e0D4iLb9Y2zKmVmyorf2tmmqw6Hgr1a9jKA3+y+1C+bUTzdl3jfF9OZ5of5xZUS+8lbS196i6ElYX58wRd5mxcPKylv23F6c37sz26zGwf5W2XXO88cH5OocbWM9DBxo5uFxDgwb1WRuk01ruV5t+kWaDY6bXYlSkOjReHEkXK6/vvVNbztNS/cXyztpHiVu7qnIItWWlV8uaUi6NvbEt3PGnvr7mcsPi2XZv7152FJSuvr5swb/fNbK194xGDo3xeX9FIqZJ2LF5ztip01NSWoV41NwPC43HopMGI4bg1MAUi+o+W7+buzLAoNBaSAI1d42PkMqUF5dlxzFqNAS+6uXtDKoeBQpDAJUbIZiCvDf7OLxo762CxQ2QQhJHk39l4CIJaOwOur0hSp1LpMathz7lMFIJsxdFCFqbTmEg235aO0moy1kl4a8/GtFcJOTU1gNlcPg1518JiRkijaKfD6RnSFE0O6dMuxI5fo4swgljLRm1sbWiYUY+rSZUBK7q996f0mjPwnaJEnLpthMAwRZKQVaoYkaMWzy6eNG/+4CE5P2yY3j3cQXV12cTZ+/NsQwNQc81ECfWy8siL0QT8YhILQlBrY1CUTqU2YMV39v2UzmPRIIjrGPna+YjyS99/M+eXXH5wbZEwBDEiRi6aVTx5/qKhQ3OWr5vRI9KZV1tvhMfnMWkGtbJGR/7ES4x4fm6BhusT4WdnW+M4+VGRQYIDCbmlOp2wriChzi5OLKJAa8FxrKiwRM/zDve0s7EqxHsJNwKj1vEU8uKmJPUarZFgcfkMGg2CeTwu3azUWWo9JJvDs45TIHNt68EvLx0YgWuuIKSm1ygIooiKqyunztmbzvIPoBvrtvmb3R/UIEJ8OCVbkoLnWtwaBons+C9bmdKr1QZLccahzVnn2DQIogvC7Xks9A+GhVaLaqpCQZReo9Fbip8f2pJ9/lUBTMQAQZC1IrS/FDbRxM5ObEqhrX9Q8NJyjcYARYzd/f233WLcGMbMPVNG/XDs6IM4X47x4KEkm/jJLUO9BbR6V+JQBq3OSDC4fDqdBsN8Lo9mkUJ4zeJAmM3l0Wm0v2S1k7MTB6rSmfE/WsSJuPVdfaXb3KKkC9t+WLFm3mrOqun9GnvV3JOU+unu76avv8/puWBKv6b+AvTFQ1ccJ2GEhiJgxcvfJKLv6CJ6zeqHvzIk/yQh1RmZhUbnZsG2dhoWyowZtX3t6IbeAuTVk5hXKTXXNv54VNvmhwPfdeacG91r3cubD/5rAc77CyyTwaAxo7/eunpMk1czwprTTBQy6fU4Qbzq7xcJR25ZPTbuVUKyOve9zsKJbhTJv17w4FFJsVubECH/tZUWpMVsoWg8JspiM1Bm9FebVo5t6i/6vSOFeXwuZjRaiBp/zQ4esOqQj+/U8StXbY4KnmxzdPWx6vhFe2Z/ZndtUv+1xveJ0hkMBsqMGv7TinHNAu1/dz7tzS1rjlbHzd81q7vw+uTP1+lr12UE9f/xgLfPtIkr12yJDJ7XN9q9ti5MT083dnVJjkyvxyEu/f3vH9I6YELRV0Mc1OqoKJIk3+h1Gr1m0Yj1R5SGwgRmsQ4o/mqvMxhMFMYsFpIiIcpisZA0OhNF/5yH1N3Zsf5oZczMbbN7i+/OGLxW+dbc7IgGEXbXSh89qih0ih9kb2eLvN4HkUN+WDqhXZjTiz7Qnj/y/lMtDOtlGTFk+eIJ7SPELwqglGc+yItBNBqKwLUjhbeeGEVpCETgGFHTU2z/xrEBogRJobr82u27OQXJiZOSDs5AIcpYLZGbH40fIinZOX9gkwDRq1rDhMVs7XzKgplJGh1C0A/1v3SadZxjdRfU+9z4Ap+mg+ZMLsyaceNBZnmLCE8fDmzOO7Z01prbSNc5S8Z1jfztWS6l0xswJovHoIOl5R/6sQWYw2EjFqOJIMn39Oswl81GTCYDTv4XF0cTRWdP35e7Nm7tJxQHeLkgZTnpGoOhvpbASrLzFHz/mAAhj4mbLVRN+8JcLpcOG/VanCAog974QtPqhpg01Bqd4dCf0lkEQWnWbIT1bmN7ejqj5bkZar3+lWFsbx83ZmVRltpoIAmZTGnBcOhFwrwMVZ2E7zpFjWXEC8v4DRqGkCU3bqcL/MNcbG1qRtqURqW04DipKy6RmoViD64gwMuFVpGXqdbX20aoq6sTU1stNZlfvG6OiBqOGNbR11yeU5GZkq3g+kYFiGzYuBl7T3nheHo40yQFmSpdPTXCSnPzFRzviAB7WzZhedEjL087fGhHP6wit0qrx19NWTdt5McpuHEhVSozvq0zYDabheIWM0G8Oh/Ny9uDoyvOLFdra9YMGTMyclWkvbcbn/u2+XGab6CvrSHjfpJEoSF+L8oWg+HFOOMdsN3dnFmqymKtwUhhZaUSg8DRg8/m/BkRxcry8uUsz3B/Bzs2YcHId7U5Pzo6GKm8fy+d4xnoKrSrEx6y3d2dGZVF2UpNfS+BWS8jBIZeXUb1PWhycxMzqoqz6i+g3muTxWbRCGsvEO/rxdhMJmqxGLG6OThurk6c6vICpbbmxKReZ8DpTA6d36D/rBXrN65asWzx4sWLFwxv7e8c1GzgiD6tfJx4r2rt6irmqGWlGr2exMrKpAYbe4jD/QOzrRcPYTHhOPn+ZrNQDDPhBP62HAgFUZTFZG0LCMJyDq/ZdFXbeOK8MZ/FuHGR1ybUqmEbgQOXAz5a9KEiighdXWzwtMsnH6U/f3r/dnKp1vQHz+1QFzcxver+8TMP0rLz0x/ceY8snwCURSfNT77409ihCy6R7b4eFOsq4oV36hBiurvj5/PJRQpFSV6xwlD3+xOoo9iBrcp5klmed/vkteeyah1GURTDy9OVWXjv/JPMxBPHbubJVSb89bCUKxDy0ZKUe5mllfr3vrcgiCsU8NHSlHuZJVI9HNKhfag5Ydfm80mFckVpXrHcYEZCOnWIQJL3rz906pfVm8+kSVQYBNHDOrQLsSTs3nwuqeBlwrd7Ia5QyEdLn97PLJHqcJJCHBvG+lXl5tkEhnnY2dY+88IzLx68mvzkyo5DNyvF0fGeQofoDm1DsId7tpx7nC9TlOYXy1/7RgciDA31UJcXVRv0JFaSmpRdUVWWkpwtZ4pcRe6eYrY6LymzLPf26RupUrkWe4/4nRbarm0Inrhv67lHeS/O99vFiTo4ObA1+SmZpTVFSmqKtJSmJmeXV5Y9Tc6WM0SuAvZvM4/0sP5DO3jJj8yasnzr8duPHyQ8K1bp3/hUFSIQO9lCOXcuPEpNefrgfkqxUk+4te/e2r3q/MoNB87dfXT74NIlex9bGnRq6ekkeFtkgojbD+oXy7y/9MvBQwYN+bxbn/nHUstqVhWTyvOzOjTsteBCRuUfvJ5LD24RH4A9u3ApLf/ZmdO3ywThzYIdHdh/xkOi9g4OHG3h06zSnLtnbz4rr3pHm8P2MdF+yuIijneAh0hY9zElLaRNq1Ao5dCOcw+yKuVlBSUyrbGOg+AIBHxaRdrDzKJyDVbv1UYPbt0qFH76686zCZnSFwW8ezoTthM72cL59y4lpiSlPLyXXCj/o5eZUUexI1v97OKl+0lpORmPElKsWWghLVsEs3PPHbyeklclfXbkl3Mpeq9G0c7uwVGtuvQa8HktfVuEiO3EAfGtGwU72jJf1TowPi4Ayrx6NTXn6fnzd4p5wXG2To5/IIm2To62SGHClcTkJykP7ycXyN7DbAe2JvXypftPnudkPE5IKZCpTarMe9fvPckoU2iU5aln1m49+czkGhXg6MCF9Yknzz5ROzdpIMRlmU8SExMTHyVnV6gNOEXK8wvlAmcfgZ0d0NAP/gA9u8WQr1vZpq7sHx8V0+bL9TfL1H/wEjTq2mPU8CbovcV9mwT7hbcetuGPs/w/B4ZhmMo/MKF7j2GrUpyHbtizpHeYmItA9PCRyxb0Ft6f2ynA0Smk65JzBdV1PmOEOHb5engj/cmvW7aclMJyZTNoGEFStNA+X3b1rtg3om23pSUCVw6bgVNU3fE2o1H3PtG0xCV9en93Il1ieN+GZTTq3jua/nhZ3z5zjqfLfYYvmd9b9GBB10Anp+Aui87myY1o4PDF8wd45O1YtPYe6ibmCfl0GGaEjVgyr7d94sKuQTUJz+TK3xpzQYyGn/WKYTxe3q/vd8eeVxgoxC0kyNkmIK5JQO2TvJogTFCyfkjXXoseOg+ZOqKptyOTHjp80dw+Do8WdwsROwV3Xng6R1a3TqhfbJRDeU6aTKMqvrdlUucQV8/WKwtiR47qEhTV76thjS0XJrRrPTERsmezGDjxHtEoLXTYwjl9nZKX9QwVOwV3WnAyq+rV+RCHDl8Oa4Jf/KZD64kPSXsWk4ETWPG9bZO7hrp7tvoxL3r4yK6Bbr9NTEKIuPPcdUtHx5kvLhnavkmLnnOPpkveDI5YTfoNbulYsO2rdrExLb/44VxOlQFy6jz9++ld7BJ+HPp/7F11fBRJ055196xv3I24k4QQgru7Q3B3vyAHHO7uxx3ukGDBQ4AECIG4u2zWfXfm+22ChCOBcLz3fu/dzfNXYHa6q6tr6qmq7ulpG9J25J5c2zGrF/bxtqZ95VmlBEzd+9vh1SMD6CYtUujnY2dBJ6AQCMCU/S5LYeUTasdi4b5lAl4jl8yONp4e2zpo7CV8z2njo12E38WhANIiZtjQUODunM7tJj/QUvEEvKl5nSOFzo58ulNQgJMF8/Nu0K5DFy3sZ/l2Q38vAdc5ZtHpN+WNziXA+nTs6kt+u23EoAUnkguaPCwR7Tpk0fz+1hmbB3gLuc4xC0+llX/jPDV8YK9BUcKKY5M7B/lFDFpz4W3lN2orSH7MoIHhjOzdsTFezh7hA1ZfTK9UQRiPIfNm9eS+WtOrlUDoO/aUPHzy9N7+DoyWlGWxnkPmz4hBX53WNmTUabBD7Lj27lbkb9yDD+g5MMqy+tfpXYP9IgasOv+ZopqOtqIHDAhn5e2f2MHb2aN1/5Xn08plZSln1o+L8bayoDFF3n02vmb3Xzinr78jHWmqLiwRS/ISNk0e0C4kuB4h7acfTMqTgNK0N3kEoZ3QggUfWfz+ULofhbY2/21ael6VSm8EW3iHuOhd2uu3hTVqgwn650Ovkorr5FqjqQn16BW11TUyjaGpa5BOWiNR/1GrOml5abX5jmZ6M+lkNdXSlk9GM7fpFeImBdO9+KWbR+tJJ9+Wqr7+w6a6kNfWvO9Cn7l3sF/4pKMvS5QgBJnEZ6cEOnZZnpiWXVGr1P9hbB96+HJE+rTt/duM2vogV2yETBqZWPqZtnTSWolK//0m1tCfuikN6r9o8n23huZHb9LIasVydbMTohMXZb3LKq5R6hr/wqisKCiskGj03yu+7M6KTh4BI/e9KJBk7hsZNWjVtfRKXUuNQCOplap0BvDP27pMLFXpvim0Ifvw2NZRsXsf58ma/qlBWVdTK21SaaBeLq6RKHVfn9iGBlS6lj4Gurri7LfpOWVSjb6ld0jKct6mpedXyLWNFGZSVua9SU3JKKlT6b9XjaBWKpaqtN8z5bq6kgax1d8j9juz2DLNe7FBrbQiJy3l+ausMqn623MPVl9Z1HPQouOP81UgBAP6j2wswrFs3VjfdwfTypVp1bBkU5N6JT619Msz7FH8wF7tvbj/hC8FYIg0JrG5a2QWu9mQE0uzwDbxn3zh1zeJUC3Yf2Zvyee3YcjMpgQzFKW+KjVZhFniibiv/rDJLigsi/q/1Bm/bjj8itV2faCATWy0oxSBY7BZJNQXOmquB4x73yH+147cTGvrIGDwqUz8HzTFwv6p+Wp+RBgai/7HFbU/dvvlmhuV9bVfYJlWTswvazYkng2pZfKCdYl7Nt0qA8gsC5wiJ/HCxVRMt1/8OCxpYorEMyrCSWDRUjUg8XQW/sdsncqkffNH6qzT244+J/ovDrAWUJrOsNEkhkUzw0dgKEyLb1cVmm+g6VlgWDoyvmuoWLrAgS74QoUkrp0H909WrXA0Ju77bsEyRI4M0Y+JjcDReA6evBber3176UoW33+Ul6OICOeh/4VXXFqQCte+vP7bkeQS2R+/bILxRoSEurApOBQ8Tf//kN9aN/tkph7Qlz+/+xbfc117Oy7tz06MqeD0vPErb6F6bxzib83+sSAJyeu67JCHBMVh/pu3CepRaGNp6oO0Yokew7TxmbBt8uiOngKSInLm1k58LoP6P/UImYouLJu66pquXdygECcBHvbDf7f1KWGnhdt6WjDpZHhnboNC4JdPYLQEyty75y8lvirR0Wz92/fq4COi4f/8erriyf7t6dbde4R9OplWk5nwe6LUvkuMvyUTjm//4bb07OieNE7bjmGtRFQ0rA4YMInCgAEDBgwY/04gYRXAgAEDBgwYMInCgAEDBgwYMInCgAEDBgwYMInCgAEDBgwYMInCgAEDBgwYMGAShQEDBgwYMGAShQEDBgwYMGAShQEDBgwYMGAShQEDBgwYMGAShQEDBgwYMGDAJAoDBgwYMGD8VUCtWLEC1sJfC3VtUVG1FkPEY1HIj0erg7Uvzp24nou04rOI/43v1OizEo6efqHgCjkUAuaHDngHNTV5b98VyAAyhYhFI//6w+JB+Zvrp5IlDDaL+oOif5fCcm6fOPNMyuKxCWUPfm34i0aEv0H8nwWkeHfz/NMaIpNJJ8G6hfFvzETVeQ8uXX1a8OXHQGF8hC5lx+guQ1ffyqvVNTrrH6p++vvWXedTquX6P0ktdfc3jOo/+3Bqmbwlyte+u7p787E7hWLVD3xwwFD5cPvocGcHd7+gwLCJh9JK5Z9/SV9d8OTa9aTcOpXxP8lmb46u2fKoxGBCYP6bXlb77vq+rcdu5dWo1B//Altwn6bw6Y0bT7JrlYa/k5FqipLjbzzJqlb8l6VGkJi6V/s3H7qTWaaGv4QB499Hoqbco/PHjhvYa8HZgpoW+2ZNddbz5xlVKh3Mu99PYuXJv67bc72gRgkCgEktl4glSq0BhH6gvZPr917Pr1a0gB5A2aP142M3POOM2f+4SFyRfnict+izDyqb8k8umxQ7sNe8kxll8habQ01uSkpGhbzZMEzx6Ny1Os+IUGs2/W/w2SxTwe9xUycM7D3vxJtiKdhSvq7Ne5mSUS7TNI491EWPTq6fObRb+7Yx3YfN3XM7W6w2fZiIrJv7lo3v17ldTNfBM7ZcS69SGn9U6tOrpk8c1Gve8deFku+ROjWjTKo2Qk2WDwqfXzu6eeVP+27lVik/+4Wx9OGJLWv2XMuskIMAkteuW6jp5aPnRWUyEH7CYfzbSBTF8Qrxd/ONDnGmElpai9ElbRk9YPrupHK5AY48vzf5lD86vHHftdQqhR4AkOxOcRfvHJoaavOnyQWUPz68cd/V1EpFC7JhU+HZvWczOQN/XjOxh5+IweGxSBj0Z+aDsvAM8nX3axvswiC39PP8+ue7Jw2bvu1eoVjXtDkontx6DLn7ebKZpL9DtQ9l4RHg4+4fFeTCohJaKLD+xb5pI2ZsuZ1b00gHmvQzuw7fyjLwnd1FpvTfFg2fuO1eVo0eAEzZR2aNmPbLtSKMyMkSkX1+5ahx6+PfVWigH5La3d/H3b9t4PdInXJg5ugZm25mV2u/MKv0U0v6RIR0HLPi0PWk7EqFzvRJOKguafu8mQsWxx29/z61J/pHBBKyXr6sqIZZFMbfET8W3FNDZ5+8N7sZD23QaAxIHP47l81MWoUaxJHwGCTyn7hEAtY9O7xmw8kXGudAVrnC6PQ+qM+5sm3T/supCusec5bFtnVkqBO3LL+J8RcW3rr6JA9yG7RwyfAQ/LPtS/bdza+SHZ858mFY7OaJrDtbTlUHzp7Uw41PBcQvT+3YfiwhTSLo/dP6boibx46ef5Beg7FrP2nJjG5efMqXklQlbFi8925epez4rFEPw8ZvnN3djV55ecsvB+MzDfbdZywcHenAInxkSbD43v03asfeHV3ZTFwzM0MNmnIoYQrwn7QHfdbrd3phjAOFTECAdYnbf0pAePGL78UnZRuc+s9bNCLCnoVHAursS9s2HbzxVm/Xddr80W2c2Pi621tX3sKGeiifJlQ6D/eqvJrN8uEXJ954Wohw7zdzgkfJ2UMnb+fhgsYuntPH35IifnRwy75z99KqUDbRsQtn9PQVUZsQRv38wNxDmbYjJg8ItGUo7+2MO6MMnzSig5uA/GlElICJ+65PbE4FWq0BgcFhMahvqoAQOPNo/Gw0EoFAAIb0XSNHbH6aVDbQ34nNceg+e2/4z7ZCFpWIMuUfiR206vmj3OpQZz6hceSizrm6c8vBa2lq685T5o1u68LWPNi59ibC10WderfSYcKkPgEO7E8PP8U/dvfVWODHxQYAbdbJBVN+fkzqsv7atJ5+QspnNXhj0YXVy3+rRFGJtE86w7m62SMeFeRLpL4QgwwvjML4l2SiYOXpqRFeDiKhUCjyGHs8q/pjOddUdnlprxA7FplIoZDJTPuICQeTK+sXiPRP1/cK9B6yI6Uk5fDY8FZ2IqHQqs2ihAKxDgAAVfaV9WPbe4pYdCaNTKJZdoi7WyTR/8O0DVVfWjF9zfUa2yAXyaP72WKJOfUAa2/GTVp6XRPQr7MwZ/+KbbcKqjRgbdaTc2sWHMhnB4UKauPXrzn2slxvFdzO35ZBFnnFdOsV7cHGSzOTHqbkSdQGSJu+b9rYRaeKBW369ekS6EijYsi20cMmT+nGLzixYv35zHL5lzE+kmQfEu1vyzS317VnO08OSXJ12fhFF6UeXWN4ObtnzD/0rFjyqUyoz8kuULOsnNlEUhPboMCqC3M7BjjVm4P7yP2vSj6Vc8GK66sGRTqxqaR6e7ANG7PrQbFUDwH651sGh/sN3Pgw9/mJKTF+Zluyiph7MaOyUVIFVmdkV7GENhSimc5BcfbTC2sXHcih+wYJpXc2rT1WWCwGwMprP01ccqHWtXM7ft7+2QsPPc2rMxpqsp/Gb589e9cjCYaMVRQmX1y39FAe09ffovLa2nE9Jx8qEwR60wrOrt1yKaNUBmIQJJuowRMnd7csPb16w9k3JdKmqss4Lk76Ov72g5I6hcmYkZTwoFiBB5AfajBg9aWFXYOd63XgNnzP88KPiRVYEf/zsLYuHCrZDKZt6KjtiQV15rk3vNg+IipgwLq7mc9+ndEp0NGsg/BZZ9PK1BCAwqDMDGpOFKlUMgaHx6Dr/420cPNy5FCJ5mlAsTkWRBzSaARBCGo8HTdWT11ytsK+fbSw+Mj8RQce5dZqanKSb+6cO3fn/RoEiYDHIj9IfWVJj1CXBqmH7nya96kIDVbeXD+ynSuH9l7skBFbb+eJdRBgSNk1ul1Q/59vv03+bXbXYPO0W7WecepliRoCy6/tOfQYiJoXN7VPkOhzBgW0Wb+t3f6M2XPKoHBXHv7jJQTFzp4nKy8WK5XwEg+Mf08miqSHjFy+tr28+MaGlQkqtbFRwUZdmvGuXNh33cruboy6e3vX7F36k7373vH+lhTHbrNWuTw+sGDrG8cx0/p48akYJMXWi0PGmAp+nzV0ziWJS6/JW1YH2tFNtUUG21YsIuafpWxT0dUL96WtRh5YOj6Y3gbqPOWGmRnKrv8erwicNnN0Xzc1NqPvr49e10W2QaEQJm7neXHzertKuUX992ZlyBH+Ye19bX85g23VuU//QDumIu+D9669eeDYM3yXn7cs6eLOqy/H2Q2dFGVmPoeq5LGXX2VIerp9mVmRHcLa+9luOItt1alP/2B7RtHhc3ckHkPXxI4JINlVdV1y+5akp5sNg93Qh0om05iIdAYGjW4iV0DSAocsWBUpKbq5fV28Wq03mV16w+8gdXlWZhm364pFPb25iscHN+xbs9rGZcekcHv7TlNW2PscWrbjlXDA+N7+1kwskmLjJ6Q3WhkwVlXWGHGOdAwGAwBIc98mTsfZy+f2baW0rBi8J8ekUoDFD8/dqXPpv2L82GCao7jHkru3c7u7+WBQgEIhHLbz0NyOboT4FyijsNPiZXN6uUm45UM3lbefN2dmB/tsXMGkO5lFKqWXbdjgCWFmhTmLU8dfeJNZJ/NiNVH1FPr7OeKO5mZIFZ6I7OxaCwdPIY36wUiR1IBBc+Na1xXd2vVLvFqlN35kI0hTkZNZZtFxydze/gLVkyObDqxfY+W0bUpbV5Zdh4lLbT2P/LQrld1rdO9AOwsckmzta/0+2TfUFWXnZqZcO7j1rilwdjs7PvPzAMZUHB//tIbpEer4WXkALLl18W6NQ49fxo0PZ7kp+i59cFfcTYRFAQqlYNCm/fO6egk/Fm2RVL8Bs38KERfd3rMxXqPSmz6FW2axs8pYHRbM6h0o0iQf27x/41orB96U9m52MbGLrd2Pxu1+wew6sneIPRuHJFv52rJwUNn9u89r2S68ikeX9z9CsVxD2wY786g4M2Mbck5tOpLnNHjJgDDV4V1AeSPrYdBpSIW0VqPTQQAaTkVh/EvKuXhLv2hLP1NOyYlNiV+ms2iuW5s2ER5CSjin5NnAwy9SZUM8RDSWa3h7O8O9dYRSa/92nTo6sN9Ho7rHR/fdFnvOOLJ3QojV32H7yJ+E7l16lkoQ5c0hElFka2seHodBALq36VkKrIvkZdKDCkytXltRXqbW6QEEgOJZiog4LJLJYqDV1XKDydjMspf+dXKqmOvX1t2C/im8N9VlPUx8cPtVpbSGIjUYjS0ow73LU3Nae7CIJAzTzc0a+ygf0qo/0ZkJhACo2YU3vNC7jdDblFd5fve9JvpCs11bR0QE2jEieFWvhh94/apO7mtv6xwabWt8vP1wkaVPVIeunkLil/5TpdZiiUQMup48EAACgeIJhSQcDollMjCaMsBo0mVl5KnYQe4sEhnDcHWzwj0oyFaonAEkAu3SOsqJxcQjtAgEgLTg8Qk4HJrBoOKoANcCj0OjGAw6RqOUGQ1miU2S7Mf3Ht5OLZPUYKR6Y5Mr9iiHAB+rvTezS+TVpZnFBPsQe1qjNUS8oFWkoJUpv/ryvnuaJlTgEhYeHubEiuTXpI/a/+a1WBoAsplOwW1tjE93HysQeUW27+pr1Xjl15zBjl3y27NCNSds4hRvK8ZnRQCwLnnn4l/i1cFzh4bZ8xvrTpedma9ktXJjUagYhouLFeFeEaRWmTXiFBbpyLb4bNkTL/CMEHiaCmqvHbyvaGrmnEJbt450ZbcRiN+O2Zf+RiwNBpwdg6Ksjcl7T+RzvSJiugTYfCjCap9m50uqHp3eXZpiyQDE+XlLWN2X74ob2tqOWnphx/Fcu55LY1rZ0J79IQSjkEkYo1JrqI/FYRKF8e8o57aYpEWWfKxeLdeDpmYdsKn0zbtyo3NEWxsqBf0P1jWkkit0EIlKw6DNw2wo1UFKqVRtLEw8vG1d3Iqfr5UzBDzm+1obEoFGAAjzFCG+5lggZa1YaaRZcHCY99UzU+n15b2juk7bcSNLoje1bMcJqJIrNCCBTEGjUACCSiGjNWrAZPrk56gULFIllRiMP7QhDC0Q8vBGrUJvbNmGUgQSAYKmxuyNRNZXOZHvva1Zbi2IJ1HQaDSAoJLJaK1GqTfVe2MCqX40H+6rVyrCjPerskiUmZYhADCWxa/sH911ytar78S6rykM4xbgza0ryqh8+TzHaOPsyqB9/xoeSiDkEkx6pd5o/IYmkVaD9zx+V5B1f/8gQkLc3M0J78o/lLpB6Yu9s6ZvS+EMXTa7p7cV9TN2VSmUGhOeRDHHHghKvUoAk1nfCAKJ3GB83w8Un88lmAwKnaF5sUGVXKYGvKecuHH32dOkl68TN/ekPfv9dHJ+WXni0RMpzDY9Il2taF8sB0AGoxFColCof+Y+CBhwJtoSeviK26nfjQBBX/MXJhMIIdDvl3z+uUBgsVgkoNdqQfBTzQyBw2JRON/x+zfHBtgyPsQ0spzvaRaHRSJ0apURNAEACgDkd3asPytrs+b4wk7k65P6bG4RXSFxWBwKMOh1EAQCkF6vBzFYAPEpxsLZ2FriLxZm1qijTQAR/S1zgL5mD4h6UmwJFyMoZJJBo9GZmmU2JBaLQyIMej0EggCkq5cb953eWJG4Z+OZutAVhxd2Y9yeMWCzqvmfErwDvKh3Cp4mlxYKIsczqRTk9z8SaPQHFbRkXvBMh/CRK2bnpM1+/CCrOsSJL8IjtFknF8/alEwf9PPPE6Jd2HjEH1WCRSEMep3ZzuqnEv3ZVP75mUPWi9284EgUCo0EjEaDCQIhACA6hgQ40p+W5cvL9Tcf5BS+SZ2SchyLAiCNuKJW/3LC4PJFB5YPDLSnKZQqI55GwaLRsEeG8W/LRBFEIgGp12hNYEtfVkSQCASkVqs2fiISlNDRlglkJT+tUqn+0TsLCJaWXExVSb5Kq4WMkjqZ0ZyLEGxsBMjS7LdytfpbO/yRSLP7hUDj5x6YYGsrwpVlptWq6t8kNBRn5YjJDt5OLDLeqNODENh8eyi0uT2T2TESrKz4OHFZoVKrhfRFReVaCz6Aw39KRBzDgh3w2beuvqkWa5ubawSBgEcatFqTqcUvKxDxeJROpzE2fQdKKOLiFXVVWr2+uT4JVpYCXF1FoVKrgfTFxeVaFs+ajMd/B4kaSnJyxSQ7LycLKsGk13894KP4+blBZfcevKXauQkYNHSTOkAZdVqTqaW2jCDg8Ci9TlMfBDUzUxAEQXqt1mT+iSHj2JptiaaYhSvHt3PnNPFKCsFSxCdIKouVag1kKCkp1zA5AIHwDRnqpdYZWzxzCAIej9LrNcbGAQ5JJOISxCV5UqUSrC+SKNRGDJ6IpvgNXLxh2/YNa1fHxcXFLR/Zxo7rEjF0bJ9wWzYRAZhqq8VIugWbQIAPLYLxr8tEkUyhgGq8mHDhWRBkC0pBK183zreKWSIepvrxuctJDghPkqRMJ/Jx40cOGeR37ec142ZXTx3ROcSJjZSXVUA2vq58Ch71D1I21ismyv7IkTOnnztLak/EZ9fU0UEI7dEhxu3ItgM7rzks6OOOlihJAh69mQZIDCYF9fDlo4wSOy7to1fEeHTs6HVk7aGfD1rO7+vKohFpDJw0J+VdqU/t/TtvqutsDc3xAonJpCDN7RXb8T1doyIcDx+5eD0jCFl7PrGCHzyNxGgkCKbVoFHtL808MXu6sXRS3xAeEiP0dORTP9v8hWQIeDTw0d0rz0JwCowKFHo6C8hftz+egIsVJ126muSE0zMUlTq+h7OATvq4WYfp5m4lfVxYp1KDQNM0gHFvE+545NDlG2+D0LKLiRUcvwmuFkz8d6TyaDaXTZC9Ts0o8ZM9vZtWUSM0Nk+kSHaAn+P6K+cpMW5WDHoTL/sg6XweDbp//9qzUJKaoIb4Hk68bzwSPAEHV/fo6vXHLiQDW1Wl5bo78YHCpOdSqrWdLZ+gykvcu+tSJuA7wInFICJU906dT9XZdw+gKsvePi838xmGYeVoZUHBv3+aMa6RYY7HDl6LfxuMf3H5Xhmz1XCKhUXNVx9kOo9HBRIfXE8OpWpJWojv5iikfkNqPgcvuX/9+hNXCshVV2u5Lo4CpkdUpOuJ7ReP3wmwZLoqrx+98lrnMMmXJ3R19PDw/XCr9mb6kct659ZtA124VDQAlmXniS2sHOhUKsyhMP51mShAiBg2rg0t7Zf+Yd6+bUduTSyV6b6ekqKEPcaPCkY9iusb7OrgGTVim/kWrPfkHXsWd2O82Dapa7CrvZ2LX8zIzbdLpdp/2HkMWJ/RC8d6lh8cGtV9q8rN04KCM0AQynPs6uW9mY+XdHTicN26rLyaX9fcuLGB3fv4oJNX9u6z+Py7yo/npKFcR8f9NNyt/NC4aL/gARvTPHoPDtJcmhAVOS0FyyNiMEYTCDbXXm8fdPLqvn0Wn3tb5zwubl4b+aGB/gETbrKHz4uNsObgG5sKv+uKnavHBaquLB/cNiii9/ILWdV/TJ4JYYNGRlnk7BwR5ecbNXRDfL74G1OIFHQZOTyEkPLL0AgPR8/IIRvi88SNzw1AOQZ4s0uz0mvlClOzSh2zYm6U+tiwoMDxNxgDZ8dG2nO/JxEFEOwOo0YEG65PjYma+hS0IOCxxq+k0kiRqxOf5hwc5MSkN3kwASGk//AobsG+Me38/SKHrL+eXfuNEgOS33H40FBy2uaRUZ5OHhGD11/LqlGUJP+6angbDxGTxrT0G7gr12503LweHpYUhKkiv6hOnndtzehebUOC6xHScfaJ1yWNTp3Ceo1aMjvacGpMWNDYy8Te08e3dRB8PRMF8MF9h0Xxiw/Ftg/wixy89nJG9TfOIEPy2g8dHEZN3z46upWTR8TAtZczqtQQxnP4ojk9WM9WdHXnC/1iz+vazpjZy9uW/pVYGJK8ep1HsXEUMukYmERh/P2AgKAfJyqduCCvXI3n2lqyCC16IRvQ1RXnl0khqsBWyCR8OvfGpKgsLKlWASS2UMSh4FD/zG/MGGS1MhSF/ofT2w1KsVSLodDJuK+fRgDq5XUyiEQn479QtUFZpwRIDcfC62ViNZZKxmO+9cpAQ3tEOrlh6kCtpE6Lp1HwzU8kqJXXqZBkGrEZSfV1RfnlSqyFtciChG3RGwt6SUlBudRE4loLWETs5x0b3mwfOvVl2Kolw0LsGM37YlArlWhxLRlws7MiVmHq7/+61RmyD4wddpw0YeOCfn5WzW4r0tcVF1Qo0CwrkQUZ10IdlBaWS4wkjpWA1aA2UCutLC6qkAM0kZ1lS5v5g0p0WAqJgG3pnXpJcWG5AsW0FLIp+BZKXVZUUacnmKX+JCGoqirIL5NhOHbWXNo3PhoAVV+YO+J34pj547v6iPAwi8L4d5IoDBh/HcDKy/NGHiFOWDmxgxuf8P/sZdWZx2aN+aUgYvWm6R3ceDjY5/8otGm7YpekB0yfPijSmQXvK4IBkygMGH8BjSoqCiUoDpdJwv2/vopvKjgza9Siy4bu6/bM7erBI8IU+uPQ1ZWWawlcFv2/8kFAGDBgEoUB4/8PyqSDO9JFnbuFufHIcNYEAwYMmERhwIABAwaMPw8krAIYMGDAgAEDJlEYMGDAgAEDJlEYMGDAgAEDJlEYMGDAgAEDJlEYMGDAgAEDBkyiMGDAgAEDBkyiMGDAgAEDBkyiMGDAgAEDBkyiMGDAgAEDBkyiMGDAgAEDBgyYRGHAgAEDBoy/CqgVK1bAWvhroa4tKqrWYoh4LAr59/3wByhOufDrjRyEiMck4Rufvg5K3lw9su/A70lyrr2IRflPf4wDFKdcPHkjBxLyWGT8f+vUd1CefuP00zq6BZNK/N/8UjSorc1/965QAhLJxG98gRbGV6HPSzx1LrmawmYzsKX3PvxJ/s985k6fd+/0+adVJAs2kwx/OO+/BUiZdfdycjmSTGdS/gta/8FMVJ334NLVpwUyrQmeueagS9kxusvQ1bfyanV/57P+oerkU9t3nX9RJdM3/m9N6rbxQ2dsjc8sUxrRiBbaEyh5sGnMwNkHn5dIjd/st+b56Z27zz2rlOpa2PbDzeMGzj6QXPzttpt1fenHf976sFhnRGD/B0s1hqone2Lbujm6+wQGtI7d+zxfAv5wm5qi5PgbT7KqFYZ/3/OZdevwjmPxmRVyU6M/v/fpkCbtnjZi1s7ErJrPNKjLvnVkx7H4jHL5j3lITcmLWwmPMypk+r+TD9GWpNxOePyuXPpf9nwIIkOffnz3kfjX+Yr/Qs8/5CNMuUfnjx03sNeCswU1qpYKq6nOev48o0qlg3n3o1csT/513Z7rBTVK8G8Xxr+4eu0tMWbp7j2HVg704FFbmIYaNQqpWKLUGsD/vI2b1ApJnUSp1f/ptpWPz18Tu7cOtuEy/uc+eAbKkjZPmbT+MXXIjnv5NRVvj00OsqX/KNObCk6vmj5xUK95x18XSv5CG9SK81+lviuTqo3/uE9HmTRKaZ1EqdGDkKHq5fltBy6nF9X9p1RpKrqwfs7kQb3nHH6WIwZbrOyC1y/fldSpDFBjMn56ZvPckT07Rsd0GzJr+/X0SuV7PwzJcxOPrJo8sGtMTNdBUzdcTC2VG35slkzFFzfOmzK41+yDT7NrWyx1XWHaq3fFYmWTnYOKkpc3f922Om7Pjbel8s9+YSxPOr1z3e5Lr4ulIIDktOkYjMpKeZH7n5uEv4hEURyvEH833+gQZyoB28KsWZe0ZfSA6buTyn90iv45AGWPDm3Yd+1ltVL/txNdXlkpMXEsbUgE/HeUTZDsDsvP3To0PdyOifmPW7RFh2Vnbx6aEenwZ9tWPrn9BHLz9uAwSf9zBThT0cWD59/Se/60cmKfIGsWh8siYTE/nC2jLNz9fdz92wa6sKiEv27M+pQDs0bP2JyQVaX9pz3DCFbbuceuHJ7f2ZOLUT77fffBi08KJdr/lIdDsVx8vD382wS6chgttUn9q6MLYmf8cjW9vJGyNe8uHTga/0bBcnCzQmRfiBs7edONV+VaCDDlnVwSO33N2UyQ52CJLri+PnbC2oupxeofGQGK6ezt7eEfFejKbbnUr48vnjBj/eW0Ms0fc31FxoWVQ6JD2w9btPfyo8wymaYRgUCSZ/uWzZu/YPmhO+/LCATvUD9KUeab4lLxX86iPxZpU0Nnn7w3uxn/atBoDEgcHtviBRvQoNWaUHgcGon4Z64egOI7G5cnYANFhTevPsmF3AYvXDI8BJ+8bcnexPxK2fEZIx6GxW6a091GcW/Hpv2XUxXWPeYsi23ryCIgAcWb3zesP3S7lNOli03OW8KyZWNtbbmANvfKtk0HLqfIrXvMXjY+2h56uOWnW8Q23vKH1yo95s7u28qSgapn6XvbFx2tC58/oYszp+bC6nV3Sb3nDo+wJpff2Llh18UXtZTQ8Svn9fEWYguvbt+8//ILuWX3Wctio50siEiw7vnRtRtPPlM5BLBK5QaHxsMpuLg6bvfNvHLVidmjUzvPXjshBHxyYOPBGxkG+24zFoyOdLTAiW9vWXkT17qV8smNSrdZM/p6WzPNEqmf7F54sNx32oTuguxjqxIQXvzie/FJ2Qan/vMXjwi3Z+ERoOTFsXWbTibL7fwsSqQGuw+Bau61nVsOXHohEXWZuTg2EryzYft9YpcZo9s5M/NPrtieKhg0uTvi5uYTZV5TYnsIc4+vTgA8ucUPbiZl6Z36zV00IsLewqzNt2e3/HIwoYjRoZNtYRaxw8yRndyElPdcZMhKy9Dx2zhSKUQEAGgKEvZs2n0huYoUNGb53L4+mPRj2/adS0yrQtlExy6c3sNXaHqyc1UC4MkrvpeQXAC49p0xwbPs/OGTt3OxAWMWzenjb0XHAoA278aebQcuJIsFnactGt/BjUf6mLODlY8Pbdt39u7rKpRN2/ELZvT0s6SZCm7u3bzn/NMKQuDo5XP6+tswGgICsPTRo3SFTbsYNx77q1GLSatQ6lF44hePX9MXKP6xu6/G/gmL1qq1CBwOg0L9eSI3VaVcS6zkBgV5WlsQkQ0u8eGen+N1DhblyYlJ71S2PWfOH9nWlUtEAurc63u2HrzyWmnZYeKc0e3c+STpvV3rboKtnDRp9yute7uL7xfSnS3Knt5NzjU49pgy3lt849eTCRlI7xHzZvULtmNiqpOO7Txw5nZqOWAZOWbu9N5BNk24QE3qsSWrMzl9xg5o7cRRP9q39qzYZ8SQTt7WtA/D1BXcOrBz/7kn1ex2E+fFdvYWolKPrDqcZzOkMzPl1LHrrwqrC5ZPSrk1ap6D2ASYap4cmH88M18i6Dp9/iiz1EhzAwd3HTj7uMoiesK82M4+QsPjvRsS9K72unePKyyHj+sT5sr7JBnZd/SW86ObqSQbtRo9AoPDoL+95YLgN3HPpclIJAKJAAwZByeP3/gyuagitJVAaNdp8tbARQI+m0lGmYpOzhy1+mVSdnlEKyubxlGVJj/hwI6DF19I+dHjZo7p6C00PNm/MUHraKvLelopHDS6T4Q7v5HUPiM3nh0J/LjYAKDLPfPTrJ9vgxHLzpzqF2pD/yxnM5Zc27jmZL4WR2JSP9ohzsnZFnO/tFAsVkJsKuJ/MRMFK09PjfByEAmFQpHH2ONZ1R/Luaayy0t7hdixyEQKhUxm2kdMOJhcqTSYo4yn63sFeg/ZkVKScnhseCs7kVBo1WZRQoFYU35pcXc/KzqZTCHT2LYBvRafeVOjNv7zWBSqzXpyfs38A/mc4FBBbfz6NcdeVuitQ6L9bZhkUauY7j2jPS2091dNWnpdE9CvszBn/4pttwqq1GDlpWUTF58usQwPQicePHj22nOZUguA4psrJy67rvbv21mYcyBu6638Knl15pMbW2fM3J2kwFMJuI9bYnSV75IevcqTagwQqChKffz0balSp31zcOGi34vtuo8c0jHYiUdASW+tmrzsmtKvd2dR3qGV2xLyKtVg9ZWVM9dcq7QMcJYlPcyulXy2uEF3Dov2s2NQLb3bd+va2kF/d/WExRckHl3b8XL3zFhwOLlAYjRWZz2N3zZr1q4nMiyVgPtg+8bqzOSHKbl1KgNYm510Ye2iAzl03yCh9M6mtUdfFNUawJqrq2b/fKVM6OcsT36UXVOnbQhCbq+ZuvyK3KtnR6uCo6u3xxeSrC0kSb8fu5JdUXT31JEbJVhrDokgzXz6KCVXrNKDtdlPL6xdfCCb6hMkkt3dsu5oYXEtAFZdXTltyW8F3JBA3KNjR85ceVqs0H4yNrA6I7uKIbChkIhIwJB+dMnS3/JEHYcN7hjqIiBi0VgE2SZq8MTJPSxLz6zecO5NsdRYm5N8af2SQ7l0bz921Y3143tOPljC9/eiFZ5fv+VSfqkMAMV3181YcanOrVtH65IT63bcyCxTNtKjuck29U2WnV2z4WxaUU3a0eXLTuby2g8d3CnMhU/CfvRL+tycQiVd5MQhkZsJf8Ha5IOzu3uJ2BZMGplItvAcfeBFkRyqv3BoTo9PFzxG739eJIfA6itLeoS61D/IbkN3Ps2TfgzcDRmHJ3Xwtxd+hFXYjOS0koZrFUmH5vTwteIwqDSOW6c5J56Xyb/2wBpSd41pF9R/zc23yb/N6RbiZH72W8/4/WWJ2vDu3JaVC2duvJpZrgA/Rpu5zy9vWHrgLdbV31L9eNeGo1m5lQBUnbB2xtLTJVbRUZZlJxYv2X8/o1pvqM19fnPX/Hm77lZARLy65MWVDcsPZRBcfTh1d7ZM7jNpTy7dy5NZfnXTtguvCyUmBAZBsg7vP25SL7vaK79sOp2SV9fEshKWg5W9vX33QUGNFDRkPbv9oFCChlAfoxao7v7meT+dK7NrH2NffW7zritphXJjTfaLJynZNUaeb4SfI48udIvs2D3GR8QkII1vrl0tIDp4W+mS92059iSrQgdKHmxesPJcqU1MjH3thS27Lr8ukBlq817c3rNgwc7bpSYCkfBhPwxUcz2uf4Rb/fy4Dtp8L/NjYgVW3dk8vqMHj0amkMlkhk3QsA03MqvN2a/h1f5JnUP7xl19+fTMoj7hzmZlh045nlyghAAUGoVoIC0UhULC4gkYNBKJBAAE09nDkccko+oTXzaLhEebjOBnKyJQze2Nc5efzOWEt7GpPRe3fM+ttAq1OD/lzp5FC3feLNLjicRPUsevGhzl3iD1gA133n0q54JViVsndPb8ILZ14JB1V99WaSDA8Prg1K5hfZdfTHl6dmn/CJd6qScfeZKnhMDKm4ePP9AETF4ybVCk7ecMCuhyz23Z/QTbdszAdj4i4qfaANnGlqeuKauVSY3/o5kokh4ycvna9vLiGxtWJqjURtMnbatLM96VC/uuW9ndjVF3b++avUt/snffO97fkuLYbdYql8cHFmx94zhmWh8vPhWDpNh6ccjo8vLs7FrrIVs393DAlN09uOnAlLE6/MmF7e1Y/6gdbUgMGo0wcrvMXzmvl4uEXdhvX1aGBunfur2f7S9ncV5d+vQPsFaf2BKvCJw2c3RfNzU2o++vj17XtQaSz92t9Rh+YMmEEM4rTLfYs1gAgQDLr52KVwZMmTGqn7sGn9n318ev6zyMKECuEI3cf2xuO0f213UHit+8zkO6jx0xcIiPFRUBgKXHTyUo/CauHdXfQ0vM6n8i6bU0Avns4n2J+7DdS8aHWjxDdZt6tXHQhWS4tonxO73larVXp149ApCXxz6ocxu8avyYQLJdTbclt2/ldnP1wqIBhVI4fPeRuR1cuF9KhECjUQgTp+Ps5XP7tlKKKgbvycmUKQOKHlx6IHYdsn1xbDjnBbbHtCv1CXX5jdMJcp+xK0cN9DJQ8gaeSH6tiuzSL/xs3N2bSfrc22rvYd09RBa43A/yodFohInTYd6yuf29VZaVQ/bkgiolWPLoYmKV06BtiyZGiN4Se0889Xnpw1RZVWvA29ExGAwA1rxNywdcBg0dOCzQ7v3KY9ig2DAznTnXpcZeSMusU9ii0AiToNOCpXN6e8j4FcM2lkXPnTOzg0MOoWjy7Uy9UgFWPDh7U+o5bPHowX4go2jw8Wevq9s6W5LJDZ0imaEDx4eam3Spexl74U1WbT4iLR9y7jtkwLAQB0ZjjYNquVxjIlDNwjU9udpnB3/efkvVev6RHZGORG11YRXWw4pBQADa5ENrt99Uhs07vKON0/sL1gwCAon1GzD7pxBx0e09G+M1Kr3pU/ELJWwzeqGgk1RjAjRZ57fuvSWztEeTKQAAKJK3z5iyN8e617Jftzjrn+xfv3f1OoFozahwJ0Yzi+Io25jxi63djq7c84LeeUTvUAcODkm28rFl4TDcrrEzMV0FkY588vuxIszPCchpN2XRnCGBRifZqN2FoEIOlqReTqyy6bJqXGxbbivNgGWPE7O7ebEwKECp5A9Yv3deT1/a3Sy0SdB++sJZA/21tpLRG3KDpk+f2d29mFE1NT6nSC7XImyC+40JNivbQ5k++cy7rFqJy5flPhTf18eR9LIwq04WUJqbV8Ow7iRkfPTdYMWdi7drnXosHzU8DCOoGnX0ZVp1O5v3t5JsAz18HXef17u17d6nkzfl5gUEkh8zYcHcYaHgeeXY3UU5EpmsIuni7Rr7rktGjQzHiWpGH32VVhFtia4fSN/Vu+b3CbAmfpheBNWnz/Tl/oMK7x7cekOr1Bk/SgtpKvOyy+hRszb3CbMxPP9t+8Htvxy2407v6sO3aTt6vtDx+M/7kgltB/cOd+HhkSRLL0dOQxhgkJTk5mWmxh/dmaBwHxftbM3+fNJMpbfvPCsnOfZw4nMapaFgaeL1++WCdgvHTuhoFQgNX/7sfkaRPQ6JUKp4vX/asaBfsA3pk9Tevacs9e1XcO/w9us6pdbwKVKBtJX5OWW0yOkb+4bbGVNP7Ty4e8NhW+6MHn7WUSPnCez56/YlYyL794pwFxCQJFErZy4eqkh48LyCauUlTrl5KBVgOAVFBruJGHizuRjyL+w6nsHvOm1QFOr8mdNFjSmKRkWrFWK1VgsBf+kW+z9dzsVb+kVb+plySk5sSvwynUVz3dq0ifAQUsI5Jc8GHn6RKhviIaKxXMPb2xnurSOUWvu369TR4UNFql7DGK5LaHCop5DaNoyn7Tr58sm7I/25TD75n8SiCAQCQPFEIiIWi2SymGh1tdxk/CwS1qWnZymwLpKXSQ8qMLV6bUV5mVoBpOeoRZHeHDIJhRcIOTgcBkAgdG/fZimwTtJXSQ8qcTU6bUV5uUpPAwCMa2S0I4P2zegDyXRzs9LtOb7nptfSAQEiivHd22w5xkH66umDKnN7leXlejnybbaSH9aKQyajSVZWXAK+eWPUZr3LU3FCPVgkMobp7maNe5ifrVA5QQgA7RIR5chkNC0RAoFAIHkiEQmHR2KZDLS2TK43qjLe5Sh4ga24ZIq5Xx4RjzXrJuNdthxtI3ud/LAWX63VVKgqdAZW54Gdjk6+uO5gEa3fnkgbPhWlb9Q2AKB4QiEZj0PimAyMtgQwGnVZmbkqnn8rDoWCxvEFbAIeQgONSBRSq7VYAgGDRpl15OJiZdj92/4EL97gEGtagxs1SbIf33t4O7Wsrhot1RvMcS7Cgscn4PBoOoOGo0FcFh6LQTEYNLRWBRgNuoyMHBmKL33z7JGUUKXWVEorVOYHu5FpmyTZT+4/upVaKq5GSY0Uf2dL455TBxK8BBZhn5WujCYQgqCvLFSZ5HKlEcdydG/l6e5AxyL8PuawcrnSUH/Bw92R0egCRuAZIfA0FdReO3hf8bmFUG3929iac4fbKw+9rBMNipvXx9WWbv73qcsZtM5Ll07t5i3EI0LYte9G7k5KLu/i6cBgNV3bQjIcg6Ksjc/2/5rP9oqI6RJo+2n0Vq0Hj/ujUQAAkiMQkAkENJpBx+pqzWrMyc5XMJxd2VQqmu7sbEW8W5IrU7QyG5hTaLgTh41HGAAEgGBxeUQ8HoWjU3E0AYdFwGHRdDoNq1PLjfr6nbMmaW7yg0e3nhfXVHNler2hSc739bLafy2vRFIhzSnGWba3ZzI+8po+OyuvDqDI3qUkackVSnWVslKr0XzlSeMIBBQCEY0zS1Ep1+pVmZl5Eogky0hN0pPLFaoqRZVCo4UQCLRjcGtnLvezZWkc3z2M724qlNw58aDqS0fLcggKbR3txWsjkuXk7clMrxG3hgQce/9IS2PK0VM5RI+w6C7hjpRGLZoz2KlLjyRmKSyCRg/ztuNQGnMoJE05ELfpSrV77OxId+vG3lefl1sgowqc2XQ6huboaEW+VZ4nlVkCANohKMyZzyN+JjXPLZTnZiqS3fvtfhmiKbEDQ1u38+FHWSpy83dnp1fVRgIiO78IkfHlidM5GPew6C5tnD8UYXWpuQV1FY+TDha9trJASYsKxNR2czfFjYlxZVRe23/yHSdqWnt/R+abP6idRCJiQYXWYDRCAID4n10TbUH7Iks+Vi+W60FTS0eCZEVE+NLPvcoo0modATLun1bTRSLRZjJFIoAvl35BpVSqNhYmHt6WRsSiAIAh8GXiDAq5FiRQ6GgU2qxCBMKsx/pfGgrvHd76hogz/5LvwyBg69c9yBQ0qgW7ZLHesasXF05ZumhQVtb6HbODxVKVwdzzG5K5PRrPh4nXqxRaiEChYep7Novb7AxCKrlCA77vG0GhkFFasdJgMkcICALpGxIhEaj6xhEN7UMqhcI8Ymo9k33QEqiqH/H9ozve1ktI4XoziVgkOahre8dT6xJderbz4FrgEYD+j+o2t1Gv7oZW5HKtCU+mY9AN2gQA6AtaB0FTA1VhvMb9tLB4+tKfhg/PWbN1bo9WHNmtn6ctPp5DcXVC6UzQR30gkfU1MrOOEB/yKVRDgguppGbNPjix8139i65EtheL1OhtWlNZwtoZi49lkVyd0DoQAgAI02rM8gWlM5etGjk8Z9WWeb28BeSGnyPJFDIWpZZJDAYDBDS1l48UPmRUdPKKVQPaHg/rOmDE6EHtWwmpOKT5wmDzhdUDo0+Edu0/cvTgmFZCGq4FqzmGwvNrf/69wH7UL+NjPARmT2nIy8qTKAtub5z+5gDBLJixNievkFMhUWuNTUv1554TBArRMHHvgxuFQmPCkcjmNBVBIZPROrFSb6h3kAQSGY3GIABDw30NTxaiHvUmazYvBMI8oaby2xvnLDnyBmPviFWbXVIzAQnG2bcV//eU7IqXphy90NuFxfi42gapZDKVvuj173uzrhPQAICie1pQ8CjN12JnZL0UyAZrg1RyuUpf9OrUvux4cwNImoe5gbqGgZiH92ccLY/HIULVSp3hWxs2kaK+m252W1qYcn3fz+s2Lt1I2DC3X1BDEgnJXh1eNHfrY2LPFTP7hTjQP2NXtVKpMWKJZCwGg0CQSSSMvlStMxMUgkAk/UmpG8RGVKh0Bj3Y3OKieebVoMfYfXFz+gRZYzVZJ+ZPWnvp3OMQRyp04dRzvN/4Nl6OLDT0xaKr0QgikGgU8q9+i/o/Q6JfmTYMBmW2HOi7tnkhkAgEaDQC/7r9u0gsDovC+Y7fvzk2wPZDJU92kYACNCqlsZ6SgIYnH4nFYlE4n3H7Nk8I/PBLUHymaTM0P8EQ9IU6iW6DNp+xs582acP6XT7bPI3m9vZunBBsz3zfjPwCFgUYdDoQBIFvTAYCh8WhEAa9DgJBANLr9BAai/uTh0sgsBgsClHfbyM3937EY3b9MjHUkfXx+TZlnn5RBqBNWSnPSyS+tmzWNzWMQyF06kba/EPnFArRqNXqTQ0rFASX/utP2trNnvLLpj1ebtPp5zedqQtZdmhBd+bdmQM3K1s0GhwWjfMetXXtpAgX9hexhOLevs1naoOWHlzQg5U4a9BmRUOv/db+ams7Z+ovW/Z4uS7t52fVkBPgrKwtCZKSnGqV0giQmtp9THAbsvl8SN+rp3898duWMb/vDpmyceOUjm5cIsFt8OZzwX2vnj554vdtY37fE1x/wZ37WQLxBavos07+vPWGNGDaioEhjizse2xS0dMAAIAASURBVJWbjACB5+of6iGiN/xXVAyS4+sioP6F7gqBNRuYSa8H6w1MrwfRGBwKhfquHhUPD20/U+k1e/eCvsKkxSM21zS/BcfT15N+u/T5s4p8dkg/C8an14gQWCwWjW81NO6nKR28+B/mU3H9e0aCReNaDfl5xdRO3h8agCRXf8zXojHmoA2CgJZ4TSSOYRc6ZPHMgox5d5MyyiJaWdsREbrcs6sWbLqP7LJ45eQuXvw/bNNGYMwPpcmgN5lMAGQw6E0oNBbdIv1/TSA0ukFs6GtsgEIhESajoWGNlmAf4OfEflhaKC29k/o4K/fJgzkvzixBA5BWUlmrxczKqy7fu2RYuBtTqVIbsDgz6f/VXvsHLZtIJCD1Gq0JbOlLeQgSgYDUatVGsNmdx7rMdzlKgGNjicFh/hXMiUKhkAAEGiEAIlrbCJCl2W/lavVH/RDt7EW4qoIsmUYDmmpq6hoqiEQbawGqNOetTKX+1h5uJIlMwiA0SoXBZILUao3JZPqU9geNG9XBVl2cpbRgc1BlOe9kKhX4qWYv4mJrSvOVWg1kkkrkBmPzYS7B2pKPE5cXKrVaSF9UXKZl861JePyf8qoESxEHW1NWoNSY+62TG4zG+h6sBejy3IzGEgLyB79fyLHrP6GHbcnNSy/LajTfskOCja0IX1OULVOrQVNtrUT/h9AdJRDycApJpUb3YRMVkhUwakQHB31ZTlnGy0wx0baVkwWNYNLpoZYZPcHKio+uyM+QKpt4D9hQkpNrbtLR3KReD0Lgx3K7/6jhHRyNFTnVCuWHrREoh5AAB1J+4o20iupmR4qk2oUPXrDn+vPkU1Pdi3/dfza9qNb06cLu68+enp7mUfrr/nNv3l8w50AEPMqo0xlNjUXUZpz4Ze8DffiUyV18rGkf+AJtY2tNBvDCyAFjZsxf8B7zRrd35VK+HpMjCHg8Sq/TGEymz2WH9GqNzmT6uh0TREI+QVpdrFCrQUNpaYWawbakEInfY2DGstz8WpyVhyOHQQQN9XTcLCje3q7I6qRH6XhLRyGL2WgdgyCy5GGri7Lq5HKwGZ+PQAAfihlNLYWJRDxsTVFWnUze0tcvkOb5Mem1RmOLHS0Bh0cZDFqjqdmXcpEQBEF6ra7eHxiyf9+065YiaOrSCV19hcQviYEgFPBI8toSuUoFGsrKKlVUlohK+uq7K0g8AY8CDTrjHyf8a1Lj0Ab951IThQIuSVpRIGlQOKhSagxoLAFD9ek1e83mHRvXr4mLi4tbPrqdq8gltP/I3m0d+GQAMIlr6gAKw4JEwv9vZ6JIplBANV5MuPAsCLIFpaCVrxvn63egBCIepvrxuctJDghPkqRMJ/JpuEWbee/CXU+jJzb79JrDqWBgXBsenfTvONqXyGRSUI9SH2WU2HJdY9q5Hdl+YOc1hwV93NESJUnAo7t17NDq0KZjW3+jtjfdvPSuUhZiTvE9Osa4Hd12cNc1xwV9G37Jbe78Coy1tRB35fG1Fx2JLy8n5tRK6SYI0he9fqHlWJPyU7LEBLaI7e/Rwf3ajkO7rzks6OuJlSoJAh7Ds12k/dHD584+c5FLf4vPrBb7gc25Box72wiHI4cv3cgIQokvJFbygqa4WDD+nP1iPdtGOhw9dP7sMxeF4kxCRmWtjwmC0O7to92ObTuy56rD/H5eeLmSwGPLLv+WIHEeFt3HnZA67cT5OwMCrNy+3jbGrX27Vkc2/rb9N1o26v6lN2USvy/XimWPiiUqtQnAlKe90VgISUWpWbU4lsDCksAjyNNeZpT4y5PvplXUCgwtqLFg3Nq1dT++9cTeq46MAb5EhZLA49I/HJ2IYnPYBPnLl5kl/qrnd9MqangGQF/8JrXGQkgqTs2qxTIFDALhY/6K8eg3vP2VWUcXzjKVT+ofJsTgBG4OAvrHpFSbfu10Oihydm/lYAGpDSAI1Lt0BKBNv34m3Sh09mhlbwGp9ab6C582VCHpPB4VSHxwPTmUqiVpIb6bo5Bac3b74ft1Nn0CaaqKt88rAQSG7upkTSEL2/eKPvng+MpliKqxfaM8eCh5iRjl6G7PpZO+uoyA4vE4eGni9RtP3GgQV1Ot47g4CBim20sHLHnhsXjtrK7ewq8s5aNdwkOdjh2IT3gTQnp55X4Jzb2fG49NqPwOu0JZcCyIyuTXmcWBxreJr0uraAYIaobHEBY+3g7SSy+IoQ5WFqzGdox2bRPpfmLL6UNXnNi0ILpGjbNgMxpZAYFOp6Ar3j7LKPSyd2mKPTAubSI9Tm45e+iKM5sWzNCqcRYWtG+QC43LoSFvPrmZHGYBMY0Qx8mB/42xcnhsgvxmQvxjDxZSqK/VsRztBJjyFyliPN/GVkTSFj48tPfCa63jDCcOm4RQPblw5YWMH+7HNNZkvKitTz3pIntLDpX4vlCLdgoNdjqx786t16GMjOsPCohOsW5CnhTxVak5HDoyPunW0zAuosQEsR3thaxvSM1lExQ3biU88mSjLQ1iHcveTsh2CQ9z+21r/O+3A+y4vqZ7v119IRMO8hZZu3laeHp9jPgS887eUNoERwa68RkYAKzIK6yl8aKZDDrifzsTBQgRw8a1oaX90j/M27ftyK2JpbJvnPCEEvYYPyoY9Siub7Crg2fUiG0fbgFr7m8a2yHQN2LIlnTLEWuX93HhklH/jiIuLrBHbx/007jevRdfyGUPWbW8N/Pxko5OHK5bl5VX8+u0KJfRK5f1t8zev2LTE4w1n8wkm90ixmPMqmW9mY+X1v+yc9zVPHFzb3dj3HuP7GJbcXxMu66riulCIgFrhAxFD3ZO6eAssI7eXBwSO6GTg2XI2JXLerOSlndx5nJdO/90JbdWg/UeNX9Mq+qjI6J7bJY5urOpeAPUXPiO9RkXN6+N4tCggIAJCRZD58ZG2nP/bAyI9R4xd4y3+MTomB6b6uzc2DSCEQJBjPuon5b0YT+L6+bG47p2XHHxdfyRM8ko33ahlqLWvbv6odOuXEovq/3G8YAopxHLlwy0Kzy6avMDQMClsKgYROPVaZSDnzenLDu9RqbQlz7eO72zm6V1m/V5PqPGdXHx6Td6RLDxxrT2UVOTQBYehzWawG8nExj3EcsW9+W/WtPLg8917bjs/Luqj2+xI9ntRw4PNiVM79B2yhMjk4DHGXXFD/fN6uphad1mXXarEWO7uljSPj2mSF7HRVtWxYYaElYNjwmJ6LnkdPqnV0MAsK7o2fl147sGOLCpNI5rn90F9kPH9na3YiHqL8SaL9DMF3bl2w0d28vd6mNZHB/cd1gUv/hQbPsAv8jBay9nVCsqkpNel1dnx68b3yc6JDg4ODik3YyXb4oAAGkRPe+XuFHu1WcW9Q/3cLB38+88Ze+9/LpvHe6G5HUYMrg17d2OsdGtnDzCB/58OaNKbcjOyJYLvUPsOKxvLKdiWw1fOKsddH5CRPCY8+iuU8a3cxN933EYCIvoIUNCkfcXdG8/6a6ChCcSTSZTc6kdUujsKKA7B/o7sVmf57tol8EL5ve3ydo6yFfIdW634LdXn7+y5NOhix81c8fowfOPJuU1lWyiXQbNn9ffNmfbYD8R17nd/JMvP2ugyew1oOfAKMvqX6d3DfaLGLDq/JvybxxvhuRFDxgQzsrbP7GDt7NH6/4rz6dVyMpSzqwfF+NtZUFjirz7bHrNGbBwTl9/RzrSVF1YIpbkJWyaPKBd/VwHB4e0n37waZ7kk1xYj8FzpnfAJcyKCR1xUhc9bmxHL5tv7PvE+3fv39ZafGpW9xC/8AFxZ16XfUtqbtt+AyI4BYemdPJx9mjd76czr0qVEMZt4KwZvS0zNg7wEQm9Rx6rCRg3tV+IC+sr/ADJ3qTn4/k2IrbFX/6GB+I7Vyubrr+KC/LK1XiurSWLgGnRIoWurji/TApRBbZCJgEN5ewe2G0jNPG3ZVEkJJrItxEyiJh/2fdlQL28TgaR6GR8vQYNSrFUi6HQyX84XFz/Yn3vEZdtTh5Y7OXSEIo298svoJdV1OhJLAYZj/6gW1Arl+qwVDIO/WnWDMo6qRb9WXsGea0MSaERsZhvr3mBWkmdFk+j4DGoH7Zdg7xWjiRTibjP+22QkEwj/XAfhtRNA0Zf5M7euqi3t+Unf2xI3zl8WmrwioXDwhyYCLOOMBQSHvNh64RBJlZhqGQ8Bv19NlovN4pMI38pt0FWp8aQSXjshybBL3r9UtFyiRpBpBC/aM2grK2sqKzToGh8SwGThP14uf5CVZ0G+ccLH01EUlxYrkD9H3vnHdfU9f//mz1ICFlASNgbwt4CCu5VB+5qtW6tW6vWbV1Va622TtziFhUQJxsZCgKCMsKeIYyEkZCdm98DEEXr7Ph9Wz/n+egf9fK+577v+96c13mfc+45NGM2k4z/+EwRWNpcU1PfqsIzOcZMXfwn/mSVrXVVfJGSoG9iRCfhECWn538XZ7Zs7ZwhToafMilJq2htkWN7x+rzXyuRFE0i4j+y1JO69Nyi2eehyVtXf+1vRXmHqbqjpVWOJJJJhD9GUquStLSrcSQSAfd+Nz9UwLtD11JbVd+G0OOwmbqET/pqQ9nKr64XKvBMYxaj+5FqFW0NNdX8VphkZGasr0v43AlBWkVbixyjQ8TjPrWKVrbWVde3Qrpstj7lE71uq6/hC+U4urERg/zqiwBY2lhVwW9F0kxNWFSdDxekbbqzecElzagFcyYEWBD/CxOLcHRzB/rnnUEzsaeZ9PxL86ocM3u27v/mXgdIrC6D2St5IdGZpHf8/quyntXA+v2QeMJHLN/RkKew2H8Ys9Cl4d9Om0i0t8vD6DIYn3wfeCoD/zfFBKPLeNdr9Q4P/2RtWpWTW6Ome5mQiG+kzBiH8V973jkbkxdsxaYaEd6OEYZC1/tTt/N+vzEUGuWjT+YPz46Of891GMbWDOPP+MOrV4RqYkP9jHeWyDC1ZZj2SKrweWxcVnmj5O1v25H6bsP7u5owXg7OYPXY1no9byJclZHd4th3mg2H+YnTehE4PRruL75WNMpHjaTF1w+dz8S7rfU2Z+u+Wy3QOlSGzvu8xJBoH60SP1TAe54Px5rK+awz9Iys9IzejB/F0MrJ8M+nXTjKZ8Yfq8e20mN/1hkUliWF9cfXTd/cUf+TCpAXREXzDNy/cbUxJv7zevLvWGAbRzO2sYEYeAwKAryDtoe7V17iqRFKfmb8C3zIvsFMpi6Iyp+lPW7fmkv5Uo1SkJ2Yj/lq5yBL1ltrBCANRmw65diCYtIwIFyfnKKIXsTfvBBX0PD2oALacbqDqzWH8a4ZDgjdwCX7B7P0aeR/009fUxWxdemO29L+Wyb3sWMTwBZm/zUQRsPWHhjNoOmR/n/8gP+W7lzAP4ykJO5GZGJurYJi7jUkZIgrWxcPdlP/89EsS4yIis+pkpPNPAaPGeJmrEcAjTfAG69IRljoc3rfwf6uxhQ0CAcAiCgAAAAAAP8EIKEBAAAAAACIKAAAAAAAQEQBAAAAAAAiCgAAAAAAEFEAAAAAAABARAEAAAAAACIKAAAAAAAQUQAAAAAAgIgCAAAAAABEFAAAAAAAABDRfwWwtLmmJP95YWWjWKX5G1dZhNvybp+NzKhrlX9JSzfC4hd3zkc9qRbJYPDqAAAAIKL/6yhTto/y83Dr08+Pa2po4jv9t+TqNuXfoXrKvDPbf02rhzWIj23Sp6xLPb1x9uQVJzLqWtUQpGnMvLh97sgAT/c+w+cfeFj6Uq7g9oKI3QvHBPn3H7/qTHrtX3VSyU87s2nu5BWhj2taVBAEaZqeXtox76vAzqvO2/+gWCiDIeXTEyu+HTd0SA9DR63llbXS5Vm/7zmZXN4oA+s6AwCAL1pEpWXJkdGPK9rkGhDK96HVarVIm5lnUotqC65Mp6Tt23kup7ZLVt5GxX9ycc+xuxVNkk/JwcTJ16NbXPv7m9B1UR/KVrPPLh8xYMr6IxejUoqaO5QwBKlKU1Pr9NxHThxh1fZg5+It4fl1Yhiuv71lwea7Mp9ps4IxiTvXHUwoa+yd4ar4GZf2Hr9b3iCGPyFFzjm3YuTAyesOh0WlFDV1KDpPUZWmpdVRXIdPHGEtjt29ZGv481qxlmxkaefo3AWXral8Vt7YLodYw0ICZGmxGXVNEqCiAADgX81f2udHU3pu7Zwt98XBB+MPTrYz1PmkffdkjbwXVbCJgwVDB9er8peVx5w9HR6fVS4mmvtPnD93hLMBCfOFbeSHNxv69XBu1FlesVjqoaW9fXtwW8rpfaH88UFDfE2ZH9fQlIcpCJeFTnS9D247i0RIVKxJv4bPiVm1Je9lvPF9lh/p0/V/8r6EkJnhabnCYTaEjIepLXYTF0we582256fMS8usae1jZYB/uSEf3J56Zn9o7eiAAT5mBh9tmnVedOIv12fFrtnWc1EI77f0kF/3VfvpjJ91PS23bZi904jFP4zofpnKTs1KLrUNwlNpEJER3Ae76XFWQ7C1MVkXbOcIAAC+zEwUpe/i5+ngPsDPVpfwifvSQ4r0A7MmLTuazm9Xvc4yNNXXV06Z+/PDJqazlx3qWejCiUvP5fDFX156qxaLpVo9BhOryjq2dOb3x5/UtqogWBi3/7v5G9YtnP1bfLkgI2z5jK/XXCwQiGF5ye29C0cF+ARP3XWHJ3xziFBZlJuvNLa0IengPxx53b5z184Z5mpAQr/DDmtszMLLJCK5Wq3VQlqtRg1rtVoIgUSgMBgkoucMuOHhL2tD40sFGRdWzvx6ddgLfjssLY74ad5XfQOHztx7n9f81vilbuCcNXOGubHI72wHYY2NjQjyjha1Wv36FSiLTcjXcenjSqURIQjH5VppqovL28WgRxcAAHyxIgrp9ll1KTH5wvIANuUPO4jDKlmHVKGGP6ES1JREXkqQ+K48dmjPT7sOXL62dRgu8358XesXpaJaZUvB7V27rzc5jw1xZxmZ4Vqyoh8+4rd1wKr8R3eS6jRWPoN8zGkkjvOgUWMGODGJ4pht3226K/OaMJxdcmLrbzHlDdLXsYQbC4oamMYWJALhrzxCTWNjs0qXpo/H4qh9BvhRi6LPPyp5dis8vsU2sK85Q+/lU0XqWPgO8Ox27qsxA531dVrubJm/4VYLd+RAw9Jjy38486SiRf1ZV1WSqUw05tVboymKSSjQdfZ3YtAICAhCkq2sWcLqclGHFAwUAACAL1BEYcG1JX1drDhsNpvDnRPGa+zoqeA1dVGbxvpZ0ElEMplEoln2XXDqiUCi6kyeHu8d6+069VBWTdaZOYHOFhw22yRo/YMKoayjQ65BoHCYrtQHQSbrYNAoNApCfDEdeZqi0Enujp5jD1R6LFg+wc2IgjP28bZG1xQVtHWIq4t4QkM7nz7Dxnib65GMXEaMmzjEmd4ee/W+2PvbFbNmr98y00eZm5IrbH2dlqnr65s0BDIVg/krHfIqXkpaOdbWg0vTJaCNxmzYPpmatPGr/nPvceaumuRlSnulcSQr/8Hu5jSSkfOwkIlDXBiihBtxIoeJy+fNXf/zsuF6hbGxZU3vHOZ9z1XTyzA27lxdCrHn0IvYBB7VOcCxW0MhCEWl6iHaRE0KpQqkogAA4N/Ln62CkXp+327ZPbi9+t6+7Q86pOpeX25IawsL+Ozxe7aPcqCKEo/vOr7pR0vH4/M8jcnWX63cYZd68oeDz61nLx3nwtLFIMnmLvokomG/PuYnQw//dNVyxwy72mNhj7ReS4MM9UhfzNxhlPWM49unmjUnHN61c85K5Yl9M3ysfTyMj8UX1EgC5AVVJNuhlrokXK9Gg+LFC54Ya9eSk55cj2lWyuv5fKlSqYV6BkA7pHIskYhBdYZI2VTGqxVJlW/N+EEQDCyt2VQC5j1hhEUJFyOK9AK3BhgxSUhIWZ4SlShg9fvKpig++ezlVC8zupOhzjvPlfMKyjr0+3DpOiQMzdHBFPeonCeX+kAQ5ROaXy2JlyMLdf03BrCZ5JelK/NiEksZrlMcGLSXndNIXZIORq2QqTTgOxcAAPAFiiiEN/YYYOyhKam5sD/hjxUt2sAhKKgvl00O1K/JmHzmaXbbVC6HQrcPHGyhStxDqDX1HDhsqBXz1XCe38q9S3O/3rF+2J0f8QoZY8zBq6PsDMmoLyfOKByVbes/INAR0zx6zdXw7GHWQ7m+7syrvHxBjqgYthrhSCERemkoLGltlaorE878lkfEoiCIauT+phoiEQgY1mi1XV27Scc3/hZb0vTW+CHKYtLPBxcFWzLfPWoqfnL896g2z2XTfE30CQi4+vruvcmMKb9sm+mDvL98yubDZ/q6/DDC3vAdJ8Md7WIZTCCR0SgUhCCTSSi5UKJRf1LHqzgj9HBUq9uiqX6mBj0NAnlOTGKFgeu3dgxaTzsCVqnVMBKDRiHAtCIAAPAliuinls8xZmGVwnYl3Jmrvq9CVPKuHThfaDjl4E8DCMXRJ46Gb197yuzUkmAzKvbLCjeS6eRoSojjVyvlCqK7j5tOQklaRlW1yUBHPZIOspcGIrE4LArnPu/Er/O9zKl/bKUgyGQdlUyq1GggCMkZvzdy/Gd60v7k6J7LfJe5awfbsMgoCK5NjHsqs54eaEqj4PVGDPc9GF+QzW/ra22Ix/zxLnBYHAqhUiq0MAxplQqlFo3FIZDIT5HQY3sv13Jn7h9ia/TqwxxZVkxSjaHbPCs69fX0NLGkQ0NgkztlFPxKAQDAv7dW/1tK+cCwFQbTWQtqtR8a2epIPBWaShm1blnIsFHTVh+7cXiWefnNG2kNLdIvbjxMUlUlkBN1aWgMBtL19nZUV8UkFjDsnFm6ZBQShUIhIS2s1kJaiGhqZoSsLc5vl0rf1aGJYhsbYttEAoXyzyyJAIsSD2w7z/eYv3ysizGlsyGlVSiUsEqp6Z4HhuwEheydBSKRKDQCoYU1kFYLEUyNWTghv1Iil2uVVdV1cibLDIfHf+yqLUkHt4fVuc5ZOtbVRO9V802aEfOIz3YPtH6dh0KQulHQjKbr6+NxGPAjBQAAX6yIIohEAlIpk2tg+BPrcoQOgYCUy6Vq+JU2aIQ1dW1IhpEhDttZYyKpjvYmBFmbUKX+cmZmalTStsbipFPrtl8uY/Qb4UWlEiCkvreXVT2vmGLvYkLRxSAgIo1GRlVnpxTWNHQgHIcMcpA/Onn4TnalUFhdWiWUKnqFA0l35JqKqstbZNLPHjSEBfd3bw8rZffzowpLslOSktML6+UGHl6W6IJ7EXn8ppbiiNuprcauvmw93dc9FTo0KhlVk5NSUCOQIOyC+1rJMiLvFVY9j7iVIDD0DLKjUnEfueqDPTvCSlgBvrTWspzOqxaIOxQQJE6PeSQw9uhrSe/V7QA3FpUKDS1sdUkksKYWAAD4ckUUSWMb6apfPLiVkf/8WWpSdo1Y/pEvHVBGHENMY+qNqPQXvLL89OTsGrGK4WjP1mReO5HIq5cq2kvvHbv6uI1l7UAi4L+ErjwEAoGAi09P93P1GLkpjTLp5yNrB1rqd94a0tjR3pBk3aePjR65MwnDeY8OcUM/3hYSsuFWodBy9s4tIbTUjUNt9A0cRmyPLhP2HvNE2Xi5MasL85olks9UUbg+5sZDnqDk4b75E4f3DwoKCh6/NaqixXr21rVDkTfn9LE29lj9zG7hxvn+FsxeU52w3qNC3DCZOyeMW3/jhdB2zrY1QeLTU7y8FjxgTFs9v6+FwYcfFiyIuxXDqy9+uH/hpO6rjtvKKxNAbakxKc0mnoFmb2io6Gl2Kc3GwYhCRoPfKAAA+Dej/YvI805M9zTSQSMgBNZs+rkCQRvv8Dgbi3EH8mrbYa1W03x5loPJyF1Pq1s13SdohEl7xjnpE1EICELgzGacKxBI1ML0Q9/6ckg4HA6LRmL07EN2P6xokcPaLwRlR2tzk7BNqtS8cUvKwiMTXfwXXXzO73h1XKNoa2pslSrVL48oxc2NTW0yleYPwVDm/hoSMPNQemWL+m9zVCMT8uuaxArVu0Pf7VxHj3Mamaip5bWrf58X9dcW9QvZejtf8OW8AgAA4MsE8eHRyk9DIawo40vxBubGdALmkyaCKETV5XWtWl0jczaNgO5OhzVifllZrUhN5thYGpKx6C99QklHwaklM/bVDTtwaGmwFQP7+bcLCyJWTjtLWb77u4G2BvgvJ1yynAMz1vEGbl47yceMggLtXAAA8G/ua/w7RBTw2WjKL3/39br7mMm/nVo1xJr5JyUQbudXtGAMDalE3BfU5pALq/kKMouhS8ACCQUAAEBEAe9AnHLsQIHl+BB/GwYRSAUAAAAAEQUAAAAA4H8K8AEBAAAAAABARAEAAAAAACIKAAAAAAAQUQAAAAAAgIgCAAAAAAAAIgoAAAAAABBRAAAAAACAiAIAAAAAAEQUAAAAAAAgogAAAAAAAICIAgAAAAAARPQ/jLS5qrRSIFaq/29XKYbb826fi8yobZWB1ZI/HCjxi7sXop5UCqUwCAYAAPgwaBCCfxpF1qFZc2IdfjqxYbid4f/dtp/K52e2H8jvvyMI8YGtS5UVMaFHzt1JK5FQuF8tXjUryJZBRGkaM68eD738MKdOo+85Ydnq6X0tyS9OrT18v7Be8lKPETi33/cvs7ZidYlQCy8u/HxYRL3r2g3TfS0ZaHFh1JHfz93LbWP4TFu5Ypwnh4L9c2FQVsaeOHouOrVEousw4ruVs4PtmTooTdPTa6EnLt/PqtMw3ccv+356P2vd/NPrDt8r4EvgHvdcD/y81M6W3eVea3H8jfMXbvGdvl8/3as1avORewV14leWLr/+vJguz/p+L0+1deFwrhEBAV5hAADwT2Wi0rLkyOjHFW1yDQjln0fFf3Jxz7G7FU2Sfy71ESdfi251CfY3Yeh+aOe1ljqhjtPACaMdlY/2Ldl08VltmwZSlaal8vXchk8cYdUes2vJlvAXtRISy9LO0bkLLltT8ay8sb37HZAVXl4eMmrhsVyce4CHMU0HDdff3rJwyx2p17RZwdjkn9YfjCttkPfKhVX1GZd/Pn6nVND+CTffUicicgeOG8VVpx1Ytjksu6pVDalK09PqdF2GTRhuLYnfvXTr9bwasQ7Lws7R6aV7cFVuecPLV1RWdGXVuNELD2ejXPw9TGg6aF2Wpe0blo1tMi1r6Fh/xZOEjNoGMUhGAQDAB9H+BdQlR8ZZM3UMJ54sqJfAn3iStKEoI6NAIJGr31EgP/nsvsO3XzRJVG//SdNSmnozdM/mLSeT+S0yWPvfQZ68pb+N/+IbBfXvcVvTdHWeq8XIHY/LhZp/yon2e6v7DVx56Xldx6eFTvFk13B7x8mHnla19TpB9njXcAf3GSeyq9tfHVWXnpjmHvjd+Re1Eq224+kvIW4+Xx9IKG9Rdltomm8s9nGesCe1TKRRpGwfyh267l6BQPn65puvf+dlNfLH5OKmz7h5Rcbur7jcSb89KW/tdZbsye6vuB7Tj2dW9nbv1LdefReeya0Sa7XSrF8nePpN+SW2RKT4QxzUZV2Wp591WSZvHxE07+jjslaNFgAAAN7LX8pEUfoufp4O7gP8bHUJn9pBp0g/MGvSsqPp/HbVm0NzcFte2LKJU5duOnKvtEWq6fVHuDXn7LIh3t7DF+69HJdZ3ihV/0fTA1gY98uiNb+f+23V1MF+PoNmH4yvaJHV3/957fGEckFG2PIZX6+5WCAQS0tu7104KsAneOquOzyhrOtmxc+vbPlmsH/wtF37Ns6cubOioqHzqLz09t7vRndZRvOaZeqmh/sWrz4SfnH3sq+Xn8ipaXnVP6AselagNLa0Iet8Yn8yAk/Eo8m6ZDSqd96KNTZm4WUSkVz1anxXUxYTn092DXDVoxLh+ujT4dUOXy8a7Wqih0G8bqbBGk2nZkFIJAKFwSARPW8d3PBw/7rQ2JL6jIvfz5q6Oiyvrg2WFkfunj+qX+DQmXvuFTXL4Pe4p4NHk8kkFArV636wHGMWXt7RolCpXrsXl/BCx6mPC5WuAwvunLlRZTth4Wh3c+of3ldNWWynpZ8rja4DQThHrjVcU1rW1i4HI8gAAOCf6s7V7bPqUmLyheUBbArmD4qhknVIFWr4U+ogTXH4utH+A1Y+EKIRKMybPsnzTy6a+WMCaeqpRy/yMh/d2TnOkkH8j45TaZt5aTd3rT1Zru/bx6j5/t5d53PqlaZ+AzzNaCSO86BRYwY4MeRJO77bdFfmNWE4u+TE1t9iKhqksCBy88IN12qMA33QCadOhd/JbJPIIVj4cPvCzXelnuOHs0tObjsYU97Q3liUdu/g8hVH08V4XQLulY7BjQW8BoaxOYlA+JQHrmzICjt8tYAeMNjTkNY71pqGhmalLk2fgO0pWlP0ML6A4uLPpdMIWkFC7FOkuw+rPOHG6YsPnwskSi2EpPYZ4Efl3QlLLs65FZ4gsvYPNGfqvXxbkDoWvv09LOhkjvPAkWMGOBnotN7ZunDDTaHD8IGsstAV6049rhSp/uhe9oUjV/P1/AZ5GjF0ervX2ChUkqhMPLZHIjW82IQCslMfLpNO1AoS47IQLl5Glcm3zlx8mFsvVvRSaA0vrtPSj8ugd94xkmxlxRLVVIo6OsBIBQAA+PtFFBZcW9LXxYrDZrM53DlhvMaOV23/uqhNY/0s6CQimUwi0Sz7Ljj1RCDprAmVj/eO9XadeiirJuvMnEBnCw6bbRK0/kGFUIHQo5oHrTwXE7cnxEGfgOxVL8K14b8cfaI38aefFw/jMgjo//QsDyQGjUaoDUas3b7mhz07Z/nqNfAKZUh2wGAPcz2SkcuIcROHcJXJN++Lvb9dMWv2+i0zfZS5KbkiUdHdG/HN3Ok7Nq7deXj9eHsWHQshEDD/ztX7Eq8Zy2fOWb9llo/ieWquSKpGQe1izrdHLpz+caKdPqnn6aoFgiY1gUTFoD86kQwuv7yov9+AxfdpMzcs7G+l33tejYqXkl6OtXHn0nRfSqvqRUx8Mc01kMug4hGKgvxisSTt5Pajl88dXDt5xLS9D4ubFQjW6HXbJ9NTNo8aMPcua/aKyT7m9FctLpJVn0EeFjSSkdPQkAlDXZmtibfihfYTls2bt37vshG0oviYlqaWN9yruLJkYJ8Bi+7oTvthwUBbw94SrypOTS/DWLtx6Xo97uXHxPP0nP0dmXQCQlFUUNIuTj+189ilswd/mDJq2p4HvMaePFOVHxtfrOfsz+207OploepRkG2iZrlCBVJRAADwXv7s7Fyknt+3W3YPbq++t2/7gw6pulf3q7S2sIDPHr9n+ygHqijx+K7jm360dDw+z9OYbP3Vyh12qSd/OPjcevbScS4sXQySbO6iT8IgcQPmrYIgSBF/9U2V1FQ/uPdYbDHQqOLepSMarKFL0CBfCzoB8x/VUgQCAaEMORwiFouk0WloaWO7Rv1GpqN48YInxtq15KQn12OalfJ6fp1UDL0okXL6ueqTdFB4I7Y+DoeBEAhFfj5PjLVpfZaeLMA1KeT1fH6HkgJBGPt+A6ypFNwbIZJ0yLFEHUxX36yyqYxXK5Iq3+ooRRAMLK3ZVIJhwJwtu8yvHzt+eN3PBqGbxrkYvdRiWJRwKaKQ4r8lgM0kdx9S5sUklDHdp9nTqXgELGhsFktllktD98/yp2Vvm7jo9rVHY5yNyJrUqKR6w75fWfESUs5eSfEyZzizdN7ZelPwCso69H0c6To6GJqDvSk+uQKWdbzx3hkEzN68y+z6sdDjG/cZHt003o1D7u5whluSLkcVkv3W+bP1e9x7HpNURneZZM+k4RFwQ5d75guP7J8TyHy2a/LiiOuPRjtzmGZkBKR6HptURnOZaM94qaEQkkwiodVKmRoGmSgAAPj7RRTCG3sMMPbQlNRc2J/wxwoRbeAQFNSXyyYH6tdkTD7zNLttKpdDodsHDrZQJe4h1Jp6Dhw21Ir50QE6VWFBiaQ579y+OhtjikrAK1lv9PX+sB3jnQx0UP/ZfBSJ7hRTJAJC/OH2YUlrq1RdmXDmtzwiFgVBVCN3Gk4lbpfDBLIeGoWGoK6zEC8tVZWJZw4+J+I6LVluVAK2swwC6a2RzK5rImBYo9VqIQhuTArd9HtMceNbn4uiLCb+fGBxsBXT2G3QZLf+Psw5E3ZdvDnWj8O0YXZmjuInoYei2jyXTPM16UlP5TkxCZWGbrPt6FQcAtLKZTKY4hEcaErXRVN8fV3oV5/m17QV5h76OYk2cd+22b7oByumbD56pq/rDyMcWO/4dASWtItlGjyJjEGhIQSZTELJmyDNmyJG5LgOnOQa7KM/f9Kuyzef+5ro2+t33rY448Th2yLX+V/7mfekp/JnMUkV+q7f2HVqKKSVyWQaXbegADM6BUPx8XZmXMkoqBVLnLVknCInNqmc6TLNjknveSVhlUalRaLQSAT4xAUAAPwDIvqp5XOMWVilsF0Jd+aqn1sfweLWVhnS54e7oct8TKnojtzfZkzeG3pxfMDaYAsG9gus3ZBYHBaFc5934tf5XubUl42TtggCCpJ1SNTdeqLt+g+JxWJROLe5ob8u8O6xhIXX3909jyCTiWqZVKnRaCEkZ/yeiPF7PuIIiuPmaorNra6UyOVaCINozzi653Kd85w1Q2yNer6RkT2NSaxhuS20pndN09GSSES0qlHW7SaagMeiYI2iLiH2qdRqWqApnYLXGzHc97f4/Oy6tr42LALmj3ePw+JQCJVSCWthSKtUKGA0FkK865ZQbFdXU1xObaVEKochLFKcGbrvSo3D9H1D7Nmv3MuKTa42dJ1jzaB1puVaMomIUbfJ1Rq4yz1Cp3sqLQx3WSZVG7rOemnZjVjcoSYYkjFoNFBRAADw/lr7bynlA6NGGAwK0TVD8095h0KhEZBardJ0na/j0K+PlU5DRXGHXP4lPQMUCoWEtLBaC2mJpmZGyNri/Hbp6+VyiBaWHFxDBa9NJoM1TU0ipUrdedTM1AhVW5Lf1vHxhXVQbA4L2y4U9Jq2+jHkAoFQgdehYFFoCBYlHfwxjO8+f9kYF2NKT7tL+iQ2mc/26GfVlYdCEFLP2soI3Vhd3iGTa+GWhiYxksYyQCIgWKVSw10PEIFEIpAoJKJXawqJRKEQCG1nG0sLEUyMWThhfaVEJtcqq6v5coYhhMe/070GgVCBI+pi0WgE3JL8247zNc6zl4x1N+uZswRJM+Ie1Rm5BVq9VEYkxcrKCN1UUyGRyrRwS2OTGEEzNCTgsYhOSz7LNcCqt4ZqGhuEaBqTScBhQC0BAAD+KRFFEIkEpFIm18DwJ9bOCB0CASmXS9Xwp3ynQjIzNcTUlxWJ5V0zKWFxe4cGT9BBoVBf0kMg0mhkVHV2SmFNg9J+0EAH+aOTh+9kVwqF1aVVQqkC6TB0iDPi6fmDlyMu7DsaWSBo6xRRDHfoIAdFyqkjry2V7xu+Q9K5jiai2ooW6YcFF67NSsooqBLwC6J/ORRZTvUI5jKo2Ib7u7edLzXq50sVlWanJCWnF9aLFRpxWkyywNirrwWdin3ZXuIOGWTfkX4tMrei8um1qCcyax9ftstAHytM4YPI3LrGlpKI6LRWjosvh6b7ugdEp/Pma56lFlYJJAi7oEBreWbkvYLKvMhbCfUGHv1INFpv95K73bvz6+GIUl33fk5MGq7h4d6dYTwDf29aa3lOp3sFfLFcI06PfVTPcQ+0ZNBwPe4NGuggy7gR9ay84mn47Scdll6+hjRdlPhxXEo9u7dl18c3vFKhgbkthUQCK2MCAIB/TESRNLaRrvrFg1sZ+c+fpSZl14jl6o8kRUYcQ0xj6o2o9Be8svz05JendNTxcrMynpY0SBQdTSV52ZkvqloVai3WdehgW82TCyfjeYJWQeaZ0EgexjXYk6b7RS3GhvMeHeKGfrwtJGTDrVLm1B1bQmipG4fa6Bs4jNgeXS6So+xmbd880bj4xNb9aRhTFolGQiAQEIY7e8fmEFrqpi7L4duiy4Tv/aYRZe3lxqwuzGsWf2hRJLjlxa2d0/vZsjnccUerXZbuXDHAygDXEHszplhQ8nDfgonD+wcFBQWP2xJZ3MB/FJPSbOoVaE5/lftBWKdZm78PkoZN97YL2lHgMHfZFFcTA/dZW9YMRUfMD7Qxdl+dbT1//fwAC2avaU9Yr5Fj3bGZP02asC48r9lm9o9rgjvOTfP2nnef9vX384PMDfCv3cuP/OnboE73Qg5VcBdtXz7YhoVviL8VW8Qvjvl10eQRL92LKBLwU2JTm4w9As0ZPRLfqaLfblwVpLg8y88+6Mc8m1lLp7iZ0TFtaZ2W7gHmDBq2VySyckr1rOyN9CggEQUAAB/iL6/Hk3diuqeRDhoBIbBm088VCNp4h8fZWIw7kFfbDmu1mubLsxxMRu56Wt2z9ItGmLRnnJM+EYWAIATObMa5AoEEVjzePsCC1qu+QnOX3i5pkmu1WnHu2UX9zCl4DBqJxBkFrric19Ch/vJWvdAo2poaW6VKdfdKOkpxc2NTm0yleWthHUXmnhEO/oueFfJ7jrzP8i2UuQdCAmb+nlbR8pHgKdsbaqr4LVKl5k8uC6XpaK5vbleoei/1o5GJ+HVNYoXqPWs2Kdqbm1o7em5eIxM1t0iV7zRWtjfWVPNFrwL1+e5JmwXN7Qrlh1Yi0giuL+k/bktkHl8OgwVZAADAB0D8ydHKN1AIK8r4UryBuTGdgEF9So6oEFWX17VqdY3M2TQC+qPpMCzhl5TyO4gcGzOmDhb1vzvTQ1VyfMb4A/Jp1/bPdTLT+6xTYUHEqm/OkZf+tGiQrQEeTJb5ALJnv81aX9hv3erJfhZ6YIsGAADwAf4WEQX8w7Q93L3yEk+NUPIz41/gQ/ad2jTGyVDnc7vi4XZ+RQvawJCmgwMzTj+EXFjNV5BYDAoBiwLRAAAAQET/60hK4m5EJubWKijmXkNChriydfFgugsAAAAAEQUAAAAA4D8LSGgAAAAAAAAiCgAAAAAAEFEAAAAAAICIAgAAAAAARBQAAAAAAAAQUQAAAAAAgIgCAAAAAABEFAAAAAAAIKIAAAAAAAARBQAAAAAAAET034C0uaq0UiBWqv9vF1iE2/Nun4vMqG2VgYUe/6eAxfn3Lt5+XN7cAYNgAABARP9zKLIOzRoxbWdMWbPi/1K9lM/PbD+QytdoENj3b+Giacy8tH3uV4Ge7n2Gz/v1YYlI1lPvKvlppzfNmbwi9El1i6pXBd3y6NCyb5f+nlQhVCgzT6z4dtzQIT0MHbW2uJTfy/LwsplLf0usEHbGARYXRuz5bmyQf//xK0+n1bQptZCyMvbw2m+GBfgGDp+1Jzq/SarpdRle7MkNM0bO2p9U1qx8dbQ15ciKmUt/Syhvfllk5N5FY4MD+o9beSq1ulX5p8Otacq6smvB6L5eHn2Gzf3lXlGz9HUY0s9tmTdl+bG0SmHvMLSmHF05e+nBuNImhTLr9OrZ44f1CsOai4U1ba8sU4+tmr30QFxJk7zL56Lb+5aM6x/Qf9zyE48qWxRaSFkVf2z9tyMCfQOHzdwVmdfQoe59neK405tnjpq1L47XoHxd5PHv5yw9EFvcKFdmn1k7Z0Lvi68Oey5EyXKO/XI6vpgvBe0nAACI6JeHiv/k4p5jdyuaJP9cqiBOvhbd6hLsb8LQ/cD2XqrStFS+ntvwiSOs2mN2Ld4Snl8nhuG27LMrRg6YvP7whagUXlOH8rWXKt7VYyfCb8U+F0gUMKTLsrRzdO6Cy9ZUPCtvapf1CKGq+NqxEzduxr5oEMthCK6/vWXhljtSr2mzgrHJP60/GFfSIIda6kRE7sBxo7iq1P3LNl3Iqm7t0g9Z0ZWV40YvPPIM4+rvYUzTQb0u8vjJ8JuxzwViuQaCBdE/LtoSLfH8emZ//KPdGw7GFQt659yq+swr+0LvlNS3fzzIqrL09Dqy09Dxw2064vcu23ott6odhtueha0eM3jy2t/PR6YUNXbe8Cv7kusnToXfiMkTtMs1EJllYevo9DIMcHVeeaNUpkH2WIZ3WT6vF8tgCBbc3bFky+02l0nf9ic+3rfpt4dFfBnUyhfh7YPHjnLSPvl91ebzTypE3TIq511bM3HswkOZCG4fd1MGGdVT5I1Tp8LDY/L4ndEms8xtHV5enKOteV7eIJVpjYaM7qN8mpxZ/Sk3DwAAPoe/uOWwtCw5phDrHOhqQsGDrRf/bHdbW8rpfaH88UFDfE2Z/5SGpj5MhZznOzGoxA9tJYrvs+xwn+4aux9x3MzwtFzhMDsORaI2nLg/fFbMqh/zej9lWBR7NkpCp2PEXYVibEcu/mFkdypXdvLbxFLbIDyV9tIy7myUhEbDdltqW9Jj01psQ3ZNHufLsa9PW5D6tFrkb+M2Y5NbV7rnj6qbdeHJs+axzmZ62Oxjm/Y9MZx//MTMQAs9DOL1xePP3RbrUV8VmRabJrIZvW3SuD4mjg1pCx49rWkJsGERsC/N29POHzhROdSrn7cl62PRwvsuPujbHYZg3clzrj7ObR3uaE6XqA1C9l6ZnrBh57M3w5BwPrpdVw+D0OkKg82whWuGdYeh/Mzc1HLrvu50BumlZVh0uy4FC3VZalsfx6UJrYZvnDw+wMy5OeO75OxqUV97l2nrXbrC0BfbMDcsM7dxrJsljarIObF1fzp95qFDs4Ksaa96E2BR4oXoNjIZq+2+uPXQBauHvrz4ufnp5ZZ93QwZZB1WkC9hc1ZOfbCDOUUPtJwBgH9JJqopPbd2ztzJY38Ir2jq+NSOIlkjLzOzsKFDoel1sKM84cz2RZOHDwweNPrb9adTqtt72vlwa0H072tnjh3Sf9BX33x/JK60Ra75z6qlMO6XRWt+P/fbqqmD/XwGzT4YX9Eiq7//89rjCeWCjLDlM75ec7FAIJaW3N67cFSAT/DUXXd4wu4OVfHzK1u+GewfPG3Xvo0zZ+6sqGjoquJLb+/9bnSXZTSvWaZuerhv8eoj4Rd3L/t6+YmcmpZXkVIWPStQGlvakHXwn7gdN9bYmIWXSURytUqr23fO2jnDXA1JmDfzNd61C09ZHlwD+tvJraYsJj6f7OLvSqURX1qGPWW597LUarWwRgNrtVoIiUSgMBgU8rVjCAIRhybrklAoFCyIPhNeZTfpuzHuZr0UtLPI6xeeGrg5GjAory7+qkgEorNIJALx8gS4IebXDaExPH7GpTVzpn1/Pre2DZYWR+1ZMLpf4NBv99wpbJK+J0PDcjgsgkLaolapIHLAzO/nDPcwImPfDEPxjYtPmc4Ohky9t8NQHpeYT+T6ujIZXQqnKr5x6SnDye61ZWcY1GpYq4UgZI/Pr8OA7w4DGo1GwIK7525UWobMG+1pQevVH68qvnn5KcPRjqVPRb998YTEfIKDj4sBg4SAsPaOllBdWUVrGxgRBwD+PSKK0nfx83RwH+Bnq0vAfmLlrEg/MGvSsqPp/HbV61+z9NmFX04kVKPNuE5seeap5RPnH8+sbVNDkKbw6LwJiw8mNula2nM0uRd+mDxrf3K1SPkfrQi0zby0m7vWnizX9+1j1Hx/767zOfVKU78BnmY0Esd50KgxA5wY8qQd3226K/OaMJxdcmLrbzEVDVJYELl54YZrNcaBPuiEU6fC72S2SeQQLHy4feHmu1LP8cPZJSe3HYwpb2hvLEq7d3D5iqPpYrwuAfdKdODGAl4Dw9icRCB86gPXNDQ0K8k0fTz2PU8WFsaevdHiMdDNQI+MeFOCNEUP4wsoLv5cOpWA6La82eI+wN2A+tISQe0zwI/KuxOWXJxzKzxBZO0faM6kdku0siHrwpGrBdQ+A72MGISGhLgspJu3UUXizTMXH+YJJN2PHhbGnb8lcgt2NaC9KtKvvy+t+O6FR7yciBsJIqs+geb6ei9VH6lj4Rvsackgs50GjBg90NmQ1Hp323cbbjbZDhvIqjjx/bpT6WUi1TvD0NTYrCTpMTFY7PsaRvFht0TO/dwM6ZS3w8CLSywgOfpymYzOZBkWxYdFCJ36ubLoui991vPt70sve3ApuTAr4kZis7mPv4UBrftCysacS8euPSd59ffiMEnahqSELK2TB6smNfLshQfP+N2NTFiUcDGymRvgymL84eLF8UkFOvY+XP0uAUeSLS1ZrfxKkUSiAbUeAPCv6c7V7bPqUuKq99QuKplMhcThsWjkR/WV6L/h1qNN6K7UQfnsl3ETD8SnNEzmsil6thM2nh/EtjelEnFITcnRKaN2JieWz/Tg0OiY/2CLBYNGI9QGI9ZuXzPWroVZOSGUVyhDegYM9jD/ORznMmLcRC9T6YUD98XeS1fMGu8gxRaOv5iSKwqAntyIb+ZOP7lxgZ/+M8xX88OxEAIB8+9cvS/xWrx85gRHGb5o/MXUXBFXjYLaxZxvT5xfPdCaiXsVd7VA0KQmOFAx6E993ipeSno51nYYl6ZLeOfjUxZeDUtnBm91Y5Xef/vcFzHxxTTXiVwGrfNcZeG1sHRG8BZXVtl9LQR1iSCSNXrd9vx5320edaWNPvqXU5N9zDsfKFxxZdmMDReeqvpsPrlgoI0BQRmfX9wuaTq144WBXlthvtjmu0NHlg6yoZRfv5BO77fRjV0R+yq4rFE//Jg/f9HWMVdb6aN+PjnZx4L+SvhIln4D3S1+DUc6DRk7IdCWXn3uVpzQbsLmeXP89GxEYzYmxJaM4ZrSDN5WSlVx6uMylNUsLkVP591xKgq/mE71X+vGrknsubmeP+XHJfAo3FVcfXpnGFRF4Zce6/mvceXUJr32eeSaLfkLl+wcd01E+2p36OQ+1kwsBMGV17+fvfHsY5nPumPzB9sb6SAUGYUl7eK6s7vzDfTaeQXtVvMO/L5smLXoxuV0it8qNw4/5W2/CuITeboOS7n6zO7+e5SeHgXZ3tosVyi1EBoBaj4A4P84E4UF15b0dbHisNlsDndOGK/xVXeupi5q01g/CzqJSCaTSDTLvgtOPRFIOpv5ysd7x3q7Tj2UVZN1Zk6gswWHzTYJWv+gQqiAIBQG9bLzDUWhkFCd2ovoFF+kvrOHDZ2I6/QTZWDIxGMglVqr1f43U9HOW0QZcjhELBZJo9PQ0o52jfqNzEDx4gVPjNW05KQnxxU0K+X1/DqpOPdFiZRj76pP0kHhjdj6OBwOQiAU+fk8MVbd+iw9Oa6wSSGv5/M7lCoIwtj3G2BNpeDeqCclHXIsUQeDQnU+hqay5zmZT94mI69SKFN1pzOwKOFSRCEl8KsAIybpXa8I3Bxz9maT2/BBNka0t1szyryYhDKme6A9nYZHdFqeu9HkNmygLZvWqztWWZUalVRv2PerIBtFytkrKWVNHTAEIQ0CZm/etfEby5JjG36OzOO3ixqbxVKZxfTfzl+NSz2/2I4ffT25WlAZc+5mo8uQAX8o8nZSvUHgyCBbZer5Kymlje/9pENRXFTWwTRzoJNIGKq9vQm+sbJY2iH9w122JF2NKiD5DgvgGOgi352Nh91qdBo0wM6Y8XbCrnoel1RKc+rjwOzUUFgYd+FWg+PA/rYmjF4+q6rT7iTzGX7D+9mp0y9efVQi6EwUkfp+M9Zv3zjdpvLU5l9u5dS0q1sbhWKp1PzrX05fiUs5v8yp6f6N5PLnEWERAof+wXYmzD9c/EV8cinF0c+ByXjZBkKSSToYtVKm0oBMFAD4N2SiSD2/b7fsHtxefW/f9gcdUrWmV99sbWEBnz1+z/ZRDlRR4vFdxzf9aOl4fJ6nMdn6q5U77FJP/nDwufXspeNcWLoYJNncRf/lUJuyubyopCgr6uj+NNKgXYPZtLeqb01FZFR6O2dAPysKGfMfbkojkehOMUUiIMQf7gKWtLZK1ZUJZ37LI2JREEQ1cqfhVOJ2OUwg66FRaAjqOgvx0lJVmXjm4HMirtOS5UbtnkRDIJHRKNTb10TAsKar7QE3JoVu+j2muPGtwTGUxcSfDywOtmLiEeInoYei2jyXTPU10X9nHqouuhYW244PqIiPvqrOLBMKGhMjHxpRxnpwKARlTkxCpaHbbDs6DYeANIXXL8S24/tUxN++CmeVCQU6iZExRrruvF0/J9Em7ts22xf9YMWUzUfPBLr8MNKRReS4DpzkGuzDnD/xp8u3nvuOapPBFLfgAFM6BUPx8XVhXM0sqMysvRTbhvOtSIy+BmeVNtcTEyNj2LoexT/9kkQdv2fr7D7YmFVTNx87G+jyw1dco3fcANzRLpZr8CRyZ2aO0CWT0PLGDs0f1EWSefJolMh57td+5qx3TsfS8MIvxbWiPSuT7l7TZpc01xOSb8cY08Z6GlOJqmdxSRVM5yn2TDoeAWmKblyMbUF7VCXfu6bNLm6qxydFxXD0PMt+3p9IHrNj65xAQvyabzafOBfgYjjahUPkuAyY6BLkY7Do65+uR+T6mdjKZTDZtW+AGZOKoXh7OzOvPs5POlt4X0jwrnp0/zqUU9zIxyXfjjWhj/UyoRFVz+KTy+nc8XZMZs/tw2qNGkYi0UgEyEIBgH9Fdy7e2GOAsYempObC/oQ/NtLRBg5BQX25bHKgfk3G5DNPs9umcjkUun3gYAtV4h5CrannwGFDO+vrXjVSXeSmyRsiihqVrKBV/Z0NSTjkG23+lJ9X/BSPHrbnW28WDfelVgRILA6LwrnPO/HrfC9z6ssAtEUQUJCsQ6Lurua7ew2RWCwWhXObG/rrAu8eS1h4/d09CwgymaiWSZUajRZCcsbviRi/5/0+tGcc3XO5znnOmiG2LPK7p1yrhUqCsU5ZeuSldEglqmoWomOuky37BTuwKNDTmMQalttCazq1Mz1SiRQEjk7p46jLj7ssRejYcF0Lm+q0TKnVjEBTOgWvN2K472/x+dn81n62LEJXewrFdnMxxebUVMhRGB20SixTazpzSjSegEXCGnmzHM/RqXly+/KTziKbROjYG2QLm6r0TInltEAzhh6eOnyYz+9x+Tn81n52RgTMO6KMxSERKqUShmFIq1AoYTQWh0S+GTtxZui+K9V20/YOsedQ3h0GlUiJZxMbM6KvZEAqUXWjCBV3g2TZN9DeiIrIjk2u1neeYc2kd76sqhYFga3Dy4y+kvnSMv4m2cKmJjNTbDbJ34xJxdOGDvE5HJf3rK412JFD7A6DkYuzKT6rtrJd6kAkotVCeU8c8DgkrBTK8UY6jU/vXH3aWWSDCBl/i9x5cTYNmRP/qIrB/dpan/H6lyKWdKjxNDIWDfpyAYB/hYh+avkcYxZWKWxXwp256od+vijz2RefT20uTbtxYPPOFUvQumdWBpt3z7KAW9IPzF94iGe34tiaYTZM4hc2RR+JQqGQkBZWayEt0dTMCPm4OL9d6ghTX6biRAtLDi6xgtcm84E1TU0ipYreedTM1AiVXpLf1sF9Zfne2LI5LGyMUKBQqbQQ6kNPARYlHfwxjO++5PcxLsaU970d+MDlZwKXd59QcWbmhIu0Nb+u7sr6pImxyXy21zIrOrWr/sYHLD8d8Mpy1oSL1NX7vx9BvJeHUEm7Z6VCCCQSgUQhe78ccoFAqMDZULAMEysjdF51eYfUVasnaWwSI2mGJoPmn19I75I1uPLsnIkXdVfu+34E6UE+Ui3RaLqLRKAQnaLYK+vqCjJCC2s6myAEE44RPqW+UiKTaZU1NXw53dYEh8f37sh99PvOsBru3H1j3c2o7xt+x/svOeG/pPuEyvPzJl/QWbL7+7FuxkSENDkupc7QZa61fneDD99nSeitV5bzp1wgLt69ahQlbhlS3arpCUOXz70fjqKhQSTHmujisHQrSyPMs9oKSYenliZtam5HUDnDVu/cbcfsjANcFbbg6wuEBTtXhniY6iCkj+JTazsFXJ/xupWqaWwQoqi2TAIBC2o9AODvrMD/llI+MEKJwXRW2p84iInCM2z7z9+9Zqxh1aO4khZx15os8oLTy7/79bnp4kO/zPYzpmC+vIY0kUYjo6qzUwprGpT2gwY6yB+dPHwnu1IorC6tEkoVSIehQ5wRT88fvBxxYd/RyAJBm7ozsNyhgxwUKaeOvLZUvm+4C0nnOpqIaitapNIPfmwPC+7v3na+1KifL1VUmp2SlJxeWC9WfMYgmjgtJllg7NXXgk79QF2NMvH2tsIUPojMrWtsKYmITmvluPhyKOK85IyCKgG/4M6vhyPKKO5BTlR978EDHaRPwiOfVVQ+vR71WGbl42tIe0diiDL28rLCFD2MzK1raCmJvJPawnb24dB6NQOIVCoZVZubVlhVL4FsgwKsFVm37xVU5kXeSuAz3fvZ02mvRBRuePjzzjAe08+b1l7xLDUpOb2gXSL/jAcqeRyXUm/kFmDJoOE+EAZjT08rbHFMVG6NQFR6+26q0JDrbUzteJ6SmV9Rzy+8d/BoBI/o3NdJn07hDhzgqMi6FZVTWv70RvQTibmHL4uh984EWfIkPrXO0MXfisl4fXG4sbhMyDS1ppDJ4CtRAOBfJKIIIpGAVMrkGhj+xKk+CB0CASmXS9Xwe6tzpFar1SpkMrizia58fnzjLyk6E3f/PMffVA/7RXZF4bxHh7ihH28LCdlwq5Q5dceWEFrqxqE2+gYOI7ZHl4vkKLtZ2zdPNC4+sXV/GsaURaKREAgEhOHO3rE5hJa6qcty+LboMqH8fQ8BZe3lxqwuzGsWf2hRJFgQezOmWFDycN+CicP7BwUFBY/fGlXS+OlrxbWlxKQ0m3oFmtP1Pjh5GuM8c8uaoeiI+YE2xu6rs63nr58fYIEpjfzp2yBbNocbcrjSadH25YOsWUQsd9bG74NkF2f62AVty7efs3yymykN/c4iv920Zijm9oK+thz377Os5q6bH2il36vfH+s1cow7LnvP5AnrruU2Wc/asjpYFjbdx3veXcrklfOCrAxeDZ7CgvjI2CI+L+bA4ikjusIwbnNBcf2nP8+2tLjUJrabvzmD9sG0D+M0fcPq4fh7i4PtjN1WPjGduXZ+Pyt8efSe2QMcOBzHMQeLbedtXT7EgaODwDhOX7eyvzp8XoBD0JYc8+mLp3hYMN4Z4/b0+LRGIxd/c+bryckQ3JL9rFTXwtaIqocBlR4A8Lei/WtIH672NrEeuvVm2rOclMSs6naZvPjwOBuLcQfyatthrVbTfHmWg8nIXU+rWzVdJ6irT0+1YzuE7L71pLD0RVpS5ynK5pwH0cnPSgWtYmFVxuVV/c0YDnMuFTZIYa34/ve+5g5jd1y9m5T+uIsn2cUNHQq19gtDo2hramyVKtVw1z+V4ubGpjaZSgO/aabI3DPCwX/Rs0J+z5H3Wb6FMvdASMDM39MqWv41odPIRPy6JrFC9dpzZXtjTTVf9CoMPZbS5vrmdoVK88lFvttSo2xvbmrt6CldI2tpbpUqVfD/dRjq+U3t8l4+K8WNtdV8UYfizTBoNVKhoLldrtR87iUEN5YPmrD5Rk6tDNYCAIC/k78qolp53onpnkY6aASEwJpNP1cgaON9UES1GmHSnnFO+kQUAoIQOLMZ5woELVm/T3RlEbsH6xAYOjdk573SFplGq1UXHRpn+8b8IwipP+7Y8zrx/2ZloCw+NsXZbuzevIqWz66r628tHzhmU1ShAFSk/2PInv0+dcTCQ/HFQhUIBgDwN4P4Oz65VAgryvhSvIG5MZ2AQX1Kj6tCVF1e16rVNTJn0whoJARBsFzEr6yqF6PoZlbGdCIGjNz07h98uHvlJZ4aoeRnxr/Ah+w7tWmMk6HO54YIbudXtKANDGk6ODBD838JuaiGL9cxpFO6PoYCAAB/J4j/6roF/1NISuJuRCbm1ioo5l5DQoa4snXxoJEBAAAAQEQBAAAAAPjPAhIaAAAAAACAiAIAAAAAAEQUAAAAAAAgogAAAAAAABEFAAAAAAAARBQAAAAAACCiAAAAAAAAEQUAAAAAAIgoAAAAAABARAEAAAAAAAARBQAAAAAAiOh/GGlzVWmlQKxU/9+uUgy3590+F5lR2yoDqyUDAP80Wknhw6vRaSUNH9oHH/AFgAYh+KdRZB2aNSfW4acTG4bbGeL/z/YgUz4/s/1Afv8dQQjsB30Q5988dOjc/VwJe9CCHxYOczAkiDKvHg+9/DCnTqPvOWH56umBlnSCtjHzauiJyw+yuw4uWz29ryWdoK6ICT16/k5asUSXO3LRqtnBtgwiSlkRe+Louei0Eomu48hFK2cH2zGImqcn1h66X1gveSnnCJzrwV+WWenxr4WGXr6fXadheoxf9v2MflZ0AhKSlz88dexMRLrQcOjidfMG2jKJmsrYk0fPR6cWi3UdRny3cnawPVOnZ48vuLU4Pvx8WATfZfX6b/ysmGhx4e1jh87dzW2leU1duXycp4keDqEquPLjr7dyqlvVEARhnKb9tHyUI4fStSNfa8rxbacLTactnepvUnVh/eF7+XViuMdLl292LmQ9OXzh/lsHl450NKi7vu3Azeyq7iK5U3ctH801JncURR8/dO7Osxaa55Tly8d7m1JxCHlF7JnjZ26lNekPWvjDvMH2BjooCBYX3Tl++OzdnBaq55Tly8Z7m1Fxf/pNkRRGHTt67m5Wq0Hw7FULRrpwdJFN2TdOnbx0L7NGSXcLWbxyRrCtvg7U3HXw7hsHNVUJZ0LPRSUXtZPshs5fPnsg15AEVyWcDT0flVzY9vqYNvvspqN3cqvbX4XBee+uxY6GwpunTl26m1GtpLuOXbRyRn+7zruD5JVx50PP3kgVMPrPXz13qJMRSVOVeO7E+cjkwjYd26Hzls0a5MQioXueYElSxMULt6ptF33/TT97FlbCu3vq6NnbWc0Ut0lLlk3ws6DjEeqi8J9+u/mkXKjSQhDaYfK2JaPdLGhdKYG2Nf3U7jPP9UMWfN3Psv76j8eisyvbXrnpNGXHPJPcc1duv3Fw8vZFox0V8bt/v/G47GWRk7YuGeNhQZUW3zt19Nztp41kt4lLlkzoY8XAIyBFVULYybM3HvGpQXO/nzvMhY1/HvbjseisitZXRXInbVroK889fTq3dcW8sd5mOmDzwS8W1NatW/9KklWWfDetHmfA0MWjQVL7bjTViRejypkDR/W1ZpDeuZGniv/kypHoWrYpi6KD/Yd+bOKE37fH0UPmDHMzobz/GnDFlZWzdj7WGxDij8k6dzJR4+LH1a+5cyZVaeHpbQ3nRZy5XmoY6G3LIvBunExRmnt622jzIk6Hdx8k8VMeluvYudugCqPOXM6n+PraGelhqh/FlBM7DxbdPnPpBcXXz85IV9VY3qzE69INDAyYaH7Goxr6uDH9GIKY0ykKM09va+2LyLPhJQb+3jZG6NxfFyw+VcR0tVFkXr1RRPf1tmWR+Wkx5QRbNxt0cfTZSy/IPj72bCoeCUGyoitrZsz/9ZHCInDIkCAPCypOeGfj7C0JhAFTR5vXRRyJEJj7OJvrk2Vpp3ZdLyVb2NhYGLNYls6+zmbUrsireGFbNx6L4JH7fuVvq48UVjQrcWRal5f1mSk11MCRfc2QIrHq1cGnqTXUgJH9nNjIrNO7r5fqmHcXaeHs62yqJ364ec6WeGzwlNEW9VHHIvgmXk6WJN6RxUtP5Os5Wauyw28VUjw9bdmU1ntb5m6JxwS9MvR0sjTQxfQ8JlX90xsnoitoLAMa+WOtMLgq/If5O5OxfUYGEF9cOZsgtfF0NKNU3D6b2sF28bRBFt09H15E9fa05eiURJ1L6TB686BeQ3pcGc7C2QZXfv/8lTy8q5e9CbXxSXwZ1vzNY3BjZbMSQ+oKA0aQnV5NHj68L6vl0flUiaGzhy2adzcsvEjP093OmK7JPrRsRWiujr0V/DwiIl/H1c3OhNr4OL4MY+5kjat4EHYlF+fsYW/KICIheXH4xrmL9sW2sX0HDQ32sGQQWx5sW7j1Iew3fpSt8P6JyGqWK9eKRZE9Ob/vehGaY2lraWLEsuB6O5vTyV3tDnXJlZ1bj4Tn4XyH+juwsS2VzQq0DtXAwEAf05DzuIbkNSzACiOWvHnQe2hfV73S6/uuF6LYFrZWpkYsCydvJzOaNGHnoh/vq73HjbZteXAqssrA2dHKCPPi6MqVoVk4G0soPyoqH891sTfGi6ub5S+LxDY+e1yt4zmoX0AApzEy/AXGwd7ahEEAKvrldjr8BdQlR8ZZM3UMJ54sqJfAn3iStKEoI6NAIJGr31ViS2nqzdA9m7ecTOa3yt4sUlkRc/ynH4/HVLdI4f/Svufy5C39bfwX3yiol73bb03T1XmuFiN3PC4Xav4pJ9rvre43cOWl53UdH4qdMnvfKG7Aost5dR2wOHZDsF2/5TfzX7ste7xruL37jBPPq9tfnyN7/NNwh7cOKp78NMLBcdLvGRWtcO+DIx25bx3UqktPfuMR+N25vBpJrzKf7B7p6D79eG5FZdTKQO6QddEFDdKqsDnejqN2JJQ0q14VmfH/2DvvuCiu9f/PzPZGWdgCSy8qSFUBEbGhgkYTYzdqYo9GE5N4rbHH3kvU2Av2LvZCVUEQlA5Lr8su23ud2d9rl6pRr7k3+X2T3Hm//CN5OPOcZ845nM95zpwZtowMCJiwL7NKBpvNmpzdY3v2nrQrsUKib6kBFl37NjJ43Jan5WJY/3zj8KC4ZXcLm/SGogMTw8auf1wiML7ZEeIHK0aOGhjo2Ovbc6/qOreUqfLEtPB+807k1CqRzsbpEf3nHc+uUSKGooNfRIxd/7CY3+4SFt1YGBUyblMqVwTr0zePDBm2JCG38PrigcFxS24WNGlqz8/tE/jpukclAv6N7/uGjtuUwhWZLAVDhy25ldeo7xTW9YVR3T5Z9aRYYPp3/WzI2zuhV7+5J7NqVIgqed2w4AELzud0uhXty51jQntN2f+8olMnvMuoz945tkfwuB1pXAn8IZvZbKo6PSdq4NeHsyrlnXrw5a6xPcIm73tRLpHcXT6kR9yiK68b1HUXv+0fMnL13QK+ocPnrvE9g8duTykVw2bN61+m9ImasPlusVDXEgkiTlg8qNfYdY8KBSb9i+1jwoYvuppTrzOUHJkWPX51Qm6j4c37RyRP1o4bOyiAGfbNifRKZecurI6f22/QnEPPK+RIZ+O8/oPmHHxWLjeUHJ3Rb/yqm68b2l0i4ttLB4eNXXM/n2/SZ+4cHzH8x0tZNU33Vw4Li/vhQnadqv7y94N6jPwpIa/J0Mnl2W8GxMz+Ja1Mhpi16dvHx87ZnVgsgs0o/1T+q/QRwwyO7OXfIyayqw3pYzMofcaeGRMWHsrgKYxvPppDZK9PLYwNCxv+zbYLidlVQq2x86MERJSy+Ztvlq/ddP4FT6H/mz5kQMSJO+cv2X9636LJQyMjhszcm1Qt1TY92L70cHIVPyv++6++WHKumK9EdOW3t837tG/EwMmb7nLFWsvdKgsurpk6NGrglE07Vk6fvrG6WmBxqKu4ve2bz6wF73BFWpPw0Y4Fiw9ePbdl4RffH31dL4Xb93JLc4sNrt5daJQPZTKIuKSsAWa7e1FJRJAcHNSVwq8skqjVbc2Nd3V1ImpVEqPR1HER3tXF+W0jSCITsDQbKhaDAToZKb81wpVPkoqowVEh9nRyJ58uLk4knVpqUr/KyRM7dO3pZmtD5PQI9cLWlRRLlZq2gEAihYil0agYDAZE+HdOXq3rNmHeZ6Ee9p1GoxkxmSyzJgBBIAaPg0AQNPF4QiqTbUskYt7YEOBePfeSGezPZti99ZQDrkpMLiIHRoYwHDq25eCqxJQickDvEIYjBTQ18ZopDJYdkdTJpRkAEBPcUjkIYnA4yFj8Ol9k79PD3c6WyAkJ8cI3cEukCovGtUQJWApCOBwEtv1iIs2J+1YeeVTc8PLC8tlT/nXqVZ0M0ZTf3v7NqAHRcV9tvl0kUMOdelDCrWgwMFw8aRQSSAoM6EIT1ZaIlar2IngOh00yaGR6Y6dfv3cZQaKlC2lULBYDfsgGwNXJaYWEbuHBjkwa0NmlE9mglRkNqqLcAqGNZ4gH3Z7kHBzkRWwqLxXL258TQi0+KVgs1ix4cPZGlcfImaPCfR3bd7Otywi4pW2glrYBQVMTX0RyYNqRyW/0IGAqv3kp27arrzOb/nYX1qSkFeG69ApmM2kdXViT+rTFyKLBfL6QRGfYkSmYN1MMuKUHQQiAcFgMZCrJKxJS3YM86HSyU1CgF0lQWSqStu3uA3BN2rMirE/PYCe2DQgQuvl5Q/zaKolMjR5E+Mfy3+3B2vRZdD4l7ez3fTm2uN/MyEatWqM3IR83eHRFR+dPX5dMm3ryWWF+9rM7G0d7OZLbB7ux6vzSJZd1DCcimfC3TvtF3PTrm5Yeq2L27uMserBt05nXTQb3yJheHnSqS9CQT0fFBDLIysfrv1l1Txs2bjin/OjafY+rBeqmW6vn/XS53jU6Apt8/PjVuy/lKh2AiB/9PG/1PU2vscM55cfW731cJVA0l6bf3/v9D4cylEQbEqF9PxBpLuYKHF09qSTSBzvcZLLkUYB1QoCotjSCWSWVGUxtJ6JggUBksKEzcfhOvQ0Lmt80GgQ58b9cKqH3HRLm5NimORbjgUvF9n06GwEALn2cVGwTHBXgQO+83QU3N4sNNHsGpBQ0ygBHZycyEQ9iXF2dSFpxo0yvg1tcvjp78FKRXeSQXs6OFDM/OSkbDA5zqkm9cfLco3y+0oAAkH3koN4O5ffPppW+unktWewd2deTaQ8JeXylsangSXI2t1ndphuIOPHMDUnwgBA23QZ4c5UGc58kF9MCIgMcHTrGJMxNTCmmdu8dwHAkg4iQx1cZ+QVPkl+WNqsMVpeQfe+BEQ4VD849Lc25eS1F5BkR5YHTNMvNdCc2mUQAMa4ubJJOwpMZiGGDejtUPjyfVtJW0JtNx7f+glI8wwf29GbacgIHfvLZkGAnmvzBhgUrr/J9hsY4151auuLYswqRsVMPWrW4pQcpNjQioJLJ9cb2M22wUCg2UOwciYRO64zfGA3NuRcPXy4g9xzYy4VFe7/Ncm1ZUmoRqVt4AIvR+bGfxaWeYuuIx6kbeTKzvZOT9ZZdOGyyXtok02rhNp9HLueTegwIc2NTmp+mvoL9Q5x5L+6cPvvgdYNchwCgXXj/CEZt0qW0oqxbN1ObXXtE+jg7YkR8gcLQVJic8rKkydLRrb9ekpTzCcKuvYNcWPbgW11YnpxWTOjSK4DFpHbEXp6SVkTw7RXAZlHNQr5AqW8qSknJKm5qXaaDdmH9whl1KVfSCrNuJaQKOKGRPk4YUZMUtmOzKWQiiOE4syl6GV+m1bauIOGK1KdFeJ+eAU4sSz0gzcuLreDXixVKEyo2qIi+JZH8y9/2C/Zx4XA4LgGz4rnN7SstuDFh1eeRXg5UMo1GpdK9+809nslXWX7NDS+2fR4eMvmXnPqck7Oig7xcOBy3ASseVov1cMPVnYcy7cZv2TE/rrsDCfO2wB7/aWe+79yVk3u62OH/xo8WIBwWC5pYnyz9ecmyrRtn9LYTcEu0EKfv0J6edlTn4E/GjI8NclA8ufRAGT7thxkzV6yZHmHIe5Ynyrt+NUkU8OWGlUs3Hlgx1s/JAQ+AIMK7e+mBKuyr76fPWrFmRoS+4HmeRGPCAAqly7SDZ0+sG9+NSW3rXROfLzSRqPY47AcPkkFMHy8mUFtaKldrzDCvoUmlR7B4CITA1kztWUYVvkuPABsbcqf07XlGZbsRqb64ICYyZsED+69+mhvjy7IqI1J98dvBfWIW3Lf7ckW7seXiwsdJZfSQvgGOb2iosez5i0qsb49AGoioYByejMVYUh8ciUQEdWqVEYbh6kvfDYmKmX/XZsqyuYO7ssmgvqS4TKnKOLHx1wun9i6bNHLytodlQh3o9OmytZMYGes+HzzrNvOrhRN6ezviAR3FI8xVk3ly2aio6Imb7nCFWjNgLL1yLoMePSSUwya//ci66ElymV1AVADDoVPoRYnJXNuAPgFMi9Gsp3j2ctFknVo+um/0xE23S5q1ZgByGrl07SRm5s+jh8xKcJj87cQ+PgS92ojDk3AYS89gSSQipNOoDGbGiCVrJrKyNo6xFlwwoY8vA99WEcWrd0xPb0eac8DQUeNiQ1mKtJvJIt9RC+Z8/dO2hSOYVWlJYr6ovQcZnh5MqKGcK1WqEJjP4yt1MAbX3oOAsTwjsxL0DApg2HdoyZtGpObqouH9YubewI/5cU5sgItFGpGaq//65C1b67Ulyalcql9E9zc11FjxIqsC9Ajsbm9vVqmNWMstt3QhkQDpNWqjyQTXXls8sv/gr69jP/9hTlyAC8VYVlIhU6Sf2Xbk3PE9P00dNXXT7QKeFmR/8sPKSZy8HZPiZl4lj5k7MbobkwDoyW49XHSvz68e17//+PXXC/gaxDIUb156Qe3ZL9TdhdqyD9CxtihJSeOSu4YHOLE6wjSVWoy+Yd3ZLApoNpDdQ130uRfWjB/Qb8L6a3lNagSA2MN/+OkL18Ldk4fNvEwYNWdCP3+WQa0xYnFEHAbbej8Yg0ZtbF2mmEpTn5aSfHu1aigAQHa2thiVXKTVGdBUFBXRt66zi5y2Zsvu/as/8wC0ao0J7hgimoaSYh5n7NZTtx7fObEwSHR91br4Qr7cBGB9R/64YevCOC9Hr0Fz12zde+DAgV9WTQhmUqH6h/deqLyCOVX3zh/ce/hCMlesbV87G0pO/nyU1/eHpeOCnW3+5oeJQRAEMGwXFzIeD9Ed6FiNWgGb4De3uwsLuUo8LH2dkZZYLDLomniNkrzXZRoXvxAmlYIhOnOYBAIBAEF9URFXiTfJcjPSEkuEel0Tj6c2GAEA59c/xtfe9s3DnSq1Dk+m4KwbqQZhZcHrl5lvk5VfI4Z7jPsiCkrZsuDHb6eNnr0vrUZJtKfhsJiWncLk8zdLbKNH9OUwaO2bjZKUCzdLbKPajBAraubqTSuneJYdXL49oYBn3bWzGFdtXDnFq+zXFTvajNauzX+cUukY0tffgd5plxmRply4VUyL+iSKw6CYETNkmX4tP4YwGAg0m1tdzli1ceVU74rDK3fcym9UmuTNIqVG6zl17+lLic/OfOvXdOdKWq1Apa99fieVx+w7YkBXY3r8pWcVzSoE02XMyl/OP8jMz4qf6co9ufdsTm1z0+MzN5qDh8Z0dXHEvbVMMxYkplbSg6L8HTtraEFiagU9sI9/i7BifEev2N/icpZ7+al953JqhAbAWJd+J5XHiPqkfzdTxrlLT8ub5EYEgKC2+4EsWmpGALOhNv1uGs8xcri14OWnZXwV/L7HIWXcKqWDu78jlYaz79bNjSSqNWtUHduoYWPGRxFf7F20aMG0sbN3P+FKCHY0PA7T2rJPr9wuIvaKjXJzsm3vwreMEDPyqxU/r/yqW92pdTuv59TKYavty+Vv2VqXEklpFbb+Ef4sBrlzDz67cqeQ2GNIlLuTDQAjZhDCAKDl5yCEgUDAjJgBM8ToPXXZzyun+TWcWb/renaNTCIUK9Qaj4nbjl5IfBb/Q6j0yY20yga5vi7zflqDXVhsf38g++KVtFKeEsb4fLZkd/z9F3mZ5+Z2qT9/8OyLcoFOnHIhock3eoC/J+vtlbaxKOVZBa1buD+b2Wl7qyjleTm1a6sR4/3pv3ZZXGad/6Zbw8VD5zLK+XqzsS7zQVq9ba+h/buDry5fTStulBlh2HI/LesSEIKsQ9Lc5jL1WTmlS4sst8yTVCoFDxt1RtiEiug/lf9YlYiuPWNce8Ll9Wd3Jf9WibEs/wED+gVwaNHM+qyJJ7NfyScHuNg6+EUP9TKmbCU1uPcaPCzOh9E6depSi8qVovxTO3hdXGyMfG75CufJu+M3jAlkUoDK81uP14cvXD7Im0Gu+WesWyCsRUwhsGVeeSvDV8lkGlNN8sl9+WQ8BgDsnXvYIVqVDiHR7LAYLABYrwJbCxprUk7uLSATLAWdQu1J1vSFRKW98dixpU4QQWCz2QwASHPqkVX7H5c1v/W6KMZr/PY9CwZO2XWGeelaagXQbZCbiZ/h18WGZJ13lJlHfkmQ9/p2cm83ZruWtBh7zp/SbiS7hg6ZGDoogjF73ObzNz7v48bowsCTXUOGTAwZFMGcM35TuxEAdK8fp1SzQmd0c6B3knxl1tGDCdLQeV9EerCoIiIRMmi1MGJZpME6rQ4hkCgYCAOSXUIGTwgZGMH8esKmC9cLert4abWwTejAvu6OtjjbiIhgx0tZxQ2y4oJDO1PtxmxeNysK/3jRlDWHT/UNXvZpoLM1WKL7iFnjrz7ZV1oozHod/0SGi6hJuXfZ/KpcyCenJjx2oX/ey8WebHydmFrNCJrczdGhQ+l1LcZJfgyHNx4yE90/mTnuauK+0gKJIqw2afvOVJvPN66d1ZeYtGTq6qOn+yxiIZDBpIMRy0oA1un0CJ5IBnm3duxKoY3asHZWNClpydQ1x05HBTuNCnEhv2N8qBVKLUKkWJc2II1KxeoaAVOnrUKM98Qtx5hXbyRzjT4xHmbRC09fOyrF+huqyj55+LbQf+qSPj6c9nzst0YyJ2jQuKD+4axvp2y+djO3t6dTsNNbtj6eToFOBADQ5SU9raL7j/JjMTrtJKhyTh2+3dxt8o9Rvi5UbD2RiDGqLV1ouWW9To/giGTLUCZzggaODeoXxlr45eZrt3IjRst1CC0ouo8ni4637RUWyLr0vLRBUlxzYU8SMe6nVV8Psn26csaaU2dSgp3H9nK3xkpwi5s29mbSnooikcjx5aUkodmv7vmjq5j8Uj4P8/zeE0/m6DAPR6opP+VZpW234X7sjqEL6K3GrvP92KzO7Uxwjf1y7M3EPZXFImlUffrevUm4IctWzh1s93z1rDVnziYHTDQRsCa5Dobb7ge23o/lF05fkPq80qbLvE4uzSaTCQExWEz7ZgAKmon+XpF2cXXCGzQKAwK/dyWGKOVyLRSx4v6zpy/S03MLkjYPMN47cv41X6YTPTx4PM9rzNT+Ho6U/4lXaCA8AY8h9Jhz9Nqj9BcWnh6c1cOLgQO0apXJ+nsLmK3/IDwejyGEzj5yva3goZmBzjbvbiSQRiObtBoDDJsByGXs1pupr4pL3qLw7rphvgwiZNM1bvaKzVsXR2qqmpgB4V3s7QggoMg6tPVCY9BXs2O7Otu0CbQi69dtFxsDp87qbGyZyV16hLjjxXXVOo2ukzE0xJ3QYdTmPE6tdwqN9nHsdA5ImXV4+4X67lNmxnbj2GAgBptBguUiud4IA4hQKNET6Ex7AqGtMgwnxOKyoUalxVLIOKNe29JGWBIRDyGwnpeSmKP2Co/2cLQjug8fFsEQl73myRTtmgPa29ngAdioF+tILpTmzNsXjx8+m1jaXJ+XeO3+i2qxBga0rxJT61hBfX0ZDh1KbzUyg6LeMLa7tMUDiBE2NqYm56g8w/p6ONoT3eJiI1jS8nwjnoBDFGK5zmACEJFIosPbM22lmU9fqTzCojwYLQWZ0orcRqnc9O7xgcdjQKNRj1iyOYPBgGDxAPRG40M038HTl2zcsqQv3NDs0DW0S8vzZmX28d2Xqr3HfhUX4G7XdsE7jS1N6xwc5E6S8WqVai3ytk2j1rYsJZKe1jr69+nCYnQsJZQ5J3ZfqvYa/WVcoIcdBoAcWY5ks1JiuWUzIhZJdTg7hj2J0PauF4YTFOhOVvBqtQBIxsIGnckySAEskYSHEETf9DTllcIlpI8X24HkOmRIuJOyOr9BIms/AAXZ2dAIoNkI68V6IpskfPXgyonDZx8XNtXmJ994kFHRrDKZdbkpz2rs/Xp3YXcKU5eb8rzGrlvvLmzmW2ftIDsbGyKIGGET7/nT13JOcKQX25HkOmRwuLO6Jp8H4mxJZpVErtVb7kcs0+FsHe1IRBxocfms2q5LRBd2xxMLs1KlNhGIVDwOfSMfFdEP8oGdChwOA1pPuX0gBgwGAwImoxG2lqL49+/jQ26qKlPrBMm3k2p4qXunDArz79Il6Juz3MaUPRM+XXKhVPAPOu1muX8IMCMmM2AGyO4ezlBDWZFC034Glezl7UIQVHPlWi0CC4USg/UcLNnD3RnTUF4kV2v+7WFlDMfFCa8Q8984k/nBR951N/acKXIZODyU7UgyS1L3rovn9fh64ahgV9u2V+IlqXvXx/NCZ3/3ebCb7dszhI7Pl+gJFFtM54ewbxo1WY+f8jg9+/k4tn9XAJGm7d0Q3xA869vPQ92tJ2TJ3fy8Sc3VRVKVGlZzudV6jpe/DbVjPaUT8MV6AtkGj3P09XHGCeur1VqtGZE2C5UQ3YkJgQBiNJhaxhUIQSAEvTHg1cXcajXd2cNx8NLjN5OysrOzs7NurRnZPWzC+tO7FvT3ccRrXiY+bWSHRPsyOmXLLcbgvr5M+m8+iaAp4Var7J08aCSMyQAbDS3nSgHrBiAEkbp19SKLaoqlShWsKSur0Tl7+tni8SbYaOwoCEEQ1LLh27aNgMGAINCyk0Byc3UiSvm1Kq3GbKyv52npTIBIekcP1t8+dLbAMXJIT1c2BUSkzw5uia/pOmXe6DBvOq591/W3xo59Y4FAosORbPDYjneb22zYlh7MTnnewAiI8mU5dvTg80Nb4qt9v5g7OtzHwboxTurSxYsiqSuRKBSIpry8Rsty72ZP6ziZpGtulmhxJBresauXM17Cq1GqNGazTChSgnZMJgYDIkZj2+lc0NqDnZtczS2vVdgw3W0cYr755cqTli5M+HlsaOS4lUd3fDfUn03Q5qSk1zv49/btrKGanNSMOrr/OzTU4rJGYcN0s6HgjAaTwdhyONe6c2upnNTF15MqbSiVyOWIpqKiRs1w60q3tQEBzavU9Hp7iyyzOlzCIqEEtHVgkEkENBNFt3PfneKQySTIoNHBloUx8DHDBKSQSJBOpzEhHVM/1cOdjXtaWarU9UQAKoQoFWqYaE/FQLTwGZt/iZG1Hn0z5p5edVLYZ86cMeFsG8I/qBPIdDoN8+zVs5J6T1b37rFD/E/tO3bgrs+yMd2xUhXFmd0tLjboxK4zey/YDIUf3SrmyyOtX8WJG+J/et/xg3d9l41tKch634M0yCGgu5sko1pqUWYi5kPqqRXXFj2/8eu2A2k20/ZN6unmgOXf37L+TIXzqE/tJRWvnlWBeGZokLs6bevP8RVOn46wl1a8bjPKS1/ySB5udurso7/crLSLmRtItyc05KTxSO5uduqcowduVtoO+jqQbk8CAGXG46d81z7RXg52rWdoEP7DrRviy9gjFtLlla+fVYN4RmigR8ywiOMbbpy4794ou3Jf4DlmoBfTVvAqjUd0c7PT5Bw7cLPCZsCsQAbdxnHoYP9zx67eeh1iw0tNyNR4j+3NCbGL8Dn/6+OEvGHedHHy3XSJc98IVztlwfNGiqszRfL84Nbz5ezR84KdGe95FV714smzJk6v+V6OdMLbxm+8241Iw+uMZrKLE0WafmjrBS7zs9khzk5dsL188IeeJOQO83aQpt57Lmb3Dvfo6f9J+P2NCafuufM1t+7z3Eb+4O0c4t7L58jBxwl5cT6OloIidu9wV8dOr9mQ7e1p2Mb8jJJaP1d6l359fU8fv/ugqDchKyGlkR70Jc3RoXMP6iT1xem3juw8kIIfv2VChDeTgAge7docX2wfM9dRXZf3vAHEO3r7ewCZu7f8xghXvRbgORx7Xf6pX2+WEiMmBLLp8rxnJThnjr2+3cZgUABAlZX0nMcKnO7NbNNQRJC4Z0t8ke2Arx019fnPG0G8Y1B3L/eBQ8JPb7x35p6H0HD/foPT0K99nBxEec95OCeLz9O/3ighhI0NZDiFDBrY/fzRhNuvejiIs+++kLvGhrv24IT5XD2YfDc3rhtbkfEwo9kxqJebg6448zWRxaIqso5uP19oF7sh1I39vk8CqV6mpDc4dv/Ch83o0DFVdkp6A8N/oi+L2WJEePlZArzF5ctjO84X2gxeF+rG6WrTw4f8S+q913F+TsrMhxl8evepbk6hrMHhFzc+PHvPQ4I8uV/HGjDd15mJB1VPUzIaHP3G+zixOupBhBVVIgcXbztbW1RD/7n8l++Zah4tDnfzjVt7PT339bOUnDqFVld2YEwXrzF78hsUiNkMiy7M8HcbsSm7TtbyurGp7sTkbhz/0VtuZJZUFKanWi4x6nO2Dff1jFpwNrtR2pR1cEqIc7cpJ/KbVG++oay5tSDYc8SGF7VS09/0Ywuya9+Eeg1b+6xKbIIF52cFe3+6Ka9KYjarsvaOD2WT8V7T4vMb1erSy0s+8WeQMBCG0mXmqQKeCtGVXVkxOszbM/iTaaN7cQKn5RbVWxqk9PLStoK+M07lN9Remhvq9cn655Xit1tIn7FxeNTMg5k1sg++9W2qODI5yMM9IG7Br2k1Up2lAxvjZ4a4UDvlRU7jsl9nxM8KfduY++r+yqHdHAkQCOKZwRO3P6oQ6xBY9GBVrF+bccI2q9FsNsvuL+0fNGLNw9LmttfU4cazs3u60Tr7HJuVW2M21d9e/VkQi0yiB3118FmtzACLHqyO82dYXTKCJ2x9WC5q+RyEpujcD0O7OpLxJEbwpN1JVRK92awsOLcozo9hRyNT2WFTdz+plGiabi0Z1IWOgyCcndeABSde1Ms7v7APV5+aETF4YcvHFmQPlseEjFh5r0jQ8emDNuPdQn6bEeYnLB3c1aHFZf/5x9PrZFaXysLz/xruz2ypfMqux9Z7N9XfXTc61IlCogdO2Z9aJTVYC15Y3FFw56O2O2pDnfPrV5FuVILH5CMvqhXyQst9Msh4mu/ItTcKBerOXWqqPDkz3NfDf8jc/YnlIq3lRzDvwvxIz06zOMT+fE9q2q/f9PF6y5iWeWXdp0FsorVpA8dsvFMs0JjEj3/+LPhNmyU4+aNVcb1GLL+Vx2v9soUZ5l36Nsr7DZejUjLKzGZTw/0N43pxqCR6wBe7E8vFelj8ZMOoECerT8eAMT8nFAk0lkg1JZeXjQhgUQlEx8BxW+9zhTrErCq6vPyzILY9jUxh9Zy07V6pUM2/u2p4AAMPQThbj+i5v6ZVtX1cozWO2nPf9I9bcNz6sQX5k7WfhI9Yev1Vo66jjPzJuhERI5Zey2lo+6aD4N7qEYHMVpdfH0qpbHGpKr6y4vNgp5bKJ265U9JsuXdT48PNkyJcaCT77hN3POKKLEXlietGRoxYciW7oVM9iPjeihGf/+tUeqUKQb9J8I8F+K8lIv/ol72cKVgQAPEeX54u5su5HxRRMyxO3TomkEnGgAAAEjy+Ol3MVyFmRd6pb/p52BJwWAgkOEf/cLFAoH5bCP6mIvpxwHq5sFmmMZhaf9sMSlGzUK5t2UzqJIYvt37iHzU/t4TX/o2adxf87ads9ozuO31/evWHG88gEwikHVH8bgwKQX0tT6oxdA7HoGiur+NJ3jT+LvQKmVJv7BRVu8u3IoU1Ir5IoTd01hVYK+E1CpU6I9xhkfJ5IoXe+Md9R6bVpe5tl7BW0sQTvm03vH0/7yvY8WODQiSUqfVGpK06Ucf/veFa3tws1bzrJx/bhUphQx1PotZ3bu532H73yJArdZ27y2j1KVa95RPWiAUi6xPUTt8h0kktbaPt6FZYJxU0CRU6wx/YgzqZoEko177tEtFJ+W9W3tokcpXO8MFmRgS3lo6Y8NOFzFoNqqH/YMAPPq38SPTi6kqehsjydHUg4TAfs2+hl9RVNcrMNs6eHDqp7au7sJJXUclTk126eDAoeAy6//FbjOWHvxq7Rzfl8q7ZgR52v+tShH9z0dTTtO82zx/SlUVEGxcF5c9FV3B4/uq8oLkLJsf4O6Lniv65/CEiivInI3+05cfzXBNo4L1MKiSO3nF81ahA9u8+rowoeNVSLItNpxCwqIiioPy56KUNPC2J6WBHIWDQ1kBFFOX/FFV54rVbKXkNelvPsNjRsSEcGyL6N3NQUFBQUBFFQUFBQUH524ImNCgoKCgoKKiIoqCgoKCgoCKKgoKCgoKCiigKCgoKCgoqoigoKCgoKCioiKKgoKCgoKAiioKCgoKCgoooCgoKCgoKKqIoKCgoKCioiKKgoKCgoKCgIoqCgoKCgoKK6N8YjbCmolagMsDWrxRrRfWVNU06g+n/LiBEnH396PEEgVDx12ssRFFw90xCJl+i/asEpCy8dzYhs0asQdChjIKCgoro/3f0Wfu+Gj5185Mqkd4MAIaCo3NGTFhXVi38uClckrp92rhFJ1/xFPAfFpG5Oevi/oPXeQJ554rSds6YsOhEdoMc/j9sLEPB6U17ntUbtSAOAHRVjw4smTQkeujUjQnFQs1/HhcszL646etP+/Xq2WfY7J33uaIWQTQWX1w5e8InsVZG/Cue2yC32FbNabctii9oNNF1OQe3HU+p5GvRv9WAgoLy/0lENVVPE+68qJbrTGgb/1fAGqVUIlXpjIj5z65IIRV/qCIjL+v8tsP3KgXKPy8lUz67dlcS2K+PO8MOq8rat+hfh56bvX2h3EPLfr6S3/DGOsLY9PLijsN3K/iKfx+OsTIjvdEmKG7c8C7qpK0L11zJr7NcpS7LTMkV4Jy8/IOCggK9WWQCFlCXZ6XkCrBtNiaZiHeK+zxKn5mc1fBn3jkKCsrfkz/nD67DFaeXzlp7XzFgT+KeSX5OlI/6E9Da5rLCWtjN38vxzT9iq616cvrElcScKhXZM3Lc13NGBLGouP+VPyoNMYatvzXs/0tFcetuxH0oJ1Y8P7nrSMNnUTERnqw/S0PTHz83d58RyKBTzJI7l+5UOH+6Zc33gyiPvhu35WFi9VBfjo0Dti2c9NO7j9YODx8Y4cX+d36Jvb/d19v6X7qBtAmzLmfkyYb5AyQej2/wiFmw7OsB3Zitbo3FjXyDu8U2sN0GAGEDeuNXZ70SDOzqZmOLbt6goKD82Zkohhkc2dOvx6DeXW3I+I/UO/2LvTMmLjyUwVMYO6VCSN2VRV/M3vZIyAgM64rJOzp//LenXjUq/wn5LSJO3LVg6f5T+xZNHhrZe8jMvUnVUr0ZALSV97bPHdE3LHL496df8fipvyyYviq+qMmSOikLL62ZOjRq4JRNO1ZOn76xulqAiJNanUyJtTjZk9jiBAB0FXe2f/NZdMTAyRtvl1r3LxHJyxOLJw4eMHLByawGufGthFOTfvC7GavOFPBkwqTd3y3bd3Lvv6bG9ek9ZMbuJ1USbdOjnUuPJFXws84umv7F4vhCngLRVdzZMX9UdMTALzYmlAitG6TKwstrv4yNGjh54/afpk/feLW4SWm2RHJ354JR0b0HfrEhoVioQRDhk13fLTlw+ezW7yf/cCSnVtKWYBq4ecUGjpcPjUoCDQU5eWKHrj3dbG2InB6hXti6kmKpUtMSNCJ4vHvFkSdlvKxzi2dOXnwmv0GOaMpubZn7af/ouOlb75UK3/cAE+/i4kTUaaQmkwkw8XhCKpNtSyR2rNlMvCYhhcG262wDAEL3AF+kvqJSrtChO7ooKCh/vogCNn1+PJ+Sdu6HaBdb3G/Vw6hVa/Smj9mfhMsSLiSrIn48tH/r5k17Ll5aO4yY8yCpUaqC/wFtbxZx069tWnasihHRx1n0YNumM68bJJr8Y0uXX6z3+Wza5KERviwSKCrJeJpTKdUaYX7C6nk/Xa53jY7AJh8/fvXuS7lKB5iFZRnXNy07VukY3sdZ/HD75tOv6iVGRPx4wzer7qp7jhnuUnH8532PqvgqQcL67zfd47uHd5U/TysXS/VvRmMSlLx4mlMp0RgQUVn69S3Lj1XQe/V2ljzeufl0XaPeq3dML0861SVo8MhRg4OYFFXixgWr76hCRw93qTqxYd+jyiZV0+2181deruX0Dcelnjp57W5mnVIHI+Inm75dfVsROjrOterkhv0PK5o0pmbuiwf7fvzxYLocb0MitC2zkOaSMoEDx4NGJkGIuL5RBjg6O5GJeBDj6upE0oobZXpdS79DFK+IQT29HGmcoJgRo2KCWFTZvXXzVt4Q+Q0f7FR5dNHyEy8qJcZ3DqjmZpGBZsfA4fGIkMdXGpsKniRnc5vVLWsKRNjEVxr5+Y+TXpY2qwxtIxSi+fg4SeprJGo1jM4ZKCgof4SIwkWHpkYN/vFKhVBrBgC47uy8fpGzj1byFfzL3/UP9nHhcDguATPPcAXqdq2EGxNWfR7p5UAl02hUKt2739xjmU1KIwAYXmwbHR7yxf7supyTs6KDvFw4HLcBKx5Wi/WwWq2DAQweB4KWmZZGo2AxWCy25f/+7k2PxWJAmDV8yfoly7dumBlpL+CWKFQN+XlVmMCR0yZ+Of/7SX049sS2O0Vq719LFnX/csPKpRsPrBjr5+SAB0AQwuGsThavX7Js64YZkXQBt0SpVjXcu/hA2evLH2bMWrF6eoShID1PmH/1RqoscOrPK5dv+XXVWD+2Deb9cWEhmDls8boly7dZXArLEA3oEzW0hyed6hw0bPT42GBHZdLlh4qeUxdaK+htKkrPk+TduJ4s9Ju8/qelGw+uGOvv7EDAQqCZd//yA3mPKQunz/pp9YxIuCgjTyQ14rCAUsX5cv/p4+sn+LOpUJuM84UmAtUOh8MBZoVKBePwZCwGAwIAjkQigjq1ygibWkYT1bvP4J5edBonMO7zcXEhDFnK9URJtzEL58xesf374XRu0pOKZqnht/dmLEt/UYn1CQ2wsSWbdRSPMFdN5sllo6KiJ266wxVqzWY9xaOXqybr1PLRfaMnbb5dKmw5TISxt7OF5BKRTm9EU1EUFJQ/QkQRk1rcLJS3nUOBNVKhUKqBYcAuctrqLbv3r/7ME9SqNW8cU9E0lBTzOGO3nrr5+M6JhUHiG6vXxhc2yU1Y35E/bNi6cJgXw2vQ3DVb9x44cOCXVROCmVQc3r9fH0/904ObL2fVSHnPDsc/NYcNHciyo/4THkxZlgIYtqsLmYCH6A72WI1aYURs/fxcdelnDj0q5CnfmLB1pcXlak63ECaVgiE6c5gEAgGwriVAAGK7uFLwBMjBwR6r1SgMsKaosEyBh2WvM9ISS0QGXROPJ8l9xVU7+QYzKRQsxc2dRSLi3h8XYHHpQiZYXeK0GgB+a/9cX1xUpsCZZLkvniaWCPXapiaeMi+3Qu3cNYRJpWIJzs5MIpGIBUBDcRHXUjDvxdPE4madpaBabwBAANut30Bfuj2h82pIrdHhyWQcFgMACAIjZsiioJYCEAYDgWbze4/16LkllWqGZ3cHChVn7+fvRhBUl2nVmt+MWWnqxVvFtMjhfV1YNhCmy5iVv5x/kJmfFT/TlXty79mcOhHiO/qnFtuZWW7ck/vO5dQIDdZUlErFmgxaE4JmoigoKJ354w8WEV17xLj2gMvrz+1Ofkeyg2X5DxjQL4BjE81seDnpRPZr+ZQAV2e/6KFeptRtpHr3XoOHxfkw2vMvIPKHrd/mfbHhp2F31xENWodRey5/1s2JhvnnrGJArEUooBbtAgB86LzNK2vnr1w2kcvdcWDxJ85tAqCRK3RmEs0Oi8FahBNskZdWJxDGamjbF1XJ5BpTTcrJfQXWM1p2TqF2Zp1Gj5BsbHFYrFW+/10qD0FWAXt3OUQlk6mNNSmn9hdaK7BlWypQaRESrbWC1uCskRhrUk63FrRhh9DJeMsKCCRRaFjMm/0IQiCCwIDZDAAYEpEIGbRaGIHNAADrtDqEQKJgLEG9Ixy1QqlDiBQaFosFQBsqFasTqmDT23qnfHnsYII0+OtJkR5scocfovuIWeOvPtlXWqhSRAAM+1bbzPFXn+wtLZAowhEmHTDCRjOEwUIgiM4ZKCgof6qIfnTNLi5OS1EftwAAgABJREFUeINIYYAt0+T75iYD9/Le+GL2pD2bY0hld479enXD0mOex74b4PFmDvOXTjhxWDyo02sRxJJJmbVaHYLDA9B7c2my/xd7rnh7fzd3x+YDPbovbM0BITyRgAF0apUJtoqD2frvPQJIwOMxhNDZR3Z9HeFFb6lIcaMAC0r1emsUH7r4o5SfgMdjCaGzft05L9K7rYJbxVhAqFZ3xGeNGo/HEENnHdoxt4+PQ+stI5LKdzcUjUoxarV6y4CAGGwGCS4QyfVGGECEQomeQGfaEwjvXD1BeDwBAo0GgxlBALPeYEBweAL0VgsrXx7ZfqHef+r2WD+O7VvibW9ngwfUxpYearPZ2rbYrHeiVKpNJDYNh8WiKoqCgtJ5/vnPtQEAAJPBYM0b3suHfobDWdKKD14OqFNOHH1m8+my70YPGzll8a9XD8z0qrpxLYMv+xu9945lOzHwcl69zGBAAETS0CgFHJwgHP5DveIYMWdGrIemlivUaFtVlOTl5ULg13DlWi0CC4USg/H9R5TJHu5OmMbyYrmm/ZQq0dWFhWuur1TpdGZYJlGYjL/zhDMEYbAgaG7JFEnulgoqimVqdVsFJC8vDlFQU2qpExYKpQaj0RKJu7szhldRLO8o+F4wHBcWUSkR6AwGM0Du5udNaq4ukqrUsJrLrdZzvPxtqJT28QphMFgIaAvHzdWZIGmqUem0ZkNdHU/nwHYnkIidclVp2v4N8fWB0xd8Hupu//ZGtrqYW62mO3sQSaR2m6akrFpFd/KgkkkgAMDNAjGWzmCQCDh0zkBBQfkjRBSysbWBVEK+zGB81+wIkskkyKDVwcjHfiQAJBOJkE6nMXVKB2BxQ6Mc4+jMJuJwIABAdH8/N7JOLjaa/kbvuEAefaO64QouHbz2NP3ppV2nUpXevftQbWnvLm2szc3mNgkbXmVzxSSmi1178oXrHhcbBGWf2Xvh5tkdh24V8+XvbwNsQOwQf/2z4wfv5FSLxHUVtSKN2T+mv7f+5bUrWblp8ecelgok+t+ZjlLo9jRM/etnxfV8Feg/ZLC/If3koTs5VSJxvaUCpGvs0CDM63P7Lt6I33koobBJZjQDAC7AUjDj1KE72W0F9fB7qoXo/t3dZI01ErUGATCeMcMiSAU3TtxPvL7v+H2BZ9RAL2Zn+SPb29OwDbnPi+uaVEC3/tG+uuyE+0U1+bduJjcxe/T3o9u3iygieLR9YzyXGRXhIK/OfZ6allGsUGkaXj9/xa3jN+Re27z1fDk7OjaYRRdbbLWttjJ2dGwIh0ECAUTArRCzPLvaUqnoW6IoKCh/iIhiOBFhPriCS7svJGWVVJZX8eV6E9J5QuQ42cCFj25kFhXkPk99Va/UmT48ZWOcXdi45ufXEjIKuZVFGWmWS8ys7n4cOPvy0WRuk1qvrLh/+FKGjO3rR+2cZfzlwfhPW7dqtOPLTeMHDph2Wt5/8U9TQzl2795Ih+vSDswf0tXZPWZPY99v5g3zZFHb9g8x3Wb8vHq8a9nRtbvSce5OVDr1/U82cQEzf1492iFj9bCuLJb/8PV3KsRIyIylM4IEp76M+WyPwjeAYUPA/L6PIOHDPx0dinu5adyYFdcKhV7Tf1412jFz7SfdWCy/4esSykWGLtPXrRrvXnF8/e5nGBc2lU7DQSCIC5i+ftVoRta6EX4tBcuE7/0qLsY3LITRwC0UKZQwAHmM/2nFWIeXP3/51a6SoAVLp4Z5OnROA/FhI0aF4nO2Thy34kq+qMuMtYsHas5MjQifc99+4qKv+3uzSO3nmvmJNx9zG8se754/8ZNBAwYMGDhmTUlZ/quLqyf18eG4h8+6pB28YsO8/r6OyteX1kyK8rXYLmpilv88d4AvkwACiDTndYWdj5+znS2aiKKgoLyJ+T8GlmUdnB7hQmt5zQ/EUDymHKvgK9t+rMs/9lWYMwULAiDe48vTxXy1sezAmC5eY/bkN8gRsxkWXZjZ3W3Eppd1UrjFnzh125hAJhkDAgBI8PjqdDFfhcDijF+mR7pSiQQCDgvhbP1Gb35YLdUh5r8fJpWQL1YbTP82dlgrE8u0xg8U1L/c+ol/1PzcEt6HPRmUomahXGuE210Z5EKhUtfJ8Dv7XC8XNss6bsKgFL9VQUt82dtHBvSddy6vQf3hgr8JOH/f+P7T9z6tlJjaXClkSv372gLWK0TCjnBgrVQk1RiMH3tzsFbK54kUeiP8QRvMv/LtoDFrbuXz/pbjDgUF5c8ENJv/q6eLsLq5rl6oAciOTs6ONALmzcxWL66u5GmILE9XBxIO8zFHMvSSuqpGmdnG2ZNDJ2HbTqKoeBUVjRIT1aWLN5uG/58/22EsP/zV2D26KZd3zQ70sPsrxnd0+oTd6gmHd8zu403/XSepEX7CkmmnyHM3zov1cyL9Je5Gm7tvxoqS/ssXT4z0ssOiy24UFJTO/LciivL/D/mjLYvOc42ggfcyqZA4esfxVaMC2ZS/zkM6xeNt/zpfogcs8RURR209surzEOff/RARUTbVSDFOLDqJ8NdQLJ24jqenOjnakvAYdBCioKCgIvp3RVWRdO1Wcl693tYzLHZ0bAjHhgj9teJLvp6QlFunt/XsNfTz2FAXWyJ6DAcFBQUVURQUFBQUFJR3gKYKKCgoKCgoqIiioKCgoKCgIoqCgoKCgoKKKAoKCgoKCiqiKCgoKCgoKKiIoqCgoKCgoCKKgoKCgoKCiigKCgoKCgoqoigoKCgoKKiIoqCgoKCgoKAiioKCgoKCgoro3xiNsKaiVqAywNavFGtF9ZU1TTqD6f8uIEScff3o8QSBUPHXayxEUXD3TEImX6L92/Uzoiy6dzbhRY1Yg6CDHgUFFVGUPwh91r6vhk/d/KRKpDcDgKHg6JwRE9aVVQs/bmKWpG6fNm7RyVc8BfyHRWRuzrq4/+B1nkDeuaK0nTMmLDqR3SCH/w8by1BwetOeZ/VGLYgDAF3VowNLJg2JHjp1Y0KxUPNfx4XIyp4cXzltxIydKRVCAwAYiy+unD3hk1grI/4Vz22QW2yr5rTbFsUX1Mt1NYmHln01vG/v6OEzttwuaFa3rH+MxZc6lzyT32i01786uON4SgVfi/5VBxQUVET/u+yr6mnCnRfVcp0JbeP/ClijlEqkKp0RMf/ZFSmk4g9VZORlnd92+F6lQPnnJVrKZ9fuSgL79XFn2GFVWfsW/evQc7O3L5R7aNnPV/Ib3lhHGJteXtxx+G4FX/Fx4WhLLy4a89m8A68wwVE93egUDACoyzJTcgU4Jy//oKCgQG8WmYAF1OVZKbkCbJuNSSZiQRlPTPIfNObTAFP6nu9Xx2fXSi2jWl2emZorwLLbrqYQ8E6xo6L0mclZ9XwlmoyioPxv8Of83WO44vTSWWvvKwbsSdwzyc+JAn7ULNdcVlgLu/l7OVIIv/nrx3DT07PnCx3ixg3o6kjFvpleVL5ITnqW2+gweM6YMCc7IviPWuQwhq2/Nez/S0Vx627EfSiNUzw/uetIw2dRMRGerD9LQ9MfPzd3nxHIoFPMkjuX7lQ4f7plzfeDKI++G7flYWL1UF+OjQO2LZz007uP1g4PHxjhxf6IwfXq8OqdmazZvx6eHu1tjwdbVgU8vsEjZsGyrwd0Y7a6NRY38g3uFtvAdhvAmLoyxJom98U1zYrPyhV+HuxpT+HxBAb3mPnL5gzyY7WPyLCBvQmrXr4WDOrmbmOLbvOgoKCZ6H8Ghhkc2dOvx6DeXW3I+I8UNf2LvTMmLjyUwVMY30qFEHl+/MLxk79bfeB+hURjMnfSz9enFsaGhw+ft+1C4suqZo3x77T+R8SJuxYs3X9q36LJQyN7D5m5N6laqjcDgLby3va5I/qGRQ7//vQrHj/1lwXTV8UXNVkSLmXhpTVTh0YNnLJpx8rp0zdWVwsQcVKrkymxFid7ElucAICu4s72bz6Ljhg4eePtUpEGAQBE8vLE4omDB4xccDKrQf52K2vSD343Y9WZAp5MmLT7u2X7Tu7919S4Pr2HzNj9pEqibXq0c+mRpAp+1tlF079YHF/IUyC6ijs75o+Kjhj4xcaEEqH1OaCy8PLaL2OjBk7euP2n6dM3Xi1uUpotkdzduWBUdO+BX2xIKBZqEET4ZNd3Sw5cPrv1+8k/HMmplbQlmAZuXrGB4+VDo5JAQ0FOntiha083Wxsip0eoF7aupFiq1LQEjQge715x5EkZL+vc4pmTF5/Jb5AjmrJbW+Z+2j86bvrWe6XCNx9LIvy7J6/Vdh0377MenvbtA9LE4wmpTLYtkdixZjPxmoQUBtuus60dkEQmYmk2VCwGCwKmJl4zhcGyI5I6lyT4d/cx15dXyRQ6dEcXBQUV0f8Ymz4/nk9JO/dDtIst7rfqYdSqNXrTR+1PwuXXlo/qO/jHh2IsCOHe0GNd0bH509clUycff1qY//Lp3Y1jfBjkv1MaahZx069tWnasihHRx1n0YNumM68bJJr8Y0uXX6z3+Wza5KERviwSKCrJeJpTKdUaYX7C6nk/Xa53jY7AJh8/fvXuS7lKB5iFZRnXNy07VukY3sdZ/HD75tOv6iVGRPx4wzer7qp7jhnuUnH8532PqvgqQcL67zfd47uHd5U/TysXS/VvRmMSlLx4mlMp0RgQUVn69S3Lj1XQe/V2ljzeufl0XaPeq3dML0861SVo8MhRg4OYFFXixgWr76hCRw93qTqxYd+jyiZV0+2181deruX0Dcelnjp57W5mnVIHI+Inm75dfVsROjrOterkhv0PK5o0pmbuiwf7fvzxYLocb0MitKka0lxSJnDgeNDIJAgR1zfKAEdnJzIRD2JcXZ1IWnGjTK9r0VuI4hUxqKeXI40TFDNiVEwQiyq7t27eyhsiv+GDnSqPLlp+4kWlxNhJQ1MSc8DgMOeatBsnzz3Ka1LqLWsKIY+vNDYVPEnO5jarW9YUiLCJrzTy8x8nvSxtVhk6j1CD4NW5Q5cKbSJiwpwZFNBytcrIL3iS/EZJiObjw5Y2VEvUKhidXVBQUBH9gLoVHZoaNfjHKxVCrRkA4Lqz8/pFzj5ayVfwL3/XP9jHhcPhuATMPMMVqNtnIrgxYdXnkV4OVDKNRqXSvfvNPZbZpDQCgOHFttHhIV/sz67LOTkrOsjLhcNxG7DiYbVYD4C2dp79fzj1OHHbmO4sUqdokYarOw9l2o3fvH3BsABHEvbvt4kLYbEYEGYNX7J+yfKtG2ZG2gu4JQpVQ35eFSZw5LSJX87/flIfjn377jRSe/9asqj7lxtWLt14YMVYPycHPACCEA5ndbJ4/ZJlWzfMiKQLuCVKtarh3sUHyl5f/jBj1orV0yMMBel5wvyrN1JlgVN/Xrl8y6+rxvqxbTDvjwsLwcxhi9ctWb7N4lJYhmhAn6ihPTzpVOegYaPHxwY7KpMuP1T0nLrQWkFvU1F6niTvxvVkod/k9T8t3XhwxVh/ZwcCFgLNvPuXH8h7TFk4fdZPq2dEwkUZeSKpEYcFlCrOl/tPH18/wZ9NhdpknC80Eah2OBwOMCtUKhiHJ2MxGBAAcCQSEdSpVUa4dR+C6t1ncE8vOo0TGPf5uLgQhizleqKk25iFc2av2P79cDo36UlFs9TQvslRWlyuUGYc3/jr+VN7l036dMrWh9xmHaKjeIS5ajJPLhsVFT1x0x2uUGs26ykevVw1WaeWj+4bPWnz7VLr6AaQ6svfx/aN+eY29Yulc4d0dSKDgFlP8ezl0lpy4qbbJc0th4kw9vZ2kFwq0hkMaCqKgoKK6Ac2I01qcbNQ3nYOBdZIhUKpBoYBu8hpq7fs3r/6M09Qq9a8cUxF01BSzOOM3Xrq5uM7JxYGiW+sXhtf2CQ3YX1H/rBh68JhXgyvQXPXbN174MCBX1ZNCGZScQDEjJmzaMbwEBb5zTQUqXt4/4XSK8i5+v75g3sPX0jmirTGv9msBYIggGG7upAJeIjuYI/VqBVGxNbPz1WXfubQo0Ke8o0b0pUWl6s53UKYVAqG6MxhEggEALS0CQhAbBdXCp4AOTjYY7UahQHWFBWWKfCw7HVGWmKJyKBr4vEkua+4aiffYCaFgqW4ubNIRNz74wIsLl3IBKtLnFYDwG+dD9MXF5UpcCZZ7ouniSVCvbapiafMy61QO3cNYVKpWIKzM5NIJGIB0FBcxLUUzHvxNLG4WWcpqNYbABDAdus30JduT+jcq2qNDk8m47AYAEAQGDFDFgW1FIAwGAg0m9+7Wa/nllSqGZ7dHShUnL2fvxtBUF2mVWvaxoq8WaTUaD2n7jl9OfHZme/8+XevPK3la33HrPzl/IPM/Kz4ma7ck3vP5tSJEN/RP7XYzsxy457cdy6nRmgAAIjVZ/rKDSu/9Kk6umrHzbwGJQxgfEev2N9y9Sz38lNtJQGIRqVgTQatEUaPFqGg/C/wxx8sIrr2iHHtAZfXn9ud/I5kB8vyHzCgXwDHJprZ8HLSiezX8ikBrs5+0UO9TKnbSPXuvQYPi/Nh/NvTQYaS4nKVKP/0jsYurrZGPrd8hfMXu85sGBvEomD+XqsYEGsRCqhFuwAAHzpv88ra+SuXTeRydxxY/IlzmxJo5AqdmUSzw2KwFuEEW+Sl1QmEsRra9kVVMrnGVJNycl+B9YyWnVOonVmn0SMkG1scFmuV73/XwBBkFbB3l0NUMpnaWJNyan+htQJbtqUClRYh0VoraA3OGomxJuV0a0EbdgidjIeszxcpNCzmzb4CIRBBYMBsBgAMiUiEDFotjMBmAIB1Wh1CIFEwlqDeEY5aodQhRAoNi8UCoA2VitUJVbCpfT9Vq9XCNqED+no42OJsI8KDHC9mFTcoVUFmmkXDie4jZo2/+mRfaaFKEQEw7K2D2H3EzPFXn+wtLZAowhEmnewSHDMheEAEc97EzZdu5Ee6s/xZ+Jbh7v7JzHFXE/dZSkYgTDpgNJnMEITFgCA6u6CgoCL6Z9bs4uKEN4gUBtgyTf7OGQdRymRaKGLZvSMLI9ztseq8fV9N3Hbk/Jgo10Hejvi/1vQF4rB4UKfXIoglNzFrtToEhweg9+4BkP2/2HPF2/u7uTs2H+jRfWFrDgjhiQQMoFOrTLBVHMzWf+8RQAIejyGEzj6y6+sIL3pLRYobBVhQqtdbo/jQxR+l/AQ8HksInfXrznmR3m0V3CrGAkK1uiM+a9R4PIYYOuvQjrl9fBxabxmRVL67oWhUilGr1VsGBMRgM0hwgUiuN8IAIhRK9AQ6055AeOcKCcLjCRBoNBjMCAKY9QYDgsMToI4WplHJOJNcZ7Imh1gSCY9BYKMZaU8VQXs7GzygNiIdJgC0t7VtsXW0FIYTGuxBfNVQo9RoEQAPtV9tiwdURrilpFKlNpGYNBwWi6ooCsr/AP/5wSLLFGEyGKx5w3v50M9wOEtaYf6PZnOo5YCkyQhbr6f49+/jQxFUlal1ur/eOoXtxMDLefUygwEBEElDoxRwcIJw+A/dnmPEnBmxHpparlCjbVVRkpeXC4Ffw5VrtQgsFEoMxve/gkv2cHfCNJYXyzXtp1SJri4sXHN9pUqnM8MyicJk/J1v8EIQBguC5pZMkeRuqaCiWKZWt1VA8vLiEAU1pZY6YaFQajAaLZG4uztjeBXF8o6C7wXDcWERlRKB9XEiuZufN6m5ukiqUsNqLrdaz/Hyt6FS2scrhMFgIaAtHDdXZ4KkqUal05oNdXU8nQPbnUAithW19fFxxgrrq1UarRmRNguVIJ3NJhHbF1vqYm61mu7sQSSR2oPRlJRVq+hOHlQyqUMM9Xy+WIcn2+KxnR4uaEq41Sp7Jw8ayVISFvJFWDqT8YHtchQUFFREAQCysbWBVEK+zPDO90pAMpkEGbQ6GPnYjwSAZCIR0uk0JuRjHiZRPNzZuKbKUqVOj1gzU4UaJpKpGOiv924e5NE3qhuu4NLBa0/Tn17adSpV6d27D9WW9u7SxtrcbG6TsOFVNldMYrrYtSdfuO5xsUFQ9pm9F26e3XHoVjFf/n4VxAbEDvHXPzt+8E5OtUhcV1Er0pj9Y/p7619eu5KVmxZ/7mGpQKL/nekohW5Pw9S/flZcz1eB/kMG+xvSTx66k1MlEtdbKkC6xg4Nwrw+t+/ijfidhxIKm2RGMwDgAiwFM04dupPdVlAPv6daiO7f3U3WWCNRaxAA4xkzLIJUcOPE/cTr+47fF3hGDfRi2ncSJrK9PQ3bkPu8uK5JBXTrH+2ry064X1STf+tmchOzR38/uj2xfblmCUKbdS0ht6o6++rtTLV3WG+2nSLv+StuHb8h99rmrefL2dGxwSy6+PXzV9zaVlsZOzo2hMMg8F49zSquaeIV39t98GY5LbR/INOB0Ggt2WQteYHL7Ds0xJlJAgFEwK0UMz262FKp6FuiKCioiH4wbYgI88EVXNp9ISmrpLK8ii/Xm5DOEyLHyQYufHQjs6gg93nqq3qlzvThKRvj7MLGNT+/lpBRyK0sykizXmJJExq5eTlZ2eUClV4tqsh/nV1YK9ObcCFxQ7vCmWePJXH5Mv7Lk0ducXEhA3vSbf6CL7lg/KetWzXa8eWm8QMHTPt/7J13XFNJ18fvTa+UNFqQDlIFC6Co2BVXV8XeBXtZ69p7772tvfeObS2AooKKhQ6h1xBICOn93ryfBFB01dVnn31Xn53vx38czj1zZu5kfnPmTm5OSMPnLh4Z5GD16Y10pDRh79SuXvZOnXdUtJ0yOcLFhtbQIGzT6NXLBjnmHlqxLRHvZEdj0D7/ZBPvN3b1skhm0rIILxsbn56rbuXXoIHR86MDqo6P6txnh8zDj21BxH7bS5AIwT9HBuGT1w3sv+hKhtA1avXSSNaLFT81tbHx7rkyJk+k84xauXSQU/6RVdufYrm2NAYdj4FhvF/UqqWR7Jcre3nXGeYKP/tWXKxHq0B2OS9DJJMjEMZ50OJFA5jJq0eN3pYdMG3+yFYuzMbJHaFVr75BhNcbhwxcdClN5Bm9Ym5H1cmRIcET7loPmTMx3M2mUQaJ9xuzZE4H7bno1t4dVqZ5Rk8fGtQESb+wbGgbdwen4HEX1F0WrZkc7sGSv72wfGiYh6nsvKrzwtWTOnhw8JLMmA3RHZtyuX79dhf4TF45s5uXPUn05sKKYWEeXJOlsuPC1ZM7eNoQYQitffM239rd297KAiSiAMC/A+N/DCJ5uS8qhEuv2xWDsVTnEYfzBfKGP2vSDo9uZU/FwRBMcB51Ikug1Ofu7e/p2n9HWrkUNRoR0bmxvk16rUsurUXq/NU83tTfn0PBwhAEE51Hn8gSKFCj9vmaLq6MRrtnOL9fYvKqNahRnnp8ariLJQmPw2CI9u1mnUurUhqM3y8GhVBQo9QZ0D/tWLWkRqLWf8FQm7zxJ5+wqSnZ/C970slF1UKpWo+8c6WTCoVyTaOCb7znWqmwWvK+ETp5zUcV1MX3anNvv7aTz6SWK79s+IeA03YNCo/a+aRA3HAntTKJXPu5vkC0MpHwfTiIulZUq9LpP1MHohIJRDKtDnnf0bUCvkim1SONO/+PZabwq8tK+eIP7l69paaRJSK4NL3TgOXX0/ga1AgAAP4NwEbjXzpigiirS8uEKojCsrNn0YnYDzNbbU1RAV9FsnFxZJLx2K/JEbXi0sIKidHC3sWBQcb9aZ6MKvh5+XwlhevpzKYSsP+Soxz6vAOjB+zQjLi4bby/s9X3GN+hqMHblYMPbBnfxo3xTaelUUHMvDHHKZPWTu7ubUf+we6LOmXX2EXZ7Rf8OriNmzUOLNABgH8Df1VEAf9/SO9vmHOWp4d1/OS4DFLkliNL+/rbUr+fR2+yB5t+PZuthUzxZZL6bjy4tF+g/Tc/GkTllcW1WDsbBpn4o+mQpqaMr6XasSzJBCwYrgAAEFHA94UiP+7KjfjUMq2lS6vukd0DHSxImO8rvvirMXEppVpLl5bd+nUP4lqSwOEaAAAARBQAAAAAAMAnAKkCAAAAAABARAEAAAAAACIKAAAAAAAQUQAAAAAAgIgCAAAAAAAAIgoAAAAAABBRAAAAAACAiAIAAAAAAEQUAAAAAAAgogAAAAAAAICIAgAAAAAARPQHRiUszi+pUugQ81uK1aKyguJKjc7wzwWE1ry6euhITJVQ9v11FipLv30y5oVArAYD53NdJM+8e+bm8yKRCgWdAQAAEf2fR/ty1+ieI9c/LBRpjRCkSz80odfglblFwq+bMMWPN48ZOOfYG74M+a9FZKx+eX73vqv8KmnjihK2Rg+ec/RVuRT5BztLl35i3Y6nZXo1jIcgTeH9vfOGdm3XbeTamCyh6q/HhUqe7psVPX1nfIFIa0SEr86vm/hz+5Yt2kSM33qXV69Jiqzrm6b169im89Cl59/w5YYPrt4/O3r6zrh88500WW6eFtkx7A+WqCQ39ujSqN7RW+NzqxWvjs4dOyCiewM9fp53Ors4//WF9ZP7tG/VonXEuC13shsap8i6sfmX/iaXS869rpCZXeqzLyyfOOSnuqt7zTmRWq631r7Zv+VIfB5fBX49AgD4HxVRVeGTmFvPi6QaA+jjvwSikteKaxUaPWr8uyuS1dZ8qSI9/+XZTQfuFFTJ/74ESP70ym2xf/s2TmwrnOLlrjm/7n9mdPPApOxfsPpSWvkH6wh9ZfL5LQdu5wtkXx2OPvfiwcOXrz5Ir5RrEEhfkJRYYRHQY2BPT2XcxhnLL6WVyvTFFxdNWXVHEdD7Z0/RpeWLDz7JF+reXX3pUP3VagRCiy8tnrr6tty/d29P0eXliw8k5FVrzTsNvAu/Duw7ac9rTECb5k1YNLyFnauXr3+ACT8uWppWWKVWa4qeJ1XQ/LsP6OmlerR55ooLb0ukiMnltFW3Zb69envVXF2x+MDjXJNLZV7yo5QqrK2LT0BAgL+bDZVIsOvWN0yX/Phl2Tc0HgAA/C38Pb97jOSfmD9uxV1Zhx2xO4Z621Hhr7lIXZ2bUYI08XFlUYnvf9NYWRh/8czle0m8Kj21Sas+4yYOCHa0IGJMy/2sO6dOXIlLKVEQHJpFjJk0NMzFmvS/9mPIGHbEqhsR/y8V9Vh5rceXsjjZs2PbDpb3Cesc4mLzd2lo4oNnRt9ofzaDahTfunAr3/7nDctndqLenz5ww73Yom4eDhZMXEM4iSe2HyrpGdwxxNX2K5P6uJO35FbWeGzdeCSF/rIr1PwXTUf64HEXk1IlXfWPLj5FQ2fNGBcZaB2k6T/98b20fs2cWA5kGBXHnbops7TCYyimq/XpNy4+QUJMlkHWQZoBMx7fS4sMdGYzsg8u3/qcNXbfvqhwdwbBZMqImDyv7g4ihccnJBa4hwcxuS2m7uhaV3cny6HjL7xME/7UVBZz6SkSPGP6uP7NmS10A2bE30/tF+RiLecLdE4dp8yf2MXH5t3HtVV4KGnZq7eVHb2dLa3AdhIA8L+WiWI5zVq38G7eKdTLgkKAv+4a7fOd0UNm7E/iy/SNUiFVyulth+NLsU6+/g6a10dmDp74W3K51AAh2fsnDJy285HQws2bi6SeXjAkeltCiVj3A21voTWx26bN331815zh3VqHdh27M66oVmuEIHXBnc2TerVt1brnzBNv+ILHe6ZFLT2VWWnKOeQZF5aP7BbWccS6LUuiotYWFVWhNXH1TkZ0NznZEVvnBII0+bc2T+nTLqTj8LU3c8xblag4+ejcIV069J527GW5VP9RV6kS902PXnoynS8Rxm2fvmDXsZ2/juzRJrRr9PaHhWJ15f2t8w/G5Qtenp4TNWzuqQy+DNXk39oytW+7kI7D1sZkC817ofKMiytGdQ/rOHzt5sVRUWsvZ1XKjaZIbm+d1rddaMdha2KyhCoUFT7cNn3e3ounN84cPuvg6xJxQ4Kp46Vm6Rxc3ek0MqxLf51aw/Rq0cTSguTQPMgVV5qdVSuv375Eqx5sX3TwYS7/5Zm5Y4fPPZlWLkVVuTc2TPo5vF2PqI13coR/fFyo510+84rTzNeWZfnxSovA5dqRNKpanSA9r0LPcXSlUcgwJcDfk15dlFWjUKCmNPTy2WROMx9bthXOLMg5eeUGjqPLO0thcbZILuPfPnG12GPApD4tXRl/GPhIYdyjTLJv62Yc1vtlpaluslZVq9FW5eSX69mOLnQKGSb7+3nRRSU5NXK5ll8ppLJsrEgfLBAJPr7uxvKCQolUDXZ0AYD/PRGFLNrMPvso4cysdlxL/B/VQ69WqrSGr9qfpIQtvpoQG3N6/85dx2+emdeBlhX/RCBVIFivgUtO3n8Rf+XYvr3Hbl5Z3oNVmPCoUCL/kXaPjSJe4pV1Cw4XskPa2It+37Tu5NtysSrt8PyF58vc+4wZ3i3Ew4YMi7KTnrwuqFXrEUHMssmLL5Y5tgvBxR85cvl2slShgYzC3KSr6xYcLmAFt7Gvubd5/Yk3ZWI9WvNgzZSlt5Ut+vfk5h9Zvet+oUBRFbNq5ro7AqdgL+mzhLyaWu2H0Riqsp8/eV0gVulQUW7i1Q0LD+czWobaix9sXX+itELrGtq5pQuDxg3o0rtvlwAOVRG7dtqyW4qgyJ7cwqNrdt0vqFRU3lwxdcnFEoe2wfjHx49duf2iVK5B0JqH635ZdlMWFNnDsfDYmt338itVhmre8993zZ69L1FKsCATG9QGrc7OrWI6ONMpZAxaU1YhgVj2dhQSAcY6OtqR1TUVEq2mTm8xVNeQTi1cWXSHgM69+nYOsKFJ7qycvOSayLtnF7uCQ3MWHn1eINZ/tGI5eU0c2DHIxtoC/lhgkepqkY5uxcZjMAbUaITQujos6ERIIZFq9Qbz1TXNOgTaMizq/mowfGRpVEik6rKHca+hgJZ2JU+vHztzL7VSrm1UFcKLfZRJ9W3tx2ZS4MZ112hpVmwyAYPoG7ukkYwKiUSr5fMFCl1lemz8q5wqxbtFIobu5mZXW1EiVioQMIsBAD+iiCKZ+0eGdZl9KV9oWgojpacnt289/lCBQCa4OD28mTvXwcGB6zf2JK9K+U4rkYqYpf1auzJpFDqdRmO4tZ90+EWlXA9BuuebIoMDh+1+Vfr62Lh2Aa5cB4cmHRbdK6oxzfNYPBaGzZMOztKShiOQCDjT/zGcgBaeTArR1ACsjS2bhIf0pnntx1mXY3A4LIzY9Jy3at7CjWvGtrau4mXLFOVpqYVY/95jhoyaOnNoGwdrUsN8i5bcvRIv8h21Zsn8tXsXDfC2YxIgGMbg8WYnc1fNW7BxTXRrRhUvW65UlN85/7u85ahZ0eMWLYsK0aUnpgrTLl97LPEfuXrJwg2/LR3gbWuB/XxcOAzCiZi7ct7CTSaXwlxUBbuHdWvuwqDZB0REDurejCWPu3hP1mLkDHMFoYbMxFRx6rWr8ULv4asWz1+7b9EAH3smEYeBjfy7F3+XNh8xI2rc4mXRrZHMpFRRrR6Pg+QKh1G7TxxZNdjHloZpkHGB0ECkWeHxeMgoUygQPIGCw2JhCMKTySRYo1ToEUPd/aW5tenSwpVBd/Dv0W9gj0C25NHVWHHT/jMmjF+0eWZPBi/uYX51ra5RGppz6UwSo13XQHsb6h8arM9NfF6Acw/ys/Lwd+HAZbk5EoUSRSorBHINgjMpa87ls6argxxsKQ2b367ONnB5vaXAbInFG3Jz8mTyxGPrD5w5tnPh8J+Hb7ibU62pH5H6rNhHPEu/1r5sViMN1eclvijAujbzZTGd3VxsMOW5vFq54p1LAgbSU51bOKqTTy6KbNd+8NobWdV1qSfW2soSI60VqbU6kIoCAD+iiKIGZU21UNpwDgVR1QqFtSoEgaxaj1m2YfvuZX1cYLVS9cExFVV5dhbfYcDG49cf3Do6I6Dm2rIVpzIqpQacR+9ZazbOiHBlu3aatHzjzr179+5ZOrgZh1afxepEhWnP7x5bPH37M2rX/t0cmPQPwkaKbsQkybjB4e5WdDz84/S9aS2AtXXkUogEDINpjVMpZXrU0tvbUZN4cv/9DL78gx1XTU5WntKhaSCHRsWS7B04RCIRMi8uYAhjy3WkEogYJtMap1bJdIgqMyNXRkAkb5MSYrNFOk0lny9OecNT2nk041CpOGoTJxsyCf/5uCCTSy6FaHaJV6sg5KMMX5uVmSvDGyQpz5/EZgu16spKvjw1JV9p7xXIodFwRHt7DolEwkGwLiuTZzJMff4kNqtaYzJUanUQDOGatu/owbAmNr5fSpWGQKHgcVgIQlEENWJMCmoywGCxGNho/OwhGi0vu0DJdvFlUml4a2+fJsSqoly1UvVurIoenrxW3axbZy8uk/CHgVz7+PyNLHrrnm25NqzQAYPDCM+2zZzzy5j+43fE50tIVhY4afzJa1UBXTt7cVnvhhch2GSZuH3W7Glj+o/bEZcnIVrRVLUSuVLlMmLb8QuxT09O96u+eyWh2LyjDUH6jNiEfGv/Nj5sFhl+X3fChZuZlJAeYY42FqRWAwaFEZK2z/7VXHlsbi3Rik4gNY1cuOvM7y9SX54e51xwcs+Z5MJqnTkVpdPwiE5tQEEmCgD8k/z3DxaRHJt3dmyO5JWd2R7/iWQHZ+PToUN7PweLdpzy5KFHX72VjvBztPdu183V8HgTucypZZeIHu5sUuO5FeXHLBu6+Hp2ldauw+yOAbZ0IqbxPt3TzbPWx+EiNo4JtmcQ4R9uFQPjTEKBqdMuCCIETV6/pGTqkgVDeLwte+f+ZN/QTpVUpjGS6VY4LM4knHCdvNQ7wWDNBQ37ogqJVGUofnRsV7r5jJaVXZCVUaPSomQLSzwOZ5bvP+soDMYsYJ+2QxUSiVJf/Oj47gxzBZa2pgoUapRMr6+gPjhzJPriRyfqDS1sAxkUgun2wWQqHYf9cIDAGBhFEchohCAsmUTC6NRqBEWMEIRo1BqUSKZiTUF9IhylTK5BSVQ6DoeDYAsaDacRKhAD8m4f9fLphxJ8SPGj2xeNb/JFlZTHMQ8crPu25FpTsPLkw/tiaptNHNra2ZYCY92HbT7KuXj1US7i2ckZFSZ5eNDK7hyIrcW3Knl056LxTZ5QYLqay+jXcvCmI5xL1+J5Bg+zpbunJVasRS2COoQ5s6zwlsHBAazzL7LLZIoAowVJmxL7uIjlP6Qpm/V+bCuSj/52U+QfvaiNmz0VhiC3oRtNLh/xDO6dnI2i524ellRq/VgnOfWMHngldhcvQywNRW2YkMGgN2KwOAwMg1kMAPifEtGvrpnLtSPoRDIdYpomvzQTYJyjT6cPE+UlXt2xfO3s6XiLo7M7uZjPbaC1STsmTt7Dazrrt3kRnmzKd3lMEcbjCLBGq0ZRUyZlVKs1KJ4AYT4bK8Vn2I5Lbm7TJ21Zv7e574z6HBBDIBGxkEapMCBmcTCa/32mw4gEApYYNP7gtokhroy6imTX0nFwrVZrjuJLF3+V8hMJBBwxaNxvWye3dmuo4EYWDhIqle/jM0dNIGBJQeP2b5nUxp1Z32RUXPDpjqLTqHq1WmsaEBi2LZuMpIukWj0CoUKhWEtkcKyJxE/uQWMIBCIG1ut0RhSFjFqdDsUTiJh3PawX68hcat6Lm+dfQHpxabUY+/Ay3S083MfeGnlzcPO5Mp+Rm7t7O9SdN8LQPbuNXdAN0ucdHref5T3Y08JYRXGg5r28ef5l/dWxV+hu4e297dw9u0bP72qyHH+A5T3Ig+lYQMUZajWIuQdwZBIRiyAGI2qEIM2b2IRStv9IDzbz3TpP/urQtvMlnkPWd/dxrD/rhKE3uDwy8SDTa4Ani/E+bYWtrSyIkEyP1G3uyBVKA4lFw+NwQEUBgB9xO9csewadDvriU8gv/Q2PN6UVX/kQE0NieXWasGFeX7uSJ3F5YvMJXk3W0ZlTtqc7TduzdWxrR8vvdScXZ2vHJkj5ZRKdDoVQcXlFLcS0w+AJX2otK2RCdHdnVQlPqFLXqyjZ1ZVLFBTzpGo1igiFYp3+84eoKM5OdtiKvCyp6t0pVZIj1wZfXVag0GiMiEQsM+i/8QwWBoPFwbCxLlMkO5kqyM+SKJUNFZBdXR1IVcU5pjoRobBWp9ebInFyssfy87Ok7w0/C9aBa0OSi6s0Op0RojT1diNXF2XWKpSIkscr0jq4+ljQqO/GKwaLxWGghnCaONoTxZXFCo3aqCst5WuYtk5EMqmh6WHTD1+Pe/nq1atXL28s7+XTavDqk9untndlKBJ2rzlV5h81rV+Qk/UHu9to6Y09pzJs2nZv7uDYbfqh91f39m01eNWJbdPC3dl1NxAtu7HndDqnbbcWXFt7dzd7vKisUKlSGVFJtUgOM2xtyCQCrHoZ97TCpllbDzazPg9Fa5/sWXeqxHvU1MiWLowPd9bRsph9Z9LYrbs259o0+naYKodXLLeydaJTTMKKVFfVYK3ZHAqJAGYxAOBHFFGMhaUFRiEUSHT6T82OMIVCxujUGgT92pcEwBQSCaPRqAzo52dbjNFoNGrVGlM6pUs/sGTrU+qgDZvHhTlZEb7f5TjGuW1YU3z6hX1XniQ+ubDt+GO5W2gbmiX909b6kpRXvEph+ZtXvBoyh2v1LvnC+/boHoB5dXLnueunt+y/kSWQfl4FcX7du/ponx7Zd+t1kaimNL9EpDL6dA530yZfufQyJeHUmXs5VWLtN6ajVIY1HVv29mlWmUAB+3Tt4qNLPLb/1utCUU2ZqQLUq3u3AOzbM7vOXzu1dX9MRqXEtNDB+5kMk47vv/WqwVCLfKZaDMPHt4mkolisVKEQ1qVzRAg5/drRu7FXdx25W+US1tGV01jpKNbWdFx5yrOs0koF1DS8nYfmVczdzOK0G9fjKznNw70Z1qQvNgetur957SkeJyyEKS1KefY4ISlLptCg6pri1zd3TBq56Hdyr/FDgl3YxM9dr64pfnNz5+QRi+6Reo0bbLI0N1aTfDXmbUHRq8s3nytcW4bYMi2xiuexT/l2gWFubCaxvu4HW9efymaFBjPlxXV1V8g0BkQjLnlza+eUkYvuEnqOHRLixiGi5SmJb3glleUpVzdsPJfDDusW5MChwBBalZtfw3HytKTTwbdEAYAfUkSxDiGt3PHpF7afi3uZXZBXKJBqDWjjCdHBzgLJuH/tRWZ6yrPHb8rkGsOXp2ysPdcWX/3sSkxSBq8gMynBfAkqTnlw52lqQZVULi59dX7lrpslVP82npY0ojL+5PkUTLOIEJIwPzX5xYsXL16+zatW6b7DYxZYnzErl0ayktcN6thhzAlp+NzFI4McrD69kY6UJuyd2tXL3qnzjoq2UyZHuNjQGpYH2KbRq5cNcsw9tGJbIt7Jjsagff7JJt5v7OplkcykZRFeNjY+PVfdyq9BA6PnRwdUHR/Vuc8OmYcf24KI/baXIBGCf44MwievG9h/0ZUMoWvU6qWRrBcrfmpqY+Pdc2VMnkjnGbVy6SCn/COrtj/Fcm1pDDoeA8N4v6hVSyPZL1f28q4zzBV+9q24WI9WgexyXoZIJkcgjPOgxYsGMJNXjxq9LTtg2vyRrVyYjTM2QqtefYMIrzcOGbjoUprIM3rF3I6qkyNDgifctR4yZ2K4mw35i+sqVBB7/QGvIvfB9qlDfurUoUOHjv2XZ+eVF5/7dcDg6YdLfGce2Dejq9eHD+c/uFHF538dOGj6oWLfGfv3zejWlGOyxPuOXjSno/7C+DDvDitS3cf8MrSFCwsvTYxNrHYIDHNlM+qz16r4Gw+zK3gPdv4yrL7upVcz+TJz5b8cKvT+Zd/eGd29bUgwKnx7ceXwth5cp+CxZxUd5q+a3NHLlgRDaO3btwWWrk3trS3xYBIDAP5RjP8xiOTlvqgQLr0uCYSxVOcRh/MF8oY/a9IOj25lT8XBEExwHnUiS6DU5+7t7+naf0dauRQ1GhHRubG+TXqtSy6tRer81Tze1N+fQ8HCEAQTnUefyBIotG/3DA6yo9QdJ4HxTL/ItXfyxGrEaMjZ0/+jKQ7D6b8/rVyGGr9TDAqhoEapM/xpgIhaUiNR679gqE3e+JNP2NSUbP6XPenkomqhVK1H3rnSSYVCuaZRwTfec61UWC153widvOajCurie7W5t1/byWdSy5VfNvxDwGm7BoVH7XxSIDY0uJJJ5NrP9QWilYmE78NB1LWiWpVO/xeGgE5SXVVr/hLzV1hWf9oSUYkEIplGh/wHlZtcfhQ/oq4V8EUyjf69P0RweUaXAcuuva1Qf7fDHQD4lwD/xW9WIsrq0jKhCqKw7OxZdCL2w8xWW1NUwFeRbFwcmWQ89mt2XLXi0sIKidHC3sWBQcaZvaGaWn5xcaUcy3Byb/K1fv6n0ecdGD1gh2bExW3j/Z2tvsf4DkUN3q4cfGDL+DZujG96EyMqiJk35jhl0trJ3b3tyGCN+0k0qbvHLsoOmzd7aJi7NQ70BwDwTwL/SK8n+Jcjvb9hzlmeHtbxk+MySJFbjizt629L/X4eickebPr1bLYWMsWXSeq78eDSfoH2tG+ND5VXFtdi7WwYZCLQh8+IqLiMr6HasiwpBCzoDQAAiCjg61Dkx125EZ9aprV0adU9snuggwUJ833FF381Ji6lVGvp0rJbv+5BXEsSOPQCAACAiAIAAAAAAPgEIFUAAAAAAACIKAAAAAAAQEQBAAAAAAAiCgAAAAAAEFEAAAAAAABARAEAAAAAACIKAAAAAAAQUQAAAAAAgIgCAAAAAABEFAAAAAAAABBRAAAAAACAiP7AqITF+SVVCh1ifkuxWlRWUFyp0Rn+uYDQmldXDx2JqRLKvr/OQmXpt0/GvBCI1WDg/EswyrPunbuZVCBUoqAzAEBEAX9A+3LX6J4j1z8sFGmNEKRLPzSh1+CVuUXCr9MU8ePNYwbOOfaGL0P+e7NW9cvzu/dd5VdJG1eUsDV68Jyjr8qlyD/YWbr0E+t2PC3Tq2E8BGkK7++dN7Rru24j18ZkCVV/MS4dP+n48glDZ/6WVCLW17VZnn1j89TIjm079Z915FmJRPvutxhQydP9s6On74zLF325EJXkxh5dGtU7emt8brXi1dG5YwdEdG+gx8/zzuSUS9+ZPvttztjpO2LzhJpGPj8o1BQ93L9geLf23UasvpYuUCKQ/vWxeeMGfuDydGqZsCjut0VjfmoX2i4iat2NVIHCAEH6N8fmf2g591RqqRQ1+fxt4Yhu7bsNX3U1TaAw96IiO2br9P6dwjoPWXz2VbnM3B367IsrJg35qe7qXrOPZxRLTIWXVk4e+lGhqTMrX5xeNXn4zH0JhSJdo1EkyYs/vnxsn+jND7IF5k4yGa6ePHzm3oQ8oc7cbEPO5VVThvbqYXb50+xjr4t1VtqUQ9uPxuZUqMCvYQCAiDZkX4VPYm49L5JqDKCP/xKISl4rrlVo9Kjx765IVlvzpYr0/JdnNx24U1Al//sSBvnTK7fF/u3bOLGtcIqXu+b8uv+Z0c0Dk7J/wepLaeUfrCP0lcnntxy4nS+Q/Xk4qDTl1K99ug5ZsPvkjac51Uotav7979srpy6/qWg+dEwn0rONi3c9zBWo69quz7106PDlqw/SK+Xqd3X+sVDNu/DrwL6T9rzGBLRp3oRFw1vYuXr5+geY8HNAS9MKq1VqpP4jps+7fOjI5Svmy99F/GGhInnvvLn7nuic3bAZh5asvfimWILQbV29fOpdco2laYVVKg2CkfDFJO+O/X72N77YM2f5yZdFYgNEt3NpZFmWXlilUiOwMnnf/Pn7ErTObtjMI0vXnn9dJNGXXFn2y+qbEp+evb1qr69acuARr0oLQcr85McpVVgbF5+AgAB/NxsqCVtfKMDYOL8vRGWpZxf07zFk7o7j155kV8k0Da3R5F5eMDRy4s4XiHdocyc2HSNPPbtwQI8hc7ebDAXyekNFfnJCigBmO3ubQnWzpZEJtl16t0HePk0uqZCCZBTwo/H3/O4xkn9i/rgVd2UddsTuGOptR4W/5iJ1dW5GCdLEx5VFJf7xt4ZRScHz+LinKRXMLhP7t7K1Ir33qS9+eOx8ItQyamAY15oM/28tctgRq25E/L9U1GPltR5fEiLZs2PbDpb3Cesc4mLzd2lo4oNnRt9ofzaDahTfunAr3/7nDctndqLenz5ww73Yom4eDhZMXEM4iSe2HyrpGdwxxNX2TxuHUeht+28+Pzpu0ZrUBge1SQ+TxJ4/rxoyoE0Tv+qkyU9el4nbetmRCag47tRNmaUVHkOBG2XqHxeq3xxcvvU5a+y+fVHh7gyCqZQRMXle3c1CCo+Nf1bo0b45g0mruzz+1C2ZhSUBojb22bgQFT++fDvPtufKZTO7Wj76ddiG2PiCbk07RUya2+Dy+MTEArf2QTZMhvOIRUHmhLA9sWr8yVcp1ZFBbh49Js3tUW95YmJSoVv7IFumIeHAnTxOj2VLZ3W3fjx32Ia4+IJO+qzLT/Qtpv4ybkBLVkv9oJlx99P6BbkyFPwqXZMOk+dN7OJni2/4aGXzq3SO4b/OndjV366hUK402PRde2rYk9Wb3r7/oKpTjqzalmg5Yue2sZ2asohwvWGftaeGPlmz6e27icYgqKzScsNnzp3YPeCdS6hl+2Dy8rdvKzv5ullZg+0xAMhEsZxmrVt4N+8U6mVBIXylqmmf74weMmN/El+mN36sn2+Pz+geHNxz8qZzscmF1SpDo+UqKnq0fsqUhSvWnX3Of78o/hFAa2K3TZu/+/iuOcO7tQ7tOnZnXFGt1ghB6oI7myf1atuqdc+ZJ97wBY/3TItaeiqz0pRwyTMuLB/ZLazjiHVblkRFrS0qqkJr4uqdjOhucrIjts4JBGnyb22e0qddSMfha2/miFSoaZZOPjp3SJcOvacde1ku/biXVYn7pkcvPZnOlwjjtk9fsOvYzl9H9mgT2jV6+8NCsbry/tb5B+PyBS9Pz4kaNvdUBl+GavJvbZnat11Ix2FrY7KFpgogecbFFaO6h3Ucvnbz4qiotZezKuVGUyS3t07r2y6047A1MVlCFYoKH26bPm/vxdMbZw6fdfB1ibgh2dPxUrN0Dq7udBoZ1qW/Tq1herVoYmlBcmge5Iorzc6qlddv96FVD7YvOvgwl//yzNyxw+eeTCuXoqrcGxsm/RzerkfUxjs5deG8h942+tdxPVvY0RuPRqPRiBoMqNFohDAYGEvAY2AYNmWcl88mc5r52LKt3i8x/1CICm6fuFrsMWBSn5aujD+McaQw9lEmxS80kM0yi6Y+98rZVyz/prZsK2wjnx8U6jLfpIms3Zs7WVuRHQKbuRIqeDlimQJ95zLucQbZN7QZh017Vx1MppDwdAsaFouDG1Ue/yiT7BPSzIaFz0xJF1q5BZl82pt88nOz8pLflurZXGc6lQKT/f08LWpKs0VyubayUkhhcSzJ5EYLa6RSICSzbKwolEaF9DajZo3tFexoSWg0mKt+P3W1yOXncX2CPeoUtM5wZp1ho/4xVFaKKCy2FZnceKVM9PZxg/lFhbUSsKMLACJqwqLN7LOPEs7Mase1xP9RPfRqpUpr+Mr9SU3m4alRK+Npw488yUhLfnJ7bX831rsMQV94dv68ixq2HYlC/OH63ijiJV5Zt+BwITukjb3o903rTr4tF6vSDs9feL7Mvc+Y4d1CPGzIsCg76cnrglq1HhHELJu8+GKZY7sQXPyRI5dvJ0sVGsgozE26um7B4QJWcBv7mnub1594UybWozUP1kxZelvZon9Pbv6R1bvuFwoUVTGrZq67I3AK9pI+S8irqdV+GI2hKvv5k9cFYpUOFeUmXt2w8HA+o2WovfjB1vUnSiu0rqGdW7owaNyALr37dgngUBWxa6ctu6UIiuzJLTy6Ztf9gkpF5c0VU5dcLHFoG4x/fPzYldsvSuUaBK15uO6XZTdlQZE9HAuPrdl9L79SZajmPf991+zZ+xKlBAsysWGKRauzc6uYDs50ChmD1pRVSCCWvR2FRICxjo52ZHVNhUSrqdNbDNU1pFMLVxbdIaBzr76dA2xokjsrJy+5JvLu2cWu4NCchUefF9Q/9/z8yLdu3SmUmXf3dELOm+tX4mvcWrd14Vjj0ZrYk9dqmnUItGVYQOj79c5HhajgcfxrKKClXcnT68fO3EutlGsbyTbCi32URfMN9WObhypaE3fqeo1/eKAd0wJGG6W2jQvRmvIKiZFhZ0shEWGsI9eWrBbzJZr6FkNIbtzjTKpPqB/n3ejXVb8999vFdGqrjq24nPfCarLMonqH+HFY5NqKilqzTzIRxnK5dhRNLV+sUOiNRshY15EWdCKklEo1Wj5fINdVZsTFJ2dXyXX1ixWhQCDXV6bHxidnCxoKP7kgrEp49Ab1CbSreH7zxOnf31ZIP7eeRYWVVXJtZUbcI7PLBiuY7upmK+WX1igUCJiVAf8OEUUy948M6zL7Ur5QbYQgpPT05Patxx8qEMgEF6eHN3PnOjg4cP3GnuRVKd999JCKmKX9WrsyaRQ6nUZjuLWfdPhFpVwPQbrnmyKDA4ftflX6+ti4dgGuXAeHJh0W3Suq0UJo+eWt+19YDVq/eVqEH4uMgz/U1yOLt6Z5TFoyvAXXivCj7eNicDgsjNj0nLdq3sKNa8a2tq7iZcsU5WmphVj/3mOGjJo6c2gbB+t329Zoyd0r8SLfUWuWzF+7d9EAbzsmAYJhDB5vdjJ31bwFG9dEt2ZU8bLlSkX5nfO/y1uOmhU9btGyqBBdemKqMO3ytccS/5Grlyzc8NvSAd62FtjPx4XDIJyIuSvnLdxkcinMRVWwe1i35i4Mmn1AROSg7s1Y8riL92QtRs4wVxBqyExMFadeuxov9B6+avH8tfsWDfCxZxJxGNjIv3vxd2nzETOixi1eFt0ayUxKFdXq8ThIrnAYtfvEkVWDfWxpmAYZFwgNRJoVHo+HjDKFAsETKDgsFoYgPJlMgjVKhR4x1I0mmlubLi1cGXQH/x79BvYIZEseXY0VN+0/Y8L4RZtn9mTw4h7mV9fq/qT/7X6ev2IoO2llvy7jbnJGzxgc6sYi6HMun01itOsa5GBLeZ8y/rFQl5OVK5MnHlt/4MyxnQuH/zx8w92c6obzQvrM2HiepV8bPw6TDNdd/twqrEsg1476gc8PCo1yuVKPJ5DxWNONwZHJJIxWqdAb6s5067Ni43kWvq196zUULb40O6Jd58k3SAN/ndDdx+H9JrE+K+4Rz8KntR+HTYFkcqWhkU8SCaNVk7hcJlyRl1MrU6CIoEIgVxuweAyspzq3cFS/PrWkf/t2Q9Zcy6hSGSGjluLcnKt5c3rJgPbtB9cXfgodLydfIks8uengmSM7Fo/sO2LdrYxK9adsjVqqU5Cj5u2ZpQPD2w9edS1dULdpgLG2ssTIJSK1VgtSUcC/Q0RRg7KmWihtOIeCqGqFwloVgkBWrccs27B997I+LrBaqfrgmIqqPDuL7zBg4/HrD24dnRFQc23ZilMZlVIDzqP3rDUbZ0S4sl07TVq+cefevXv3LB3cjEPDI6X37j6XuwbYF909u2/ngXPxPJG6YR9Sl31s9SF+21nzBzazt8D9gH0PwzCEtXXkUogEDINpjVMpZXrU0tvbUZN4cv/9DL78gx1XTU5WntKhaSCHRsWS7B04RCIRgk1TJwxhbLmOVAIRw2Ra49QqmQ5RZWbkygiI5G1SQmy2SKep5PPFKW94SjuPZhwqFUdt4mRDJuE/HxdkcsmlEM0u8WoVhHx0PkyblZkrwxskKc+fxGYLterKSr48NSVfae8VyKHRcER7ew6JRMJBsC4rk2cyTH3+JDarWmMyVGp1EAzhmrbv6MGwJjZe+ihVGgKFgsdhIQhFEdSIMSmoyQCDxWJgo/Gzm/VaXnaBku3iy6TS8NbePk2IVUW5aqXqT/pfX5J46zGf07ZXBy994qkLT/Or5dUPT16rCuja2YvLwjdEZqz5YyEqqRbJlSqXEduOX4h9enK6X/XdKwnF5s1rCNKnxz7OZ/i38WGbNBSteXjqWpVvl05eTRr7jD39UaERQVAIg2loMcbc4oaMUZ8Rm1Bg5d/Gh8Oqe+iP4bQevWj1klGexceWb736pvTdmSt9RlxCvqVvax82iwyjKIIYYQzWvE3d4BPXInJAGOnl7jm/ThszYPz2hzwxwYpOJDXtt2Dn6d+fp748PcGt8NTeMy+LqnRY977zd56+ay50Lz5dV/ipyUAqFMlUKuehmw+fi316alZg7cNrCYUVnzryhXXvM2/HqbvP016emeRRcnbfmRf5VaYUF0OnUfEGnaZh1QAA/Cj898WH5Ni8s2NzJK/szPb4TyQ7OBufDh3a+zlYtOOUJw89+uqtdISfo713u26uhsebyGVOLbtE9HBnN+RfmuysPIUo7cSWCk9HS72Al7fIfti2U2sG+NuQis9uPFIWPGNhJzc2pfgHXsXAONO0ianTLggiBE1ev6Rk6pIFQ3i8LXvn/mTfME+ppDKNkUy3wmFxJuGE6ybbeicYrLmgYYpXSKQqQ/GjY7vSzWe0rOyCrIwalRYlW1jicTizfP9Z3l4/nX/aDlVIJEp98aPjuzPMFVjamipQqFEyvb6C+uDMkeiLH52oN7SwDWRQCBjz0zwqHYf9cIDAGNO0DxmNEIQ1ZU06tRpBTXMqolFrUCKZijUF9YlwlDK5BiVR6TgcDoItaDScRqhADF/eF0RLL2/a8tiq//qV48IID+aMWH7geGuC1ZWHtfjgkkd3Lhrf5AkFlMcxD+yqqw89qMWHfFBo30Fao7cI6hDmzLLCWwYHB7DOv8gukykCjBYkbUrs4yJ2wFBvNpMEQ0jO5bOxElyLkoS7F41vcoWVJJNPofDQ/Vpcq8aFsTBOrdNiNQhqihvRqrUogUTGmjNxTUpsQiHTf1BTDqvhk0HhNus8qFmHEJtpw9dfvp7a2tnO345gsoxLKGT6DWjKZpNhyEgmk7F6ibrBp8bkk0L07LfhkNPla/E8vVsnZ2PNcxd3Kyq1fjlNatIzasDV2F25GVJJG8iWWV8YYSrc+UFhY9QaDUoPaN/GhcMgWLZsGcA5/yynTCprbrT83EE/YpMeowdci92ZlymShBntWJDeYDCtmrAYDAymZcC/W0S/umYu146gE8l0iGma/PQHB5VLJGpMyII7B2eEOFnjlKm7Rg/ZdPDMgLbzAnL2HUl17b833JlFxei/74QTjyPAGq0aRU0Lc6NarUHxBAjz2T0Ais+wHZfc3KZP2rJ+b3PfGfU5IIZAImIhjVJhQMziYISgz67YMUQCAUsMGn9w28QQV0ZdRbJr6Ti4Vqs1R/Gli79K+YkEAo4YNO63rZNbuzVUcCMLBwmVyvfxmaMmELCkoHH7t0xq486sbzIqLvh0R9FpVL1arTUNCAzblk1G0kVSrR6BUKFQrCUyONZE4if3oDEEAhED63U6I4pCRq1Oh+IJRAzmi7ssaGVC3Bul66B2ziwrknXPiJA9cRlvcpz1dtTqlzfPv4T04tJqMTb2Cr0J2d74h0JXv+YQRq/RIObG4sgkIhZBDEbUCEHqNw8TSjkBoz3YTFOarRfrSA6U6uRb55PrL4+7Sm9CcTDafVzo8DOM6mU1Uo3OAKEiUa2GYM2xJhNxEKR5G/eklO0/woPDJH74QcHaBwY4kV9VFMtVKhQiYEyWJSy/YR4c8+kemG3DoqCl4gafYrNPEpFAt+8SNa8LpM8/OukI06ufJ4v5XuxgaytLIiTVG9FGiSRsbWlBhCQfFr6HRqXgDNUagzmNxJFIBCyKGNAvn3rAmF2K9UidnVyhNJAs6QQcDszKgH+JiJo+dAadzpw3fJYv/Q2PNy2yv3g5xnzq0GDQI2Yzqk94G/e9+4pylQL+zbhiPn/niE6/4TCQUSUsFxp2DO5TsvrKqn5utrTvq4tt7dgEKb9MotOhEElcXlELMe0weMKX2s0KmRDd/fK0dJ5QZV+vomRXVy4xvpgnVYegiFAo1umZn72e4uxkh03Ky5Kq/FFG3SNHkiPXBv+0rEChaWVEJGKZQU/4RuHEYHEwbKzLFMlOTnbYxPwsiTIAZdAx9fE5kOKKc6SqUNRKKKzV6S1NkTg52ZsMpcpmKJP+5YcHWAeuDUkurtLodEaI0tTbjRxblFmrCEHIPF6R1qG1jwWNimk8NDBQQzhNHO2JzyqLFRq1UVdaytcwvZ2IZNKXKjNqdXpErzPUjSwYg4ExGELI9EOLfGzw5meOJ8YPOU2fvmlO30BHyrx64X1f6Cs6eO7SlbJCpaq5EVVVi+Qww9aGTCLAqmexTytsm4334DDMgkcK++VQ2C/1l5+cOPQ0ZdqGOf2Cmrz32VD4s2Vsyf09xVm1itYIPTe3WGMX6G1Fo2EgVXLc03JOQJQ7h0n6eLGpraqq0RCaWBJweBgyWT4rNwl4Q8ZK9vRypT4ozhLL2yD0vNxitW1AUyuL+vuAlt3cdyaN2XpJC0fbRl+8UWXnFsmt7J3IVEqjJzE5ucVyK7sPC9+PDUs3V3vCm4pihVJlRNVCkRyysuFQyMQvJZXKnLxiuSWniYU5CzaIqmswVm5sMpkAMlHAj7Wb+B9faGFpgVEIBRKd/lNrU5hCIWN0ag2Cfu1LAmAKiYTRaFSGxmtdmrOTLb6yIEeuqft+vFymREhkKpYeGr1+z96dG9etWbVq1aplI0JtrLy6TpjSP4RtSfruuti5bVhTfPqFfVeeJD65sO34Y7lbaBuaJf3T1vqSlFe8SmH5m1e8GjKHa/Uu+cL79ugegHl1cue566e37L+RJZB+/j0WOL/uXX20T4/su/W6SFRTml8iUhl9Ooe7aZOvXHqZknDqzL2cKrH2G9NRKsOaji17+zSrTKCAfbp28dElHtt/63WhqKbMVAHq1b1bAPbtmV3nr53auj8mo1KiN0IQ3s9kmHR8/61XDYbazz30wjB8fJtIKorFShUKYV06R4SQ068dvRt7ddeRu1UuYR1dOdaNnuNSrK3puPKUZ1mllQqoaXg7D82rmLuZxWk3rsdXcpqHezOsvzgSsI6tWroReA9iUsurxHkxtxPF9gEhjgzLr1xVmtulSb4a87ag6NXlm88Vri1DbJmWWMXz2KeV9kFt3ViMbz0ujnXu1D2YmhVz/M6DK7uP3uU7hoS72TIJkOJF7FO+XWBbNw6z3iVa8fZpcmZRJT/77s7913nkgHb+NiwKDClexD2rsG0W5s5mEd/57BZMy7l18s7Dy7uP3q1waNXe3ZaJ1YhL3tzaNXXUoju47lFDQt1tiGhFSuKbnOLK8pRrGzefzWaGdgmysyFVpCSZC1Ovbdp0NquukPLJ7vDp3MlX9/bGzTd5Ba+v3XkubRIUbM/+xBc+0YrUpLc5xfzy1Oubt5zNtArpEuRoS4EhtDq3oIbVxN3KwgJoKOBfIqJYh5BW7vj0C9vPxb3MLsgrFEi1jb++iWE42FkgGfevvchMT3n2+E2ZXGP48pSNtefa4qufXYlJyuAVZCYlmC8hBPbo5oW8OH04jieQCJKPHbzBwwd2bMlgewX36DNgSD0D2rhbUe18O3cPdrMgf3+7QVifMSuXRrKS1w3q2GHMCWn43MUjgxysPh0nUpqwd2pXL3unzjsq2k6ZHOFi8+67C9im0auXDXLMPbRiWyLeyY7GoH3+ySbeb+zqZZHMpGURXjY2Pj1X3cqvQQOj50cHVB0f1bnPDpmHH9uCiP22lyARgn+ODMInrxvYf9GVDKFr1OqlkawXK35qamPj3XNlTJ5I5xm1cukgp/wjq7Y/xXJtaQw6HgPDeL+oVUsj2S9X9vKuM8wVfvatuFiPVoHscl6GSCZHIIzzoMWLBjCTV48avS07YNr8ka1cmI3PQhFa9eobRHi9ccjARZfSRJ7RK+Z2VJ0cGRI84a71kDkTw91s/uS1G3j/MUvnRuBvTQ73cmw+J9l13IIJ7d1tSF87heN9Ry+a01F/YXyYd4cVqe5jfhnawoWFlybGPhM6BIW5sBiEb/8sOg1YsGAgJ2Xj2DFb0r3GzxkR6sEmQNLE2MRq+8AwF06DS1SSdXPj2M4+XK5v3508jwkrZvTw5lJhSJYUl1ht3yzMhc18VzmmSf/58wfapG4eG7Ul1WPcnJFtPDnY0gvzBg/55UCB19S9e2dF+NiQYFT49tKqEe08uU7BUWek7eeunNzZ244gSrm8aqSpsFXUaWm7uStMhZ/pILzPiHmzOkPXp7T3bb8kucnwKUODPdj4P9gaRSmX14xs7+Xo1GrMKXGbOSumdPYxuTTWpqQW0J09HBhWeCCigB8M438MInm5LyqEW//9dRhLdR5xOF8gb/izJu3w6Fb2VBwMwQTnUSeyBEp97t7+nq79d6SVS1GjERGdG+vbpNe65NJapM5fzeNN/f05FCwMQTDRefSJLIECNRrlqcenhrtYkvA4DIZo327WubQqpeHDSFQ3pjVz6bXmebHYYPx+MSiEghqlzvzt/i93rFpSI1Hrv2CoTd74k0/Y1JRs/pc96eSiaqFUrUfeudJJhUK5plHBN95zrVRYLXnfCJ285qMK6uJ7tbm3X9vJZ1LLlV82/EPAabsGhUftfFLw7k5qZRK59nN9gWhlIuH7cBB1rahWpdN/Q+MQtZhfYe6R/6w/VCKBSKbRIf/FcaL7Uosb3drq8lK+WKk1oF/lUyrXvr9rUmF1rVL7UT8h6lpB5ceN+WThF7qjRiCSanRf/BgimtqqSuEHLtGqq3N6DFp66XWZGjUCAD8WsNH4l46YIMrq0jKhCqKw7OxZdCL2w8xWW1NUwFeRbFwcmWQ89muWmFpxaWGFxGhh7+LAIOMavKEKfl4+X0nhejqzqQTsv32tqs87MHrADs2Ii9vG+ztbfY/xHYoavF05+MCW8W3cGNhvuRQVxMwbc5wyae3k7t52ZLDG/VegSds3cUlGqxkzhoZ7McG5IsAPxl8VUcD/H9L7G+ac5elhHT85LoMUueXI0r7+ttTv50Wjsgebfj2brYVM8WWS+m48uLRfoD3tW+ND5ZXFtVg7G4b5YCrgX4BWXM7XkG2YVhQiFvQGAIgo4O9CkR935UZ8apnW0qVV98jugQ4WJMz3FV/81Zi4lFKtpUvLbv26B3EtSeBV4gAAAIgoAAAAAACATwBSBQAAAAAAgIgCAAAAAABEFAAAAAAAIKIAAAAAAAARBQAAAAAAAEQUAAAAAAAgogAAAAAAABEFAAAAAACIKAAAAAAAQEQBAAAAAAAAEQUAAAAAAIgoAAAAAADfG9gVK1aAXvh/AFEI8rNyKzU4GpWMx+p4v5+48Epp58Chk//jn/LX8e4dv/hKYfuXnNSB1ry+duZungPXjkYlfvCH2vRbxw4cPp8ks3V3ZNLAT1UBAABAY/7yTzYiNSmXDx66kpAtROgOTdsPmdQHvbHxTFKZRGvEWIRN3TytsxOD/O/+FW20+vH22b9uvZFapTRgPCecvbail33mzb3bivo0C/axt/6Pf3panXlz/7bCXv6tfP+CkzqM1S8u7D5CbhESZMuxaFTDm13jx+zKoPsGdmyBg4zfuG2BitOvHzt6JT6Nr6PaebYdNGFkkODClpOP8oRqI4YeOn7N5O5etlQYfAgBAMC/VkT1mQcmDVv9ghLWu3OYhZbPK67UGz2cfQLUrPJXNy6/zCxXaJG/HqS6OjejBHH0cWVTf7xUCBXf27x0f7rD1DNHo0ItqquMrs4Mku4/7nD+i4un3loP6t/eif23h65Lvnk7k9pt2W/L+vrZU75R7fTZR2dFrXmMNuvWqQ0Tqcovq9Rog5hOTf0DaSWvb19/lVEqU+uNEPTXRFQtys8u0dt6ONtYkP84NFBpUXLCo6dvSi3aje4X6sRq3AZ96aMzl55pfQdHtnVl08BjDQAA8A+IKJJ9706KttX0YzsntHSwaJjEms3qACF5+/Lii3D/lRi1z3eNHR8XtPn4kggPDvZHy1z0aUnJAtvwmZEhHnYckj2nTp7+U0WWPT229WBFZHi3UCf2372eQGUCQS3CaeJMIZG+udeR3NgHKQq/cfu2Tm7vznw3EJyntuiHFBwuTyrR/1dk/tX+qZPvuS7au7hvAPcDmUelaefWLlp/PFFEd3T17OHZX4c0Umy05un22dO338l1mx3aoYUzEFEAAPCPiKhBXFOLsJq7MomEb5qF9FodhoDHwh9NzYhWrtDgKDQSHvu/s8kHkwh4WFItUOn1RugDMUKq4ndMWfemROc5ZNHS0WHO1kRYybu2ffORezkGj76zF0a3d2MQau5vXfGA2jFQlnBL0KQl8uJ2XGGV9NSsMU/CJq5wlaMQUvVo59T1b4p1noMXLhnT1sUaL0g4sO3AtYQMId6125QlM3s3s6NK43auuIdrbl8ceycpH206ZMGSUWEuDBKMipOPr996Nlnp0YpZLtO7NxahoutrVv72oKBSeWr22Dc/zdkwMRRJPLTlyO85erfeMxdEh3uwiDUPdqx+QGoXIH92V+A7Z9aAZk2s3wk7IhbXGhiuziwy6ZvEXq/TYXB4LObjAYDqFAoNlkQlfuJvf0STfWLOxA3JrAG7H/zyU4AN7cNHxvriyysWnxdTGWQ6BewmAwCAv8J/vALXJW3s2ypw6O7XZSnHJ7T1d+U6cN2H/ZZVKTd+6SpVzuUlg0JdbKwsrO38us04nixQmDMSpOjUhBAnBt3Syppu4RA4cMP9QokWhSDd8839Q4KG7UoueX1sXLtmrlwHhyYdFv1eWKM1/ig9TAjq2y8QTtqz+vSzwtrGYetfX7pcatcy1L7m/pb1p1L4tTpBzNLxi2Jkzfp0s+Ht+WX+sVelEoO+mpd4d+fMWfufK8isph26t3SxpnGbde3dr7Mfm0aA9a8vXyq1aRnqIL6/dcPptxViPUSAaS6dR06d1tuu6PSKTVdz+DLUKOIlXV238HABK7i1fc39zetOvqkQ69HqmFUz190ROLXykiY9yRXVahvHbeXZtksLF2sLx8DuvX4Kc9fGrZm46LrEr1cX2/zfZi449qKo1mAQ8pJ+3zlr9r5EKYFOIjYolS55x7B2LQZveZL3+syMri09TENj0M7XxbXol/pJnXtj9aj2HnZWltZ2Pp2nHHxaKtGZewstPj+9gyeLbmllRbO0b9ZvVUy2UIVCuuSdI8JbDt6SkJt8elrXlu6modF+7rWsSrURrYjZcziR2HPpumk/N7f9SEEhTfapVTtf2w+bM7S1O4sIpgAAAPCPZKI4z5/nrG367PCCneme42YMCLClE7AcPwerLxwiQsUPVk2ae0YaHL15fgsy79K23fMnQ5Znl0R4sEm2raPWnh7LZNJhQdLBZSu2rzgQeHpeJ1drj16zVnsFH1m4M9096pf+gXYWeAzdJfDj1OK7hug3bsumqkmzto0ZlLNs5+oRIVwLgqkc6/jzvNXz+nnXsosHH8rJUckY8ZdiJf5jNk2Ibklxquy5+P79gr5evgQsJJM7Rh0+8WtnDzZerHyw7wohoGf/QcGu2OtE2ORk1fxIn1pOyZCDOTkqZUtMk3Yjp7QzaZl71YtxMSnZtX19LHA4GLGJmLdybqSv1LZ08AFejkrZojT2+mOJ/8jflkxozXyJ7f3LrcYrKoy1T4euLS5svykMjIjs2xK+Pjah1m/EuoljW1Fdhb2XPHxY0Mc7wBSbgjv6t2NzuzXlEBtuCc4tYtpyt6Bjy/akOAyeENnSiUHEsr1d2F84Q4TWxm+aueA433vw6hOhVsUxu/eumGGkHV3aN8CegrEJHrH86HALaxpWmHx89eoD6w/6uc7r6eMWMXWZW7Njy/a+tRs4vn8rZwYBQ3dqwbUiGMvj7r+odWhpVxZ/5UAsjuPXrlOoB4dWt1mizz276WhJs7HrBrUS7sHDVWAKAAAA/4iIYpje7bq56h9tJJc5t+wS0cONRfwTXUMqb52+VWQ7cO+6X7q6sYhQB7a018SrF+LHhtgz7WnurbvU7Sb6eM0tfBi/jpclU7dBmUzvtt1c9QmbKWVOLTv3iPDgkH7A/TeCY8Tykwyb2dPWLpsEkU6uGxRINfWgraMjlUjAMJnWOGW1BFFlZuarbDr4MSkUHMPX14nwLJ+nUbnBMITzDu/sYW1JhKE/5HIYW67ZCYthjVNVSRHEfI4LEfOexCc8TBFIhHSJ3mCAYBjC2nK5VCIRw2Qw8GqBFDEoszNzlXZtm3GoNBy1SRMbMgn/2RZoeFkFKk5bPyaFimf4+jgRnxTyNCoPCIZwTdt39GBaNb75GIZXmy4uhme7j5U4BnXs3svf4c82TdGq3y/eybP+ae3K6b397MlwZ1vlwCkXrz0a3drJ1sWK7Brc0bXO0HtWScKT9YXZEkU4ZOfZurOzIXH3ieImQR279Xr/TFTDyymQVSed21Xu7miFCvPzF3Mi1x5aPSy4iQVcdGn78SKfEeu7eDvQxeDjDwAA/jER/XYMvJw8lbVPS3caxZyJWbRq4UM7k5ZTptZ4QRh+/Lnj524/z6nSkiw0BZViN43BiP7v9DOGGTJl736ldOSe45fSwp1amMpgGANBMISBTRoHoQqpXIOS6RY4HBaCLeg0rFqiqBNFmEyl47CfvlX1TmBzmmWEICNSfmfVlAVni5n+XhjzYZp3IWCwZst6qUGVMoUWJVtY4nE4kxv4CwdlUaVMrkbJ/8fedcZFkTztmdm87AJL3CVnJIOAmFEQATMGzFkxnVlMgGK8U8xnOsSAignFHMAsKiggguSc4+acZvb9LYiCp57n3b3/C/P4QWZnpqu6urue6uqeGQoVi8EAIJVKwUhZnXWD/uAeJ2VpSblA09bdWovaFiRRu7t3007IKKkVit1U2kD1s8SzF269yG+Q4CnSqqoWMxmsQr6Yz0eEPJ4Y8FyRuH/ZwG4GOHHeL/On7zhzMbOPhb5R3vH4bHrgFl9bI02MEh39KFCg+LuTaBdPh8AqFYiBwA43jsFAEIjAMII0Jq2ZuCxJ4Dx89Ah/YwLnZcLbMvDft+OD4jEi0CX+56pSqcTpMzRLwBMgUCGTqRAEUMlkMhWOQICg32sGwcODOxP5A7efWRdMubNwzN4vUgVEwOPb5CEI8klDfVY3DKCQy1QqBFDJZXIVFk8AIehP6xtqHUDoY9eAMBgIRBBEpUKabkbPWnGxyTJgxJAJ5mT+60uFVV/fdgZhMVgIUCoUiEotgmzfx8dGM6OmTCBuTE1+Ul5bWhg25CQOA6gkzPpWRdHMcfUb4qPHuZlpoTt0UaBA8fchURKJBMnFUhhBOp4swFrbmBMvlr6rEw22Akg4QJybWyLAGtmYkoG8Zy+bGCF7928MttEngjy9vEvPGjpNtshEIiSViGHkHz41VXI5fCXRiIrBfG7mRjI3M8Kn11cKZZ4qeXVNg1S/uwWeQOxKEBAWA4IqRAmoPk97ipriUhbV1sNOl0IUyeTIV8iRaGpiiHteWy6UeqlgLoevUGK/SKYkMzMGIa2+Sij1VutWL9V3sSAQid9nBpBEImEUIqnyQ3tiLa3MSPyKgjqByElFIYCS/PxSHmhoZaJBBt+9eNWgGxwVsyHE1ZgM8hnlN1+Wd1KMSITkUrES6fQ4MtnM1JD4sLqUJ+qDAHhIJRSIYTxFA4uhdp8cvbc3S6Roq6Xi3fltp+tdZswY3cf0v/4+EBQoUPzdSBSja0zXhG88uPa6J2CJ8FVmHg4M82Gh/nHLzkfvNl431YdcdG7L6VyC725/I5oWQtfHNWfce1roqkc1JfCEUmVn7481MqbjWtOSbqTbgM4UToPMxMOBQSVh/xkWhkvuJ+YBxqY0uPjKrjPviP2nemlrkz9zIc7Z39fm5Kmrdwp9wOYrj5qN+gzspq39yfZRDZoOFZOa/byw1srQ9DMUiTEwNCBxCjIL6tyZTx++a2FbKlRf4Fu8q7+vdfypK4mvu/E45+8VtbA8vzghxTkP7G978tS1O4U+EPPq4ya6z+JuNO3v3NoK0RiGWqrnT2+97k0U4MUqYxd7RmCI36mV137aawxP76tTdWVHfBbSI3qAqYEWTmCoh2dmP3xe0N2YZkXmi6QK+GMshWUYGRJYaTduvbQnynQEzTKGs72Rtssgv25nDiWeeuTN0LJmXz9xIx9xWNldX0fXzHKQWfeOeyVab365inTzDfCx1aNgUVeAAgWK73Jof9lMtP+02b6ab2NC+7h395u273EtTw4yRm3av9YPuL1+dG9v/7D4lu6r9kcOt9EnEzzmRC72JzxYNdhel0TQMJ91ppQPELAd6ULIeOTcGT7Qi81jeznYugycvv9RLe8f84gLwil/cjJyUkAvn4CF5/n9I3+OGGZn+PmNNoTu87au8eXEjvPwWvCQPmPt/H7m+p/yFL7HiDEe2FdbRo+JSCpsEv/KCpD+kDkzfcTX5g/0XZKFp5NxOOUXJ/B4j1lrZrk2n5rmP3Ivz9ZJX5OI+eIyNL572ObVA/gnJnh5z0/WmxI+r7+V4Xfv8SL1njDNV7f40PSBnt0HTI65W86UGQ5dt3N1oMbTbZMG9PSbfayq2/wd60OcTagQznVa+MJArZcbRroYaBA1TKfG5rQqCZj3eW6IMWTG1N6k7F1TfZ3tXHwn77pXxpQgeLdZG1cPozxdG2BPN/ZeeAsIDl850tkUzdeiQIHiTwf4pXnKnwIZq7KiWUFlmNK1SNgPLgwWNFQzMfrGuhQ8trMflnHraxtYElCDpk83oJHxXZe+ZOyaygYuQmVYGun8097GgMj5XAmWQiHhf1tvRMphS4la1C/XEZHz2TyVhvaXX0oh57HEeE0KEYf9bTMp+EweRNUi43HQn6Dbt0POrq5slpENTOg00gfRsLCplgnQ6LpUIg7qWqPG2gamGCBp69ENdMgETOezck5dZQMH1jA0N9L92G0QYVN5Rb2AwLAxN6ASsWi+FgUKFP84Ev2rOKn1ze3kN3Vc6afv5YUYPUIGu9GpBNRjokCBAgWKvx7/yLUgFfPt3fPx6bVcxScBAM4d7NXL3oCKfrELBQoUKFCgM1EUKFCgQIHi7wt0rwUKFChQoECBkigKFChQoECBkigKFChQoECBkigKFChQoECBkigKFChQoECBAiVRFChQoECBAiVRFChQoECBAiVRFChQoECBAiVRFChQoECBAiVRFChQoECBAgVKoihQoECBAsVfBkx0dDRqhb8WYmZ1dYsURybiMRAIyLn1VfUCsgYJi/3Ma/JlxffiL2YKGcYGVBIORDi5N08cPXbhlYBha6pLIfyTQh55Y+b103FxZ66kvMxrhgxNDDTJuL+r/pKilITETL4BQ1+LjPsrvgAkLb6fcDmTp0fX1yLj0U8M/YaxSh5euJLB0jbQ19ZAjYUCnYmikGUdnDV0yrb75UyZCgCQ2kvho0asKilr+rwDyb95eO/pR9UcsQqQZO2bPWnpz/dLGoVKHAj82e4EYT/dPTN05YmsOh786Zlnu2eNX3ki81dnvrns+hsRUyavOZZazap5cW7HhoN3KlpEf9mXDhBO6t65E1bGvarhKr/rfknBraP7zjysZIqQzoXuC5u48lh6NeebClUUXIwKGz80sA3DVp7OreV9KAwRF9yO3X/mQXlrFwHP98+btDI2rYqj/HePAHnjq7NbFkxeduhZeav8/aCoehQbMTXIN2DypstvG4Sdu5lKUnQv7sCZlJImQaceo+K+PPTD1BVHnpWx/sfWUnHTjiyZvuLQkxKmAvVuKP6ET6HBrLeXY49deVbYClONu/WfMH8kcn1HQlotV6aCNPssivnB31yHhIaT30O+r2/eyqcGbYrdMMKBQf4LTAhL+Bw2RyhVIp/SGyzmc1gcoVSBfB/xKfIS45N5Pitjt0zykF2YMf6w6nepr2h8fTkhW3PUyH5WdM1vCfNgsaCtJnJE9Wea50OhisaMK+eyqSOG97NmfEkhUemrp2+baQ4OdgYULNbSUIPwWx8uhyUCLpsjlMhhlaIxM+n8G41hw/rZGGn9gwJbRVPWtfNviEHB/exNtD+nN8LPufBj1I4LGbVNPMvZI6dL24IIUdbR9WtOVJl52+HenNy4naq7dWZ/OxrmN6wl5LI5AokcRhRNb65fzCIEBPXtZkr7f7GWsvnN9Ytv8P6D+ziY0do1aWs3FQCgvg0l0T84iPJ/mT9pyytyn+H+fTRlDcVVjQqVrYWjq0SvLvP65df5dUIZ/MeVlLSU5FXDpo5W+hq/+lIo3Jh69lyebtC4AfZ6lK61Qbjl6U8ePc+u1x0UNsaboU38R/V3RNDUyEEMzCxJxL9GcUg/aNO1oC+duRr0R1QvLauVGw931qFQINnvv53/In5vbM1QHz8fK/o31UQvcMPlwD/bPHqDoxIHtyvESjq9/1jVYE/fHtaML42EhoZmubn/orVhfg6G2G8TEBB5MeD91D/pzIFj5f7u/XpYG/2j+mh6ws9xJf2cennbmXy+kqBIaThy25mJqVt3Zr83i4rzLOlOsV7AuqjlQ3Sfr53605MnZYMdLWmGuK+IAnX915z1b7+fff3cobiiXvY+3vam/z+TT/7rC0fiCrysvby6mYG6fuGn/VDqQPHnkChcmHznrcx7ycn9YV7Gmh385rZ8AACXHi59XPnnfPJbln5g9txHHjGnIoNtDTqH9wgvNyFiUcSZN5pTbPx7WOtSsOAH/sw+Hb16+5kMPs3Sxj7YdYoC+Ru6oManv+z+JelZPhNvPXhR5PLhrnRKh2Err24+ffZBZaP49LKZWUNX7ZznZ6nfMRtFWu/v2XSf1N+u8d6NFzWkPmERPwxxopPZKXs23ScPcOen3mpyWb1yjJ3sxeE9x25k8c1GrIia52+nR4YAhJV96eDPp5Nz2UYh0ZudC45c53gvXzDSicZKPrTryLWMVmrvsC2rx9hWnY063uilPmOkJS25ti/m+L0ihfWIZetm+droEriPD0QnQx6Mmkd3X5bC3caviZje10rnPdUjlde2bT50r7RelLBqbumEiElimQrAt2suLrm+f3fcvQKF1fCla2cNsNUjAY2px/bFJj1514K1HLRg/bIRbthXB6JiH5Y2cM6tmvWyb1jMMl8oP7WQ3GOAp6W+RkeHklQkH9lz+OrrFkrPOZvCx9rXno8+Ue/2w7xRLiba4vzEvTEnUqppgcGWlUXk4LXTezQk7UsGnA1rnqWkFcvtxoWvn97fWo/0yRxGxXsdF374bbXcedraFaM9TXGZv0SeqHOZP5LyKO74g+J6NmvNnPQ+c3YsH+Vq+uvZorKxoUVD31ebSPrihErFyzixJjanWuo0Ze3y0V5m+KzYqOO1zvNGUJ6cOHG/sI7VunZuet85O5YFahZd2n80Kb2R1GPWxlVjvSxoH+lFWnH36P64q69YRsFL1s0bbMe589OBx7iAH2YOdtSrvrj1YKZeyBjDnMS3xO4WrakpL8shrxlrFg13N9XCAoC47Nbhvcdv54rNgheFz/Z30Je/OLLtntJev/7lw7QiqVXIinUzBtoZkCBAWnEv9ue4pHQmPfCHdfOCnA0VL45uT1bY6tWnP0orlFiFrFg7w5eWF7f1WHJ+LbMxYl7Gndnbl4V4WPxqOkntPW1Zb0D+PPfj6qY8/+27Vi1Ld3MajWTk5mpFTCstYvF6IYadZ5UIPys+8kx+pch+wqqlY30sdZQZJzafqLSZPkz7VcKpe++qW2sjF2Tem7V1ngf34dnYyy/qCZ7TIlaG9rTSbZek4qT+8lOK3Eat8qsyhe3IH8LcWXcTziUXQu7TwleE9rLSwbWknT4cl3j/TQNg6js7fOloHwtt0YvYHfckFjqNmU/T8oUWI5etnubScnVf7N2c6paqDQuzUmZtmWuSf+5GlcXUGaN7GIueHj9w5PKLOrzH1PUrx/cyFj4/+fPRxOe16uMVY61Zd+PiLqW8aQBMfGetWjK6p6UOusj778MfS4Yo2SwOrGdupUvA/66CFLL2VMinnCwT8HgSBfwtOTm49Mq6UX0HrUhmYUHok80g0vy4H2ZtfkSZHJea9y4j9fb2MTb65L9h58WBFMtB0374YTi9/OzGnVeLGvkdVA9q2/cb5GmprWnqETR8WB9b7S77XeCW4pfXdqzcn020tVS9PbY66lxuHRdWtha9vLt/2fIjaUKSJkHwZNvCqNsizzFDTMqObzmQUtEkVknzYpfMWX+xmjFg7JihPrYkfll6alY5RyzOPbFu/YVqi+HTJwf1tKOTcKqWQvUZtlgBN93cELb+Gtd5WAC99MiyNSdeV3OUCLMkLemndXFlOl49jdn3d/8YX13H+qCdtn0ff08rmqap++Chg73NaeT3fhVpuhU9f/1VltOQQfSyX5avPfGqiqMA8CDFwm/KokUjjKsvbIm5kt+gNO/p52WpSzVxGTRslL+LgTL1yMbIH6LPFzV8WKBV5J2KjLhQYTZk6uSgXt3oZBzQWpT+PKuMJVIgTbc2L466UEnv3YPw/PSpy7de1QgkcmZp+tUdEXElmh4+JrxH+3bEZ9Qw5Z/25ezz8bl4E3NC+aXoTfGZVSxpS/Gr51llHMCkx0BPKz2qsYvf0JGDXOmahM90JaS1oUmoaHr34HFGUYtQ/rkerHx74XQO1siMUJm4aXN8ZgVT2lL8+kVWKRswVgvQ1zR29hs6apCbXt2l6A3nyuiDp0wK7tONoYH/GIoi7Ec7l0VfZzkOD7KoPbfj4J3CZkN7fd7rxLM3CusqnySevlMNmRgQ5TWvb+5ee+C1ysQUKjobFX0mo5ylRJrvbl8cldhoNcjfpDZ+bcSx1BKmjFn2+kZMZFwB2cXLRPjsYMyp9LIWOcJ+HLNi07UW+yGBlg0XYg7eLqgVwqyy19djouIKiE5eJsLUgzHx6eVCI+8BntYGWsZOA4aMCHA30iJ+kxNA2PUNXESbTtcgE0CMiTGdLOM0ciWSLikrODcxIUelb0KqubZ9a3x6aasCbi3JeJlVwoQZnr6eNobaxk4DgkcEOPNu79qUUKjrN2HS0L5OxhTChzgaULHLM27u2niikOTgYcB+uG/RmIVHy7TdXHQabu09cLWwkgOAOJBi1i907sIQK+bNmD2XssrZShWrLOPm7o1x77DdPE0lL4/sji+px3v297Shaxs7+gaPCPAwoYrKMl9mlbTwRQXntm5KyKcNGD9paD8nYwpUen7bpoQ8Ld/QtmMqkQRSzPqGzl0QYs26tXvvxcwyFoxSDjoT/QB52o7QJadeFVcyZblhfS/jMRBE8o28sXuyA4P6Zb4SF13evmFXwoOcRqWWdc/x4dvWjXWnU3AAXHlmwYTIi9m1fCVENHAatixmx3xfC22CMj1m4tKTLwsrmLK3c/olErAQiLGdHnti5UALLW1L3+WnNg9CEiYue9F59CJ1V/YcfaU1dm/MogBrPcLfgjzhkpPTfE5jIRAAELlEQg5uz+f1n7qov3qqbd2UNvtGdhF3pAP1fWxDcxwYUJe4+xbLI3jMKC+LrutNWCwGUOgO3vBT5GgHke3U0XsePakJsbfDYQG+wGTGsdPhg6xll8JSBF4Ld84KdZIQi8YlvMzh9dfMPH7mNXHI9v0Rw5wYJBDgX22nNxXrXU455DRr+sQp3c001fbif7Bl9d3LDznOU7bPm+2tYdU8LPLBfc5IRx0sBoINglZFh491FhjVTzhaioiEAKD3XnWHAQGel/bdanELChnS04KZjwUBlbqoe1cesh0nbg6b7UO1YY6IfHifM8rRyq7v5AV91f3JtjVj7vXcInbIuF4B3a32XMa6BI0e18dWDzCZvVroTeljS+9IdSCsvNwK0GHy1AnTvCzb5oQf9IVrUq4+ababeHD9gn7G+eSQBRfxWBCDx2JAxCBwxYbwUHeRadPko2XFImEvwADf2agYevCq7ZHj3GDXsNCdL55WjLFQtlOhhnXvQZ5W+65AzoEh4/rb63+WKVQyDUsvk9rXp9ad3r2j3+KYmIUB3Qy67gWA6MErt0WO91C5zx+/8+XTyjEW7/elaFj3GtTdev8VwHnwqLG+9qorJypV9mMnj5/ay6brih/SmHwlheMyed3MSV4qWvXkMxm5LX5jQ8b0u7z52YOXyuqHAuexw1zNjHMxgELHb9Wm9RM84cSwSbufP6sKccZkXX/Uaj1yR1hYf10nwbgNqY9KRlogWBDWD1geuWqil9yKPe1IZQmX37vhzZX7bMfx4TOn9AD166aezsxp9jfGYEBEP2BpxKqJ3gobzrQjFcVcpG8fv+42B64gTgEjx/o70zHfmhsViRRYPAmHwYAAgCMRCZBMLFIolSrgY6QIGQ5evClikg/25uLJO16nlo/26Ejsa1j6DOxuY5CkdBo0Yuwg+osHjSqboRPHT+tvr9vFWCBW3UuNBi9dt2KCl9SSM2tXmc/SpctHONXQmpfcK5XxeQBo2XPs7J7qzucszFuUWFDM5HgzsFgI0fdftG7VlJ7IFcHMw1UwrOMzwNPWMEnh6D98bJA7Q9z8PufCLsyvUFoFjg+dNtBBFwJULUn5FbBlwITQ6QMd25Whj5nloy7fRVSw6FJhcSvHB9HTQjdzoiT6/ka7ESu3dXsRt3b/O7s5S8e60ql4jIGzsfZXNhEh7Pub54cn8HrMilnjSSpO3PPzmgWA1rnIYFt9Ir3XzG1nZ+vqUsGmtNgN0Xujf3E/u9rPimY7bPkW+x7H1+1/ZzNz8Rh3hiYOolq6G1JwEME/bKWagB5d6ioRqU2+my6w9DeqvHv+MIynu/kG9LTWJeH+p2QKMXzDpgx1YWjiEOazX/Y+/OC+YXZR6qPUB2+beUxtjgL+fKAqacjPq2htW14GycbOLloACEBGZhYaBAJWz83JCLpaXi4QmwMggHPw9belaRHkj/NK+HhbbnbasyYCUy5tbGiQCzJevWEadh/opEfrusgK6jg6mMmPnj2a7LZhQg8TaidTSYsLysUGfZ11yRo4HUdHc/zzCpVUDIIggKGbmGgQCBBOh4aTNgLwb4bY0pKCcpFBLyddjfaiCKkVKom4zQac4uePUx9kN3JaSVyFUvnp0mH3MfO6d/lFx6GbqeLIudgUd8OJPc00O+krKy4sEzK83QyoVCyBYWRAJKowAAiBIAAZGhtTiASIoNa3lq/8VAwAMszMKSQSVtvFyQSfV1MtFJF/xy4ljO3o9T+PXg9Iq29snBt+6kCCj+0Sf4cuNA3RTc3UAmgujib43JoqgYjyOQGQTjd7U+Xhi3HJbkZ6fSy0O+X/5EWFpTwMnfcu4wWP1CyRNHEbhVIFPWhc4JklV3efqNIec6C/lbE2Ng8CMQyTNmE6zg5G+LzqCh5LWFgh1HF20KVQcTSHbmakJ9WlYpEBAGIMjY00iERIQ4eGk1Xw5UpRYWEpFzLg5WW+EJCbRJImaZNQKlOBIGRoZEQhkSAKTRsvZfPlCsV3beNSITCigiCMuhcBAAhhIBBQISqgS2Eg3cSMSiZj9ZwcTInZddV8ocfnFmRAmp2dKXL/8sl7bsb6/W10OofMoPqfriGdTCRiCNqaBC0jA10SAY/V1tbCy8SAsj2Egbllr549v59R09piyJPLFWqtIAOGuqJYPE0bL2/puPLXLaUWrrqfdOqem6nhAFsdQvvx1VPJ7qZ09TH4vvzU5/czqltb9HlyuRylHJREP/YgXYd+g60UT3aQai28BgUH/facD268dfZWJX3coe2L1TNEYIA+b9i8pIuPZ/sY6RpRbHoNsmm7zNE+vOLB4+3FBXxJb0RX16HvYCvFsxhyrbmXf1CwrcFvbrKRFxSUCltz4nfX25lqKZqKS9cbTdp9eus4V0MNzP/MzCDVqu+w0UO60YmqcvG94y/aHAZce3vTwrXnqvXdugEKRO0jPu+UYNbzE1v23y9tlaoAyCJ0989T5Cq194EANZlpamvi5GIRjLTRGIlCxWKwiJDLEyurnpw88K5tK5Y2w0OHIGezhLCWngEB92lAgXeft3V99eKoiEklJTsPhg93InYEJCKeQIK0lYkBQE0qBSthA3A7/UAQRi0f/MbgRNVWFJFCxWGxAEilUDASJgDDcN3drYvXJZTTnOwhOfKNC9d4t7DN66qXRm2YMrXkpwPhI1zIHfqK+XwpQqRqq4V8sm9Sra86+Pjis0Ig2DZFgDQ1KViFVAzDhO9oaKL50NnjLj88UPSOzfdBDHSgzwigalKwSpkYhkmfT/K7zt64tmb5hq0zppVu3bc6xN2I0t5x1a0qklc/O3u4gELEAgBJ31VXgwABGj2GDLJLzEqxG+HnYmRIAgRtwqC2mkKaWlScUipW8DlCCUzUoOLV5qdQKFgZV9QeSUBgG59B7w2GiHg8sbw6NeFI4Q21FIKeqy6FAAm7mvAPhKQQiUjEKIRSZVvgBcukMgRHJGMx2E9aA2yTRdGk4GC+BP5ClIZzmRGxunbVhh1zZpRu3L1mrLepZpdRDr3vomAb2qrYVt02/eGGB7vDo07lYq1t8WJY9XH8qSkeaLvxq/XEOU1bH14TvnFX2MyyDbvWjOvhPG3dqtrVG3eFzSiL2rU61AufsT886lQOxtKWIFaq0NVQlET/KJTFRaVimqOXDYXcFqBrens6UhJyi2olUnsAanh8/tT52+lFzTKiprS8kW0tVaq+ZzMQIuDyxKDP2tu/LOlpoYMV5f48Y8LOY+fG9DX1s9b7W63q8x8c3Jko8PspYX0w+da8kH3Il5TDmITuvhXaqYqsxI+XInKpHMFpEN976PdOAE/AYwgec2P3zPOx6nDk/Gt4CJCJRUo13X4ST5AdJ+65ZG21dMGunYc9nKIGvvcmEIFAwAAKuUylQgCVXC5HcHgA/K50FKguClTI5QjSVpRMpS5K+OjIrsucfpvj1w3TSlk8bq/0GxuI5DB+13kr6xWLYnYdcXeIGtShL06tr0wkVMLfvfiESKVyBE8iYjDfF3OBNG0tPCBUwF963AaRqmmDQPqyAFK3cT8lWFquWhyz76ibQ9Q4TzMK2NaqeDyW6DZj74+LfB30P94MF2e8qYdBuORNZg3L27b9zHtKQOQyBYLFEzBEEr7d/O0tKVP/CEGfaUq1FAzRbXrMtkV+TgYdUvi3/rysjJ6BHllVxeJJZUoVwmJypDhtfRqp02pmlzS5VAZj8V9pDZL96K3xFhbrlsUcinVxMJjU04r6jZ1ImHry4OVG15VH1o41TouYvrf199eFZBey5aS55frlOw/HunQzmNTbLmTzSQuL9ctjjhxzNimqPnq5wXnZ4bWhJq8iZ+5tRln034m/OD/fxY8gsEoFYiCwI4zFYCAIRGAYQRqT1kycvuFynUGPEZMmDO9jp0/Cfm+sC2GxWAhQKhRI284lDQff3jbk5ooSkVT697K8oqa4lEW17W6nQyEoZXLV73zEUcXncuRKBSKoqm6U6xqZkYmdMwFkc3MGpr60gCcWf4hESJaWJoT6olymUAR/NrXQY+7MQEtxTXGLSNxxAcnMjEFg1VcJpVKVvLq6QarHAAjE76ovycyUQWA1tBdVU9NWFKa1pIylYeNup6dJVMraHHzbJAqLhUAVAqsA1ddSId6zpgday+pLWoSijtws2dLKhNhSXcwViRGY2cqWy5Xf2lFVXDZTplCoxDW1zQpdY3MN0oekB4jBvFeoYzccIheLZTD8uShPXFhcKaQxLKikT1Y2EJ5agLxDgJkG+cMFIITFgCCAwJ2Sul4zpwXaKhtLWwRCZafWwDZVFnIFwk6S+c8Tr5eYhswdadP0+Nabmqa2FLlKwOXKFQpEWFPbJNUyNNXQtTVlELnN1QKxRKWoq22U0AxMSWTy5xrK1IyBa6os4ggEvxXFQhAGA6n17mipr9ilM/PYWWmwaovYAj4iLi2tkhiad6NRO1NQ8Y4FAACAAElEQVSfClDxOCyZXKYS19Y1y2kMU4rGx83UH6QC75sD0uk+bXJgN7ClvJnP/+YXICjqyiuYBFMnWwMaGVG0BXdfDIwwEBbsLLFL+r37lMmBDhCzvJknUAAARPOYMinQAcMszXmT04RXl69DRhQKBEFQukFJ9Pf5TBIJkkulMPKBHLDWNuZETum7OpGkzSuIc3NLBFgjG1MykPfsZRMjZOv+LRErF81fvHiEmz6l02oSSCYSIalEDH9TN9QwN6PjGyuKBdK2B7sRPk+EEMkUDPQ3W8/HGBgakLglmYX1ZU+vPnjXyhYqVKpvJ1K44NbZlOzslGMJT5jGnn3NaJqdn7LDOQcGOMqeHz98K6uSyaopq2aKZZBTUKA7IefUTyfuvczJKazhSeTv7amozsksbmyte5NVzCLpm2gTiZgPCauB/W3Fr6/dKax5dy3pcSPDeyCFRvuu+qqLspFmXL9bUK0uqsnQ05eiZ2eoT+KVZhXWlj69/ii3mdluAw0ajYqpffuisLpJqBTnHF84MmTtpbyGD688UtTkZhU3tNRlvylmEnSNaZ30dRgc4IrLOX/wwtUzu49cf9fA/Safqnb7cPGdhLtZGSnHzz9uMffpb6mv8zHrTVYrVJf7srCmUahQtiQtH+AxPOpeQcuHwpG67Bdviqsb695e+XHH+WKDvoPdjTrvK4JhWIUU3zt3NzMj5cSFxy1mPfpbGuh8bDGyNo2Kqc9NK6xuEEiqct8U1ze31Q6vY0QjfXhoBufoP9AJzjgbe+t1aQuztryaKZTKq29fSmFa+QwcM2ucIz/t+qPyeg6snp0mX7yf9Trl5IXHDbouPS30Ddx8+9gpcu7cyyvPuXH9aR3Nta+jnt7nEso4R7+Bjqo3547dfFXczKyrqGEKJV8KRdSGwTa8Sy+sqhfImq+FD/Yevv7mu8avr/xhzAcE9NAsuXPm9v3LB0/erWN49bNh6H/MEsEwooJLUi7ey3iVcurS4wZG977WDD38p1Lz1FLZFTnZxXVNtW/fFrdiaAwamfzNuTWMnr4eWViVU1RTnHrrcU5dM0+h+lLyi0TTpuIa818XVNbx5R+eHlDW578trmuszXlb0gJpMWh4dnFO23GO+tjIytyMKmov//aTt7VNfIUKUaGUg5LoN/dQXWO6Jpz34Nrr/HdvX6Rm1wqlKvNhof6G5eejd1+4/yrrSXzUhtO5BN8QfyOaFoOuj2vOuPe0sJ4rlYt5n7xEB2tkTMe1piXdSH9XXJaf9uxNrUA9qkX1xTlZrzNLm4UyEbMsNzszr5orU6rw7kEB9vDrs8ceFzdymzJPHrtRjHUf6Kmj+Td7yAUyGDp3Zg/R1bm+vkuzicYkPFYB/45BhrHQqdozMTBkS5bZrNWze5rr4bt6QufZWzaM1k3bEGxvaOg4ZPOtMpYE4zBrc/Q0x8aT8wZ59hy/80ENu/1FCHBt6uHFgd2MzP331PSaNz/Yhk75YCpC97DNqwfwT0zw8p6foj9t9bz+5obfNxMF8N3nbA4fIDw12dt7frLu5FXzfC0YZkGzZvjIbi30H7DkNWhAIuAU6kgJ7z18lAch68fx49Zdzq0sLysuyi+uE0g79rHAtc+PLg12NDYfGFPhNSdsiJ0x9UM3xthNj44Yb1lxcsue56AxnapLxUK/ndSQyxWgTWA/ydnFo0I2vDCcMH+8p4Vep6AE7zV0ZHfim50Tx627mFOZXVAiNPPqZ6Wn02FzpDX7YvSkPrYm5j3mXBANXLdlwQA7w86ZAbUA68F9ZeeXjQ6Jeq4fOm+8p5X+rwS8jZkUuu7czQt7lw9zNjUfsKPEdfqcYd06PZSKc5weFTHW6O1PIc4MukNg1OWCqueJSa8A1wG9zM36jhriRSi4e/NdbbNUhTGj1RyZM2p0VKpO6JJZ/WzpRILbjMiV/spLc/r6zLlODFkS5m9v9IVFWcdpUevHmuTFjHU1oncbHJGY1/SlVzbiuwcP707O2zttwrqEtAeZpQJjjz5Wenq/sZoMmYWsCh9nlL83bGZMttWM5VP72Bt85FCV2lhWg3rLr6wdH7LuEXXU7NAetgadV2LwHkHDulPyD0yfuHrvzxsWjHA1s/Tdmmc3YcZwZwtt6NvTyv6TJ/fGPFs7YvDCRwINIpkMw1/KwePdA4d6Uot+njVpzen0Cn77RXB92sk1IW7mlv235NiMnzHcCV8Uv7rtePNb69DpIwbOWTS1N/Z5xMiAhQ95ZKIGGVYiMMqi/0Ko/gikD9f1suy55FppqxT59JwkN3aal5EGFgRAvMW0+IImEaKCmWmHZve10CJAIITXdR67I6WcI4VVKrg1df+sflZa79+UBoJYraG7s+t4cHtRMOvpzjEuhmT1WZBgMe1UfqMQkaVvHWTVabYAYJ1/uF7SolZEkBO/yNdSi4jDQhDBqN+y87nNIqXqbwkZt5UjliuR33MPzLw038Nq6ObU/LJGpkiugL98qVzAbGnlSRQw0uVHFkcg7fobLOGxuBLFFxSBJezfr6bqS0UxOWK5Aulsg09/UV8n4zNbuSK1TCWfzRUrup5v0/frGsmydo1y67vgTE6N8Jtbg9PKErQ9w/wZxeXtCkneHZrQZ9zmO/lNsk8qxmlqYPKlX2uONgH8rwuQKZGO2im+UDu5kNXS+sXaw6yry/s6DI24l1XUxBJ+IgyWcJhckUzxDS0pF7JbW7m/3eptenOEwtwj03xDN1572yD9xm4i5/OE0q8UL+MwWXyp/PMjF5HzWa0coUwBw1I+myeWfdXuX1GCx+KKvtAin0oUsJhtEjtX/hPhv1JGzmNzRVI5rELxrwX4e1KIvxsyVmVFs4LKMKVrkbAfQkRY0FDNxOgb61LwXTYTyLj1tQ0sCahB06cb0Mj4ru8elbFrKhu4CJVhaaRDxP3We0kBRNhQWtYgIhvbWRho4DH/pjV9hJW4KGBtbciZA4t6WumgT519YcmrLG7OhL38MUd2hvWx1f3TNmbD5cfnLs7yWbcytLc1DfO37B7sa6tGri/x3b9zsZ+j4f+XinBF/MLlr12XLJnga6+LRbsfiv8O/truTtC1dND9dSaSamRF/dzV2sY22sZfLEvHrJuO2bdnSylG9u5GaAP/18B/sGv1+XwxLG/KepyHH/HjYGvGn8p1oLbfqsPDTek6VAxq7C528V2+P4hhqKuJMiiK/xbQ74n+A/0VCGFI9G5ePi5mmkQcum++6wRUJRdx2AIZ2cZv5rro+YPsDP7cx4NBMk1fW4OAhf7G3QOEiIZ2Hj1cLGn/fx8vBUnaetoUIg5C+yOK/5pD/kvTuShQoECBAsW/GOiKGgoUKFCgQIGSKAoUKFCgQIGSKAoUKFCgQIGSKAoUKFCgQIGSKAoUKFCgQIECJVEUKFCgQIECJVEUKFCgQIECJVEUKFCgQIECJVEUKFCgQIECJVEUKFCgQIECBUqiKFCgQIECxV8G9AX0/0+AhU1lBSWNUixFg4T7vi+zyYuTT13KFNKNDaikf8V75+WNmddPx8WduZLyMq8ZMjQx0CTj/q5RnaQoJSExk2/A0Nci/yXGlxbfT7icydOj62v9/702/h8LacnDC1cyWNoG+toaqLVQoDPRfzmQlqe7p/S0s3X29HK17bfiWnGTmPUkZvq4lafeNPDh3+HH828e2XP6URVb/P/2zQCE/Wz3rPErT2TW8eBPT+yZPX7l8YxaHvydRdffiJgyec2x1GpWzYtzOzb8fLu8WfSXVQzhpO6bO3HlsVfVXOV33S8puP3L/jMPKlpFSOdSn++fN2llbFoV51tKRQRFN3ctHuPX12/MsmOpVRxZp+oi4oLbsfvPPCj/VMCB+ZNXxr6sZCv/vfElMztx56KQAT08ewXN3nkzr1kEA4C8+smxyFnD+vfqFzxja1J2g6BL/VWSonvHfz6TUtwk+GhDFffl4R+mrTj8tJT5vzaWipt2dMn0FYceF7cqUAeIkuhvjQDW24s/LgoN9hs4eOSUJbtvFZTd+HHu+BFBgYGBweM236piS/7jX4lB2MkxUUfeGS9KyKptqsxIXBtooUNEJHwOiyOUKpC/uXVg8RcUVZ9g/4EaKPIux6fwfVbGxp2I3zmrlymN8LvmE4rGjAu7frld1sRHvrEiEgGXzRFKFLDqTzWPoMMKisaMi7tjb5c08r6gEdJ0Z+vijTd5buNn+JHTd0UdSClq+M3B0a62QCJXC8i8tCf2VnEDD/kn9X9FU1bivmM3C+u4X1JbWfHqVR3ZYdDooQ6y53tXbjqfUcGBQV4Dh2jff+RwVzDryOqN8Wllv82MsFTAU7exHEEUTW8u74+7WVDL+X8zlrL5zZUDcTfyqtlIhypt7YZ+Jevfjj/4BV1F/i/zJ215Re4z3L+PpqyhuKpRobK1cHSV6NVlXr/8Or9OKIP/uJKSlpK8atjU0Upfg/Dh45CiiseXEi4npxU3KzTMvEfOmTe2h6kmQR0UINyCO2dPX3mYXS3EG7sFT58/sa8ljfi/+oayIjcto4nuu2y0jy3DgGhk0PYjKXjLjeB/QoylH7TpatDnT0QnBf2B0EJYVlYnMxrmrEOhQLLffzv/ZfzeY9VDegz0saJ/U0X0BkclDv7TzaM3OPJSe6kIK+nM/mOVAd3797BhfFZlbvrDlyybIZETxva1cGW+XvjsTQ27v4MxCf9VAQERFwLeB2NXzx44Vubn1q+HzT/oY/OIID3h4LGSvo69vO1MPn8Jocf8XT3a/pIF0KbOO5+Zyxrqbus6abWr+jf5QDJrXvybnCaWl52ezteCflDXb80Zv/aZIPvG+cNxhT52PbzsTf+fJp/81xeOxBV4WXl5OZiDugPD4wei9IKS6DcE4oXJd97KvJec3B/mZazZQVNuywcAcOnh0seVf85H7mXpB2bPfeQRcyoy2NagYzlR/PbsnrgngIW9k4uk6NHxZfffMC/9EtbTXBssPBoWGvNGw6l3dwft6tSEdRNfNZ6NXz7QUud/s3YCEvE4kNvSJFYoVADxvQqi5wdXxzX3Cl843KDg+KYUnJdx1f1bL8tVjhPXRU7rY0EjgIJ3F2J2nHhYbzB0mEXJO1L0xjkWOp2LlZbdPLAn7kYW33zkyg1h/rZ6pC7+BWl9sHdTCrGfXWPyzRc1xD5hET8McaSTOff3brpPGuDGT73d5By+cqyd7MXhPcduZPFNR6zYMM/fTo8MAQg7+9LBg6fv5bKNRm3c5Fz4y3WO1/IFI51orORDu45cy2il9g7bEh4kvvFTfGP3pfNHORtrSUuu7d91/G6hwnr4srWzfG31CNzHB6KTIXdGzeN7L0sV3ULXrJ/ez1r3ffWRyuvbtxy8V1IvTFg1t3RCxCSxTAV0cIm45PqB3cfvFsithi1dM3uAnR4JaEqN2xt75cm7FqzloAXrlw1n5MdtiX1Q0sDhhM9+2XduzLIBUP7zIrJ3/+6WBpQPfU5SkXxkz+Grr1soPnOiw4Nld2JO17stChvlaqotzr+8L+Z4cjUtMNiyqpgcuHxGIL00flsy4GxY+yzlZbHcblz4uun9bT4xKqDivT6++sjbKrnztLXLQzzNtBXpsVHHa53nj6Q8Pn78flE9m7lmTlrfuTuXj3Q11f7U4atUKkSpbJuaQCCIweEg8NMeqeJlnFgTm1MtdZy8ZvkYb3NtRfqxDSdqHOeO0Hx28nhKQR2red3c9D5zfloeqFV0af/RpFeNJO+ZG1aN87ag4T72jYp7vxw4lvSKxQhavH6eH/Rs/6HHuIBFMwY76Vdf3HYoUzdk3iD43omngLtF6/P7L8tArxmrFw33MNXCAuKyW4f3Hr+dKzYLXhQ+y9+BTuI/O7o9WWGrV5/+KK1QYhWyYu2MAfYGZEgtJfbnuKR0Jj3wh7VhQU6kN8e2J8tt9RrUF4qtRq1YM2OATv7xrceS82qZDRHzMu7M3r4sxMOC9uVwFmdkTCfL67kKxcckKEQkE7BUjAYW8ytvgvCy4iPP5leK7CesWjrWx5L49tTmkxXW04bSXp87dTe3urUmakFm8qxtS4L1KpMOHr3yog7vOS1iZWhPK912X6DiPI/dkSy11m149fhVqcJm5A/z3Fn3Es7dKwTdp61eEdrLSpubfuZw3KX72Q2Aie+s8CWjfSxpohexO+9JzHUaM5+m5QvNRyxdM9NPvyj+x9i7OdUtVRsXZt2fuWWOaf75G1UWU6aP9jERPT3x89HE57V4j6nrV4z3wOWcPdh+OGXdivE9NcsuHYm7lPKmHjDuPzN8yZieVjroIu9/KZ2rZLM4sJ65lS4B/7sKUsjk8GfSHLBMwON9Y8KN3Cci6dnDG2eP7D9w6mbC6gGUgsepTXwhDGDsx0bGJ796fOXUkUMnbyZtDNSrfPakgiv4Xy2T4D1GhbiDaQe3nH1R8WEVTNlSmJaaVc6RKGBm8csr29fGVej79DZi3tu5/XRdPRtpur5hQURinVl/H+zjuONX7mTwRJ2nawgrZcuCDXfEXmOHGJfGbd5/v6L503VSuKU47fqOVfuyiTaWqpy41VHncuu4sLKlKO3u/mXLj6QJiJoEwZNtC6NuizxHDzEpP7HlQHJ5k1glzTu2ZO76C1V03zFjhvrYkfll6alZ5WyxOPfEuvUXqi2GT58c1NOOTgaZRe0nFHDTzY3zIq5ynIcNopcdXbb25KtKjhJhlqRd/Wl9XCnNs6cx9/6en05n1bI+eEZtuz5+XpY6Wqbug4cO9jankTEfUp63ohdEJLEchwxilMcuX3c8vYqtAHAgxdJvyqJFI4yrL2yJuVLA1fX287TSoxq7+g8b5e+qr0w9Gh25KPpcUSMX/pguPhUZcaHCbMjUSUG97RkaELv41fOsMpZIjjTf2rIk8nylYa8ehOenTyXeTK8RSJUqZmn61R0RccWa7j4mvEf7dsRnVDPln3T37Aunc3Em5oTyS9GbTmdVMpXKlqJXz7NK2SoT74Fe1nqaxi5+w0YNcqVrEn/lByHtnn49dcuTzz0rzLp25QnT0qePlaFO12mo8u2F0zlYIzNC1eXNm09nVDCVytbi120CjLwHelobaBm7DBw6MsBNv+5S9IZzZfSASZOC+zgYaeCxnZYPHsUsj77GdBgWaFF/bufBO2UEEz3e68SzNwtrK58knrlTBRnrkzT4Za9u7V574DVsbIopOrth05mMcqa8+e72xVGJjVaD/E1qT6+NiEstblUgrLLX12Oi4gqITl4mwtSDMfHpZS1yhP1414pN11rshwRaNlyMOXQ7v5bHKsu4sev9haLUQ7viSyuEFt4DPG0MtYydBgwZEeBupEX8qp9AWlvZMg0tPTyB0P6DvOXthdhLOUR3X28zOvWTe5W5l8/lqPRNSDXXtm89lVbSIm0tyXyRVcKEGd19vWwMtY2dfINHBrgbNCZtjT5XqDNgwqShfZ2MKQTsh8ZRscoybu7ZeLKQ4OBuyHm8b9GYhUdLtF1ddBtv7T1wtbCSA+JADbN+oXMXhFgzb+3ecymrnK1Uscszbu7eGPcOa+9pJk07uufUizIe3bO/pw1d29jRN2hEgIeJpqg862VWSQtfWHB+26aEPC3f0ElD+zkZE8sTt384dDamEHB4UMOs7zi1APadPXsvZZSxYJSW/iMzUXnajtAlp14VVzJluWF9L+MxEETyjbyxe7IDg/rlQEpcdHn7hl0JD3IalVrWPceHb1s31p1OwQFw5ZkFEyIvZtfylRDRwGnYspgd830ttAnK9JiJS0++LKxgyt7O6ZdIwEIgxnZ67ImVAy11CbgO14vV0qJg8RI8FlSH9pCBq6fB+zMYA7oBCdfcFv+rAOB/EuERnOfs2tk8f/meGaFFG/ZvmeJjovnRdYI4LAaEDYes3rx6tAPXsDr0l2JEIqh+cuUR03n68ch5PfXfYoeFXSYAnSctcP3ti/eE3j8smznOSUIsGpvwIofla0knkztdg8VCgFx3cNSPkSGOItupY/Y8elwzys4ejwH4ApMZsfHhATayS2EpAq+FO2eFOknIxaFn03K4vlqZJ868JgRv2xc5zJlBAgH+Vcx72n6XUw45zZo+cUp3M00QAPiZHcpU37vykO04aWvY7B4Uq9bhkQ8elI906o7FQLBB0Mro1eNcBMYNE4+WFomFPoCeVhuf0Bx8Azwv7b/Z7BYUMqSnBTMfCwKqtrKSkx6xHMZHh83pSbVhjYx8dJ8zysnKvu+k+X3Vfc62NWPu9dwiecgYf0+rPVcwLkEh4/ra6QEms8OFXpQ+dnStD2zMysutAB0mT50wzctSCwIAfnbHmZrka4+b7SYeWL+gv0k+efSCi229St0OiEHg8g2rxrtLzJsnHykvEgl6AQadWQ5iBK/cFhnqDruGhe588aRytIvu+9CFYtXbv7vVvsugc+Cocb7d9D9HFRBj2OqN+QsWbxtzia0z/KfYCb1t9T9J5UL0NgEeKo8FE3a8fFox2lXvvQAN657+ntb7r6icB48aN8BedeVEpcp+7KQJ03rb0LqmIBpTklI4ThPXzJzsDejWTDmTkcsdMHh0vytbnj1IU9Y8FDiNGepqTqdUQoBCZ+CK6PUTvZDEeZP2PH9WOUKr6fqjVuuRO8LC+us6C0OjUh+VDHfVVxtGP2BpxKqJ3gobzrQjFcVcfu+G7KT7bMfQ8JlTeoD6ddNOZ+W0eFMwIKw/aMn6VZO8FTbc6UcqESFs5ePX3frnK7BTwMix/s70r6+pKEtfZZQBFuOdaDoUAECqk9aGRZ54LvAMPxgW7GJK+XT0QoaDf9gUMdkHe3Px5B2vU8tH274PzDUsfQZ2tzW8onQcNGLMYBfMtYQq2Dp4wvhpvt10uxgLxGKxEMwIWLJ25URvqRVv9q5S7yVLl410rtVtXnK3VMbngd16jp3dU933nEX5P1wqKG5l92BgsBCi77dw7cqpvVRJwlmHq0v4St9+AzxtDZMUjn4jxgS7G4lb27VVcQrzK2DLgAmh0wc66kKqlqtHOx22XeIzZpaPWoCLuPCHS4XFLWyfbnra6IbP/8JMFGs3YuW2n5YGWepZ+S2I3rn/0KFDe38IMNYmfZmoEPb9zfPD40vNp8Wcu3R0WXf25TULfrxf2SpVARh6r5nbzqa8yst/k3JwNDV9b/Qv6fUcOYC1HbZ8y0/Lgq31rf3mR+9QSzkYNd7dkNL+lIGcWZGbfvdkxJK9LzQCxgw20fkkWIUrr99I45t497fRpv4PHwrBmwZvPB0fHYi5v2F+1OV3jcJOsaaa9zF0UxMyAQ/p6NKwYhEAi4sKSsUmDu76GhoYopGxAbEjMO8IYAryiwV4Jfdt2rOHha0yaWNDg5hXlffq+ZOHajxKK2oRK1QQgDEyM9cgELHmbs5GmMbyCoFEpoIArIOvn62OFkGen1fCx8Pc7PelNDU0yAUZr98wDbsPdNTT7jqXgnQcHczk6WePJr+r4ys6z3plxQXlIgMrZ10NCk7HydGc0FRRLBVLQBCA6CYmGgQCpKNDw0nEPKXyN5MBshJ1WZZOuhoaOB1HB3NicyUiEbW1JKf4WdLpO9mNnFYOV6FQqrquHHqMmTcj0JlOxX3U16GbqeLVudiU3FreJ/oWlYnodq4GVCqWwDDSJxGJWHWIolbY0NhYg0iAaDQaTirm/0phiG5qTiGSsCYuTiZ4Vm2VUCz5XfmXmpe3nzXo9Rri202ZlnAxtbRJCP9KgBmFRMIaOzuaEFi11QLx53ceQTrd7E2VmRePJ7+t4sq7XCIvKizlQgpeXsaLh/lNYnFTU6NQrjN4XKBl6+PdJx4iPYJ9rU20IQiEQAzDpE2ambODMY5ZVdmSnV0m1DFz0KVQcbRu3cxIzOoyvlCkAkHI0MiIQiJBNJo2XirlyxWiQrUUOS8vUy1FJG5uahJKZSoAo76QSMKoL5RJAcXv2Zqq4qZevpVH6B7Qx8JITSKQvs/UtZsjZzjUn9my50pm1a+2gUN0EzMqmYw1cnIwJXLrawTCz25bB2n2dqbI2ysnk9+Us2Vdr1CPPkjXkE4mEjHaWpoELYaBLomIx2pra+NlYkDZpj/MLXt549ydjOrWFh5PrlCo41mMgZERhUzCqisqlwmUX6opSLOzM1XlXj2VnFnGlqlAmm3HYSnrgy4wtzzt5vk7GVUtzVyeXI7u5/2vzEQhXYd+g60UT3aQai28BgUHWev91vZKuPHW2VuV9HGHti8OsNYjAAP0ecPmJV18PNvHSNeIYtNrkE3bZY724RUPHm8vLuBLeiO6ug59B1spnsWQa829/IOCbQ06+3ak4caGiRHXCptljAErBrrSqV2SRQjrecyKHx9hAn+c4WOkQ/jfrjNAuj4LDx0R8aYePJWY62vu+clZEAsCoDqiUQ9QRMTjSxESVRuHwapnz79aOBNyuGJF1ZOT+9+RCRgAoDE8aHj+y5NbTj4sbZWoAMgidPeBKWrfCoJtBsFoalGxCokIhtV+CCRpULEQBhFyeWJl1ZOTB961bdfSonvoEGVsllCpqWdIwH+6LoN3n7d1ffXiqIhJJcU7fw4f1rFdAxHxBBKERKFiMRgApFIpGClLCCvh9mph2v/7VjeqLgsmUqjqireX1QrAMFx3d9vi9WfLtZ3sITnyjbst8W5hm9dVL43aMGVq8Y/7w0dadMgQ8/lSmEjRxmE7jPvRr0JQB59+PmmhticIAJCmJgWrkIph+HdsTUZqr+za84Q6amv0nH6kR6unbjgW39eNPtLNpHP+oK3BQACiUilYpVT83o6fWTx0nb1xbc3yDVtnTC/dujc8xMOY8j5jIOTxRIrqZ2cPF1wnYgGApOeqq0GAKD2GDLJLzEq2HT7QmWFIAgFpmzQIamMRTU0qTikV8tlcCUzUoOKxautTNHAyjlCubFtcgSBMm17ttlE3FE8sr05NOFJ4Qy2FoOOqR2kbfOoLQfDbm/wjhJmnYm82209c1sfWpH3SSTZ2GTjWpX8P+rJp25OuZfe2NHIzJnxKgWqtKJoUHMwTK5VanzeW8/SI1TWrNu6cM6N04+41Y71NNbvMiCEIausH6sq1/wW0GUb9B9zwYM/qqJM5WGtbgqQtdFN1DFkMCLy/7WvAOU1dt6pm9cZdYTPKonatDvXpOJxZGrVrTaiPiejp3tWRJ99iLG0IYlgFosuh/yES/Y4F1OKiUjHN0cuGQm7LYml6ezpSEnKLaiVSewBqeHz+1Pnb6UXNMqKmtLyRbS1Vqn7LX0IWs86+m8QsfZm0b+O2FUtw1OPL/ax02+gS4aTvm7fwUJH9siNrhtjpk/8O6RGKx4hAl/ifq0qlEqevVgtPJGAAiUioRNp86KeOGsQT8BiCx9zYvfN7WH5M5rnfmtM5grj8cTgicplchdUggFAnM0CE96Xsmedj1bHrkX8dD4EysbCNbj/JvZEdJ+65ZG21bOHunUc8HJe8VwvCEwgYUCGXqRAEULUJwncV9O0A35clR1RtZckQLB4ARY+O7E7k9N10at1w7ZTF4/ZKv9HPkBzG7zpvZb1iUczuo+6OS7Gq9/lztQyZWKiEP2vcb+JDqVSO4EkkDPTtZIE0PnuSJbQY3cdCn0bUCQr0OfQw9209d6CTCRn364tlMhmCJxAxmC/mP0ndxv2UYGkVviRm3y+uDpGhnuZtzAPh8TgswW3Gnh8XDnAw+HA3XHz1TT0CwqXZWTUsbzu6HtCp7ohcrm41IpFE7GR9uRzB4gifryKIx+MxBLfpMdsW+Tl1SOHfuvr9Y0OQdWLfxQrLkM1BrhbaXSqNMXJ1MSe/bqwWi8QAQPhc7CWTymDc16xFshu99ZSF5bplOw/FujgYTOppRf22hhOknjyY2OCy4vC6cSbpETP2tnxH1Uh2IZtPWlisXx5z5JhzN8PJfT4cxjp3I5s+PXi53mnpoXXjzV5HzdzbhFLSfyid+41ziy6uAVapQAwEdkRbGPUIRWAYQRqT1kycvuFynUGPEZMmDO9jp0/CfmtIBhH17P3Cflo9ilGd+qiUI2hL3UkLTi5buPed2cKfd8/ubar1d9ntpuRy+EoimfoV39g+7KysTQjNlUU8iQRRtray5YqueUWyubkRpq40nycSfzXOQPhcjlypRATV1U1yXYYZmdB5Pk4yN2dg6ksLeOKPj/eTLC1NCA1Fua0iEfzZ+XSPuTMCLSU1xS0i8fsLyGamDAKroUoolark1TX1Un2GBYFI/C4DtZfVWCWUSFXympoGqR4dwLSWlLE0rN3s9KhEpazNwwMAhMFgIUCFwMBXH8ODdL1nTQ+ykdeXtAhFyo9VJLZWl/DEYgRmMjlyhUL1jX0Z4bKZ6svFNbXNCl0jMw0y6SOvYDBYEFSp+7jqPTWJxTIYRj54erkcVijg9ucGQQgDQr/mJ4THZsoU8jYBch0jMwr54+oIBGEwIAh8FABAOl4zpgbawo1lzQJhRw8hmZkxcE0VRRyh8GPf4D9PvF5iMnLOSJvmx7fe1DSK2qUJeFyZQoEIa2qapVoGpnp2tkZEbnNbEllRW9sophmYUbsstH/sO2amDFxTZRFHIPiNSBeCMFioTe0OZ6CSiyWdDNOWyH1xdMfZCpuJ80b3sNX9dN1F2tzMluKImlgc7lfWYsnkMpW4tq5Zrk03pWp80PWjsT7MHHW6T50c2A1sKW/m8781YaqoL69gEkydbA1pZESuQL625RHEQNiu7dPJCDSPKZMCHTDMimYeX/H+0BHDqqgryC5h4tsFwGoBCEpJKIl+HGYkEiSXSmHkQ8YLa21jTuSUvqsTSdpGvDg3t0SANbIxJQN5z142MUK27t8SsXLR/MWLR7jpUzptuQDJRCIklYjhL6fyIJVKpZJJpG2XyN/FRu1+Th73Y8ycvhba/2sGhUvuX0i6n5qR+eRs9JYz74je/l7a2uTfSAEFBbqCmaf3n792dvfh6wXNn4x6nEtQgKPs+fHDt99UsVg1ZdUs8Wcfx4ULbp+9//ZNSlzCk1Yjz77mOlqdHRTOObC9lFtZlUxWbVn1/7F31nFRbG8Dn9neZRfYXWJh6ZISQUBRUUFsDGyvXru7uzCvhd2NhYHd3dJKw9Kd210z+34WUEExbvzu9d73fP/RnRnO85znPHOeU3MOV67CuPfo4U1Mjdx8/N7b5JSsEpHiw4ybpjglkVNZW/YuicMjmVrRSR++2MV7dOnkpIi/cS+rOO36tWdVLL8gVzqd+IdshXcP7uisTLhxL7Mo9ca1Z5Xmvp2ppi7mZmRR3russrwXN56mVnOlGp1OR6HTabiy5DeZJZVSjTzlxPT+A5deTKv4tOWRpiQ1iVNRU/b+XTaXyGQbkz58KIx3697VC5cStTfq6ukdh26klQt+qEpFEFSH5tw7dzcx4eHxqGc1tm0625sxGtmzXqOUmKziCqm6+uq8YJ++q+5n1nxIHGvt5+dEyHl0M6W0ip936+4bHsuzjTXTGPdJAKJDOffP30tMeHjiwrNqG/9ODmbMzwWUp8ZkFVdK5EWp7zjl1WXv33Nq8QxLOpn8oVmGdwsJ9kCTzh65FZdTwy0tKOFKZQW3Lz3kOrTpMmj8UHdJ7M1nBeV1+x8hnAcXHyfFPzx58Xk5o2U7O4sOXQNdNCl376fnp9y8+byM3jLQzcyk2UUOOL0U3bvzR2/Fcaq5ZQUltVLFV2a8KXRjGq4iLTarqFyi0dbeWNzdv9+ym2mVH1c+ozWPd205k27o52uqKEt98+JlTIZQLKtIfpOQUVBRkfVg3+HrmQT3wJZmpgaNiwPRobmPLt1PiHt46tKzCgufQEeW6ad3nWKsl5oRl1VYLpYXpyVzyipLU5I5tVi6BZ1C+dHxN6yJqQlFWpSaXcx5ded5Slm1SKv76vgYmW5Mw1dmxGcVlYnVH8OtpjwjpU54Sk4NxohF4xdmNPysxhhZmNjYshoEvL77PLm0SqTRgd0ZQBBtcD8mm2WIpD++Hp+Rlvzm1ftSqVJn22doiHl+VHjEhUdxSc8jV60+nUrsPCDEkm5kwTLFVyfcf5FVLlSq5SKpUtt4sglnyWbha2Ou3oxN4+RlxLx8VypRaHjJj+6+TsmvFkn4JYkX1u65VWzQsr2LEZUIS5+fufAebtWrLbk2PyUhLi4uLv59bo1c/c+sHEcF+c9PrhzRrV3bbtOjxJ1W7l3Rx8Wc8p3AjnUdv371UOvsw2t2vCXYWVDpNKjJACnec8KG1QMZb1b1dDEzd++97nY+r7kVKFg7RvGOX3oOWJdoPW7R+ABbE8Jnc0UT1q8eyIxZHdrC3Nyt99pbeVwF1m3c2vDRHlWnpnb1Cxi29VExv/7TGqT01YFZPVwtbUN2FAdMmdLb8dMabKLPpHWLgyQnfvH3n/rA5NdFUzo5mJP+YMuF6DNx7eJgWeSvbdpMvs8YsXBKkL2FTc9xYwJUd2aEBM2Oh83IRLwGQVGCf58wH0LSluFDll9OLcjPzeGkc8qkyo+LbJDS14fm9HJn2wZvK/AdPynUhW34wYBYlzFrVg53KIrcsPMlZGlOYxri4e+Pe6jVGoxj947Kc7PDBqx+Yz586rDW9iaNu0YEv9AwH1Ly1hFDl11MeJKQI7Xx6+hg8ukbFnzL0SsW9Sbdmxnsau0zP8523JIpnV1YnwylVmtgx+6Bqqi5AwesesUcOnmYr4NpEwG+vfu3JqdsHzls2blbF3bO6+NpbRu0meM1ekKom40R5lNDZPTK5YPZqVsGtrRguXVfGZ10L/JqHOQV1N7GNrB/bz9S1r2baeXVSgjC2tBLD04MG7jqJX3I7HEdXSwMvceuXBCivTQxsO3E66Sw2ZNDXNlfae7h3UatXD7YKn3bYC9LVovuyy+nVX5lz0ZC6159fSnpO0cPX3YuIe9dVp6Y7d3e0cTkQzMLrX5+60lWSfaTffN+7dMlKCgoeODK5PT0rDvbJ3fzsLby6BeRYTdu1dzeTZbn6tRqLWzfpb36ytJhA5Y9pYVNGNbWxbyRexN8evbxpWXuGTtiSeS187sXhrWyte+0Id1l+Ni+nnY/vPYVYxIycmR73Kvl/btNfyKmECkURPvVeXCCd49QX8PsfeNHLImMyW/YSQspjz21eIBe+Lpkx6FjQpk1N5Y2/HQYMqavd5vBI0d0wL9ZGdZ96iMhmWhggGgRBETRfxm6P4PyybJ29gGzr+fWKtHP7ylSj4z2szTAwRBMsBsdmVklQ3UIN2b/hEA7IyIGxhCYnoO3PMwXKBGdDql9tXt8RwcjYv1WCjCMMwqNeF8mQuqTQngvtg5qaU7R34WJdqNPZVQK3u0b5mNBaXgez/QcuPFuLl+B6HTa7H2DXZusP4IwZoMOppaJUd0/BaIS8YQylfYPaKBK2NzbrcOM5OyKL++pJdyaWpGibozwc4ncy9NaO4aufZmeW8mVqjXI1yWoJbwvU1FLeAKJsuk1RCHiCRWa5nOBKPi1Arla+1cYGVHwuQK5WtMoLZWQK5A1uaK3qphbK5TpZWrFAqH881zW6Sv/7I+aZj0pYkCrjlNPvyuR/qjeKkEtT1L3mXNziqvrNJKl7Pulw5C1dzKqVM1krbKiVqz8eoHoBYi/I0ClQb+XO7WUV1sr/FqBIPxr8zu6hy6/n5hdxZM2lYYoBNx6Ed9HLeV/Q0pTtQVSlSL90OigoauvJVcofyB1jaS2rKSCJ/3We6MScHlipVrb3D1ULebppWoQHaIU80Vy1bdeg29ksu7lVf/I36JqCY8rkDYt3s+Ef6mLWsQXypRqRAf4VwL/T0cPVLzCgmoNzcKaZUTGfWz+IZKKYi7WlM2kEnCNY51KWF5awVPABnRTlhmdQmh61omKX1JYIURpFvaWDFLdOSioUlBRVFQpwTJsnWyYf/RslJ8bTe7h0YN3qkZF75zoaWv8OzrAvOiZ3ZeW9I/cPSPAkYkFjcVmjZt3fOIvO8UD92+dHOj81xkJyT8xeXaS/5L5wzo40n9O06OC64v6r+B03LlldoiH+d+lI1IQOX1evNfsWcM7uzJxwP8A/w3+t65MZNq7Mb8cZaRZOtCae9qY7WTM/mpaDBtXhk2TwRYS3cqVbvVfLBbRw83zz3O0sLoi/kk6eVBEdxMTQ+CsfxHiJ9sXn8+QI+qqd88z8H03dnO0+EtjHWzcZeH+PmwWwxA0Xj4zTOd5u3tamDMNQQQF/HcA54n+lGhRlVzAE6sNXLpNXBk+JdiJ+Ts/0oFhGEtitfBv62lr9N84fPQv7IDq1HIBX6yiOAWPW7ZmatcWZgZ/abSDKcamxgZE3E+864zePYjmzq39Pe0Zf995nDDZ2MSYSsJjgD8C/kuNQ7AYDAAAAACAPwbYoxEAAAAAABBEAQAAAAAAQRQAAAAAABBEAQAAAAAAQRQAAAAAAAAIogAAAAAAgCAKAAAAAAAIogAAAAAAgCAKAAAAAAAIogAAAAAAAEAQBQAAAADgfwbYgP5vAJFWFRcUllRJITKVTMD+7v23FVn3Ii+9k1tamdJInzaTV3MenLqUKGWxzWj/jS3m1VVJNyOPHT9z5f7b9GqMuZWZIQX/szbyFNkPz0cnikwszIwof5/xlZxH56MThUyWqTGFAHZx/46xcp5evBLPMzI1NaYCYwFAT/TfHBtebwgL9G/V2s/HxdqqRbfZkQmVUs3vSQCVp9/Yv+PMsxK+ovFhAYqMWwd3nH5axJf/bUcIoPyXEROGLTieUCpCPr+xo9kbP550+a2Vv45cfPRVEa8kJmrr6r138qtl/7OMoYJXuyb9suBoXLFQ+4f+XpF59/CuM48LaqVo41Rf754yYsGRmCLBD6aqrow9HT5lxNyDbwp4msYX1+ovvm50sd4Rsu4e2XPmUX5NU6lv9k4bueDwmwK+9r/7Fmmzo9dPH9GnZw89ofNOJhUKNNz30VtnDgxq49uu5/gtN9OqpI19T6fIvn9875kHnCpJIzfSCd8emDl6/oEXuVzNP5shnTD20Jyx8/c/5dRqQCX5/zuIIrzki7/NGNqrS3D3/r/OjridmXfzt0nD+umdvdeQdbeLmlb8/x/R6XQ6rOvkC6kFhfGHwqA7q+bteFJYq/xXmgWRiwV8gVSpQXU/eOMH0aRfiXwgajP/8LETkVvHtbOiE39X30FTmXBh++E7eVVi9AczopAI+QKpQoPo/lLzSD5YQVOZcDHiyJ2cStFXNEJFyWcXD+g+fPGe09dfZ1dLVWjji7tPX3+dVS1RIr9TalXipR1HbnPKRei/KkJWJUXvOnorq0zwVbWleYkvkyshUzs3Ly8vLydzKgmnLYyPKye7dh0Y6qZ+s3vh2qiEfMF37YUoJSK+QKJQIzpN1bsru4/dyigR/G3G0la/v7rn2M30Yj4KIQrpB03AQVr/av7k6biajMNTR6yPo3ToG9LBUFXBKarU6Jzt3L0UJmWJN6LjM8qkKuTPK6moyUkvRqzdHUwNiF+c/IgK82OfPX2dXM7sOnmQv4UxqVHtqyl+fCrqrc5v7JAO1nTyPzukA0N4M+9fNm7Izx53PurR8NYsprXhv20cAGPac+3Vns3fCG/2xo/27KR5eWVqy96eDAMDjOr3/7n4beTOo8W92wS3dWD9UEZMuq+63P0vN49J95WX6lNFeVfP7D5a2K11pzZOFs0/jJFpzQduPj/qxepN77FfXFzz23vcj0rttvxCt4YBgWtn9x7LC2oV2MaJ/S9qZorjzu87xungFuDvYvW1MFtZrbLuNHvhlJ6tLPENFy2mbPOv+4+qG2PM1KjE1KpQHye68bfeKpjZZcmZLvVS+TejDhzPauPs7+dq8zdlVBJ/4eDxDF8HPz83W8vghaeCQQT6fx9EkawHd5NV/rNP7p7sx/54jn+reUEQknsg91nhX3OAvSp2z4RJT322nVrZy9kMCzeOn+9Pr1m86WyCmGHv5NLb61dN4yYlyn2+efr03U9KPFZ07+HLppOxP4G9KX5dA+3ORCekCsNaWBnCOdd2bjv+IFvrHDZ/2fhOjgyC5PmeZZGCzkunhbqY1lzdsPkZdeni0UYNwz+H50UkliA+41fND2tlSWuSrjLv1p4dx24miW37L1g9OcTZhNykKkFrH+9c+5DU0aXywa03JaQOk1fM7O1upni2c+0jclAryes7VR6L5g/2MuXd27vz6M1EsXW/+aunhLiYUDAQyn9/ad++0/dT+ZZha9Z6Zh25KWg9Z2qYJ4P34MD2g9cTaqntJ69f1FN+c3NkZd0NtpEy5/ru7cfvZWkc+85ZOj7I2YQofLZ37QO4lUXJs/tvczWuQ5csH9PRkdnQ3kELb2xav/8ep0wqXDg5b/iKEUoVBH2oKOU5N/ZEHL+XqXboM2fJhCAXEzJU9erYriNXnqfVYO26Tl0+t69lxvH1Rx7nVAgEiya8DZy0bW4QJuN1NsW/U2t7M+pHF1QUPDi04+C1+GqDthPDF/VS3d12urzVjMlhXtbG8ozoXduOPyim9+hlX8Sh9Jg3todF7ukND3Se5qUvH77lqF2GLFo2ppPTZ0aFdOL440sOJxepPEctmTfQz8ZYE3tk1fFSz6n9qc+OH3+UXc7nLpkYEzhp67z+XtZf1O20DmMXdIDUL981nlNtuPjqPf4bISfh5NKjKcVK95FL5g3ytzXWxB5dc6LEbVI/w5enTjzMLONVLZsc12HC5qneNfdPHbkaW0n2H7d64RB/O/qnRJUF9w/vOXYtjsvqOWvZ5B4thHe37H2G7TpjXHcP0+KLG/cnMvoPZqVFJxNb2da+eRyTB7ces3hGPx8bIxwEyfPuHNh17E6K3KbXjEXjQ9xYZPHLQ5seqJ1NKmKfxmTJHcLmLxkb7GpOwSgLHhzZe/RqLJfVY+bSyT1bsjRvDv32QO3U8KB92LylY4OZGSc2HHmQXlJbvmJqwr0JG+eEtbZnfP6uaiuruGSmnzGF0txbjGezWQbqUqFSo9Z93rx6d3rl+YxCqcvwBXMHB9gztAkn150scBwVSk+IiryfWlxTvHp64sNxG2b3Ni28tv9Q9Osygu/oFfOHBjgy6ydSdYLXR7Y+UNozK+Kfx+WqnfrNmOzDf3A+6n4m5D160bwh7R3pwrgzB45eevS+ArLqPH7h7IEB9nTZm6NbH8ht6ZVJL2LSpbb95iwe28WME/nb0bvJRTWFa6YnPRq3LED88JXQ4dcxA9tayV6c2Hso+nUp3ufXZfOHtbeSvT7Z6HeAYf6lQ8cuPUyq0LE7jls4e1A7BwaY5f2vDOdq+TwBYmLrwCQSfldCGlWzYxiISiIS/fAImzLj2Ixxa59RRx5/lZ6a8OrOxkFOppSPrqUpiFq6+KLClEWikH4mf8PZ2duQhNUlYrWy/OaqSctvilv1727O2TdrycnEUqFWVZkR8yq5QKTQ6FBJ8bs3sRkSmbLO1ElnT6RS7B3wOWdXrD6bUtZ41g3lPVw/bfVdud/g3uzcY+t2Pyqo/nyeFKnhxNzYsnDXe5KTvS7l2OJV51PLRKqa7Jh7u+fOO/BWTDQk4cWPN8xYfUfqO7C3Vf6J9Xse5FfJdcr0o7MnLb9QxOo8aFBoWxeKOC/2VVI+Xy5PPbFsxYViuz5jRvYMcGFRYG52/Q0NUnVrzZQV1wSefbqy8g7PW3oirlCgRbk5Mdc2Lz+WS/cNYAsf7dh8Oqn003yfsUuHLr4OTCNr7+6h3dvYfmruoFW3w6etuMpz793VIv/IvGXHY4v4GggPU+26jJw2o59V6cUN269kCpj+XXwdTGhsr5A+YSFeptpXh8JXzgg/n10pRD4NF59atTKqwKrXqBE927ewMMDwOXGvk/J4MjVafXv97JVRhebt2hBfn46MvhVbLFZoUV5O3PUtK45xDL3bWome7toSmVDMVX9m0+So0yk4ti2p4NLadaeTCrlabU123OukXL7Oyj/Yz9HEkN2yS5+wrl4sw7/QBbXJF86kYC1tiEXR69ZFxufXarS1OfFvknJ5qKV/kK+jqSHbM7h3/64e/Bu/hUflsLqNGNGrg5ulAeFTixblP9s2P/w61zW0h1151Nb9d7OqzFxNhAnRZ29llRY+v3zmbhHMNiWqS+Nv71i2Jx5hW2E559aEn4nP42rR6vubZq+MLnfoGmJVenrpimOvOLUalJ+XcHP7qmOZJA8/K9mr/dsjY/Oqlbxn2xeEX69p0bu7fcXFbfvvZJRIkIYHM0geftbyN/sjInMKJHZ+nf0czYzYHkG9+3XztjQmf1mXoLVV1WJ1Zfqz5wlZlRI1+sXtWp7SwNCETPxsFgBJiz6fojOxIpfe2LThVExOjQapzUl8k5TDRVi+nXydzI3YHp179u/qY155dePacxn0oOEjQgM92FQi7mNCOn5+wu0d4SeyiK7e5oJnu2cOnn4ox6hlS2bVnZ17r2UVCmA8ZGDTceikaQMcubcjdl5MzONpdfz8xFsRa46lYVv42ihjD+2IfJMrYvl18nVmGbPdO/fs182HhZa/j0niVIulmVGb1p1LN+o4dERoR082FZt3oclvIp4AGdgEDpk4bYCT4O6OnRfjc3kICF3/gZ6oOmbL0Nmn4jiFXFXq5MBoAhaDIXdeeTNipJsF7es1hjw7etPq7ecep1RqjRwDhi3auGywN4uKh5DCM9OGr7z4vlSsxZDMPPrM3bZlamc7Y6I2dtsvc06+zSrgqpIndrxMxGFgrPOYIycWBNsqoiMOxhkP3b1tZldH5uczaMqM4ysiUpynbG6fODeC/1O1WmhUMg5WSsXK/FuXnghbjt06ebwfxbay94qHD0VhLchf/TvLPku3rhropnRTDNjy/FnRQPePXVGk/M7F+1L/mXPHDfFQkLIHn3uTwutsz6JQGhkFh8NAamb3Vb+tHOAucx41aMfTZyX9hmKwkFhiNfbwqYXdW5jUno14IPGdtnncUE8lhTP0bEyKsLNR4okz8cReG3et7ONpQYYh8TVsQ9hOSy3AuI8dPXyUr60hDEHixA/KFN+/8oTvPmLD5AltqI7cfiufPMoLc/fFYWHErOeC8MVDWkrYFb8cys2WS9tCJnV9bAzdrXM338u7b1e16hnWu509NwMHQWhdWg+uPuW5DQufPDGA5sTrv/LpI0GYh0OLwBFTA/Uu6MJNnHw9haMeMCjE12HHFWzLngOGBLqYQFYTFkn9qB1cWEYfozE/PS0fch0xavgof3t9n1D8/sOdkgfXn1W7/LJn+bROVhmUQdMv1TkZHoeDEbPuC1cvHOatsK0eeTA/WyZpB5kRGhcJq9fCTSuHeutaTRm69c3zwoEtmQ1NF6pD+5DWDruiYc8eYUM6u5r+lcP2GFbP+RtWDmsN+UwbvjXmZcHAVqbQB6kBIa0d91zReXYPG9KZ+eJ+JeQycMTw0e2d6E2HJSofXnnE9xi+eNxIf4hZOupMYkpNyJABgzpGr3/5OEZb8kTiMSi0lS07HQtp6MHz1yz/xR+Nnjoy4s3LwjBPXPL1ZzWOfTdPmtLZxFM6dNWrpzl9vUyxOBgx7Tp7+cIR/hon4ZiDhRyB0CHj2iO++5AF435tC5uWjz6dlFIdwsbgYNSs68zlC0a20TqLxh4oRCVah3ZdWjvtu4J4dOs3uGtLVnNdTZ2KYtPaKj/m/OqoPdvaTd20dWZvDxblQ660ubHx+ZDNIA8zBq2pqTHm3WaErxgZgLs1+9et8a/yB7b+MLZuYN8muLXTgasa95B+g3p4YW+cK0IcewwfOjrIjdkkDRiHxWEQi24zl87/xV/lIJqwPddv1py5YZ6lzBFz7uWqxCLYNWDwhAC9Q3rKMmdeyuLUCtqycVgMatpl2pIFo9vrrsomHCjOEWuCOgW3dj54Ve3epd+gXt60h9frXlBUkJVZoLUPGTZsdBd3Ewykq7nW5LeetoPGtdULaCnPmnUpK6eGF+BmYgwWhf7be6I4l34LNm6e09PexKHLtPCtu/fv379zZje28TdmHlH+o3VTF0Xm2o7edv7Sobmt+dFLpv32qG6NDZbVbtzGsw/j0jPePdw3kBa7M/xwbLlADeGc+8xbv3luL0dTxy5Tw7fopexbNczbnIopfXAvVuLgZVl47/yB3YejnnG4Cs2H3pc669T6oxUd5i0Z6s02xP1kFlerNToIRyJrcrLz5OaOnkwKBcfw8LAlVObplPKvF5SlrZ0BkYiz8vJk46oLi2QK1cfsZmZwJAStMDnm5ZOsWpWysqJCLixKj3/9/ImepzHZ1XKNDgNhLW1sDYgknG0rT0tsZX6BRKGCIZxb5y4uDGMirMrMyBHjEWFybH0qVRUVaklC/DuueetgdxPjpn0pDMPdzVoVe+7ww7QysaZxr1fFycyXmTl4Mg2oeIa7uy2xuiBHIVfAMIxhWVkZEIkYBoOOV8hFWu1315KqcvRp2XswDQzwDHc3W1J1IaqQ1YVqQc7Lq2fuvq8U1AoFGo1W13SS0GfQlLE9PFk0/Cd93VxtNAlRRx6kloo+0zc7T8Zy8TKj0XBEC0tTMomEg2AYgmAIa85mG5CIGDqdjlfKxV8oDLNsbAzIZBy7pYcVgVdaJJUr/o43lmVtQ9VL9XS3IvJLiyWyZpfuwYwWrtbapEvHHyQXCZsOcqqzs3KFGLUwLeHNk4xqubyqqlKqULN6DulpV/ss4sQTtE2vzo5sOh4Dw1gLK2samYyz8XBjE3jFhSJealahhGHjZkKj4emurjZkbnGeWCLT6a1laUklkbF0ujFBpZSoZelZuUJYJUpPePsko0omr66qkipVEAxhzCwt9RnQP6hWQtofWVKMdeq/eOeZe7EpceemupSeP3A2Nrf6Q6Z0wldX7qTjvbt2sGPTP6vPYHMraxqFgrP0cLMmCctLJNLml7LDdBcXazT56qkHSfl8VdNH9M6AYZqzyGQy1tjYkGRkYcYkkwg4Y2MjgloBaerGJxBh3tub5+8mFNfWCEVqtVr/VxgzC0taXUaNCGqVRKtpfhUuxtjF2VqXev3U/cRcnkqn16XJ74bGqTA/5lbU3YTCmhqRSK0BC3r/Cz1RDNOtY3cHzfMt5FI7v669ejqafG89JVJ5++ztQtaQ/ZtmdXM0IUJBpqI+U65efDahrSXTkurUrqtT3WPuLRYVPH62iZMpVrRHmUy3wO4OmpfbKKW2fiE9ezmbNVTmypeZuVJuauT2chdrI00VJ3e55YgdpzcM9jI3gPKjthwvbTNrabCjKaXoZzM4wq0VqLFUY4paJlWiZJohDoeFYEMaFasQQsi3RmlgjP7NxBoa0bAapQz9+KxOKhDKNUXPT+5OoxCxEES38KETJG9Pbjj1JKdGoYMwdkO27xmlr3JguK6O0SeB0yhkCEKCIJhsQMNhsRAqEgplmqJnJ/ek1a3eMmL5MEgqPk+qNTQxJxI+n4IheE/euKJ41qoVI3I4W/cu6mP9oaEkE0kUKJlalyZMo1KxCq4UqdcVA2Pr//lBU+n0aSEkKg2PxUEwjUbFKmshBEHK7m2cvfxsnpGHC1aF6KAfSg7fatLaZcVzVoePGpXz2+5F/e0+yJCLxUqERDXG43D6wNm0qYCpi6f1IbW5EqnPC4ZGo+I0SjmCoH/HMsu6UoTrpWr1Upuf/sB7jV+9pHj+6g1jx+Ru2LlogA+b2jCKIBWJ5OriV+cOZt0k4SCIZOJloi9yA//eXV0uJT1w7hvsacGiQNLGwgwNaXiNXK4RC/RFYkDTmwumUQ3wKoFUXR8HMRhsXeiAPziCXkrW+YPZt8g4CCIyvEyoRKy83g/gTw/+Log2PccOvv50V14GVxCoszCBIUiaGHn0ZlWL4bMDXayp8JfGghuMZYBHRHKt9itvGN5zzPJFpQvXbJs0Nm9NxOLB/jaGTXrEGLheXb07NCiOwTZEbKTiyY7FK0+m4BydiXKtDm7kP9gG//lmVvEeo5YuKl28ZseUcXmrti8Z2vbz31ayF7uWrDrxHrZ3Ism1KIha/5Ug+gcmczjZuXK6u58TlVI3KGbo7+tOPZeaXapQtoAwFc+iTkXdic2uVpEMlfmVfEelVvd1d0ElQqEC03bp3SNz2trScbKUPWOGbz1yflAH6yDj+IPHU+wH7etsb2qA+ekabKgoM6tQYRHoZmQsJmNgjUqlQ1FIp1KpdHgihKl7P3W6b6x5R5VKlY7AIOtf0IZ6gkAkYIk+k47snNrG/lNT3PvWxMazptGf3mNUrVLrcAZEDKZRux1DJBBwRJ9JhyOmBjgyGm6IbxAwsEpeHwU/G2ajuA2PuOjgMHf69q0HfdxnQ/UqYwhEIhbWqOuzpVardHgCEcb8oSlBuCEtNarTp6VSoTgCBMueHoyI5ndYe2pZX+NHs4fu+tHeH9lt2LYoB4f5M7ZFHPJ2n4Or1xfG62Wo5FJtfaD/I1EQVarUCIFExmIwf+PsO6pSqVA8kYTFYr8ilew6ZPNZe4dFs7ftOuzltnKor21dkMEQCAQsqdWY7ZtmBLubfSpVhBP/vhyFkdz3SSU8fxczfCN76F0Gxen/jtRQJPXFq0ZxeCIW28wIbIOU0Vs2zAjxNP/wgPj2n+6IGxvSiDBPg6B1LRbJu5O7LxTYDQjv6WVH//rKQZ2+iOqM9dWhN7LLwPWn7OyWzd22/0hLV7Nf2jkY/lhpSl+d3Hu5ouX8A8uGWMWuHLez+vc7AdklbO1JW7sV87YePOLpavZrhya/KdYv9l8uc5+zb+kw24TV43ZWgrD1HxnO/cHORJPXHtHpYCymrnFY1yPS1zoogqBo5dUlv4xZHV1m1qbfiOF9O7iYknHwN10Rg8PiYEir1dSvTzJw79zeyaC6IEemrH5++0lh5Yvdo0L83V1cvKafzS5/vnt4/yXns6uk//znWEjRrRtvuOy2wU4MlrONJYFbXihVqXTq4pIKpaklRCBTqAZ4WCGVaBFEJ5PLkY/9TVTIq1VrNDp5cXG11szajkL62POn2NpaYstyM0Qy+TdbqahYKFBrtaikuLhKzbSwoTRZhkG2tbXAludmimSyj6mQ7e2tiBXZqbUyGdLsaESbiWN72CtKODUyecMDFBtrCyKvokiqVOrUJSUVShMLWxKJ9IesVZ9WZZFU8SEtFoStzcnjGTh6uzANSdr6ylzfKcDiMJAORaBvfnKHYfqPH9PTSV2eUyOVaT9lkVRbnCOSy1GEyxWo1JofdW2dUMBVadQ6eUlJtYZpaWNA+TSjDWOxOBjW6V1e1xCG5HIVgqB/+oVCRR+kllarGZa2VMqnGRQMRi8VQrUfpGIYfmNH9XBGKvOqJZIP46ZkGxsLfFVhtkDSeM8G8evLNzlW/Sf2d6p+dvtdSWXduKdOIhKqNRpUWlparTQyt6YyXaxZZGF1sUQu12lKSyvldDMbGrm5ORyytbUFvlovRfK9TMMYLA4DQ42KT6eWK5q3loyTWyw2NLM1pFIwOuGbw1vOFjgOmzKwrYvJl+tVdZBOJOCr1CqdvLSsWmXMsqYZfFooUF9E0KcigjCM1qNG9nCFa/OrRZIfbX9ry/MLuURrD2dzOgVVa+od8usZxTYV+ck36T4jf+nhjuUVVInEmsa/yzLf53AJVu7O5gwKolHrUNAV/f8SRMlkMkatVDY0GOs6vY5OtiRBblqZTFH3OstTU3MkOEsnawqU/vJtlcWADbvXr1gwY+qsWf1amVIbreCAKSQSRqmQI43cx8DOloWvzM+WKOs/UpeIZQiJQsViaP7jftu3b8+WTRvWrVu3bvWv7Vj0Ft0mTx/UlmVE+ufMrFNLq/Lf3ds3bfSa+2jXSSP92EyqZ0hnJ1nstbtZpenXrjyttmwTbGBsRLC1YxMKX99OyIq7Gv00jytUQTodokUgNPv26bvv3z06cu4Z3zkw2JZp/HEQAd+yZzd31evjB+68K+LxSvKKefJmv85FMu+cfZT87uGxc89rLX0DbelG+CYDWj26eajenjh4J6mQyyvNK+bKVRj3Hj28iamRm4/fe5ucklUiUnyYiNIUpyRxKmrK3idxeCRTKzrpwwe8eI8unZwU8TfuZRWnXb/6rMrct7Mrnf7HTI93D+7orEy4cS+zKPXGtWeV5r6dqaYu5mZkUV5SVlnuixtPUqu5Uo1Op6PQ6TRcWfKbzJJKqUaecmJ6/4FLL6ZVfNrySFOSWq/vu2wukck2JpE+6OvWvasXLiVqb9TV0zsO3UgtF2h+pK2FIKgOybl3/l5S4sMTF55X27bpbG/GaPSxSr1GKTFZxRVSdfXV+V1a9111L7P6zw2N6KWinPtR9xMTHp648Kza2r+jvTmzUSnWSS1Pjc0qrhAUJL/jlFeXvX/PqcUzLOnkj2ue8W5dgt11SeeO3o7NqeaWFZRwpUp18Z1Lj7gObboMGj/UXRJ782l+GR/R904fXnqUFPfw1MXn5QzPADtTc69OHZy1KfcepBck37z5vIzeMtDNzJTSTBDFuXUJ8tC9jzp2K5ZTJ6VWqvja9CfF2JiGq0iLzSwql2i0tTcXd/fvt+xmasWH5dBoeUrs++zCirKU69u2nU83bhviY2NOrn2ya+uZdFprP1NFWeqbFy9jMsrEjUToqx4k99HF+/FxD09dflZh4RPoyDJtVK+Q9VIr0+OyisrE8uL0ZE5ZZWlKSk4N1siCTqH86BgdlmlmQpEWpWYXc17deZ5cWiXW6L46rF8vMiNeL1L9YRheW56Rwimtk12NMbJgEAScxr9NbGxZFFlJWnYx5/Xd5ykllSItCKT/L4IolslmGSLpj6/HZ6Qlv3n1vlSq1Nn2GRpinh8VHnHhUVzS88hVq0+nEjsPCLGkG1mwTPHVCfdfZJULlWq5SKrUNnZDnCWbha+NuXozNo2TlxHz8l2pRIHx7tm9BRJ39thTTpWwKuHkkRscvHewL8PQ2Na/Z//Bw4bXM7i9ozHFwr1LjzaOxmTcP/OpCwzDsC7/3Mx+/cdsf28xes+p9QM9WQYYiOg7dcOSzoIjQ3z8pj1hjV06taOVKQnvOWhcqF3F6fFd+m4oZVhRSHhYh6rVGti5V2f58Um9+69NsB07a5iXFR3XOP5N2LB6IOPNqp4uZubuvdfdzuc1t9gEa8co3vFLzwHrEq3HLRofYPtZ2x3vOX796oHMmDWhLczN3XqvvZXHVWDdxq0NH+1RdWpqV7+AYVsfFfPrd0JASl4dnNXTjW3bZUdxwJQpvR0/Lckm+kxatzhIcuIXf/+pD5gjF07p7Gj+R7/wIPpMXLs4WBb5a5s2k+8zRiycEmRvYdNz3Ji26rszuwbPiodNSUS8FkFRgn+fMB9C0pbhQ5ZfTi3Iz83hpHPKpMqPC2qQ0teH5/Z2Z9sGbyvwHT8p1IX9caMLrMuYNSuHOxRFbtj5ErI0pzFpeBj+rr5qtQbj1D1QeW5O2IBVr02HTx3W2t6kcZuE4Bca5kNK3jpi6LKLCU8ScyTWvoEOJkzCn3IltUoDO3TroIqaN3DAqlfMoZOH+jmYNpHq26tfa3JqxK/Dlu7et3pqqKe1bdBmjtfoCaFuNp9Wc+LdR69aNoSdumVQS0uWa/cVlzMKX0dfi9N5BrW3sQ3s39uPlHX/Vmp5lRLC2tBLDk0eMHDlC6PBs8Z1bGFBIrYau3JBiPbypMCAiddJYbMnh7iyKc03gdxGrVg2xDp9+xAvS/MW3ZdfTqv82j6OhNa9+vgaZOwa88vSs/G577LyxGzv9o6mpsSGJig35cr60Z1crW39x57mt58fPq2ruwWx9sWtp5klWU/2zxvVt0tQUFDwwBUX00skn9qtai3s0KWd5uryYQOXPaH2Gz+srYt5Y5cn+PTo40vN2jtuxNJTV8/vXhjWyta+0/pU5+Hj+rS0/+G1r7BJlxEj2+NeLe/fbfoTMYVkQEG06Ne+0iP49Aj1NczeN37Eksi3+fXbSiHlsZFLBvrY2ndal+wwZExfDxLnTOPf3m0GjxzRHv9m5YDuUx8JSEQDA0T798y+A360j/RnUD5Z1s4+YPb13Fol+vk9ReqR0X6WBjgYggl2oyMzq2SoDuHG7J8QaGdExMAYAtNz8JaH+QIlotMhta92j+/oYETENsze44xCI96XiZD6pBDei62DWppT9Hdhot3oUxmVUlQnSTk1o7O9EQmPw2CIlh3nRaVWy7SfKSG/MdPbvs/6mCK+VvcPopYJeXyxUu/7n4Mo+LUCuVrb+I5SWFFWI1JqkM+eVfFruBL1F5c/SpFwa2pFCk1zUriXp7V2DF37Mj23kiv9ehJ1qfC+TEUt4QkkyqbXEIWIJ1RotGhzqTRkS4P+BdZDFHzuZ2mphFyB7LNsICoxt1Yo05tSKxYI5Z/nsk7fb6qkTooY6N1x6ul3JdIf1VslqOVJ6r56bk5xdZ1GspR9IwKHrL2dXqX6i/xJL1X8HakqDYooRPxv5Fgt5dfWCj/zvU/J8K/P7+QeuuxeYnYVT/qZMEQh4NaJ+AHf/6aUT6BqMa9WIFUp0g+PCRq6+lpyRZM6BVEKqitrxUo18vuNxeWJlSrtV6RKeFyBVKVBdIhSzBfJVRrkD73hIp5Qpvoh5RpENnm9P5f9pS5qEV8o+wO5B/zvgXX/y40bVbzCgmoNzcKaZUTGfWzaIZKKYi7WlM2kEpp0DlXC8tIKngI2oJuyzOgUQtMFEyp+SWGFEKVZ2FsySPiGe6i0IjevQkaxcrEzNSBgwS4eX5sO5UXP7L60pH/k7hkBjkwsMEhzaPKOTxyxUxy2b+uUjs5/nZGQ/BOT5yT5L543rIMT/d9jelRwY1HYck6HHZtnd/Vk/W16IwWRM+bHt5w1a3hnVyYOOCXg5+d/66ZEpr0b88thRZqlA625p43ZTsZf3fKTyLBxZXy+xyWGatnC2xIUI+CPI36yffH5DDmirnr3PAPfZ0M3J4u/NNbBxl0W7uvDZjEMQePlB+aXjIPm7u5pYcY0BBEU8O8AnCf6/wIYhrEkVgv/tp62Rv+Nw0f/wg6oTi0X8MUqilPwuGVrpnZzNTP4S6MdTDE2NTYg4jD/NpfBYEnmzq39W9ozDP6+nVphsrGJMZWExwAnBfxbXhUdOIcHAAAAAIA/BNh/EQAAAAAAEEQBAAAAAABBFAAAAAAAEEQBAAAAAABBFAAAAAAAAAiiAAAAAACAIAoAAAAAAAiiAAAAAACAIAoAAAAAAAiiAAAAAAAAQBAFAAAAAAAEUQAAAAAAfjbAKS5/E4i0Ki8zp1KJoxqQ8Vg1537kxUSZBduM9scPVVFzHpy6lChl/alE6kF5SdfO3ctlW1lQDYhNbgjSbp88fOxCjJjlZM2kEsFpXgAAAPCv6YmivMfbJg/v37NHjx69hqy9VchT/BuPnEFrXkT8GuDi7Onr5+Xccf51TpVCmXFr/47TT4sF8j+RIUXGrYM7Tj8t4sv/tFV0NXEX9x64WlEjairh3Z5JI+fseZBdLtXiIN3P5Cwo//me2aMG1LnG4NVXsiql4DQiAADw9/Nzn3yLITDt3L2kzNKEm1fiM8okSu2/MITyH2xbdTCNPePciXEBhjXVOgc7Bkn9R1PTVMRdOvOePnRQJ1vT/7nq6oRbdzIMuq8+tDrM05Lycx3wiMEzbFw9WxkUJ929kZRRIlJodRD051VEqmMuXUqlBPYN8rA0ItQXoCj70YVz0Y8SC0Q4lmfXXyf90snFzKDuxVEUvYg6c/lhbI6IYO0/cMLEvr7WxkRwECYAAHqiPw00nyFzl6/dML+vB9PgX3rSvSY1JqGK1Xn0wLbOFma23i3tDMl//IhjVPz6ZMSRO++qJeq/IfyLq6oEiJmNHYVE+vkiA80rbPqS8A0LwrxZhvi/KL8ZF5eOGjNr2a5bmdVibX3PFsk5MXf07O33Sok2LayhrOi1YyZue8ipUuogtOzGqolTf7tRTG3R2pXEObdw1Owjr/P4GlCpAACgJ/p7m+9KiRwlGpDwmCbn0WtUagwBj4WbVMCIRgPhcPqLiAbB4DDwp9uoRqlEsCSi/uLvqPqUMiVMJhEwP+lZ+DCJgIeFNVVyjUYHNQlGSPWzXdM3vStWuwxfvmpMBzs6EZZxru3cdvxBttY5bP6y8Z0cGQTew4jwRwbB3uKXt6ts/JC4O08LqkVn5o191WFKuIMEhZDq57tn/PauSO0ybNnKsYH2dHzVy8M7Dl97mV6Ld+g+feXcvq0sDERPd4c/wLW2LHpyNyYPdR2+dOXoDvYMEozyE079FnE+QebszywTa5wam7Xw+oa1hx7lV8rOzJ/wLnTB5ikByNujEcfvZ2kc+85dOr6zswmR92jX+kekjl6SN/eqPBbMG9zKho79onSkMpRAIeGxTYtHo1ZjcJ9dRDUaHa7OI75wjQbfIBJwWMzv8g25EiYSCVjs9/4Iyb+5Ydnawy9EhhQER2nUtMQ6hS080mmLgzXTkIxFCk5MHLoh7lUeN8DJRHrvygue56Rdv00MdGLApb7Thmx88aK4X0t7hhkOVCwAAOiJ/gCynJtbJnTzZDON6UZUAyPrHuuflQjVECTPjl45NMDe3MiQbuHZfU5kYrVUA0GapP1jurizjKmGVm1Cewc4mdMNLdvNiUqvlWsqbqzo52tjTKXSqEam9v4DVlxOq5V/b+hWXf5y37RubhZMuqGRmVf/1dezeAoEQsuuL+rdttu8i+k1chSC0IpbS0M79F11O5er/GcmzQg+YQO84Zh968++KRCoGumgSbocXWLhF2DJe7j9tzPJFQJ11c1Vk5bfFLfq392cs2/WkpOJJUKtpobz9t7uufMOxkrJJq5BPfzs6VSrVt36DgjxNKUSYE1S9OUSc78ANv9hxOaz78v5GogAU+1DRs2Y2dei8Gz41qvZFWJUx+XEXN207Fi+SZt2lryH2zadflfO16A1N9fN3XS3yta/hSjmVQ5XoGqst7FLYFdfe7qhtXePPqEdnFRPN0xZfl3g2acrK+/Q3KUn4woFWm0tJ+b+7nnzD7wVEWgkYuPFTfK8ezun9fa2MWHQjakGRlYhK+/m1OpzL8+5sX5UJ2cLYyO6hXvIjKNvSkVqnSb56LRerSwYNEO2X8+e7VqwTYws2kw7mVguQdCqu+uGtnNg0Gg0qqGpvW/fxecSK8Tf6+6pK94cmRvqZWWq9w3P0KUXkqukWggtv71qYMfusyITyyQIBKFV98IHB/dbFp1WKYeMjGwDZx6+/WD7yDbWtMaBGmPi4e1iZkjWNw+wpuYmFCJGq0V1Op1crtRCGAIOrnvagErB4/D61iEYzgUAQBD9oe5nYdTcEdN2vIQ6zdp1+cHz53ciN8/p48Ug4/iP1k1dFJlrO3p71KVDc314lxdP3fS4iKvUcguzymzGn7556BdqJofcb8uR8G6aW0eikqsEgvKcHK7tyN0X79y/sHUEO+fYzIlbnhTzVN8Ie+JXmydMiIg3/WXH9edPT89yzj+yZMM1TrUUsuo3d3KA4sa6tVHvywV5l9dvvCryHzOirRXznxqSJHpO3L51rH32jrFD5x1/XSpWN+QKa91v8frFSzevHx9gXJ2dLRdn3b38RNjyl/mTJy3fPreXYfrDh/k8EYaAhcQS63EHz54IHxM6YICfPd3A0qv3oKE9WplSibA+kXVLlm5eN74dXZ+ITIFhdhw1ffyo0ZNWzhvsiStMzhJIVDgcDkbMey1eu2jplg0T2jFqOdlymbTkzvUXwpaj1q9ctvnQysHuFoaNnQFDdw/q5utAp1l59xoY1okUf++lwHPY3MmTlm+b09s46/Hj/FoBrNdNajVmX+SJdcPczakf/h4tjl46fsa2Rwr/iVvP3X36/M6ZbQsGtDajEnSCZ1vnLD2RZjJ4Q+SFwwvbKe6smb3pbnalpLY4u9xyxIFLB8eYFRcQu63asyaU8OzMxcSSWoWsMi+Xyx60OfLm/UsRYxzKzi+cvvleduW3FlNJYnbOmLbtFaXfhouPn5xd0KrqXPhvl1NLRTp272nj2+seb994Pq6wNv/6lq1Xqt2HDGnnYE7BmnQeO3tcX39ro2/MaSLFd+/Gck28Ojib0Il4l/ZtHdDEkzsuvc6uKY89deGVzL1jJytTOljADACA4dwfQBVz6vATQav5pw9PbWtt9CkZpPz02duFrCH7N83q5mhChIJMhaGTr114NrHtQBSCcEaWTp4hkFvEQ5lzm049yU/O7KgpV6pNIQjCm7u2D2jfkm3YpQNL2WfGzfNPx/qZMyyozdZpaOXtU1fyrEcc3DCzsz2DAPsblSUOPfokhtvL0YLK7rdmQ3LOpL0rV79DX7wiD9s9PcjBhPwPdhAI1r3WnGaYz5+5cfVUiHR601BvA32YYllbGxAJGCaTjpPVCBF5Rkae3DzIk0mh4BgeHraEN3kcpdwRhiGcW+cQZ7q+eke/aASxrOoSMWHQcfJqEYIgdYXA57x69vJxcpWwlibUaLUQDENYlpWVAZGIYTIYeEWVCNHKsjJyZBaBrcwMqDgDGxtzMunrU4tKTma+3CzQk2lAxTM83G2Jrwo4SrkzBEM4107Bzswmy2nUcedOPK5ynnpw34zOzkxC41K7fvFuHj1007rZfTwsyHAXlmzw9EtXn4/1YaMQ1tDC0T3I0P3wo1pHv8B+ZvFXdwoq5So1Ue+lpi5t27Zr68jo0sFSM2TO9ehnI9vYmNsbNdsERKvun7vOMQn7LXxmT3cWEQ5gVqf8evh1XFWou62RZe+la9Jypx1fH54CJyTAfTZM6epmafAjTUmUH7t32daHqsBlo9rbs/Tu5D8tfEba+A2/DQrYQlKrGL03nuzfyp4BhnIBABBEf6QfWpaWUaFtMT7E1pDaJA0tJztXTnf3c6JS6qpPQ39fd9r5tKxS1celtTAMQzpEB2EwGAwM6aDP+hQYZqdOrY2vJGcVK5XOEJXYnHgNJzNXrCy7t25CPIWgrwK1NVmVZdZlfI0agSAcI2jxphlpIzZdLrOffWlie1vmP75kEsNsO33/QZlo1L5Tl1M72/rW2wEDQTCEgfUxDkKlIokSJdMMcTgsBBvSqFiFUFofFGGyAQ2Hbb6oGhKB6+KADoJ0SNndddOXni9itmyBUSONbIvBYOuebDAFKhNLVSjZ0AiPw9WXydcXt6IysUSBkqk0HBYLwTQaFavkNdYN07j3hZZnZleoHQd0tqcbE5oko83NyZcaOvs4GtHqhgVorb3djM4lcErl9IaRZEy9a+hgGMZCOt2XvsFo38GHeSWWUyyXeUFG5OaU1eZl54nkhQ+3TH9/gKRXTMvNKSlmlQtUSgSC8PTAueHTM8ZuvJ7LmnRqXEcX1o80r1BhwsG5s/ckW06IWNjPy4qmt7Ym7/qh86m00PWnu5tWPIk8cnnnmmO2B+b1djcngxFdAAAE0e+hRVAIxuFxX8wBofo6EPtpVQgWh4VhVH/1Y72PJZDJBNw3VojAGBhGtdrPqtDGvxCtBqawW7YNdDZpWLYb3A3DamtrXP8lhqaak12ugrHqvLdvc4RtrRjEn+DLA6pPvx4tI/cW5SoVHs2EWSKBiIE1KpUORSGdSqXS4YnE379aSvJk39bL4uBNZ5b1ot6dPmjnV2eWMUQCoU4eiqIQ9O35Yr1uWEijrtdNrVLrcAQijGm+A6fTIqgOwuIaJgub+AaK1vnGx3SxGIzeNz7Jx+JJ5G+uLNO7BowiiE6na+oaukauqYXIFh7+HdwsGtbtBnfDmPs5m9aPN2tqcjnlChSjLoyPy+EHOrJI3wt6yuxzy+btTGCM2rplcrCzSb0ryV+fjXyND1ozbUjvlpak/j28GKNm37n9ZqCfjZktDURRAAAE0W+DtXJ2YEC34mKqRzixDKmfeiI4Rydb0sXctDJZdweIjIfkKSkcKZbtZE0kVjY8Qum7M6a//j/89GbTVmVn5kohMztrPLG+DoQpZBJGLVMiOrThY0C8o5MDWVth3XPc9E72jM8/GZG9P7R443ParwdPQifXnF2/z8d+ee8Wpv/8ZxpaoUCsJVnSsNjm5s3ItjaWhNjyQqnKV6cuLqlQmra2IxBJTaMZRt8k0aFaSNd82NOUcHJ5NGcfFyaVJFOp0W8ER5K1lTn+dWm+VOmnQ4QCsUaL+2owJdvYWBBjyoukSn+9buVK05Z2RBKpeddgO9oxsVeS4ivFHrYM40YehrN3sCWLCzLKJL3ddVQiLM9IzxVB5g7WJHJyg2v0+u1JqP4/grLmFVHnZOeLUIYNm0SqG6KAyWQSRiNRalG0kRQ7AzSfHTJycg93888bT/LUE6u2PMH223aIdD3iwvYDreyXh7Vif2tAV5MZuXH3c6jnyo2Tu7h+9CKUX1EphIzNzcgkvfvB9BYtrKk3+AK1WvOXfLAKAAD+4z1Rg6Bff/G9/dvGSfNrZo3tHeBsghGXV+rsWrtZhQ4NOTY3KjyCvWxUW0r2ufWn04jBO7pYGFOrv9Pcf37taUttS0LOpU0n36Ft1gWxjBvqNgyDbWGEXH98Iz4Aw4XEOmtvN3bf4d1PzTq1cDE0e1L/9i5MiF/EJbb0cWYaEKUxu1bsz3KZfGhiSADLQ1Aw7LetBzq4rwxtYfaPDLMhOY8up0NsazrCubL9TBqp0yg/Y2NKMw/iPUM6O508de1uVlu4+srTassOwa7Gxp+NZhvQGTTsq/evs0odzK2bCZFYM3MzsiAzMbPMm/viSVoN316j+0q8JXiFdHaMPHXlcryrSBB1P7uG5/vVDineM7iT88lT1+9ltcHyrj2rYrWd5Uo3Jjb/MKXjsCF+dzbtmLmIO31M30A3c5y0ogqx9nK1tO4R1uXkguu/7WIjYwLphVc2n07SBawNtjYVfHs1jir39a3nrXBiWuH1bSfjFC0XdrQyMa77EwzdwtxI9+rFnfj2FClRrrP0dLG07jW469k551eugCsmDuzkboYRlvDwri2dzAzJsvgD6w6lskdsndgzyLaNpmL0pr1HAtxXDGxlZaCszM2vFIo5FWKllFeQkZyIRTydLI0p6lcXot+pnQf6UyWl6Qn62A7j6TYutowWLdjwkZunn7Vjm7cx4b08Gf222qiHixHVAERQAOD/E7o/jrbixZ4pwY50Ut1XeDCGZDf6ZGaVFEW4MfsnBNoZETEwhsD0HLzlYYFQiegU9xf4uw3dlVwmQhoS4F2Y6OU74WR66fv9g1tYmNENCfp+FoZs3WXhpfQamfaTKEXq0TH+bCoOhmCC3aiTGZVSFBGnnFvcx9OUjKuXTvVfdDuvVilL2NLHtdXwfTElYn340KnS9g5ys++45E4eV4nq/n6Q2rvLu7uZELEYHM224+QDL4uFKlQnvDLdx6FX+Kt8rhapPj/R27HfppQCvk6ccmp6J3s6iWDYYsBv9/L4ChThXpri7RC67m0Br95q0vg9w3wsKASHsadf7R3b2rHXmpd5+kSiJnk79tuYXMCTJB741Y9tSDJ0H/JLF3ubsM0x+TzB1Zl+Tr1Wv8it1T852cep34b3+Twdwn21fbiPpQHByGPkuNAWbiOTUwobq14VNbl1iwGbY/L5iE4nTo2cGeTIIBMMXcI23snhKlCEd3m6n1No+MvcWu3nrlH5+uCsHq4mlIbCIdkMP5hULEJ1CC/+6IwQZwYJi8EQGO5h629l1coRxeMVQd5Dt7zJ5X1wDf6VWQEB4w/EF/Jzj43ytjU3NiTi63zDqtPs04ll9WVb7xoZkVM72hvhYQjG2ww/mFAkQnSIOP3SykGtLah4TJ14g9azL6dVyGXvdg7xbj10+9Ncvlr/p+rMw6Nau3ScF51WIVclbOvv2bjfinObHJVcKtfkHB3d2qpJYMSY9tsRk8fX8hOOTe/iZEwmEvA4LN7Ipc+a65nVMkQHAAD+HwF/rZ/y4z0tSVVRaY0MMjBlW5nRiFjMx+sVxVysKZtJJeC+0zZHcg8O7xuhmxa1OtgAg6NY2LHpFPwXA2wqXlFhtZrKsmYZkz5OqKKymqKSSglCZdnamFDx2J+zF4CqxUIFjkolE76vIKoU8JUkIxrpq5lB1WK+SGdgTP3qI2oRT04wpJLwuO/bQyPmijA0IwoBj/kLdGtartLqkrIaCUo2sbQyMyThMJ9uVJZwYYYFk0bEf2dlLJJ/fNzg7dLhB5f1MKcQSOa2bDrlCyuq+cWF1SqKGZtlTPmkGiqvLSmpFGkpZtbWpjQi7n+xOxcqrSosKOOqyRaODhZGZDw4FQkAAMO5vxMsjeXozmruuqUD7fclRWTaubEN4a/fdWV+fhFjYObgZvYDlV3tuzsP3pUJlcjnCVi0GdDNi2X4P50xxRAMGYQffZZENyF9LzWTb2+cSzBi/qg4CG9oYgL9Zbo1dQGqub2rebM3LOypv9M3GDYtHBlfiVEEhm0LxpfaUkztXP/HOwxjqCxHL5YjqEgAABBE/0mIDGsXF8iEhP+ffaiu4ybfi4qMLRVqPut4472hgIAWZoYk8I38TwlMpFs5u8jNKAQcmGsEAAA/Xx31p4dzAQAAAAD4fwqYwwEAAAAAAARRAAAAAABAEAUAAAAAAARRAAAAAABAEAUAAAAAAACCKAAAAAAAIIgCAAAAAACCKAAAAAAAIIgCAAAAAACCKAAAAAAAgO+DDQ8PB1b4e0AVtXnpGUVimGZIIWAxf9VWsGrOg1OXEqUsthmNjP8H95dVZN0/czlJr4fhP6rHP17MvHc3L9zjIBYsJpX0YW9qJefRuehEkQnL1IhC+PcYR5nzOCo6QcAwNzU2+L1qa6rf3zl34tjp6PuvUyshE0szYwoBA/Y/BoCeKOCPoKl6uXtMe2dHT7+ANoHTIzMqJH/djsWKjFsHd5x+WsSX6/7ZJkLGrYM7zzwt4snQ/9dlreMmRh84dCWunK/8ZBx55p0ju888zq/9R4yjLn56ePnY0I4BHXuN3XQ9pUqqhSAI4b67tGV6WGd/33Y9J267nVkjQ74s06x7x/aceZhbLfmkNip4s2/6rwsOvc7na7/uDRV3100YvWj/k7yakrjLO8L33swuF4NdugEgiAL+UHgRvto8YVLEO/bUkzEl/Mq04+M9LWigSf7vagVVJlyIOHInt1KM/n0iEy/tOHKbUyH60yJhYSWf7BY0oJ+XLmHfwtWn4wr4WkiTHxdbZuDRfXBvV+XLiPnhF94VCZEfSQ1RSIR8gVShQXSaqqTLO4/eyioTNtVRk3nj/EOu17S9h0+c3j6xk4Pp7ztpUFuVFL3r6K3MUgEKXA/ws4P7ucMP73HEsmOvSwRKHcaw/fStM7vaMcn/tvCDFF4+eJljOXLv5qkhTiYEED3/je0gcczp3UeLuvt2buNo8TeJlMSe3XM0r0urjm2cLP9kWvhWI5e1quuSdiJVT45MTKkZ0NqJ0XbajrZ1t5Uh9F8nRyWkVId6/R975x0XxRE2/t293hv1Do7eq6JiL9iwd40mauwaNRqNWFBEJdbYe8WOvaBGREGsgCKI1KMf7Sh3cL3v3u9zoIJGY4nv+yb57fcv7phn5tnZ2XnKzM45MxmfGqCQRZ/lZ/s069hw7czuIwXdfDq1d7drrbuypKRSY9XVm0OnYxRfHsvLU8/uOSLo7Bnc3sMeHXwoqBH9O3EynuPo7a/kVDyPvfwsp1KhNX6j0LA4JSnx8csqTsjMUR1sma3dZIPw3vGYp6agH8d0tWd9C4ONlN9PytJ4jBvoxWG2tqAqwZXtW47dyTe6DV+0fGp3Fza+MWHH6rv4YLvSuBupFTj/7379ybv49MEz98sonedEhI0ItNYmbVtzl9TdXRQX+6Sc1GVm+LyBPjbv/ri1tujGrm1HYl/IHYYuWjWrt2Pt1TXbH9KH/zo9xJVRdHrVrgz+pF/Gd7Rv/olwRJK4M/IOti1XmHj7aSHsOW7pysldnZi6h3vCT0i6LJk92NOq/upvmxIpS379gV1yNjIeF2RXdu9WqhDjO3bRHN+yc4fPJJaSO85cuWRkW16zHiZZ6qFfd6YLjQE/hi8aEcij4wBt0a29Ow5fS5PZD/5l5aw+nhxV4o518YSu/sqnt2u8Fy0cHejAfvfHXJH6ezuj7uK7+CqT42q8Fi0c7WlIPrDjyPU0qd3ghStn9vWwUCftXBeP6+hSm3j7aSkueNryeYP9bHRJO9fdxXf2VabcqfFauGB0G5vGuH07jlx73sgbtHDlrL6eVhR9yZ0D2/ZffVZLCZ4euWRUWz6x/I99Ow63FLHQPdq77o7J17riYfxTgd59zJLlk7vRXx6IPHRPUNUgWTo9pcv0Tb8Md9c/ObjzyLVnDdyBC8Jn9fOypmCQxhent2w/kyx1bMspa9Q7fsg4yJ4fW3ooU6j1+WHZLyO9ay//djjPYeJP44Kd2cqkfesuKbrMmdTfm0cDAaQuYVfkofjcSknt8hkpXSaOpr94pm07ZdaYDs6s+jvbtjxhjZo8vIMLq+bWli13Mf1nfR/iyai6tXfH0Vuv1A4D54VNDfG0pnzgF3JBEomIpREoWCym1VDE83g2JL1IqjMYTAAA/tmmpR1fcTyrTO01IWzhqPaOhIwjkceEHlOHMJ6cjL6TUyEWhc96/se09QtHtHFkYQBEeOv3DXtvZJdJq8PnlmUu/Q7WtORx1UW3Duw8eiNTZd//p1+n9vGxJYmTT+w5fPFehgji95wWtmBEO3LGoXWH7mSX11eunJMWNzVqwQCL4it7Dlx6UkUImrxy8diOzmwc6omi/IPM1D9bPVqbMQtXrIlaNMSHQ8F+G/uZcXxh/w4dBs7eFHPveXGd2tA6g4WIH2z8ae7yyPVnkqtk2m+TStIXCEo0Fo5eFkRyy6yG1MSumr7iujxgWD9rwZ75S6PTyqVGRCx4emXD8mNCm+AO7MprUVOGzD1R79QlkFYYE7XtRmGNwlAneHpt0+KdGUQ3J9PLw2Grzr6qbJ2BQyTx6+ZE/KFuN3qgXdHRdbviSxq43laSx2eO3yysLU84e+x2FdnZmkjFvZ0exYLkK+uXHylit+vIbbi7dcOJ9EqJQVeTk/zoZYlUbTAhyvKMp6nZcqUOERc8vboh/GipRbv2nOobG6YN/Sm6ht8pgFZ8fv32WKFI3pyHSz9z/BXBwQlfeHbV6lMvKxr0knvr50fckLcZGWpfEh21+06RSG2sE6TE7Vq0aN9TGZ5OInwgNofrBSlxuxct3vdEhqcRlA82zF99Qx4wPNS+9Phvu+8UilTG+sKU2C1Ldr3AOPLB7OgVq0+nCxu19QUpcbsXL973uBFHI+LlCWYxWcCwUL7w5PrdcQXV0qzjq1bGlNgNmDghtLOHLQUrS9jw8+obUv+WIipEUpB6bVP4EQE9MNhOlrhj04nnQjWvQ68gZwsazy9k0LA+/tbGx5sWrI5t9B0a6lB+euPu24IqJVJ/a8OSDbHlNm3clc+TC+rE2j8vABpfnjuZieXyCaUX16w9kVaNgaSZdxIeljfIYWN+ctxDoYJkwhCaegOiOHXoFeRixeD59Ro0rG+QN0Px6t6DZ6JGJaLMTPoj7szlRxUSBazKfXz3aYWaAECNcb/NX3lJ5NKvN6/8+NIVRx4XiQ1/Gol1GTEHL7yitOvV3s6q9XoCXF8v0VOYFsQP3QvAmHnhdCZobU8UXo5adyK1uF5bX/D8yYtCCWLbvmeTjj49Bw7tG8hlEJtnE4Zrx55BrpYse/+QAX07OltQ3vycuqk2bsPPqy5UOvYOsa86vWLl4Qf59QYcQHHoPm7WT8Mda69v3noxo0xn365Hu+ZqBwztG2hdfSUq8kweJ2T8hEFdvXlUPAa1oCj/vUgU1irUCIFCxEHv7L4z6PQQHocB3xn0sMEAmP1gEIANMISFwJZ/IwatFsYQCeYvv8AsalVakETEQ5+x80+bc2Te1I2vHCcfeTQ31ItDwr4jYiiJWR52QWNhQ6wnfrMHFVFKZRqYwmThWjn/iPDWhXtS/6lbZk5pR3YQDQyPjy8e7hmAxYBG3pDla5cMdq1jlYzb1jB05bJFveyyAcGsBzlCtdoKiwEMnH4RG1eO9FK5TRy5LTGpfIQn7W3XVt06H6dsP2/hlDE+GmL+mDNPMxt6Dh07rtv5tXfvJGvzEjRB04b52HLezpQQDosFYesBS9aEjfKR2VZ+d7AgT61qR//AZYA4LBYy8gYtjVwy1ENiIRy/rX7QirBfejvmYYvmJObpVSrAHIpCtoPCNkaM8tX76EZufni/bBhdeD5O1nZm1JRx/npK0bjTyZniHj1wWECh5E3af3xJf09rwge6GofDmOQK3qR90Uv6exguzbkrbzN93ZTvAgzU4nGnU8xVYCDAwO67NCp8tL/Oe8rYbQ8eCIfZQBhAoeBN3HtsSai3leTs7juywGlrpowLNNBLxp9OeSXxMmYVA54TJn43sb0TEwKQqjMX42UBUyKnfBdobC4i7mmFwYKwVb9fI34dF6hxqP1+f3G+zNSpU58g5x2XId/+I8Z0d9OfO3RXGjB51ZTxbWFG2fenn2U29CBk3Xgo9hi3bcWcnrbp5FELrn8gDIRsBiz+beW4NqbA2eM2P30gHN7H3414pii/URGAERRKLFx9uQz6aweH4tyxd5DLzssm337Dx/T0YlkF2Z2+XVahUPlKsovxNLC8uFyqkKsKShRcd38rmizxWmK967AtM2Z243grRq96mCgZ5g9YtGSekbKLS6avOp6sar9s/6z+PjxK6+RLYXJqMej0va8li/qBm4Gx7r9w3crx7cBrcydsTnlYPNJF/0bH4JC2rrsuIz59h43u7Wvz+pIhpkfXkKCr+27h/PoOGdDZTV6EAwCdeXyW37t+v8558PoZs3pZ+avGrnqSWDA00LXj2OmdzCbeW57106UcgVjfrmNIW9c9l2GfPkNH9/WDrp0uRVwHjR83qbsHG93CgfIfi0RVBbGbpvX15XGYLAaVwrDvv+5+uVQPAOr8SyvHdnSyZtBZtr79FpxIq1UaAMDwYu/kEG8bJpVu12HQwI6u1iw6t9OCmOx6taH6evjQID6TSqVRGZZO7UeEX8yqV38qdauverhnTl8vWw6LzrDyHxZxLU+igQGk8tqSgcF9fzmfXadGAACpvrFsUJchq24WirXGysvbDqQyRq/fMnegr8V7FhTQ5hxbuS3TdWb4hHb2rG+4cmmETSbA9G5cos3PLVLbuPpyyGQs28fHAS8qEmg1WhAEIEtbLhGPx7JYDAKDa2NBwGGwbDYTq1bKYCMCgQDE5TtSCASsQ4APFxIVFys0b2MefW6OQIE3Sl8mP0zIE+u1oupqlc5oO3jCQLvyW+sPJ+F7jujJt6K1uuVmDwZjY2dHJhAgDoeF06jlsPHD/W72a5qVI2CZzcpxCHgshs1iYjVKAG6WMmtHJRCxPH9fO2ydsKzhRbpAjjNKM1MeJeTWaTUiUbVKpwdAAOvZvZcbm0UAP9IYBDaV4LCI+rzcAjnWIMtMfZSQW6/V1oiqVVoDAIEYrj2fQiRh+X4+XExdaYlcowVArGe3Xu4cNhHU5ZrFjNJXqY+bWq4RVRsozp58w/OYQ3deVcgMJsBcRIYxSjOfvS2i0ulNIICx5vEoRALEYrFwWrVcZzS2vn26PLOYQfqqSUyjFolEenlmbqHCytnPmk7DUvj21hTiB0YQZGPPp5JIWJ6ftx1eUl6mtvUJ5OurCipktVkCIcnZ04XJ+MgCAs4zwJsjExU3yvJeCUC/jp6gWFgrFeYU1bBdvOyYxDJBiZLj4M2h0XEsT08+SSw0qZXvtG3VefKKdSsne5ZHR269+qJc/jaBgTQ+ungjh9iufxe+LaEuP+1JUoKZxKe5IrnWXAp8o7avlx2hoVKoUGq+bputvkhQomDbeVnQ6Fimh6cDWVJRKFMoTQAsLXxy/cwfaeXiOqlM35RTbhkKLHd3eyTjUnTci5JGPbq/F+W/FInCpTELJ/waK/MeNX/HhvbODFgsNDj5s0nYhrsRs5eckXWY+vvSIKLgwtZdYbMBRsyqUDtxaV4lf+rJ7b7JGyOuAiM2HbJ9sHXfoZghwQu4VQUFYofvd24f5oqrSjy67ci86Tri2eX9nDmEj1kz+aON06ZF17efsu1aH/vGu9vX7F8axXfc8p2/3dCFM++PW7R2jaPdtknWT9f9dkXWcf2EYDsOvurY7RSFU29u6e2YfTDeJqBH32AXDrl5fUWffzzqcFXnX3aNCSgtxAGSb+el0OhUAqSSNhjMU3FzY4hKJteaSFQ6FosBQDqNitFIlTDcNK9BIAQCYJN5A1/H1iAEASDwZv5o+gQCGDqTjtOrVa/FAAAwKRulakNZUvTOLDIBAwBM2zZsEh4CqJ2Ghrqe2/zQe3SojyXnzzE2BGGaW/yMi2nOGzQpBzavnoEY6J1VtOZqMHQ6FWvQKGWSBrNKJ3ZnU8wq0W0C2WQ81LQ4R6FhMZi/aAskUahYDAZRSs1X9eDEnpymKmjWgRwyAWpuqim2x9AZNJxeo4KNtJZ6EblZTGgWo5rFqFaBHAq1zYw1y4ULIiInTizYsPPXzg0yc5GTe7OpBGxzkWblAAjCAq2u8d3UgkpqFnt4am9O02ugFKsADtGgUupgEo2Bw2Jfd89HfIM3QwJr1KlhyKNdoPX5V/k1GeoCo0M3Lxad8rGbQPbz9yQlV5dUpqZVM7y+d3PPEZbUZ1SU4h0HuDLppnKlBiZSaDjzeKJRqVhtFfCeM0Tm+YeM8e/RwXr+9xsuXX/Z0cnG35YAAIAyLfrgjXrviWGdXXmkhhunN+289apKZQIg/vB1W+d3Mo+6pqsBX6ut0hhh2lfZMpNKrtTCBAoVj8WCII1KweokKr2u4u7GeREnsglu7jgt/IGKcX4/hodV/BqxafrkoshtYaPb2dMw6LyN8l8worrk4wcTGgMWnTw4O9ie0VINXHXy9M1SmzF718/v62JBAHpaSgfNvHru/vTgkQgAYBlcV9/egNfWeJVbh+6hpIRT2+qqtHpL88Ni7dm5Y2c/Hj2ki4128NzYs4k/trNm21I/OK0gopvHLxfZT9gfNa+HExsPtmdUpo09nJAsHuBiS+UNXR31smDG7pUR6ciDR6RxO3/q6WxBMscmhcr6zBNbq9ztGYYaQeEK7vitJ6JGB9hQgeKYTUfL281fGuJqRSn/tj1MdHK2J8SW5ou1ITBAauooCI8nQIBBrzMhCGDS6XQmHIEAQV+UFUD0Wj2CoxDBt2IgnoDHENrMOLR9dgcnVktlcF7y82oIh+Q9S62U+jtw2J+65+YeN5nM8fPXJ7G1Wj2Cp5PJJCKG2Gb6/t9nd3blvFYJaSj+EieEgDdf1bR9W+Z0duNg3lRRatbxTU/oDAiOQjCb8xYxvFkscOq+LXO6uFm0mnXHbYlxdl40d8vWA4F2AQaIEDh17+Y5Xd3fFpFXfEqh5pqn7N40p5uH5WsxeSweAg06HYIgwCe7DdFqdQiOQMJgqIHtAhj3ylJTK8u43WdwGPSPmgfI0s/XSXe/8llaDsNjsEeAhnOsMjMrt4Hfz4vNpJv7CDTom5o36fV6BIsHoA/VheEG+DkS06qECpUGAQiQIu3o9vOlLqN/C/V1YGIg5vCoi8OjWmnaWPbePcURiFjM161Kgng8HgKNBn2LljiC5nH0wUu1bcIOLh9l+3jpxO0NHxAkeYyMOuHouGzBlj2H/Lysxgc7oS+IofwH0rlwZVZOtdGje28HOvWdSdkoyC9Us7zbuVLJTTtA6e2DvGma8rwKndbQKologk0ABEGQOcJ6b9KBON27t2XqyvOEWq3+I80bBLmFcm3Z7bXTxg0J7d+//+BFpzJFleWVDQY9DAAQu2fY+rkBNbcupluODZve2cEc0CIKqUwNBi+79ehR8tOnL7Pub+yN3Dl8NkPUoJXE7z+a6TTyh+6OlpRvvuqCce/ayRWfFxebJW7Uvb5UsgOfi6+vKlXqdCa9sLxaa8l1xBMIn+XPy48HgMoAAC2OSURBVKWNeqMBUZQJRXoOl08mvA3WyQ4OXExlYY5MpW61J0qedPZKkduEecP4pX9cfVkj/mQuDqJQKDhIo1IaYdikUmlgI/z5xlPaINYZDSa1sLzGaGnvYOHpwcVUF+XKVH91yACiV6t1MPxhxUgODlxsdVHeu1fV9A6IuSeMiFIorNGzbPgUYuso2yyGqS7Ok77fMsRpP3VyqKu+qkDB5lhhzUWUnzwBAcJgsBBoQmCTyURy4NtiRSV5ja3ESHY8a4KkulSp1phgaaP8vZzka4VlDWKdQW9Sl1fUGjg8PoVEpLdt6wVUP3iUQ3f25jIZ2HcTBBgQBJqaNA8jF38fS1nu42zE1pVr2T7IwyB6kVXCcvEwm16SvZ0tqbGm3Ny8oaKiWsO2AoikD/q+tXUSLY5Ex+NwINL4eN/GU2UeP8wZ2d6FjfvoiJM1Ssxqayoqa/VsLp9CfptzNusINen4OQ5Xk5bS2nK5Wo0YKitEGqaljaxaJCHyfd2smCRYb2jyQZqqxTZV+3YZBGK3nfRDf0+gtrhWrjCi0zbKf8GIAkYYAUAsDgu+nwY0P/UgpmXDEAaLAUHE/O1blxSDJ5Hw2L/YCARCIIgYje89ma0/wUYDSOb5BXft0auJvuN+WrFqRh8HJrmpVkOtIL9KB2L0RU+fFkhVehMAQFgsFgKMBgPSpAnFq0cnV0pdaYFKW3P/ZmJZ9YNdk/p08HZ3959zKq8yaef44UvP5NUov8EiDC7g+2n97SpPLJi3/mjsk7TkJ5kVWtcePVxVyVf+yKvIvno5sZbboZcnk/FZRhTOvXk6PiMj/vCZJDEvqCufRce1JL5C+3rrHh/ddyu9TCwpLxKK1Tp96bUzcTKf7v1GTR3rIb5/MaG8Xv4pm4hzcOARyp7cep6XcuXy/cJ6qRb4nDnSbHMRwa1Tt9PT7x4+myRx6dzT0bbLwL7e+uTj+2+mlYglFU0qvWsskfrLP3cLGBJ5VyD+sMeE8+nX29uQcvzAzefF9ZKKYqFYpYObI+zbZ+PT0+KPxCTVWAd2duAwW7/5gPPp29vHkHKilZhWW/7qhaC6rjIjPV9M4PAsg4b08zGmnjzYqsjHJmgyi0XDVL56mlcu0rmHhHgbU08duvmsqO61GOjTq5urIeP65dT0pDMxd3JE9bp3Q1K4qXPizt5Oex5/7Nz9On6H7k5WHDxk2S7IVVxSQnX14r+/QmxuElv1KjlPKFIYYBPe28/DmJ/TYM3nM+jmuLT6VS6W62DFZOAAnFePLm7Gl7fickoyY2OTqtj+3WgWnJY+rsp4/DyntLo67/au/VcFJL9uftYWxLp72zeeymV1aGehKs988uBhck6VTPPe9ZvVhgvunIt7nhofff6+iNeuq7ONBe5dHauzUvLKqsw6fmJceXbr4gZn3Y7PLsq8EfugguHX1c/Hh09RlGbmlxc8unk/s6pWbjCZEIDMZNKw1dnmauVqYdZLQWVNxcuXBXVYli2LREKzuSj/CSOKsXNzZgOC1ORalfqdSRnr4upAbCzMqlQ1P5DqzEyBEsNztScQ3jx75CHbk58dm+nzsWN7dPm5hUrAytEe91oEJJOIkF6nhU3I6+cU5+LqTDJi7UOn/LRo6bLXhP3Yy4lpfsRUGQfCfkui/bA/emlnyZl1e5JKxVoTQHHg2+BFJQKFtunlFUQhV8IEEhWDobf/ccPuPbs2rY9au3bt2ogfOtmwPPrMmDOyow2d8E362HbI2v0bpgXJr4aP6xncfeSa68Vyr5m/Le3eeGhMm3ZzEmx+XDa7m4Ml8fM63pFdtm18/xHrXvCnhk3r6GDRSkWc77SoiJHsJ6tC3a2tvQeuvVlU+SjmwjN8+/5duNyuo4YGQelXr2bXNeg/Mdn5jPxxoJPo9PQ+Q6LKGFwyiQCZPsOI6vUGyC20u+b47EHDIlN5E+eOC+Czyb5T1q4aaflszWAva2uvgWtiC+o175peQW6ByrFDd2cOE/8xdaasWTnK8tnaId421l4DIq8X1DcdcIhxZAt3TR40IjLF5odfpnZ2tnrXBuF8foxcNcoqbd1Qs1jo6muCGsGjgwsHevMcem0pCZo6Y5C7Y6cpq1eOsk6Leluk/mNHJ+LbDRrWlpi+efyY5edz6KMjwkfbpK8f7mNr7RUacSWvTo0PmLh4apvGmJn9h/9eZ+9hySIbX4dVbzsHdOnXVRezcOSIVY8tx84aF+RsiQMAyM7L3Zbh3jHYnc18b1MRPmjgsLakzN+/H7f8XHqF0kTz93ehsPwDfFgMGsbC19uWZNfW34nJMMff+IApKxf3Npyf1iV4eix55IKZIa5cckt6IPfm5mm9ve3tfIbvELhNX71wgLc9qS4pNiGvMv/ergXfDw7p2bNnr5GrLmVXKZH37yno3KeL/sKSMSPCk5ijZoxt72LVylfBtx0wpC05e/uk75afeS5UfCKgxwdMDl/Ux3R5VveO067ihs6b0ccncOjEHzqB98MG95n7QE0jkkkwDCMmfNsBg4MoObsmj1924urZnYuH+fOdekRle4yfMtjHkYlu0UX5Z2H6WrQZO0Z4WPPafhcZHfcsr7hEkPEoKb1CrtFXXZ7bwd6p69y9t1LS7h//JcTJ0mvqqewalSpucXuvsTteVsrg11VIzk33D5oWnV2RsXe0B89neOTJhBcZj2KWD3CzdB6z/0WVwvi6oDo+rJOj+4DVl5+8zHjyML1crtHXxC7s4sALGBV+NO5ZXklxXlrCo6w6pRY2mWRPowZ4+Izc+kgoNejyD30f4BQ8/2JerRrRvdgy2N25y9xTzysbRc8PTGrL8/z+SEaVAn7nutSx89s4D173tLTBaPrGwBppvVihMcDIm88N9Y1qvRH5THHxhdltnAetfZRTJBKr9Ab4I+X0CnFdvaylma9CJ62uqjNX8uWSDXUSxXva6RWSD6ukz9o1puPoqDv5dfpPVPumCnNvwZLL84PdB0UkZhaIxEqdHv6U2NtOhjUyiVStNyAfL/Lx/tfLxfVS1ZtyHxDTy8RiuUb/Fx2va6yXyFsprBccmRzcY/bRZ2UK5ONN6gzI542vRvHHCusV9ZXl1Q0qnfFrRsX7av9Jx0al7nOHCqJtlJi1hFt1m/mL92pH9HLJ62phrbxBptZ9xVhEQfmfB/gbssbqB7tm9XJhEZs2GoAQ0XFSdG6NEoHFyXundXVkECAQwnN8R2+KL5FqYZPmr42orRWLjsdiQBAi2Yf8eiG7TtXKiGleHZ7cnkfFggCId5wYnSNSIrA880zYYF/L5ldVQIjafsnNonqt6vmmwZ4B3+1JLpcbmh7/rN2jvJy6Lb1VJNYiiswTc3s4MYg4LAQRuF0Xns2sUb5vKv8HjejftcGvjeiTYsl/ZToxFh6a1G/OoSeljV/U2W+MaJKgzvhvvnxV3snZXf36Lb2aJdIg6GSEgvJvBDSZ/uayH6yoKauoUwEUS56dFY3wdoskrKgWijGWPA4Vj/3EZjq4cP93Q7aa5sRE9KJAWLKtI49Fxv0paaOTlJXW6qk29jZM4tsFVURVV1YuUsBUGwe+BRX3GfsGEWV1YVG1isxzd7Si/KuOP0EkF+f2XVYx4tSuuR2d/xvvnSOS0nwF1d6WTSN8yUoX0nBl4cDlJf0PbZvX1d3yX7pGBpddWjxlxXX94I37lwzxsyWjO05RUP6N/P0TizA0Gxdvmw99z3WmfVlVBI6jF48Ofvy/npw/rTdSrJy9rL5ohZLK9Qjk/ivXr8m+Q+cuknvw2aT/yoQLcZy8OV8hRvIeNGuh1MXJgvLv9SUwFnb+oUtCQwd38UYtKArKv5a/H4l+C5+8/PySeSeAcTuWDXezoqDzCQoKCgoKakRRUFBQUFD+06DbxVFQUFBQUFAjioKCgoKCghpRFBQUFBQU1IiioKCgoKCgRhQFBQUFBQUFNaIoKCgoKCioEUVBQUFBQUGNKAoKCgoKCmpEUVBQUFBQUCOKgoKCgoKC8mkwkZGRaC/874Bo6ouyc8rkII1OxmOgb3VGsF5w5/iFNKUNz4pGwv0fHjysyYs7dfGFWQ/6/6ke/+e3WZIee+62ALa14VCJb37gQSu4e+ZSmszCxpJBxv97OkdbcC/m0vNGtrUlk/KlahtqM26dOXbk5KW4x69EgAXXiknGQ+jB2ChoJIryNRhqHu6c3NnNxbddxw5dfzqRU634dicWa3Ju7N92MrGsQW36v3URcm7s334qsUyiQv6/vtcmcdqlfQcup1Y1aFs6R51769DOU/eK6/8vOweRFiZGr546dOqWe/m1upZvnx5cMv3n7XcL6rSm9+9p3u0ju07FF9YqWtRGGp/s+emHxQceFzcYP95U9R9rp01asjehqK489eK2yN2x+VVy9JRuFNSI/u879Xe3zPxuWGj//v0HjFlzo1Si+Tc+h4j00cZpM7am82ZHJ5c3iLKOTvW1paEu+b/LCxI9P7f10K1CkRz532sy7cK2QzcF1bJv0qRWcHHpdyNm73pm8ukU5GBBfRMjGwovHzl28XL8q2qZBv6smmCNQtrQqNQYYJOh5sXF7Ydv5FVK39XRkHv9bLzYf87ug8dO/j69u7Ml8YvGu7HmxaUdh2/kVjQi6NBD+aeD/WebeLyFo7e/klPxPPbys5xKhdb4LWqFRY/PxGSx+o3u5Wn5ei5BpLm3T5+8lPCyXInjBoROnjW+izOb1PRrz5qSeyejL91LK1aSHDuOmTlzcIAN7YsyW3Dpxf0XBdzvd2+c3dvVAo9az3+jHyRPPrnzcFm/oB4dXGz/l5pUpJzedbgoJKBbB9e///O3mozDa7c9ZU7atXNaiDunZRAijUlnbsmoNBxC/Vx/GrLos/xsn2bphmtndh8p6ObTqb27XWvdlSUllRqrrt4cOh2j+PJYXp56ds8RQWfP4PYe9ujgQ/mH8w9fEyXY+nTs1quXh/zh9Qxs8Oh+/tZ0wt+yQojs1ZmwqXM3nXlJ6jm0swuHigUBAM7fP2XsyqtVFFdvV2bj86vHjz9CgnoG8FlksOLSLxN+PlFA9esQYK1MPbv35CtGp05etgzCZ4fwiPDK9p1J1CG/Tu7hxiG3iKkEVzYvWxK++eTjBitvTx6LBDUkbA879EKSf37zqnU7z6dpuA6qhG3Lfw3feikX7xbgbEWRJ25dejBDKYzdGrlu97Uiooe3gwUVr8/74+TdRvfhA4Pt2WR90Y1tK8OWrj2UUMfx8banll5YtWLvc8jT046Nyzu9IvxEAdPb1ZbR7B8gksQdSw+k1eZe3BYZufnEEwXXz4NL1z/Z8+vaP2Tuno4W5KqrUcv2puG83WyR1L1LD76oy7+wdfW6Heeeq2z46vs7w83KZWNc/Jyt6Xh97u3TCVJrm4rrOzbtPJsJuvg6W9EJGEBbdGtnRNjStQfv1bC9vOw5JGnC9uUH0hW19w9vulzu6OVkzSS925tI/b0dKw6mK2ruH9ncVIIhTtwdsXTZ2oN3a1hennw2SXZ/x/KDL6SlN3ZF/bbrigDn6uVoSVEk7lh+MF1ec//olsvlfE8na2L17V2rly5deyBexDS3TIHL7uxZ9evSyJ0XXoFuvs7WDKKh+I9dq8NaipCUD/esOJhalX1p59o1m6Ify6y93bmGp3sidl96mFNUkvnkfj7Gz9uJLk7cE7l02Zr98dUMT08+h4qHkMYXp9aFhUUde1ItLnxZzew0rJc/l0V8bRY0+XdiEiRsy8pbe3/fdToddvR2oheciVhztoDp6mzLIsqS9q74PUHp4GxvaR7hSF3CrojdF+5nFxWbmzRokg/tj6viuDjZsoi1d7ZGnMyj8h1s2MSqW5tX7ktBHJzsLDBlt3ZELA3fGH2/lunubmdWqaVDa25sifoDP2TJ7MFt7GmYVhFjwdkN0Q2urnCFxrpL705eXOY7Tp5JK7h7LkHM5FTFHdi689QLA9/TyYZpSjsSvu5quRW15OKOoxcTs4pKMp8m5YFeno5NdxIR3vo9cs/5pOzikszUHLmNjSL9YZ7Ju3+vtnwLkqbo1u7Vy1ZsPJZYTXdxs7egYeuTj29aHR4e+Xv0bQHI93S01ifvX7PnfGJWYXFmclI+4OFho3txYl1YWMT2mAyjo6czl0XCoJ4oyj8o1vsmoZ1WoVDrEeS9XKtBp4f/9GulsMHw+kvY/EfrfyMGrVprQL7wB04RrUqt+1PbH1Sz8PKK4V37/BInxgBQ68kC4z5m5fE7KYmXj+/fG33j8upQy7JHSaVSudFYcOPcfXmHBft2bdq4fkfM+ciBlIz4+5UNCvjz9dMXCEo0Fo5eFkQyptWsFrtq+orr8oBh/awFe+YvjU4rlxoRseDplQ3LjwltgjuwK69FTRky90S9U5dAWmFM1LYbhTUKQ53g6bVNi3dmEN2cTC8Ph606+6pS2koVRBK/bk7EH+p2owfaFR1dtyu+pIHrbSV5fOb4zcLa8oSzx25XkZ2tiVTc20lSLEi+sn75kSJ2u47chrtbN5xIr2xQ1uQkP3pZIlUbTIiyPONpanaVUgsj4oKnVzeEHy21aNeeU31jw7ShP0XX8DsF0IrPr98eKxTJm/Nw6WeOvyI4OOELz65afeplRYNecm/9/Igb8jYjQ+1LoqN23ykSqY11gpS4XYsW7Xsqw9NJhA/E5nC9ICVu96LF+57I8DSC8sGG+atvyAOGh9qXHv9t951CkcpYX5gSu2XJrhcYRz6YHb1i9el0YaO2viAlbvfixfseN+JoRLw8wSwmCxgWyheeXL87rqA8NXrVypgSuwETJ4R29rCl4CFJwoafV9+Q+r8tUq1CJAWp1zaFHxHQA4PtZIk7Np14LlTzOvQKcrag8fxCBg3r429tfLxpwerYRt+hoQ7lpzfuvi2oUiL1tzYs2RBbbtPGXfk8uaBOrP3zgDS+PHcyE8vlE0ovrll7Iq0aA0kz7yQ8LG+Qw8b85LiHQgXJhGn2ESGKU4deQS5WDJ5fr0HD+gZ5MxSv7j14JmpUIsrMpD/izlx+VCFRwKrcx3efVqgJANQY99v8lZdELv1688qPL11x5HGR2NAyLmof3n9h8mnLrXh648TpuJdVch3SHEjeP31N7NM1gGvJAD+aODVmXjidCVrbE4WXo9adSC2u19YXPH/yolCC2Lbv2aSjT8+BQ/sGchnE5tmE4dqxZ5CrJcveP2RA347OFhTs6ztsqo3b8POqC5WOvUPsq06vWHn4QX69AQdQHLqPm/XTcMfa65u3Xswo09m369GuudoBQ/sGWldfiYo8k8cJGT9hUFdvHhWPWlCU/5ARVRXEbprW15fHYbIYVArDvv+6++VSPQCo8y+tHNvRyZpBZ9n69ltwIq1WaQAAw4u9k0O8bZhUul2HQQM7ulqz6NxOC2Ky69WG6uvhQ4P4TCqVRmVYOrUfEX4xq179qdStvurhnjl9vWw5LDrDyn9YxLU8iQYGkMprSwYG9/3lfHadGgEApPrGskFdhqy6WSjWAgyWU49fjsff2zzKx5rc+sohS78gdwtKU3iJsbKxJOEAg9mam9QqDQxiCDgQND+5VDoFi8VisM2fPtPGK6UyDUxhsnDYlqcfEd66cE/q//2imTNW/L5wAD07Pr5YIgexGNDIG7J87ZLlG9dO7sAw2g9duWxRxI4VYzzBqhyhWo1gMYCB02/pxpXrDh34JYSWl5hU3ih7a0Xhqlvn45TtJy+cMn1FxJRgfdbTzAaN69hx3ai5d+8kn41O0AQNG+Zj25LMg3BYLAhbD1iyJmz55qipndj1BXlqpeaD4wSHxUJG3qClkU3KBbMQ/pAVYb9E7Fwx1htbnadXqZqL2Q4K2xixdv+BxX05JQ/vl9Xmxp6Pk7X9YcGU6eERUzvBOcmZ4kYDDgsolLxJu08cXTvO2+YDeUQcDmOSK3iTdh0/umYsM+P2XXmb73+eMiM8YkonOCclU9yow0CAgd3316jwdYf3/9KHVfjggVCsgjCAQsGbuPP40bXfeZueXL4jC5wwv1nMlJfysvBhSjHgGTrxu4lzF4zvyucQa+IuxssCxv/8tsgrc81YELbq90vErys2R03vatVQnC8z2XbqE+TMofN8+48YExqAJN+8Kw34bt6UGeGrpnQGBM8yG+rz4m48FHuMi1ixYvP+lWP97ViYD/ShzYDFv61cd2D/4lCb8qcPhDhnfzeiqCi/USGvEBRKLFx9uQz6aweH4tyxd5CLBY3r22/4mP7tgrsH2ZnqyioUKkVedjGeBpYXl0sV8qKCEgXX3d+KJku8lljvOmzejJnhmxcMtip5mCipEbc8Kfl5hXJ58vFNh84c2xE+cdgP62/m1GhMBsHlmBRGp16B9lyK2cR9LFll3f+XdSvXHdi3eCC3KuVhcY1E/0bH4JC2rpZ0rk/fYaND23JZpGYHgOnRNSTIzZJp59d3yIDObhZvnDa4/N71+3XOg+fMmBW+acFgG+GTxIIqCaXj2Ok/Tv5xxvIFY9pSRTkCsd66Q0hbVysG16fP0NGhbUk1xaWIa+/x4ybN/XlCd2drKroXEuW/YkTh0piFE+Zsewh0n7/j4p2kpFsnNi4Y7M8mYRvurp295EShw6TfYy4cWNhGcjFs9vp7ZWKtUVyaV8mfevL6gfHUXAFp6KZDkX0NNw7FvKxpbKwqKBA7fL/z/K24c5sn8AqOzJu+KUEo0f1FeCl/tHHatK3PLMdvu5aUeHK+W/GhpVFXBbVKwG7owpkdNdfXronJqGosurjutyuy9pMnBNtxiBirkBmLpw5sY0PBQ39xWbE3UmS89j1cmXQczqt7Z2fdo/0bL6SWNFQ9OXzqEdy2T08bFu0Lus1oDrzfi661+blFahtXXw6ZjGX7+DjgRUUCrUYLggBkacsl4vFYFotBYHBtLAg4DJbNZmLVShlsRCAQgLh8RwqBgHUI8OFCouJiheZtzKPPzREo8Ebpy+SHCXlivVZUXa3SGW0HTxhoV35r/eEkfM8RPflWrXU3ewMYGzs7MoEAcTgsnEYth+EPOy9mv6FZOQKW2awch4DHYtgsJlajBF5LmbWjEohYnr+vHbZOWNbwIl0gxxmlmSmPEnLrtBqRqFql0wMggPXs3suNzfpIbh4EIbCpBIdF1OflFsixBllm6qOE3HqttkZUrdIaAAjEcO35FCIJy/fz4WLqSkvkGi0AYj279XLnsImgLtcsZpS+Sn3c1HKNqIbq5MQ3PI85dOdVhcxgAgBzERnGKM189qaIWTkTCGCseTwKkQCxWCycVi3XGY2tb58uzyxmkL5qEtOoRSKRXp6ZW6iwcvazptOwFL69NYX4gfgasrHnU0kkLM/P2w4vKS9T2/oE8vVVBRWy2iyBkOTs6cJkkD7cITjPAG+OTFTcKMt7JQD9OnqCYmGtVJhTVMN28bJjEssEJUqOgzeHRsexPD35JLHQpFa+ddmk9WKFSu04YcvRcwmPTy4IkNy98rCkqvTemes1Xr16eTlYvlFWW5Of9iQpwUzi01yRXGt20MA3avt62REaKoUK5Vdu79MXCUoUbDsvCxody/TwdCBLKgplCqUJgKWFT66f+SOtXFwnlekNhtbVgyx3d3sk41J03IuSRj26vxfln8dXbyzSJR8/mNAYsOjkwdnB9oyWauCqk6dvltqM2bt+fl8XCwLQ01I6aObVc/enB49EAADL4Lr6hgBeW+NVbh26h5ISTm2rq9LqLc3zhLVn546d/Xj0kC422sFzY88m/tjOmm1L/eCsgohuHr9cZD9hf9S8Hk5sPNieUZk29nBCsniAiy2VN3R11MuCGbtXRqQjDx6Rxu38qaezBelzgkdE8uT3RRsSoP4bfuzA45hn+I4LN8zP/CFq1aC264h6LWfo1phh3jw65gu8FBqdSoBU0gaDeSpufn8SUcnkWhOJSsdiMQBIp1ExGqkShptCSgiEQABsMm/g67fqQAgCwLeBQtMnEMDQmXScXq16LWaOJJSNUrWhLCl6ZxaZgAEApm0bNgkPAdROQ0Ndz21+6D061MeS8+dtkhCEaW7xMy6mOQZvUg4EgKa/MRAAvmdsAQBDp1OxBo1SJmkwq3RidzbFrBLdJpBNbvJgQBKFhsX8VT+CJAoVi8EgSqn5qh6c2JPTVAXNOpBDbl6RBsGm2B5DZ9Bweo0KNtJa6kXkZjGhWYxqFqNaBXKYHQavWa5cEBE5cWLBhp1LhnBlMnORk3uzqQRsc5Fm5QAIwgKtrvHdMaKSmsUentqb0/QaKMUqgEM0qJQ6mERj4LDY193zEd/gzZDAGnVqGPJoF2h9/lV+TYa6wOjQzYtFp3zsJpD9/D1JydUllalp1Qyv793cc4Ql9RkVpXjHAa5MuqlcqYGJFBrOPJ5oVCpWWwUYW5whrVYL0wK7d3GyYuEY7Tv4WZ1Pzhc+q7t+T4IJFD6KuwhkFNSJ8I9u3iFyXp68nFwoUpkAiD983db5ncyjrulqwNdqqzRGmPZVtsykkiu1MIFCxWOxIEijUrA6iUqvq7i7cV7EiWyCmztOC3+gYpzfj+FhFb9GbJo+uShyW9jodu8s6qKg/GuNKFyZlVNt9Jja24FOfacOoyC/UM3ybudKJePNn+ntg7xpZ7PyKnRvt9ZCIAiYYBMAQRBkNg7vPTkQp3v3tszLL/OEWq0bQCV8qHmDILdQrq28vXbas+Z5z1iXJ6q0r2ww6GEAwLJ7hq2fmzVh/cVKp58vTO/swPmc3UhIY8rO2XP25Lsv2Bc20N2qKd+rF1zcdSrXaty2db2pxbePHLi4fvkRx8MLejuzP3t/E9HJ2Z4QW5ov1obAAKmpryA8ngABBr3OhCCASafTmXAEAgR9UVYA0Wv1CI5CBN+KgXgCHkNoM+PQ9tkdnFgtlcF5yc+rIRyS9yy1UurvwGF/4p6bL8xkMpmAv+H2I1qtHsHTyWQSEUNsM33/77M7u3Jeq4Q0FH9JqoSAN1/VtH1b5nR242DeVFHakn9E9DoDgqMQzOa8RQxvFgucum/LnC5uFi2zLn9LjLPzorlbth4I9F6Aw5mL7N08p6v72yLyik8p1FzzlN2b5nTzsHwtJo/FQ6BBp0MQBPhkvyFarQ7BEUgYDDWwXQDjXllqamUZt/sMDuPj3hlk6efrpLtf+Swth+Ex2CNAwzlWmZmV28Dv58Vm0s19BBr0Tc2b9Ho9gsUDUEtdVAoZZxRrjU3+FpZIwkMIrJXoCFxySdof59MAQ2N5jQRKvEJ12bH+2Ox9VviWR6LsvXuKIxCxmK9blQTxeDwEGg36Fi1xBM3j6IOXatuEHVw+yvbx0onbGz4gSPIYGXXC0XHZgi17Dvl5WY0PdkJfEEP5L6RzjTACgFjcn9cHEdhkAjHQ2+8xWAwIIkirLUYgBk8i4bF/cXoJCIEgYjS+Nx21/gQbDSCZ5xfctUevJvqO+2nFqhl9HJjkploNtYL8Kh2I0Rc9fVogVX1GGkibG/3L3O2v+D/t2jqtC5/RnOBSPYg+8pg2eOn8kYOGfv/rvot7p7sJY68+rW74goQWxr1rJ1d8XlxslrjxTX6a7MDn4uurSpU6nUkvLK/WWnId8QTCZ/nzcmmj3mhAFGVCkZ7D5ZMJb8052cGBi6kszJGp1K12iciTzl4pcpswbxi/9I+rL2vEn1IdJFMoOEijUhph2KRSaWDjF+yiQqQNYp3RYFILy2uMlvYOFp4eXEx1Ua5M9VeHDCB6tVoHwx9WjOTgwMVWF+W9e1VN74CYe8KIKIXCGj3Lhk8hto6yzWKY6uI86XstQ5z2UyeHuuqrCupgDs8Way6i/OQJCBAGg4VAk3kUm0gOfFusqCSvsZUYyY5nTZBUlyrVGhMsbZS/l5N8rbCsQawz6E3q8opaA4fHp5CI9LZtvYDqB49y6M7eXCYD+26CAAOCTY+TuSqMi7+PpSz3cTZi68q1bB/kYRC9yCphuXiYTS/J3s6W1FhTbm7eUFFRrWFbAUTS25oYLi5cvKSqVKFSm5pyuyDT2r7P4mNXEp6lpaWlPYtdM8I/eOzqY9vmh3i0WNC3I07WKDGrramorNWzuXwK+W1Wx6wj1KTj53hcTVpKa8vlajViqKwQaZiWNrJqkYTI93WzYpJgvaHJB2mqFttU7dtlEIjddtIP/T2B2uJaucKITtso/wUjirFzc2YDgtTkWpX6nUkW6+LqQGwszKpUaZoGuzozU6DE8FztCYQ3m0LJQ7YnPzs20+djJw7o8nMLlYCVoz3utQhIJhEhvU4Lm95swsW5uDqTjFj70Ck/LVq67DVhP/ZyYpIwAKDKOBD2WxLth/3RSztLzqzbk1T6oc2S7yzXZB1ate0xafSGzdO7OrLeLBEhksoqKcbC1pqIx4HmJ9nL056slTcYjIYv6CpcwPfT+ttVnlgwb/3R2CdpyU8yK7SuPXq4qpKv/JFXkX31cmItt0MvTybjs4wonHvzdHxGRvzhM0liXlBXPouOa0l8hfb11j0+uu9WeplYUl4kFKt1+tJrZ+JkPt37jZo61kN8/2JCeb38E0YR7+DAI5Q9ufU8L+XK5fuF9VKtEficHdNmo4sIbp26nZ5+9/DZJIlL556Otl0G9vXWJx/ffzOtRCypaFLpXWOJ1F/+uVvAkMi7ArH+w93n06+3tyHl+IGbz4vrJRXFQrFKBzdH2LfPxqenxR+JSaqxDuzswGG2PmwQ59O3t48h5UQrMWVp5gtBdV1lRnq+mMDhMWlB/Xv7GFNPHmwp8tEXkcksFg1T+eppXrlI5x4S4m1MPXXo5rOiutdioE+vbq6GjOuXU9OTzsTcyRHV694NSeGmzok7ezvtefyxc/fr+B26O1lx8JBluyBXcUkJ1dWL//4KsblJbNWr5DyhSGGATXhvPw9jfk6DNZ/PoJvj0upXuViugxWTgQNwXj26uBlf3orLKcmMjU2qYvt3o1lwWvVF7xBvXfr1G+mFxS+u3ExROAQFcy2Yn5EVNasNF9w5F/c8NT76/H0Rr11XZxsL3Ls6Vmel5JVVmXX8xIPg2a2LG5x1Oz67KPNG7IMKhl9XPx8fPkVRmplfXvDo5v3Mqlq5wWRCADKTScNWZ5urlauFWS8FlTUVL18W1GFZtiwSCc3movw3IlFKzx/GB4EPf5uxaOupO8/zS0oLXj5+kFGpMNgNGtvbujgmcuu5u6kvkk6sXH0yi9BrRIgt8xPb6rT5SVcT0zJePj63ZnV0OtJhQE8bJgV67YfybBlw9r3rz3KyXj59lFGh0POGfNePW3r817Btp+Of55eW5L9IfJxdrzJPXfLkHeF789xnrp7ee/jK3xd2Vl/fvO9BWb05AlNVCTJfPEsrqFHqleLiVxlp2UKp1mAClEmnzr8E/UM7EMXFr56npqamPssorFMbLb297OC0i0eS8qtUOkVx3OELyY1WLp40EumL+th2yNr9G6YFya+Gj+sZ3H3kmuvFcq+Zvy3t3nhoTJt2cxJsflw2u5uDJfHzvBdHdtm28f1HrHvBnxo2raODRSvTi/OdFhUxkv1kVai7tbX3wLU3iyofxVx4hm/fvwuX23XU0CAo/erV7LoG/V/PdT4jfxzoJDo9vc+QqDIGl0wiGM0T2yfR6w2QW2h3zfHZg4ZFpvImzh0XwGeTfaesXTXS8tmawV7W1l4D18QW1L+7+9coyC1QOXbo7sxh4j+mz5Q1K0dZPls7xNvG2mtA5PWC+qYDDjGObOGuyYNGRKbY/PDL1M7OVu/aIJzPj5GrRlmlrRtqFgtdfS3nRfyBhQO9eQ69tpQETZ0xyJ3H8ftx9cpR1mlRb4oI6j92dCK+3aBhbYnpm8ePWX4+hz46Iny0Tfr64T621l6hEVfy6tT4gImLp7ZpjJnZf/jvdfYeliyy8XVY9bZzQJd+XXUxC0eOWPXYcuyscUHOljgAgOy83G0Z7h2D3dnM95bt8UEDh7UlZf7+/bjl59IrlCaav78LheUf4MNi0DAWvt62JLu2/k5Mhjn+xgdMWbm4t+H8tC7B02PJIxfMDHHlklv3xaTli0LgK3O6+fSIeOH4w9zx7V0sccBn3VPQuU8X/YUlY0aEJzFHzRjb3sWqla+CbztgSFty9vZJ3y0/81yo+MQowQdMDl/Ux3R5VveO067ihs6b0ccncOjEHzqB98MG95n7QE0jkkkwDCMmfNsBg4MoObsmj1924urZnYuH+fOdekRle4yfMtjHkYluz0X5Z2H6eozVD3bN6uXCIjatkYAQ0XFSdG6NEoHFyXundXVkECAQwnN8R2+KL5FqYZMmbnF7r7E7XlbI4NcVSM5N9w+aFp1dkbF3tIetFYuOx2JAECLZh/x6IbtOZWxpSvPq8OT2PCoWBEC848ToHJESgeWZZ8IG+1qSsM2tU9svuVlUr1U93zTYM+C7PcnlZqfWZNJl7R7l5dRt6a0isVaXEtXXhd1qDsD6zrsmqNUa8veO8bJ6Zw6DrEbuz6yUGyUpe6d25tOIBAIOC+EYnsPXxxU3aJCv6zBYI60XKzQGGHnzuaG+Ua03fmZ1sPjC7DbOg9Y+yikSiVV6A/yRcnqFuK5e1tLM16CTVlfVmev4CtGGOoniPe30CsmHVdJn7RrTcXTUnfw6/SeqfVOFubdgyeX5we6DIhIzC0RiZdPryH8t9qaTYY1MIlXrDcjHi/xF/+vl4nqp6k25D4jpZWKxXKP/i47XNdZL5K0U1guOTA7uMfvoszIF8vEmdQbk88ZXo/gvCsNqSY1YrtV/zT19T+0/6dio1H3uWEG0jRKzlnCrbjN/8V7tiF4ueV0trJU3yNS6rxmMKCj/44Am09/cNg4rasoq6lQAxZJnZ0UjvN3dASuqhWKMJY9DxWM/sQ8ALtz/3ZCtpjkxEb0oEJZs68hjkXF/8jd1krLSWj3Vxt6GSXy7oIqo6srKRQqYauPAt6Di/kdexEaU1cVFVRIjxc7NxYZOwP5f7WpAJBfn9l1WMeLUrrkdndn/CX8cLjo8dW5G19VhY4IdmZ+fpkMariwcuLyk/6Ft87q6W/5703vq/FOLZ2wp6bJ268JQHxsiul0GBeXfx98/OxdDs3HxtvnQ91xn2pdVReA4evHo4Mf/68n5U6qUYuXsZfU/nPKmct0CuW7oYPn2gKw+Sw8Ot7dl/3/42gJcdmnFnHVxyOCNE4KdrVELioLy/6sR/RYQ2Pbu7oAFEYfuGfgrY072HTp3kdyDzyb9V2ZciOPkzfkKMZL3oFkLpS5OFpR/b0COsbDzD10SGjq4i7ctGTWhKCj/1lDgb6dzUVBQUFBQ/n+NbtAuQEFBQUFBQY0oCgoKCgoKakRRUFBQUFBQI4qCgoKCgoIaURQUFBQUFJT3+fQrLuKUcp1E9fbUWpSPAWsMEAELQujbCigoKCj/aNhteSQuHQTB/w0jqq6UqiqkJhg1op8A0RpBPAY1oigoKCj/cGiuFiRbAPgWszX6nigKCgoKCspXgq6JoqCgoKCgoEYUBQUFBQUFNaIoKCgoKCioEUVBQUFBQUGNKAoKCgoKCgpqRFFQUFBQUFAjioKCgoKCghpRFBQUFBQU1IiioKCgoKCgRhQFBQUFBQUFNaIoKCgoKCioEUVBQUFBQfmn8f8CAAD//05YHNeluMQTAAAAAElFTkSuQmCC)"
      ]
    },
    {
      "cell_type": "code",
      "execution_count": null,
      "metadata": {
        "colab": {
          "base_uri": "https://localhost:8080/"
        },
        "id": "qr0oE4axa38W",
        "outputId": "baf210e7-f3a7-450c-9ec5-4fd730d30628"
      },
      "outputs": [
        {
          "data": {
            "text/plain": [
              "array([[2.3, 2.3, 2.3, 2.3, 2.3],\n",
              "       [2.3, 2.3, 2.3, 2.3, 2.3],\n",
              "       [2.3, 2.3, 2.3, 2.3, 2.3]])"
            ]
          },
          "execution_count": 23,
          "metadata": {},
          "output_type": "execute_result"
        }
      ],
      "source": [
        "# Create a 3*5 array filled with 2.30\n",
        "np.full((3,5), 2.30)"
      ]
    },
    {
      "cell_type": "code",
      "execution_count": null,
      "metadata": {
        "colab": {
          "base_uri": "https://localhost:8080/"
        },
        "id": "7fKqednkpR6K",
        "outputId": "46a435f7-bf69-42ad-aa4a-46c59b4fe42a"
      },
      "outputs": [
        {
          "data": {
            "text/plain": [
              "array([[1., 0., 0.],\n",
              "       [0., 1., 0.],\n",
              "       [0., 0., 1.]])"
            ]
          },
          "execution_count": 28,
          "metadata": {},
          "output_type": "execute_result"
        }
      ],
      "source": [
        "# Create a 3*3 array identity matrix \n",
        "np.eye(3)"
      ]
    },
    {
      "cell_type": "markdown",
      "metadata": {
        "id": "gEy_pdBoROu3"
      },
      "source": [
        "#### Populate arrays with sequences of numbers\n",
        "\n",
        "You can populate an array with a sequence of numbers:"
      ]
    },
    {
      "cell_type": "code",
      "execution_count": null,
      "metadata": {
        "colab": {
          "base_uri": "https://localhost:8080/"
        },
        "id": "grdQb4fybkjZ",
        "outputId": "bad1108b-5add-4a71-f2d3-0e5b74b999ec"
      },
      "outputs": [
        {
          "data": {
            "text/plain": [
              "array([ 0,  2,  4,  6,  8, 10, 12, 14, 16, 18])"
            ]
          },
          "execution_count": 24,
          "metadata": {},
          "output_type": "execute_result"
        }
      ],
      "source": [
        "# Create an array filled with a linear sequence\n",
        "# Starting at 0, ending at 20, stepping by 2\n",
        "np.arange(0,20,2)"
      ]
    },
    {
      "cell_type": "code",
      "execution_count": null,
      "metadata": {
        "colab": {
          "base_uri": "https://localhost:8080/"
        },
        "id": "ueKUCFbymw0Y",
        "outputId": "ec113e6e-250d-4b06-c859-7348dfd7fe6d"
      },
      "outputs": [
        {
          "data": {
            "text/plain": [
              "array([0, 1, 2, 3, 4, 5, 6, 7, 8, 9])"
            ]
          },
          "execution_count": 25,
          "metadata": {},
          "output_type": "execute_result"
        }
      ],
      "source": [
        "np.arange(0,10)"
      ]
    },
    {
      "cell_type": "markdown",
      "metadata": {
        "id": "aiqqxDBINAOY"
      },
      "source": [
        "#### Populate arrays with random numbers\n",
        "\n",
        "NumPy provides various functions to populate matrices with random numbers across certain ranges. For example, `np.random.randint` generates random integers between a low and high value. The following call populates a 6-element vector with random integers between 50 and 100. \n",
        "\n",
        "\n"
      ]
    },
    {
      "cell_type": "code",
      "execution_count": null,
      "metadata": {
        "colab": {
          "base_uri": "https://localhost:8080/"
        },
        "id": "tG8ao9CsNqw8",
        "outputId": "7f9bdc78-ac20-4b2e-b2cb-d142072effad"
      },
      "outputs": [
        {
          "name": "stdout",
          "output_type": "stream",
          "text": [
            "[58 52 50 95 72 85]\n"
          ]
        }
      ],
      "source": [
        "random_integers_between_50_and_100_1 = np.random.randint(low=50, high=101, size=(6))\n",
        "print(random_integers_between_50_and_100_1)"
      ]
    },
    {
      "cell_type": "markdown",
      "metadata": {
        "id": "BSU7lMUcgRm3"
      },
      "source": [
        "Note that the highest generated integer `np.random.randint` is one less than the `high` argument."
      ]
    },
    {
      "cell_type": "code",
      "execution_count": null,
      "metadata": {
        "colab": {
          "base_uri": "https://localhost:8080/"
        },
        "id": "8VopXn57oviM",
        "outputId": "e812ced0-bd17-4bf6-a5ca-c94ec97639a9"
      },
      "outputs": [
        {
          "name": "stdout",
          "output_type": "stream",
          "text": [
            "[[79 65 62 89 70 68]\n",
            " [59 64 60 59 92 76]\n",
            " [98 91 54 61 67 67]]\n"
          ]
        }
      ],
      "source": [
        "random_integers_between_50_and_100_2 = np.random.randint(low=50, high=101, size=(3,6))\n",
        "print(random_integers_between_50_and_100_2)"
      ]
    },
    {
      "cell_type": "markdown",
      "metadata": {
        "id": "lQF6-Eg0ksqE"
      },
      "source": [
        "To create random floating-point values between 0.0 and 1.0, call `np.random.random`. For example:"
      ]
    },
    {
      "cell_type": "code",
      "execution_count": null,
      "metadata": {
        "colab": {
          "base_uri": "https://localhost:8080/"
        },
        "id": "6Ny0eXZPk5Ax",
        "outputId": "25b83a23-a9e9-4145-843d-2bcf7c68c541"
      },
      "outputs": [
        {
          "name": "stdout",
          "output_type": "stream",
          "text": [
            "[0.64654766 0.35252958 0.65253183 0.91812356 0.07248513 0.24347865]\n"
          ]
        }
      ],
      "source": [
        "random_floats_between_0_and_1_1 = np.random.random([6])\n",
        "print(random_floats_between_0_and_1_1) "
      ]
    },
    {
      "cell_type": "code",
      "execution_count": null,
      "metadata": {
        "colab": {
          "base_uri": "https://localhost:8080/"
        },
        "id": "bEzZAzGZqTyo",
        "outputId": "1b82d4e8-2022-4e03-ad09-acc9438dc21a"
      },
      "outputs": [
        {
          "name": "stdout",
          "output_type": "stream",
          "text": [
            "[[0.0068265  0.89272027 0.89633961]\n",
            " [0.6826935  0.79142018 0.86297926]\n",
            " [0.82447222 0.94702879 0.37356004]]\n"
          ]
        }
      ],
      "source": [
        "random_floats_between_0_and_1_2 = np.random.random((3,3))\n",
        "print(random_floats_between_0_and_1_2)"
      ]
    },
    {
      "cell_type": "code",
      "execution_count": null,
      "metadata": {
        "colab": {
          "base_uri": "https://localhost:8080/"
        },
        "id": "NttnRUP4rK3q",
        "outputId": "9b35d834-46b3-4bc9-9c0a-7ded331fa7ba"
      },
      "outputs": [
        {
          "data": {
            "text/plain": [
              "array([[0.85602098, 0.46545965, 0.3413896 ],\n",
              "       [0.02947429, 0.25099992, 0.71558639],\n",
              "       [0.21813272, 0.07769097, 0.91948702]])"
            ]
          },
          "execution_count": 36,
          "metadata": {},
          "output_type": "execute_result"
        }
      ],
      "source": [
        "np.random.random((3, 3))"
      ]
    },
    {
      "cell_type": "markdown",
      "metadata": {
        "id": "4DFeltTksHxn"
      },
      "source": [
        "##Numpy Array Attributes "
      ]
    },
    {
      "cell_type": "code",
      "source": [
        "# 1. Create a 1-D array of 10 evenly spaced values from 0 to 1.\n",
        "a = np.linspace(0, 1, 10)\n",
        "print(\"1-D array:\", a)"
      ],
      "metadata": {
        "colab": {
          "base_uri": "https://localhost:8080/"
        },
        "id": "zaOHw31sStAl",
        "outputId": "087d3af4-4418-491e-c678-0b46af50ce13"
      },
      "execution_count": 9,
      "outputs": [
        {
          "output_type": "stream",
          "name": "stdout",
          "text": [
            "1-D array: [0.         0.11111111 0.22222222 0.33333333 0.44444444 0.55555556\n",
            " 0.66666667 0.77777778 0.88888889 1.        ]\n"
          ]
        }
      ]
    },
    {
      "cell_type": "code",
      "execution_count": 6,
      "metadata": {
        "id": "SfPFx1DuwjVC"
      },
      "outputs": [],
      "source": [
        "x = np.zeros((3,4,5))"
      ]
    },
    {
      "cell_type": "code",
      "execution_count": null,
      "metadata": {
        "colab": {
          "base_uri": "https://localhost:8080/"
        },
        "id": "EO6hrWoWwvfN",
        "outputId": "c8b3ff94-507d-4e40-e961-bbb8af1c75dc"
      },
      "outputs": [
        {
          "data": {
            "text/plain": [
              "array([[[0., 0., 0., 0., 0.],\n",
              "        [0., 0., 0., 0., 0.],\n",
              "        [0., 0., 0., 0., 0.],\n",
              "        [0., 0., 0., 0., 0.]],\n",
              "\n",
              "       [[0., 0., 0., 0., 0.],\n",
              "        [0., 0., 0., 0., 0.],\n",
              "        [0., 0., 0., 0., 0.],\n",
              "        [0., 0., 0., 0., 0.]],\n",
              "\n",
              "       [[0., 0., 0., 0., 0.],\n",
              "        [0., 0., 0., 0., 0.],\n",
              "        [0., 0., 0., 0., 0.],\n",
              "        [0., 0., 0., 0., 0.]]])"
            ]
          },
          "execution_count": 44,
          "metadata": {},
          "output_type": "execute_result"
        }
      ],
      "source": [
        "x"
      ]
    },
    {
      "cell_type": "code",
      "execution_count": 10,
      "metadata": {
        "colab": {
          "base_uri": "https://localhost:8080/"
        },
        "id": "v18m7ZqixCTM",
        "outputId": "69383a69-266a-47ac-8bd3-2bf3c6867e27"
      },
      "outputs": [
        {
          "output_type": "stream",
          "name": "stdout",
          "text": [
            "Shape of 1-D array: (10,)\n",
            "Number of dimensions of 1-D array: 1\n",
            "Size of 1-D array: 10\n",
            "Shape of 2-D array: (3, 4, 5)\n",
            "Number of dimensions of 2-D array: 3\n",
            "Size of 2-D array: 60\n"
          ]
        }
      ],
      "source": [
        "#Find the shape, number of dimensions, and size of the above 2 arrays.\n",
        "\n",
        "print(\"Shape of 1-D array:\", a.shape)\n",
        "print(\"Number of dimensions of 1-D array:\", a.ndim)\n",
        "print(\"Size of 1-D array:\", a.size)\n",
        "\n",
        "\n",
        "print(\"Shape of 2-D array:\", x.shape)\n",
        "print(\"Number of dimensions of 2-D array:\", x.ndim)\n",
        "print(\"Size of 2-D array:\", x.size)"
      ]
    },
    {
      "cell_type": "code",
      "execution_count": null,
      "metadata": {
        "colab": {
          "base_uri": "https://localhost:8080/"
        },
        "id": "DV-ofpnoxfa2",
        "outputId": "5c09680c-d73f-40b2-bd3b-c67d77a917f1"
      },
      "outputs": [
        {
          "name": "stdout",
          "output_type": "stream",
          "text": [
            "dtype:  float64\n"
          ]
        }
      ],
      "source": [
        "print(\"dtype: \", x.dtype)"
      ]
    },
    {
      "cell_type": "markdown",
      "metadata": {
        "id": "qtLwleUlyVXQ"
      },
      "source": [
        "##Numpy Array Indexing  "
      ]
    },
    {
      "cell_type": "code",
      "execution_count": null,
      "metadata": {
        "id": "DM8JheScycme"
      },
      "outputs": [],
      "source": [
        "x1 = np.array([5, 0, 3, 3, 7, 9])"
      ]
    },
    {
      "cell_type": "code",
      "execution_count": null,
      "metadata": {
        "colab": {
          "base_uri": "https://localhost:8080/"
        },
        "id": "Zblk7XlDypKv",
        "outputId": "222f5171-c56b-45fd-e9b8-1bb2859ef987"
      },
      "outputs": [
        {
          "data": {
            "text/plain": [
              "array([5, 0, 3, 3, 7, 9])"
            ]
          },
          "execution_count": 49,
          "metadata": {},
          "output_type": "execute_result"
        }
      ],
      "source": [
        "x1"
      ]
    },
    {
      "cell_type": "code",
      "execution_count": null,
      "metadata": {
        "colab": {
          "base_uri": "https://localhost:8080/"
        },
        "id": "eDRg6mO-yrbe",
        "outputId": "2309fe27-d83d-4733-8348-e0e3ead1f487"
      },
      "outputs": [
        {
          "data": {
            "text/plain": [
              "5"
            ]
          },
          "execution_count": 50,
          "metadata": {},
          "output_type": "execute_result"
        }
      ],
      "source": [
        "x1[0]"
      ]
    },
    {
      "cell_type": "code",
      "execution_count": null,
      "metadata": {
        "colab": {
          "base_uri": "https://localhost:8080/"
        },
        "id": "46eNCQVvywGl",
        "outputId": "b16ee780-dd52-415a-945f-fa1c00cbef9c"
      },
      "outputs": [
        {
          "data": {
            "text/plain": [
              "3"
            ]
          },
          "execution_count": 51,
          "metadata": {},
          "output_type": "execute_result"
        }
      ],
      "source": [
        "x1[3]"
      ]
    },
    {
      "cell_type": "code",
      "execution_count": null,
      "metadata": {
        "colab": {
          "base_uri": "https://localhost:8080/"
        },
        "id": "gngJWp3_yzjZ",
        "outputId": "1c3c4fd9-faec-4b97-ae83-57e13c580cc5"
      },
      "outputs": [
        {
          "data": {
            "text/plain": [
              "9"
            ]
          },
          "execution_count": 52,
          "metadata": {},
          "output_type": "execute_result"
        }
      ],
      "source": [
        "x1[-1]"
      ]
    },
    {
      "cell_type": "code",
      "execution_count": null,
      "metadata": {
        "colab": {
          "base_uri": "https://localhost:8080/"
        },
        "id": "2A1VfJAky2qo",
        "outputId": "199743a6-ceb7-4408-f6ed-1dfec83397e5"
      },
      "outputs": [
        {
          "data": {
            "text/plain": [
              "7"
            ]
          },
          "execution_count": 53,
          "metadata": {},
          "output_type": "execute_result"
        }
      ],
      "source": [
        "x1[-2]"
      ]
    },
    {
      "cell_type": "code",
      "execution_count": null,
      "metadata": {
        "id": "1jAhAxpey6kN"
      },
      "outputs": [],
      "source": [
        "x2 = np.array([[3, 5, 2, 4], [7, 6, 8, 8], [1, 6, 7, 7]])"
      ]
    },
    {
      "cell_type": "code",
      "execution_count": null,
      "metadata": {
        "colab": {
          "base_uri": "https://localhost:8080/"
        },
        "id": "4vgF67nhzmPB",
        "outputId": "0da1bb10-cd79-420e-f379-bf253ee7f69f"
      },
      "outputs": [
        {
          "data": {
            "text/plain": [
              "array([[3, 5, 2, 4],\n",
              "       [7, 6, 8, 8],\n",
              "       [1, 6, 7, 7]])"
            ]
          },
          "execution_count": 56,
          "metadata": {},
          "output_type": "execute_result"
        }
      ],
      "source": [
        "x2"
      ]
    },
    {
      "cell_type": "code",
      "execution_count": null,
      "metadata": {
        "colab": {
          "base_uri": "https://localhost:8080/"
        },
        "id": "GQS5ooXR0hyz",
        "outputId": "e0f7d8ad-5b48-43de-c070-86672e83a2dc"
      },
      "outputs": [
        {
          "data": {
            "text/plain": [
              "3"
            ]
          },
          "execution_count": 57,
          "metadata": {},
          "output_type": "execute_result"
        }
      ],
      "source": [
        "x2[0,0]"
      ]
    },
    {
      "cell_type": "code",
      "execution_count": null,
      "metadata": {
        "colab": {
          "base_uri": "https://localhost:8080/"
        },
        "id": "W9OHuFUc0oXs",
        "outputId": "fe46644f-76b5-4d5c-dec7-2001cb27e95a"
      },
      "outputs": [
        {
          "data": {
            "text/plain": [
              "1"
            ]
          },
          "execution_count": 58,
          "metadata": {},
          "output_type": "execute_result"
        }
      ],
      "source": [
        "x2[2,0]"
      ]
    },
    {
      "cell_type": "code",
      "execution_count": null,
      "metadata": {
        "colab": {
          "base_uri": "https://localhost:8080/"
        },
        "id": "iycN1uLN0v4_",
        "outputId": "7c4ac693-c860-4056-d8d8-2dbecb77eb44"
      },
      "outputs": [
        {
          "data": {
            "text/plain": [
              "7"
            ]
          },
          "execution_count": 59,
          "metadata": {},
          "output_type": "execute_result"
        }
      ],
      "source": [
        "x2[2,-1]"
      ]
    },
    {
      "cell_type": "code",
      "execution_count": null,
      "metadata": {
        "id": "LGUWstFr03cs"
      },
      "outputs": [],
      "source": [
        "x2[0,0] = 5"
      ]
    },
    {
      "cell_type": "code",
      "execution_count": null,
      "metadata": {
        "colab": {
          "base_uri": "https://localhost:8080/"
        },
        "id": "l5SlqUPg1bGG",
        "outputId": "4af8d3ed-b593-423a-8c02-3b2d27b9309f"
      },
      "outputs": [
        {
          "data": {
            "text/plain": [
              "array([[5, 5, 2, 4],\n",
              "       [7, 6, 8, 8],\n",
              "       [1, 6, 7, 7]])"
            ]
          },
          "execution_count": 62,
          "metadata": {},
          "output_type": "execute_result"
        }
      ],
      "source": [
        "x2"
      ]
    },
    {
      "cell_type": "markdown",
      "metadata": {
        "id": "5F2WtiNZ4eTs"
      },
      "source": [
        "##Array Slicing: Accessing subarrays  "
      ]
    },
    {
      "cell_type": "markdown",
      "metadata": {
        "id": "JJsQazv14zsz"
      },
      "source": [
        "###one-dimensional subarrays\n",
        "Slicing in python means taking elements from one given index to another given index.\n",
        "\n",
        "We pass slice instead of index like this: [start:end].\n",
        "\n",
        "We can also define the step, like this: [start:end:step].\n",
        "\n",
        "If we don't pass start its considered 0\n",
        "\n",
        "If we don't pass end its considered length of array in that dimension\n",
        "\n",
        "If we don't pass step its considered 1  "
      ]
    },
    {
      "cell_type": "code",
      "execution_count": null,
      "metadata": {
        "id": "L9rtKF055S9s"
      },
      "outputs": [],
      "source": [
        "x = np.random.randint(2,20,10)"
      ]
    },
    {
      "cell_type": "code",
      "execution_count": null,
      "metadata": {
        "colab": {
          "base_uri": "https://localhost:8080/"
        },
        "id": "UCpS9WQy5YVz",
        "outputId": "2d53e8a3-fb87-4e9d-b5c3-ac1c233a5d95"
      },
      "outputs": [
        {
          "data": {
            "text/plain": [
              "array([ 7, 10,  2, 17,  4,  3,  5, 19, 11, 15])"
            ]
          },
          "execution_count": 71,
          "metadata": {},
          "output_type": "execute_result"
        }
      ],
      "source": [
        "x"
      ]
    },
    {
      "cell_type": "code",
      "execution_count": null,
      "metadata": {
        "colab": {
          "base_uri": "https://localhost:8080/"
        },
        "id": "NCDkvhnQ5aGi",
        "outputId": "7f07a738-8872-4eff-a183-4446d3f87fd2"
      },
      "outputs": [
        {
          "data": {
            "text/plain": [
              "array([10,  2, 17,  4])"
            ]
          },
          "execution_count": 72,
          "metadata": {},
          "output_type": "execute_result"
        }
      ],
      "source": [
        "x[1:5]"
      ]
    },
    {
      "cell_type": "code",
      "execution_count": null,
      "metadata": {
        "colab": {
          "base_uri": "https://localhost:8080/"
        },
        "id": "C0yl4lK65jay",
        "outputId": "49892d9f-3286-4c75-d882-62fd4dd4b070"
      },
      "outputs": [
        {
          "data": {
            "text/plain": [
              "array([ 7, 10,  2])"
            ]
          },
          "execution_count": 73,
          "metadata": {},
          "output_type": "execute_result"
        }
      ],
      "source": [
        "x[:3] #first three elements "
      ]
    },
    {
      "cell_type": "code",
      "execution_count": null,
      "metadata": {
        "colab": {
          "base_uri": "https://localhost:8080/"
        },
        "id": "fJ5QsR5Q5vUe",
        "outputId": "aa58f5d4-786b-407d-e156-ecfef65f409a"
      },
      "outputs": [
        {
          "data": {
            "text/plain": [
              "array([ 3,  5, 19, 11, 15])"
            ]
          },
          "execution_count": 74,
          "metadata": {},
          "output_type": "execute_result"
        }
      ],
      "source": [
        "x[5:] # elements after index 5"
      ]
    },
    {
      "cell_type": "code",
      "execution_count": null,
      "metadata": {
        "colab": {
          "base_uri": "https://localhost:8080/"
        },
        "id": "jCYa5k0_6gRr",
        "outputId": "44f137a9-b70d-4f9b-e7a7-d96575003524"
      },
      "outputs": [
        {
          "data": {
            "text/plain": [
              "array([4, 3, 5])"
            ]
          },
          "execution_count": 75,
          "metadata": {},
          "output_type": "execute_result"
        }
      ],
      "source": [
        "x[4:7] # middle subarray"
      ]
    },
    {
      "cell_type": "code",
      "execution_count": null,
      "metadata": {
        "colab": {
          "base_uri": "https://localhost:8080/"
        },
        "id": "QOtfQ0nu_Ei1",
        "outputId": "e14d935c-fade-42be-e16e-8c1755aeb416"
      },
      "outputs": [
        {
          "data": {
            "text/plain": [
              "array([ 4,  3,  5, 19, 11, 15])"
            ]
          },
          "execution_count": 78,
          "metadata": {},
          "output_type": "execute_result"
        }
      ],
      "source": [
        "x[4:] #Slice elements from index 4 to the end of the array:"
      ]
    },
    {
      "cell_type": "code",
      "execution_count": null,
      "metadata": {
        "colab": {
          "base_uri": "https://localhost:8080/"
        },
        "id": "MtntPH0T_VcH",
        "outputId": "1b946655-3ae6-486b-ca9a-ac4039c7df10"
      },
      "outputs": [
        {
          "data": {
            "text/plain": [
              "array([ 7, 10,  2, 17])"
            ]
          },
          "execution_count": 79,
          "metadata": {},
          "output_type": "execute_result"
        }
      ],
      "source": [
        "x[:4] #Slice elements from the beginning to index 4 (not included"
      ]
    },
    {
      "cell_type": "markdown",
      "metadata": {
        "id": "spXki_rI_kcr"
      },
      "source": [
        "###Negative Slicing\n",
        "Use the minus operator to refer to an index from the end:"
      ]
    },
    {
      "cell_type": "code",
      "execution_count": null,
      "metadata": {
        "colab": {
          "base_uri": "https://localhost:8080/"
        },
        "id": "wGKhGznS-0fo",
        "outputId": "de176e85-4aee-4d09-d95a-e25b496e1a45"
      },
      "outputs": [
        {
          "data": {
            "text/plain": [
              "array([19, 11])"
            ]
          },
          "execution_count": 77,
          "metadata": {},
          "output_type": "execute_result"
        }
      ],
      "source": [
        "x[-3:-1]"
      ]
    },
    {
      "cell_type": "markdown",
      "metadata": {
        "id": "df-SsLYA_2l0"
      },
      "source": [
        "###STEP\n",
        "Use the step value to determine the step of the slicing:"
      ]
    },
    {
      "cell_type": "code",
      "execution_count": null,
      "metadata": {
        "colab": {
          "base_uri": "https://localhost:8080/"
        },
        "id": "6xqGMG94AK7J",
        "outputId": "1e9c518f-c87e-40fd-9e88-e0ab2fae12d8"
      },
      "outputs": [
        {
          "data": {
            "text/plain": [
              "array([10, 17])"
            ]
          },
          "execution_count": 80,
          "metadata": {},
          "output_type": "execute_result"
        }
      ],
      "source": [
        "x[1:5:2] #Return every other element from index 1 to index 5:\n",
        "\n"
      ]
    },
    {
      "cell_type": "code",
      "execution_count": null,
      "metadata": {
        "colab": {
          "base_uri": "https://localhost:8080/"
        },
        "id": "kfGAY3gR6pUr",
        "outputId": "98ec9504-a429-46f4-ada6-9d48e7a0ec8d"
      },
      "outputs": [
        {
          "data": {
            "text/plain": [
              "array([ 7,  2,  4,  5, 11])"
            ]
          },
          "execution_count": 76,
          "metadata": {},
          "output_type": "execute_result"
        }
      ],
      "source": [
        "x[: : 2] #Return every other element from the entire array"
      ]
    },
    {
      "cell_type": "code",
      "execution_count": null,
      "metadata": {
        "colab": {
          "base_uri": "https://localhost:8080/"
        },
        "id": "gMMSmok8-cqF",
        "outputId": "98ec9504-a429-46f4-ada6-9d48e7a0ec8d"
      },
      "outputs": [
        {
          "data": {
            "text/plain": [
              "array([ 7,  2,  4,  5, 11])"
            ]
          },
          "execution_count": 76,
          "metadata": {},
          "output_type": "execute_result"
        }
      ],
      "source": [
        "x[1: : 2] #Return every other element, starting at index 1"
      ]
    },
    {
      "cell_type": "code",
      "execution_count": null,
      "metadata": {
        "colab": {
          "base_uri": "https://localhost:8080/"
        },
        "id": "Cy7Duo5SFGkW",
        "outputId": "8cc2193c-31ee-419a-abaf-335abc3e6c69"
      },
      "outputs": [
        {
          "data": {
            "text/plain": [
              "array([ 3, 17, 10])"
            ]
          },
          "execution_count": 84,
          "metadata": {},
          "output_type": "execute_result"
        }
      ],
      "source": [
        "x[5: : -2] #Return every other element from index 5\n"
      ]
    },
    {
      "cell_type": "code",
      "execution_count": null,
      "metadata": {
        "colab": {
          "base_uri": "https://localhost:8080/"
        },
        "id": "pjllPJOOF2Y2",
        "outputId": "c6d3dd82-af9b-4874-b218-f890268981a5"
      },
      "outputs": [
        {
          "data": {
            "text/plain": [
              "array([ 7, 10,  2, 17,  4,  3,  5, 19, 11, 15])"
            ]
          },
          "execution_count": 83,
          "metadata": {},
          "output_type": "execute_result"
        }
      ],
      "source": [
        "x"
      ]
    },
    {
      "cell_type": "markdown",
      "metadata": {
        "id": "TalIKfgGGxrX"
      },
      "source": [
        "###Slicing 2-D Arrays\n"
      ]
    },
    {
      "cell_type": "code",
      "execution_count": null,
      "metadata": {
        "id": "l-dTI2D8HMhl"
      },
      "outputs": [],
      "source": [
        "x2 = np.array([[1, 2, 3, 4, 5], [6, 7, 8, 9, 10],[8, 4, 12, 7, 3]])"
      ]
    },
    {
      "cell_type": "code",
      "execution_count": null,
      "metadata": {
        "colab": {
          "base_uri": "https://localhost:8080/"
        },
        "id": "XguQbERrHPw8",
        "outputId": "6918b0bc-3ffa-488d-aea4-981ca3a7c0d9"
      },
      "outputs": [
        {
          "data": {
            "text/plain": [
              "array([[ 1,  2,  3,  4,  5],\n",
              "       [ 6,  7,  8,  9, 10],\n",
              "       [ 8,  4, 12,  7,  3]])"
            ]
          },
          "execution_count": 92,
          "metadata": {},
          "output_type": "execute_result"
        }
      ],
      "source": [
        "x2"
      ]
    },
    {
      "cell_type": "code",
      "execution_count": null,
      "metadata": {
        "colab": {
          "base_uri": "https://localhost:8080/"
        },
        "id": "nBS8rYt2Hcsc",
        "outputId": "c8ff7e86-a54b-4fe0-d2bd-057749cfb3d8"
      },
      "outputs": [
        {
          "data": {
            "text/plain": [
              "array([3, 8])"
            ]
          },
          "execution_count": 93,
          "metadata": {},
          "output_type": "execute_result"
        }
      ],
      "source": [
        "x2[0:2, 2]"
      ]
    },
    {
      "cell_type": "code",
      "execution_count": null,
      "metadata": {
        "colab": {
          "base_uri": "https://localhost:8080/"
        },
        "id": "W7Z3rqAhHi-I",
        "outputId": "f0ec31ff-0b16-47ae-be74-685bbf7caab8"
      },
      "outputs": [
        {
          "data": {
            "text/plain": [
              "array([[2, 3, 4],\n",
              "       [7, 8, 9]])"
            ]
          },
          "execution_count": 94,
          "metadata": {},
          "output_type": "execute_result"
        }
      ],
      "source": [
        "x2[0:2, 1:4]"
      ]
    },
    {
      "cell_type": "code",
      "execution_count": null,
      "metadata": {
        "colab": {
          "base_uri": "https://localhost:8080/"
        },
        "id": "K53yEEkMIZko",
        "outputId": "1b475758-3dfe-42ce-aa8d-f7978ef2405a"
      },
      "outputs": [
        {
          "data": {
            "text/plain": [
              "array([[1, 2, 3],\n",
              "       [6, 7, 8]])"
            ]
          },
          "execution_count": 95,
          "metadata": {},
          "output_type": "execute_result"
        }
      ],
      "source": [
        "x2[:2, :3] #two rows, three columns "
      ]
    },
    {
      "cell_type": "code",
      "execution_count": null,
      "metadata": {
        "colab": {
          "base_uri": "https://localhost:8080/"
        },
        "id": "lEZ8nBWvJEfl",
        "outputId": "8daf3204-f1e3-4bee-f70f-90c2d0908fc5"
      },
      "outputs": [
        {
          "data": {
            "text/plain": [
              "array([[ 1,  3,  5],\n",
              "       [ 6,  8, 10],\n",
              "       [ 8, 12,  3]])"
            ]
          },
          "execution_count": 97,
          "metadata": {},
          "output_type": "execute_result"
        }
      ],
      "source": [
        "x2[:3,: : 2] #all rows, every other columns "
      ]
    },
    {
      "cell_type": "code",
      "execution_count": null,
      "metadata": {
        "colab": {
          "base_uri": "https://localhost:8080/"
        },
        "id": "ENRbyX8ZKMCW",
        "outputId": "bf0f150a-4961-4fe9-ea1a-00e18c6bd7fa"
      },
      "outputs": [
        {
          "data": {
            "text/plain": [
              "array([[ 9, 10],\n",
              "       [ 7,  3]])"
            ]
          },
          "execution_count": 98,
          "metadata": {},
          "output_type": "execute_result"
        }
      ],
      "source": [
        "x2[1:,3:]"
      ]
    },
    {
      "cell_type": "code",
      "execution_count": null,
      "metadata": {
        "colab": {
          "base_uri": "https://localhost:8080/"
        },
        "id": "7CfCtldUKmOB",
        "outputId": "8de37c43-92d0-499a-85a4-d7c8f618e7b0"
      },
      "outputs": [
        {
          "data": {
            "text/plain": [
              "array([[ 3,  7, 12,  4,  8],\n",
              "       [10,  9,  8,  7,  6],\n",
              "       [ 5,  4,  3,  2,  1]])"
            ]
          },
          "execution_count": 99,
          "metadata": {},
          "output_type": "execute_result"
        }
      ],
      "source": [
        "x2[: : -1,: : -1]"
      ]
    },
    {
      "cell_type": "code",
      "execution_count": null,
      "metadata": {
        "colab": {
          "base_uri": "https://localhost:8080/"
        },
        "id": "MWVMsPYoKv31",
        "outputId": "a382b3b1-448b-47ab-da70-c07e85b0bf6d"
      },
      "outputs": [
        {
          "data": {
            "text/plain": [
              "array([[ 1,  2,  3,  4,  5],\n",
              "       [ 6,  7,  8,  9, 10],\n",
              "       [ 8,  4, 12,  7,  3]])"
            ]
          },
          "execution_count": 100,
          "metadata": {},
          "output_type": "execute_result"
        }
      ],
      "source": [
        "x2"
      ]
    },
    {
      "cell_type": "code",
      "execution_count": null,
      "metadata": {
        "colab": {
          "base_uri": "https://localhost:8080/"
        },
        "id": "TD_k_9oTLW3N",
        "outputId": "4e150a3a-899e-4a6a-b28a-c1a9af6e7521"
      },
      "outputs": [
        {
          "data": {
            "text/plain": [
              "array([[ 5,  4,  3,  2,  1],\n",
              "       [10,  9,  8,  7,  6]])"
            ]
          },
          "execution_count": 101,
          "metadata": {},
          "output_type": "execute_result"
        }
      ],
      "source": [
        "x2[:2, : : -1]"
      ]
    },
    {
      "cell_type": "markdown",
      "metadata": {
        "id": "5i3heJ-IL48n"
      },
      "source": [
        "##Accessing array rows and columns"
      ]
    },
    {
      "cell_type": "code",
      "execution_count": null,
      "metadata": {
        "colab": {
          "base_uri": "https://localhost:8080/"
        },
        "id": "ZuTaInSJMdUQ",
        "outputId": "7262db35-58fd-4e8b-a575-bc7064f56a36"
      },
      "outputs": [
        {
          "data": {
            "text/plain": [
              "array([1, 6, 8])"
            ]
          },
          "execution_count": 102,
          "metadata": {},
          "output_type": "execute_result"
        }
      ],
      "source": [
        "x2[:, 0] #first column "
      ]
    },
    {
      "cell_type": "code",
      "execution_count": null,
      "metadata": {
        "colab": {
          "base_uri": "https://localhost:8080/"
        },
        "id": "OQW2FRmkM43j",
        "outputId": "4b6186ee-b76a-4582-c478-a35c6882c98c"
      },
      "outputs": [
        {
          "data": {
            "text/plain": [
              "array([1, 2, 3, 4, 5])"
            ]
          },
          "execution_count": 104,
          "metadata": {},
          "output_type": "execute_result"
        }
      ],
      "source": [
        "x2[0, :] #first row"
      ]
    },
    {
      "cell_type": "code",
      "execution_count": null,
      "metadata": {
        "colab": {
          "base_uri": "https://localhost:8080/"
        },
        "id": "qV4r__naNESr",
        "outputId": "df2d2922-555c-47cd-8f09-c57a51081ab1"
      },
      "outputs": [
        {
          "data": {
            "text/plain": [
              "array([1, 2, 3, 4, 5])"
            ]
          },
          "execution_count": 105,
          "metadata": {},
          "output_type": "execute_result"
        }
      ],
      "source": [
        "x2[0] # equivalent to x2[0, :]"
      ]
    },
    {
      "cell_type": "markdown",
      "source": [
        "\n",
        "\n",
        "\n",
        "Exercise\n",
        "\n",
        "Indexing, slicing, and iteration\n",
        "\n",
        "1.   Access the first and last elements of the 1-D and 2-D arrays.\n",
        "2.   Access the first and last rows of the 2-D array.\n",
        "\n",
        "1.  Access the first and last columns of the 2-D array.\n",
        "2.   Extract the elements at even indices of the 1-D array.\n",
        "\n",
        "1.   Extract the elements of the 2-D array that are greater than 0.5.\n",
        "2.   Iterate through the 2-D array and print each element.\n",
        "\n",
        "\n",
        "\n",
        "\n",
        "\n",
        "\n",
        "\n",
        "\n",
        "\n",
        "\n",
        "\n",
        "\n"
      ],
      "metadata": {
        "id": "f7ncRS4RUEYn"
      }
    },
    {
      "cell_type": "code",
      "source": [
        "# your code here\n",
        "\n",
        "import numpy as np\n",
        "\n",
        "# 1-D array\n",
        "a = np.linspace(0, 1, 10)\n",
        "\n",
        "# 2-D array\n",
        "b = np.random.rand(5, 3)\n",
        "\n",
        "# Access the first and last elements of the 1-D and 2-D arrays.\n",
        "print(\"First element of 1-D array:\", a[0])\n",
        "\n",
        "\n",
        "\n",
        "\n",
        "\n",
        "# Access the first and last rows of the 2-D array.\n",
        "\n",
        "\n",
        "# Access the first and last columns of the 2-D array.\n",
        "\n",
        "# Extract the elements at even indices of the 1-D array.\n",
        "even_indices = a[a % 2 == 0]\n",
        "print(\"Elements at even indices of the 1-D array:\", even_indices)\n",
        "\n",
        "# Extract the elements of the 2-D array that are greater than 0.5.\n",
        "elements_gt_0_5 = b[b > 0.5]\n",
        "print(\"Elements of the 2-D array greater than 0.5:\", elements_gt_0_5)\n",
        "\n",
        "# Iterate through the 2-D array and print each element.\n",
        "print(\"Elements of the 2-D array:\")\n",
        "for row in b:\n",
        "    for element in row:\n",
        "        print(element, end=\" \")\n",
        "    print(\"\")\n",
        "\n",
        "\n"
      ],
      "metadata": {
        "id": "PAqggJIeU-8O"
      },
      "execution_count": null,
      "outputs": []
    },
    {
      "cell_type": "markdown",
      "metadata": {
        "id": "GdyvuugON-qV"
      },
      "source": [
        "##Copying Array  "
      ]
    },
    {
      "cell_type": "code",
      "execution_count": null,
      "metadata": {
        "id": "zExAN0SOXKPo"
      },
      "outputs": [],
      "source": [
        "x2 = np.array([[1, 2, 3, 4, 5], [6, 7, 8, 9, 10],[8, 4, 12, 7, 3]])"
      ]
    },
    {
      "cell_type": "code",
      "execution_count": null,
      "metadata": {
        "colab": {
          "base_uri": "https://localhost:8080/"
        },
        "id": "5AlLGih1XWvB",
        "outputId": "65b00140-8fc5-4b76-d6c9-0e137c4e5620"
      },
      "outputs": [
        {
          "data": {
            "text/plain": [
              "array([[ 1,  2,  3,  4,  5],\n",
              "       [ 6,  7,  8,  9, 10],\n",
              "       [ 8,  4, 12,  7,  3]])"
            ]
          },
          "execution_count": 4,
          "metadata": {},
          "output_type": "execute_result"
        }
      ],
      "source": [
        "x2"
      ]
    },
    {
      "cell_type": "code",
      "execution_count": null,
      "metadata": {
        "colab": {
          "base_uri": "https://localhost:8080/"
        },
        "id": "TrGOp_CUXb4h",
        "outputId": "14720b92-1c2c-40cc-a240-e9b69b15dacc"
      },
      "outputs": [
        {
          "name": "stdout",
          "output_type": "stream",
          "text": [
            "[[1 2]\n",
            " [6 7]]\n"
          ]
        }
      ],
      "source": [
        "x2_sub = x2[:2, :2]\n",
        "print(x2_sub)"
      ]
    },
    {
      "cell_type": "code",
      "execution_count": null,
      "metadata": {
        "colab": {
          "base_uri": "https://localhost:8080/"
        },
        "id": "R4ujQotOXuog",
        "outputId": "5654ba93-5588-4566-e777-83fb18faae67"
      },
      "outputs": [
        {
          "name": "stdout",
          "output_type": "stream",
          "text": [
            "[[99  2]\n",
            " [ 6  7]]\n"
          ]
        }
      ],
      "source": [
        "x2_sub[0,0] = 99\n",
        "print(x2_sub)"
      ]
    },
    {
      "cell_type": "code",
      "execution_count": null,
      "metadata": {
        "colab": {
          "base_uri": "https://localhost:8080/"
        },
        "id": "sNU3mz4MX7-X",
        "outputId": "bb219f21-5fda-45c8-ea76-990acd25a458"
      },
      "outputs": [
        {
          "name": "stdout",
          "output_type": "stream",
          "text": [
            "[[99  2  3  4  5]\n",
            " [ 6  7  8  9 10]\n",
            " [ 8  4 12  7  3]]\n"
          ]
        }
      ],
      "source": [
        "print(x2)"
      ]
    },
    {
      "cell_type": "code",
      "execution_count": null,
      "metadata": {
        "colab": {
          "base_uri": "https://localhost:8080/"
        },
        "id": "-iMGaNoDYeeF",
        "outputId": "fac8e578-8de0-40cc-a374-8ecf855ee930"
      },
      "outputs": [
        {
          "name": "stdout",
          "output_type": "stream",
          "text": [
            "[[99 10  3  4  5]\n",
            " [ 6  7  8  9 10]\n",
            " [ 8  4 12  7  3]]\n"
          ]
        }
      ],
      "source": [
        "x2[0,1] = 10\n",
        "print(x2)"
      ]
    },
    {
      "cell_type": "code",
      "execution_count": null,
      "metadata": {
        "colab": {
          "base_uri": "https://localhost:8080/"
        },
        "id": "w3bhAk0-YxpU",
        "outputId": "f9620537-3f9a-4232-c547-bca9d7892fc8"
      },
      "outputs": [
        {
          "data": {
            "text/plain": [
              "array([[99, 10],\n",
              "       [ 6,  7]])"
            ]
          },
          "execution_count": 12,
          "metadata": {},
          "output_type": "execute_result"
        }
      ],
      "source": [
        "x2_sub"
      ]
    },
    {
      "cell_type": "markdown",
      "metadata": {
        "id": "6QMfIlUPYEN_"
      },
      "source": [
        "##Creating Copies of Arrays"
      ]
    },
    {
      "cell_type": "code",
      "execution_count": null,
      "metadata": {
        "colab": {
          "base_uri": "https://localhost:8080/"
        },
        "id": "_RW2fPJ3ZF_h",
        "outputId": "55f2535d-8dd3-4782-d6c2-c424b9a947ca"
      },
      "outputs": [
        {
          "name": "stdout",
          "output_type": "stream",
          "text": [
            "[[99 10]\n",
            " [ 6  7]]\n"
          ]
        }
      ],
      "source": [
        "x2_sub_copy = x2[:2, :2].copy()\n",
        "print(x2_sub_copy)"
      ]
    },
    {
      "cell_type": "code",
      "execution_count": null,
      "metadata": {
        "colab": {
          "base_uri": "https://localhost:8080/"
        },
        "id": "ZHoExStTZkgw",
        "outputId": "26daef56-bb2f-4135-8b18-f2c77cecaf43"
      },
      "outputs": [
        {
          "name": "stdout",
          "output_type": "stream",
          "text": [
            "[[42 10]\n",
            " [ 6  7]]\n"
          ]
        }
      ],
      "source": [
        "x2_sub_copy[0,0] = 42\n",
        "print(x2_sub_copy)"
      ]
    },
    {
      "cell_type": "code",
      "execution_count": null,
      "metadata": {
        "colab": {
          "base_uri": "https://localhost:8080/"
        },
        "id": "YIl5ZzqkaUPm",
        "outputId": "0a6ca139-0eff-4175-d8d5-4cbb9f6b555a"
      },
      "outputs": [
        {
          "name": "stdout",
          "output_type": "stream",
          "text": [
            "[[99 10  3  4  5]\n",
            " [ 6  7  8  9 10]\n",
            " [ 8  4 12  7  3]]\n"
          ]
        }
      ],
      "source": [
        "print(x2)"
      ]
    },
    {
      "cell_type": "markdown",
      "metadata": {
        "id": "y_TpsKzQatv-"
      },
      "source": [
        "##Reshaping of Arrays"
      ]
    },
    {
      "cell_type": "code",
      "execution_count": null,
      "metadata": {
        "colab": {
          "base_uri": "https://localhost:8080/"
        },
        "id": "4ezC_zZKbHGN",
        "outputId": "9860440f-aa87-43b9-b07c-36cea36a3a34"
      },
      "outputs": [
        {
          "name": "stdout",
          "output_type": "stream",
          "text": [
            "[1 2 3 4 5 6 7 8 9]\n"
          ]
        }
      ],
      "source": [
        "arr = np.arange(1,10)\n",
        "print(arr)"
      ]
    },
    {
      "cell_type": "code",
      "execution_count": null,
      "metadata": {
        "colab": {
          "base_uri": "https://localhost:8080/"
        },
        "id": "fNNNQvKlbOgr",
        "outputId": "fe516c69-9800-437e-98ed-2d2e0e1ca982"
      },
      "outputs": [
        {
          "name": "stdout",
          "output_type": "stream",
          "text": [
            "[[1 2 3]\n",
            " [4 5 6]\n",
            " [7 8 9]]\n"
          ]
        }
      ],
      "source": [
        "arr = arr.reshape((3,3))\n",
        "print(arr)"
      ]
    },
    {
      "cell_type": "code",
      "execution_count": null,
      "metadata": {
        "colab": {
          "base_uri": "https://localhost:8080/"
        },
        "id": "CqDmBUA6ccrN",
        "outputId": "852afd6b-2359-4acf-95d0-5b244c3df884"
      },
      "outputs": [
        {
          "name": "stdout",
          "output_type": "stream",
          "text": [
            "[[1 2 3]\n",
            " [4 5 6]\n",
            " [7 8 9]]\n"
          ]
        }
      ],
      "source": [
        "arr = np.arange(1,10).reshape((3,3)) ## alternative way\n",
        "print(arr)"
      ]
    },
    {
      "cell_type": "code",
      "execution_count": null,
      "metadata": {
        "colab": {
          "base_uri": "https://localhost:8080/"
        },
        "id": "f33lDD56c3Pf",
        "outputId": "5ae94e6c-f0d9-414c-ce3b-d4554ea4e3f3"
      },
      "outputs": [
        {
          "name": "stdout",
          "output_type": "stream",
          "text": [
            "[ 0  1  2  3  4  5  6  7  8  9 10 11]\n"
          ]
        }
      ],
      "source": [
        "arr = np.arange(12)\n",
        "print(arr)"
      ]
    },
    {
      "cell_type": "code",
      "execution_count": null,
      "metadata": {
        "colab": {
          "base_uri": "https://localhost:8080/"
        },
        "id": "AAxQ7VsXdGIl",
        "outputId": "39df5a7e-ba7b-4790-c8ed-041704ec8d80"
      },
      "outputs": [
        {
          "name": "stdout",
          "output_type": "stream",
          "text": [
            "[[ 0  1]\n",
            " [ 2  3]\n",
            " [ 4  5]\n",
            " [ 6  7]\n",
            " [ 8  9]\n",
            " [10 11]]\n"
          ]
        }
      ],
      "source": [
        "arr = np.arange(12).reshape((6,2))\n",
        "print(arr)"
      ]
    },
    {
      "cell_type": "code",
      "execution_count": null,
      "metadata": {
        "colab": {
          "base_uri": "https://localhost:8080/"
        },
        "id": "7A30KIw8gpi5",
        "outputId": "917f6acd-defc-468b-961e-6d730492f1cd"
      },
      "outputs": [
        {
          "name": "stdout",
          "output_type": "stream",
          "text": [
            "[[[ 0  1]\n",
            "  [ 2  3]\n",
            "  [ 4  5]]\n",
            "\n",
            " [[ 6  7]\n",
            "  [ 8  9]\n",
            "  [10 11]]]\n"
          ]
        }
      ],
      "source": [
        "arr = np.arange(12).reshape((2,3,2))\n",
        "print(arr)"
      ]
    },
    {
      "cell_type": "code",
      "execution_count": null,
      "metadata": {
        "colab": {
          "base_uri": "https://localhost:8080/",
          "height": 168
        },
        "id": "ISTWoCY1hiLv",
        "outputId": "5268c034-6785-4b74-a7eb-18ba02af1a70"
      },
      "outputs": [
        {
          "ename": "ValueError",
          "evalue": "ignored",
          "output_type": "error",
          "traceback": [
            "\u001b[0;31m---------------------------------------------------------------------------\u001b[0m",
            "\u001b[0;31mValueError\u001b[0m                                Traceback (most recent call last)",
            "\u001b[0;32m<ipython-input-44-acd2a0b13053>\u001b[0m in \u001b[0;36m<module>\u001b[0;34m()\u001b[0m\n\u001b[0;32m----> 1\u001b[0;31m \u001b[0marr\u001b[0m \u001b[0;34m=\u001b[0m \u001b[0mnp\u001b[0m\u001b[0;34m.\u001b[0m\u001b[0marange\u001b[0m\u001b[0;34m(\u001b[0m\u001b[0;36m12\u001b[0m\u001b[0;34m)\u001b[0m\u001b[0;34m.\u001b[0m\u001b[0mreshape\u001b[0m\u001b[0;34m(\u001b[0m\u001b[0;34m(\u001b[0m\u001b[0;36m2\u001b[0m\u001b[0;34m,\u001b[0m\u001b[0;36m3\u001b[0m\u001b[0;34m)\u001b[0m\u001b[0;34m)\u001b[0m\u001b[0;34m\u001b[0m\u001b[0;34m\u001b[0m\u001b[0m\n\u001b[0m",
            "\u001b[0;31mValueError\u001b[0m: cannot reshape array of size 12 into shape (2,3)"
          ]
        }
      ],
      "source": [
        "arr = np.arange(12).reshape((2,3))\n"
      ]
    },
    {
      "cell_type": "code",
      "execution_count": null,
      "metadata": {
        "colab": {
          "base_uri": "https://localhost:8080/"
        },
        "id": "D0aeuyVOimcE",
        "outputId": "16fba356-c232-4e5a-8bc8-257b7ce3f48c"
      },
      "outputs": [
        {
          "name": "stdout",
          "output_type": "stream",
          "text": [
            "[[[ 0  1]\n",
            "  [ 2  3]\n",
            "  [ 4  5]]\n",
            "\n",
            " [[ 6  7]\n",
            "  [ 8  9]\n",
            "  [10 11]]]\n"
          ]
        }
      ],
      "source": [
        "arr = np.arange(12).reshape((2,3,-1))\n",
        "print(arr)"
      ]
    },
    {
      "cell_type": "code",
      "execution_count": null,
      "metadata": {
        "colab": {
          "base_uri": "https://localhost:8080/"
        },
        "id": "54QDnOJVi-ee",
        "outputId": "4437c04f-2894-45f9-c469-d349f30abda4"
      },
      "outputs": [
        {
          "name": "stdout",
          "output_type": "stream",
          "text": [
            "[[ 0  1  2  3  4  5]\n",
            " [ 6  7  8  9 10 11]]\n"
          ]
        }
      ],
      "source": [
        "arr = np.arange(12).reshape((2,-1))\n",
        "print(arr)"
      ]
    },
    {
      "cell_type": "code",
      "execution_count": null,
      "metadata": {
        "colab": {
          "base_uri": "https://localhost:8080/"
        },
        "id": "fLOggAdvjdcA",
        "outputId": "832c9ee2-7ee7-46cd-8cb6-8f284cde5f95"
      },
      "outputs": [
        {
          "name": "stdout",
          "output_type": "stream",
          "text": [
            "[[[ 0  1  2]\n",
            "  [ 3  4  5]]\n",
            "\n",
            " [[ 6  7  8]\n",
            "  [ 9 10 11]]]\n"
          ]
        }
      ],
      "source": [
        "arr = np.arange(12).reshape((2,2,-1))\n",
        "print(arr)"
      ]
    },
    {
      "cell_type": "code",
      "execution_count": null,
      "metadata": {
        "colab": {
          "base_uri": "https://localhost:8080/"
        },
        "id": "pucmTOsMjpxs",
        "outputId": "732a14e7-46ef-48d6-e491-70c1fc769630"
      },
      "outputs": [
        {
          "name": "stdout",
          "output_type": "stream",
          "text": [
            "[[[ 0  1]\n",
            "  [ 2  3]\n",
            "  [ 4  5]]\n",
            "\n",
            " [[ 6  7]\n",
            "  [ 8  9]\n",
            "  [10 11]]]\n"
          ]
        }
      ],
      "source": [
        "arr = np.arange(12).reshape((2,-1,2))\n",
        "print(arr)"
      ]
    },
    {
      "cell_type": "code",
      "execution_count": null,
      "metadata": {
        "colab": {
          "base_uri": "https://localhost:8080/"
        },
        "id": "nRint4kZd2R4",
        "outputId": "d49fca36-e14b-4b87-ae55-eb38a234ba6d"
      },
      "outputs": [
        {
          "data": {
            "text/plain": [
              "(3,)"
            ]
          },
          "execution_count": 32,
          "metadata": {},
          "output_type": "execute_result"
        }
      ],
      "source": [
        "x = np.array([1, 2, 3])\n",
        "x.shape\n"
      ]
    },
    {
      "cell_type": "code",
      "execution_count": null,
      "metadata": {
        "colab": {
          "base_uri": "https://localhost:8080/"
        },
        "id": "_0MLXkOseffQ",
        "outputId": "80985443-8fc5-43bb-8580-68e385088cd6"
      },
      "outputs": [
        {
          "data": {
            "text/plain": [
              "(1, 3)"
            ]
          },
          "execution_count": 35,
          "metadata": {},
          "output_type": "execute_result"
        }
      ],
      "source": [
        "# row vector via reshape\n",
        "x.reshape((1,3)).shape\n"
      ]
    },
    {
      "cell_type": "code",
      "execution_count": null,
      "metadata": {
        "colab": {
          "base_uri": "https://localhost:8080/"
        },
        "id": "vzWDqGMofHer",
        "outputId": "8f4d2bb3-3b7e-4a9c-9a86-a2b0911d050a"
      },
      "outputs": [
        {
          "data": {
            "text/plain": [
              "(3, 1)"
            ]
          },
          "execution_count": 42,
          "metadata": {},
          "output_type": "execute_result"
        }
      ],
      "source": [
        "# column vector via reshape\n",
        "\n",
        "x.reshape((3,1)).shape\n",
        "\n"
      ]
    },
    {
      "cell_type": "markdown",
      "source": [
        "Part 1: Understanding reshaping\n",
        "\n",
        "Create a 1-D array with the shape (10,).\n",
        "Reshape the 1-D array into a 2-D array with 5 rows and 2 columns.\n",
        "Reshape the 2-D array into a 3-D array.\n",
        "Flatten the 3-D array into a 1-D array.\n",
        "Print the original 1-D array, the reshaped 2-D array, and the reshaped 1-D array.\n",
        "\n",
        "\n",
        "Part 2: Practical applications of reshaping\n",
        "\n",
        "1.   Create a 2-D array with 3 rows and 4 columns.\n",
        "2.   Change the shape of the 2-D array to (4, 3).\n",
        "\n",
        "1.  Change the shape of the 2-D array to (2, 6). \n",
        "2.   Change the shape of the 2-D array to (1, 12).\n",
        "\n",
        "1.   Change the shape of the 2-D array to (12, 1).\n",
        "2.   Print the original 2-D array and all the reshaped arrays.\n",
        "\n",
        "\n",
        "Part 3: Transposing arrays\n",
        "\n",
        "1.   Create a 2-D array with 3 rows and 4 columns.\n",
        "2.   Transpose the 2-D array to obtain a 2-D array with 4 rows and 3 columns.\n",
        "1.   Print the original 2-D array and the transposed array.\n",
        "\n",
        "\n",
        "\n",
        "\n",
        "\n",
        "\n",
        "\n",
        "\n",
        "\n",
        "\n",
        "\n",
        "\n",
        "\n",
        "\n",
        "\n",
        "\n",
        "\n",
        "\n",
        "\n",
        "\n"
      ],
      "metadata": {
        "id": "vWSz0WmzdLrg"
      }
    },
    {
      "cell_type": "code",
      "source": [
        "# your code here\n",
        "\n",
        "import numpy as np\n",
        "\n",
        "# Part 1: Understanding reshaping\n",
        "# Create a 1-D array with the shape (10,)\n",
        "\n",
        "# Reshape the 1-D array into a 2-D array with 5 rows and 2 columns\n",
        "\n",
        "\n",
        "# Reshape the 2-D array into a 3-D array with 2 slices\n",
        "\n",
        "\n",
        "# Flatten the 3-D array into a 1-D array\n",
        "\n",
        "\n",
        "# Print the original 1-D array, the reshaped 2-D array, and the reshaped 1-D array\n",
        "\n",
        "\n",
        "# Part 2: Practical applications of reshaping\n",
        "# Create a 2-D array with 3 rows and 4 columns\n",
        "\n",
        "\n",
        "# Change the shape of the 2-D array to (4, 3)\n",
        "\n",
        "\n",
        "# Change the shape of the 2-D array to (2, 6)\n",
        "\n",
        "\n",
        "# Change the shape of the 2-D array to (1, 12)\n",
        "\n",
        "\n",
        "# Change the shape of the 2-D array to (12, 1)\n",
        "\n",
        "\n",
        "# Print the original 2-D array and all the reshaped arrays\n",
        "\n",
        "\n",
        "# Part 3: Transposing arrays\n",
        "\n",
        "# Create a 2-D array with 3 rows and 4 columns.\n",
        "\n",
        "\n",
        "# Transpose the 2-D array to obtain a 2-D array with 4 rows and 3 columns.\n",
        "\n",
        "\n",
        "# Print the original 2-D array and the transposed array.\n"
      ],
      "metadata": {
        "id": "oN38LAWwd55w"
      },
      "execution_count": null,
      "outputs": []
    },
    {
      "cell_type": "markdown",
      "metadata": {
        "id": "H2hGErMmj_se"
      },
      "source": [
        "##Arrays Concatenation "
      ]
    },
    {
      "cell_type": "code",
      "execution_count": null,
      "metadata": {
        "colab": {
          "base_uri": "https://localhost:8080/"
        },
        "id": "Pw0__6ApkYbl",
        "outputId": "aa04021b-c234-4776-81ba-24db01d85c67"
      },
      "outputs": [
        {
          "data": {
            "text/plain": [
              "array([1, 2, 3, 3, 4, 5])"
            ]
          },
          "execution_count": 4,
          "metadata": {},
          "output_type": "execute_result"
        }
      ],
      "source": [
        "x = np.array([1, 2, 3])\n",
        "y = np.array([3, 4, 5])\n",
        "np.concatenate([x,y])"
      ]
    },
    {
      "cell_type": "code",
      "execution_count": null,
      "metadata": {
        "colab": {
          "base_uri": "https://localhost:8080/"
        },
        "id": "2CbYvaVY8U8X",
        "outputId": "5ae6a4bc-8bbd-4607-9e56-b2b7f14073eb"
      },
      "outputs": [
        {
          "data": {
            "text/plain": [
              "array([1, 2, 3, 3, 4, 5, 9, 9, 9])"
            ]
          },
          "execution_count": 6,
          "metadata": {},
          "output_type": "execute_result"
        }
      ],
      "source": [
        "z = [9, 9, 9]\n",
        "np.concatenate([x,y,z])"
      ]
    },
    {
      "cell_type": "code",
      "execution_count": null,
      "metadata": {
        "colab": {
          "base_uri": "https://localhost:8080/"
        },
        "id": "R9wqyPRn8_hG",
        "outputId": "1fef1819-d712-49dd-f02c-e80cb708eb58"
      },
      "outputs": [
        {
          "name": "stdout",
          "output_type": "stream",
          "text": [
            "[[1 1 1]\n",
            " [1 1 1]]\n",
            "\n",
            "[[9 9 9]\n",
            " [9 9 9]]\n"
          ]
        }
      ],
      "source": [
        "# for 2D arrays\n",
        "x = np.full((2,3),1)\n",
        "y = np.full((2,3),9)\n",
        "print(x)\n",
        "print()\n",
        "print(y)"
      ]
    },
    {
      "cell_type": "code",
      "execution_count": null,
      "metadata": {
        "colab": {
          "base_uri": "https://localhost:8080/"
        },
        "id": "px1XmxtC9weS",
        "outputId": "8ef005b9-9f08-4523-9277-4aac7638a507"
      },
      "outputs": [
        {
          "data": {
            "text/plain": [
              "array([[1, 1, 1],\n",
              "       [1, 1, 1],\n",
              "       [9, 9, 9],\n",
              "       [9, 9, 9]])"
            ]
          },
          "execution_count": 12,
          "metadata": {},
          "output_type": "execute_result"
        }
      ],
      "source": [
        "# Concatenate along the first axis\n",
        "np.concatenate([x,y], axis = 0)"
      ]
    },
    {
      "cell_type": "code",
      "execution_count": null,
      "metadata": {
        "colab": {
          "base_uri": "https://localhost:8080/"
        },
        "id": "pPYC8ObG-fOX",
        "outputId": "f3d1d08a-3be4-4436-ee99-da6aaf7b8dee"
      },
      "outputs": [
        {
          "name": "stdout",
          "output_type": "stream",
          "text": [
            "(4, 3)\n",
            "(2, 3)\n",
            "(2, 3)\n"
          ]
        }
      ],
      "source": [
        "print(np.concatenate([x,y], axis = 0).shape)\n",
        "print(x.shape)\n",
        "print(y.shape)"
      ]
    },
    {
      "cell_type": "code",
      "execution_count": null,
      "metadata": {
        "colab": {
          "base_uri": "https://localhost:8080/"
        },
        "id": "2Mkj1C6A_bPM",
        "outputId": "12b87db9-ceb9-41a2-e37a-0346590d6ea7"
      },
      "outputs": [
        {
          "data": {
            "text/plain": [
              "array([[1, 1, 1, 9, 9, 9],\n",
              "       [1, 1, 1, 9, 9, 9]])"
            ]
          },
          "execution_count": 17,
          "metadata": {},
          "output_type": "execute_result"
        }
      ],
      "source": [
        "# Concatenate along the second axis (zero-indexed)\n",
        "np.concatenate([x,y], axis = 1)"
      ]
    },
    {
      "cell_type": "code",
      "execution_count": null,
      "metadata": {
        "colab": {
          "base_uri": "https://localhost:8080/"
        },
        "id": "Tn-pDrUz_1DD",
        "outputId": "9930d336-6b5f-4496-9bbb-52866adba772"
      },
      "outputs": [
        {
          "name": "stdout",
          "output_type": "stream",
          "text": [
            "(2, 6)\n",
            "(2, 3)\n",
            "(2, 3)\n"
          ]
        }
      ],
      "source": [
        "print(np.concatenate([x,y], axis = 1).shape)\n",
        "print(x.shape)\n",
        "print(y.shape)"
      ]
    },
    {
      "cell_type": "markdown",
      "metadata": {
        "id": "oyfgfE6DBtNG"
      },
      "source": [
        "##Axes in Numpy\n",
        "what are Numpy axes?\n",
        "\n",
        "![numpy-arrays-have-axes.png](data:image/png;base64,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)\n",
        "\n",
        "\n",
        "AXIS 0 IS THE DIRECTION ALONG THE ROWS\n",
        "\n",
        "![numpy-axis0.png](data:image/png;base64,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)\n",
        "\n",
        "AXIS 1 IS THE DIRECTION ALONG THE COLUMNS\n",
        "\n",
        "![numpy-axis-1.png](data:image/png;base64,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)\n",
        "\n",
        "![explanation_numpy-concatenate-axis-0.png](data:image/png;base64,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)\n",
        "\n",
        "![explanation_numpy-concatenate-axis-1.png](data:image/png;base64,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)\n",
        "\n",
        "1-DIMENSIONAL NUMPY ARRAYS ONLY HAVE ONE AXIS\n",
        "\n",
        "![1d-array-has-one-axis.png](data:image/png;base64,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)"
      ]
    },
    {
      "cell_type": "code",
      "execution_count": null,
      "metadata": {
        "id": "5iK39I47HOHi"
      },
      "outputs": [],
      "source": [
        "# alternative ways\n",
        "x = np.array([1, 2, 3])\n",
        "y = np.array([[9, 8, 7],[6, 5, 4]])"
      ]
    },
    {
      "cell_type": "code",
      "execution_count": null,
      "metadata": {
        "colab": {
          "base_uri": "https://localhost:8080/"
        },
        "id": "8nzURULYID3l",
        "outputId": "3e22a44b-cad7-4134-e15f-7937c7fe8939"
      },
      "outputs": [
        {
          "data": {
            "text/plain": [
              "array([1, 2, 3])"
            ]
          },
          "execution_count": 22,
          "metadata": {},
          "output_type": "execute_result"
        }
      ],
      "source": [
        "x"
      ]
    },
    {
      "cell_type": "code",
      "execution_count": null,
      "metadata": {
        "colab": {
          "base_uri": "https://localhost:8080/"
        },
        "id": "0JNla932IFzZ",
        "outputId": "6c985534-3134-4820-9b36-8a855cfc6ad1"
      },
      "outputs": [
        {
          "data": {
            "text/plain": [
              "array([[9, 8, 7],\n",
              "       [6, 5, 4]])"
            ]
          },
          "execution_count": 23,
          "metadata": {},
          "output_type": "execute_result"
        }
      ],
      "source": [
        "y"
      ]
    },
    {
      "cell_type": "code",
      "execution_count": null,
      "metadata": {
        "colab": {
          "base_uri": "https://localhost:8080/"
        },
        "id": "5DZHk7EhIMmq",
        "outputId": "5c5409ae-19a9-4030-9701-0fdcfd390039"
      },
      "outputs": [
        {
          "data": {
            "text/plain": [
              "array([[1, 2, 3],\n",
              "       [9, 8, 7],\n",
              "       [6, 5, 4]])"
            ]
          },
          "execution_count": 25,
          "metadata": {},
          "output_type": "execute_result"
        }
      ],
      "source": [
        "# vertically stack the arrays\n",
        "np.vstack([x, y])"
      ]
    },
    {
      "cell_type": "code",
      "execution_count": null,
      "metadata": {
        "colab": {
          "base_uri": "https://localhost:8080/",
          "height": 222
        },
        "id": "_oOvqVKfJbcB",
        "outputId": "83c22deb-c98e-4558-c087-08a013a87af4"
      },
      "outputs": [
        {
          "ename": "ValueError",
          "evalue": "ignored",
          "output_type": "error",
          "traceback": [
            "\u001b[0;31m---------------------------------------------------------------------------\u001b[0m",
            "\u001b[0;31mValueError\u001b[0m                                Traceback (most recent call last)",
            "\u001b[0;32m<ipython-input-26-81dbb87f3f0d>\u001b[0m in \u001b[0;36m<module>\u001b[0;34m()\u001b[0m\n\u001b[0;32m----> 1\u001b[0;31m \u001b[0mnp\u001b[0m\u001b[0;34m.\u001b[0m\u001b[0mconcatenate\u001b[0m\u001b[0;34m(\u001b[0m\u001b[0;34m[\u001b[0m\u001b[0mx\u001b[0m\u001b[0;34m,\u001b[0m \u001b[0my\u001b[0m\u001b[0;34m]\u001b[0m\u001b[0;34m,\u001b[0m \u001b[0maxis\u001b[0m\u001b[0;34m=\u001b[0m\u001b[0;36m0\u001b[0m\u001b[0;34m)\u001b[0m\u001b[0;34m\u001b[0m\u001b[0;34m\u001b[0m\u001b[0m\n\u001b[0m",
            "\u001b[0;32m<__array_function__ internals>\u001b[0m in \u001b[0;36mconcatenate\u001b[0;34m(*args, **kwargs)\u001b[0m\n",
            "\u001b[0;31mValueError\u001b[0m: all the input arrays must have same number of dimensions, but the array at index 0 has 1 dimension(s) and the array at index 1 has 2 dimension(s)"
          ]
        }
      ],
      "source": [
        "np.concatenate([x, y], axis=0)"
      ]
    },
    {
      "cell_type": "code",
      "execution_count": null,
      "metadata": {
        "colab": {
          "base_uri": "https://localhost:8080/"
        },
        "id": "YJdnPBXvJ_ea",
        "outputId": "df318d55-0934-4d21-fa3e-6efebd694ca9"
      },
      "outputs": [
        {
          "data": {
            "text/plain": [
              "1"
            ]
          },
          "execution_count": 28,
          "metadata": {},
          "output_type": "execute_result"
        }
      ],
      "source": [
        "x.ndim"
      ]
    },
    {
      "cell_type": "code",
      "execution_count": null,
      "metadata": {
        "colab": {
          "base_uri": "https://localhost:8080/"
        },
        "id": "00M2JGIUKkQF",
        "outputId": "9b18c939-a97f-4746-a60c-f0dbb4f9ddb5"
      },
      "outputs": [
        {
          "output_type": "execute_result",
          "data": {
            "text/plain": [
              "array([[1, 2, 3]])"
            ]
          },
          "metadata": {},
          "execution_count": 31
        }
      ],
      "source": [
        "\n",
        "x = x.reshape((1,-1))\n",
        "x"
      ]
    },
    {
      "cell_type": "code",
      "source": [
        "y\n"
      ],
      "metadata": {
        "colab": {
          "base_uri": "https://localhost:8080/"
        },
        "id": "4356Oxi2LEEX",
        "outputId": "98177a73-e97f-4767-bd90-ba63ec5a8bfa"
      },
      "execution_count": null,
      "outputs": [
        {
          "output_type": "execute_result",
          "data": {
            "text/plain": [
              "array([[9, 8, 7],\n",
              "       [6, 5, 4]])"
            ]
          },
          "metadata": {},
          "execution_count": 32
        }
      ]
    },
    {
      "cell_type": "code",
      "source": [
        "np.concatenate([x, y], axis=0)"
      ],
      "metadata": {
        "colab": {
          "base_uri": "https://localhost:8080/"
        },
        "id": "asg3AajRLJ4e",
        "outputId": "f9468d6c-01df-4e42-e314-c1fbc1a723d6"
      },
      "execution_count": null,
      "outputs": [
        {
          "output_type": "execute_result",
          "data": {
            "text/plain": [
              "array([[1, 2, 3],\n",
              "       [9, 8, 7],\n",
              "       [6, 5, 4]])"
            ]
          },
          "metadata": {},
          "execution_count": 33
        }
      ]
    },
    {
      "cell_type": "code",
      "source": [
        "# horizontally stack the arrays\n",
        "z = np.array([[99], [99]])\n",
        "np.hstack([y, z])"
      ],
      "metadata": {
        "colab": {
          "base_uri": "https://localhost:8080/"
        },
        "id": "Z-3g3OPiLpU4",
        "outputId": "8bfb4a08-9e66-435d-d787-0c15fcba5178"
      },
      "execution_count": null,
      "outputs": [
        {
          "output_type": "execute_result",
          "data": {
            "text/plain": [
              "array([[ 9,  8,  7, 99],\n",
              "       [ 6,  5,  4, 99]])"
            ]
          },
          "metadata": {},
          "execution_count": 38
        }
      ]
    },
    {
      "cell_type": "markdown",
      "source": [
        "##Split Arrays"
      ],
      "metadata": {
        "id": "1tQxmAsxNURs"
      }
    },
    {
      "cell_type": "code",
      "source": [
        "x = [1, 2, 3, 99, 99, 3, 2, 1]\n",
        "x1, x2, x3 = np.split(x, [3,5]) # N split points led to N+1 subarrays\n",
        "print(x1, x2, x3)"
      ],
      "metadata": {
        "colab": {
          "base_uri": "https://localhost:8080/"
        },
        "id": "pPKqHjFsNubn",
        "outputId": "53f81436-4db5-4d9c-f01d-6c3d4a20fc8c"
      },
      "execution_count": null,
      "outputs": [
        {
          "output_type": "stream",
          "name": "stdout",
          "text": [
            "[1 2 3] [99 99] [3 2 1]\n"
          ]
        }
      ]
    },
    {
      "cell_type": "code",
      "source": [
        "y = np.arange(16).reshape((4, 4))\n",
        "y"
      ],
      "metadata": {
        "colab": {
          "base_uri": "https://localhost:8080/"
        },
        "id": "UC01xj8_P8SS",
        "outputId": "d9134a61-6fd9-4a98-d4f2-2e7345fd8949"
      },
      "execution_count": null,
      "outputs": [
        {
          "output_type": "execute_result",
          "data": {
            "text/plain": [
              "array([[ 0,  1,  2,  3],\n",
              "       [ 4,  5,  6,  7],\n",
              "       [ 8,  9, 10, 11],\n",
              "       [12, 13, 14, 15]])"
            ]
          },
          "metadata": {},
          "execution_count": 43
        }
      ]
    },
    {
      "cell_type": "code",
      "source": [
        "upper, lower = np.vsplit(y, [2])\n",
        "print(upper)\n",
        "print()\n",
        "print(lower)"
      ],
      "metadata": {
        "colab": {
          "base_uri": "https://localhost:8080/"
        },
        "id": "dfWr0denQZBt",
        "outputId": "55cae4e8-373f-40e6-dc1e-4c485a1cd85c"
      },
      "execution_count": null,
      "outputs": [
        {
          "output_type": "stream",
          "name": "stdout",
          "text": [
            "[[0 1 2 3]\n",
            " [4 5 6 7]]\n",
            "\n",
            "[[ 8  9 10 11]\n",
            " [12 13 14 15]]\n"
          ]
        }
      ]
    },
    {
      "cell_type": "code",
      "source": [
        "left, right = np.hsplit(y, [2])\n",
        "print(left)\n",
        "print()\n",
        "print(right)"
      ],
      "metadata": {
        "colab": {
          "base_uri": "https://localhost:8080/"
        },
        "outputId": "e54ab456-a7ea-42bf-bc03-08614640d8f4",
        "id": "Mtv-VmLEREvS"
      },
      "execution_count": null,
      "outputs": [
        {
          "output_type": "stream",
          "name": "stdout",
          "text": [
            "[[ 0  1]\n",
            " [ 4  5]\n",
            " [ 8  9]\n",
            " [12 13]]\n",
            "\n",
            "[[ 2  3]\n",
            " [ 6  7]\n",
            " [10 11]\n",
            " [14 15]]\n"
          ]
        }
      ]
    },
    {
      "cell_type": "code",
      "source": [
        "left, middle, right = np.hsplit(y, [2, 3])\n",
        "print(left)\n",
        "print()\n",
        "print(middle)\n",
        "print()\n",
        "print(right)"
      ],
      "metadata": {
        "colab": {
          "base_uri": "https://localhost:8080/"
        },
        "outputId": "ec062cd8-c64a-43e6-e3d9-66a8b8cdad09",
        "id": "p2PBy5OKVQNK"
      },
      "execution_count": null,
      "outputs": [
        {
          "output_type": "stream",
          "name": "stdout",
          "text": [
            "[[ 0  1]\n",
            " [ 4  5]\n",
            " [ 8  9]\n",
            " [12 13]]\n",
            "\n",
            "[[ 2]\n",
            " [ 6]\n",
            " [10]\n",
            " [14]]\n",
            "\n",
            "[[ 3]\n",
            " [ 7]\n",
            " [11]\n",
            " [15]]\n"
          ]
        }
      ]
    },
    {
      "cell_type": "markdown",
      "source": [
        "##Universal Functions UFuncs"
      ],
      "metadata": {
        "id": "sRYwD2YvVm6n"
      }
    },
    {
      "cell_type": "markdown",
      "source": [
        "###Exploring Numpy's \n",
        "unarry ufuncs vs binary ufuncs\n",
        "\n",
        "###Array arithmetic "
      ],
      "metadata": {
        "id": "evRmBsUP7XiM"
      }
    },
    {
      "cell_type": "code",
      "source": [
        "import numpy as np\n",
        "\n",
        "x = np.arange(4)\n",
        "print(\"x = \", x)\n",
        "print(\"x + 5 = \", x + 5) # np.add(x, 5)\n",
        "print(\"x - 5 = \", x - 5)\n",
        "print(\"x * 2 = \", x * 2) # np.multiply(x, 2)"
      ],
      "metadata": {
        "colab": {
          "base_uri": "https://localhost:8080/"
        },
        "id": "maZxSzFoVuZl",
        "outputId": "239c33b1-46cf-4dd9-a247-51d2f2eb0c33"
      },
      "execution_count": null,
      "outputs": [
        {
          "output_type": "stream",
          "name": "stdout",
          "text": [
            "x =  [0 1 2 3]\n",
            "x + 5 =  [5 6 7 8]\n",
            "x - 5 =  [-5 -4 -3 -2]\n",
            "x * 2 =  [0 2 4 6]\n"
          ]
        }
      ]
    },
    {
      "cell_type": "code",
      "source": [
        "print(\"x / 2 =\", x / 2) # np.divide(x, 2)\n",
        "print(\"x // 2 =\", x // 2) # floor division\n",
        "print(\"-x = \", -x)\n",
        "print(\"x ** 2 =\", x ** 2)\n",
        "print(\"x % 2 =\", x % 2)\n",
        "\n"
      ],
      "metadata": {
        "colab": {
          "base_uri": "https://localhost:8080/"
        },
        "id": "3i6hkepE_SWv",
        "outputId": "6760fa11-7149-4e7c-9778-b6f32c38314e"
      },
      "execution_count": null,
      "outputs": [
        {
          "output_type": "stream",
          "name": "stdout",
          "text": [
            "x / 2 = [0.  0.5 1.  1.5]\n",
            "x // 2 = [0 0 1 1]\n",
            "-x =  [ 0 -1 -2 -3]\n",
            "x ** 2 = [0 1 4 9]\n",
            "x % 2 = [0 1 0 1]\n"
          ]
        }
      ]
    },
    {
      "cell_type": "code",
      "source": [
        "-( x/2 + 1)**2"
      ],
      "metadata": {
        "colab": {
          "base_uri": "https://localhost:8080/"
        },
        "id": "YHzgC5N-ARUj",
        "outputId": "c5b74e71-7489-42c7-b0a3-ceddce3562a5"
      },
      "execution_count": null,
      "outputs": [
        {
          "output_type": "execute_result",
          "data": {
            "text/plain": [
              "array([-1.  , -2.25, -4.  , -6.25])"
            ]
          },
          "metadata": {},
          "execution_count": 5
        }
      ]
    },
    {
      "cell_type": "code",
      "source": [
        "print(-x)\n",
        "print(np.negative(x))"
      ],
      "metadata": {
        "colab": {
          "base_uri": "https://localhost:8080/"
        },
        "id": "yBPuaRCfA69c",
        "outputId": "06489b98-31fe-40af-c2eb-daadd72250f3"
      },
      "execution_count": null,
      "outputs": [
        {
          "output_type": "stream",
          "name": "stdout",
          "text": [
            "[ 0 -1 -2 -3]\n",
            "[ 0 -1 -2 -3]\n"
          ]
        }
      ]
    },
    {
      "cell_type": "markdown",
      "source": [
        "![operator.jpeg](data:image/jpeg;base64,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)"
      ],
      "metadata": {
        "id": "MlD4hzNqCa4T"
      }
    },
    {
      "cell_type": "markdown",
      "source": [
        "###Absolute value"
      ],
      "metadata": {
        "id": "YpVxTO0iC-_J"
      }
    },
    {
      "cell_type": "code",
      "source": [
        "x = np.array([-2, -1, 0, 1, 2])\n",
        "abs(x)"
      ],
      "metadata": {
        "colab": {
          "base_uri": "https://localhost:8080/"
        },
        "id": "NA33PjOQDMui",
        "outputId": "22928d3f-ef80-4d11-9ad2-c78db8201236"
      },
      "execution_count": null,
      "outputs": [
        {
          "output_type": "execute_result",
          "data": {
            "text/plain": [
              "array([2, 1, 0, 1, 2])"
            ]
          },
          "metadata": {},
          "execution_count": 8
        }
      ]
    },
    {
      "cell_type": "code",
      "source": [
        "print(np.absolute(x))\n",
        "print(np.abs(x))\n"
      ],
      "metadata": {
        "colab": {
          "base_uri": "https://localhost:8080/"
        },
        "id": "9HBl7yAeENPm",
        "outputId": "ba2e8984-0a42-4100-a4fd-14bbd34f22ed"
      },
      "execution_count": null,
      "outputs": [
        {
          "output_type": "stream",
          "name": "stdout",
          "text": [
            "[2 1 0 1 2]\n",
            "[2 1 0 1 2]\n"
          ]
        }
      ]
    },
    {
      "cell_type": "code",
      "source": [
        "big_array = np.random.randint(-10, 10, size = 1000000)\n",
        "%timeit np.abs(big_array)\n",
        "%timeit abs(big_array)"
      ],
      "metadata": {
        "colab": {
          "base_uri": "https://localhost:8080/"
        },
        "id": "byZuoe3uFGTm",
        "outputId": "1da7a0f1-88ae-4566-cb3d-04a5773efae3"
      },
      "execution_count": null,
      "outputs": [
        {
          "output_type": "stream",
          "name": "stdout",
          "text": [
            "1000 loops, best of 5: 1.63 ms per loop\n",
            "1000 loops, best of 5: 1.5 ms per loop\n"
          ]
        }
      ]
    },
    {
      "cell_type": "markdown",
      "source": [
        "###Trigonometric functions"
      ],
      "metadata": {
        "id": "jLwK-vr_HTnS"
      }
    },
    {
      "cell_type": "code",
      "source": [
        "theta = np.linspace(0, np.pi, 3)\n",
        "theta\n",
        "np.degrees(theta)"
      ],
      "metadata": {
        "colab": {
          "base_uri": "https://localhost:8080/"
        },
        "id": "HAOU2ZaDHoOV",
        "outputId": "d2564f71-73b8-47f4-d852-2a312d95c8f3"
      },
      "execution_count": null,
      "outputs": [
        {
          "output_type": "execute_result",
          "data": {
            "text/plain": [
              "array([  0.,  90., 180.])"
            ]
          },
          "metadata": {},
          "execution_count": 21
        }
      ]
    },
    {
      "cell_type": "code",
      "source": [
        "print(\"theta = \", theta)\n",
        "print(\"sin(theta) = \", np.sin(theta))\n",
        "print(\"cos(theta) = \", np.cos(theta))\n",
        "print(\"tan(theta) = \", np.tan(theta))"
      ],
      "metadata": {
        "colab": {
          "base_uri": "https://localhost:8080/"
        },
        "id": "PGtrnkZRIYdt",
        "outputId": "fd8a8176-d2f8-46d1-9ad7-d2ee80608893"
      },
      "execution_count": null,
      "outputs": [
        {
          "output_type": "stream",
          "name": "stdout",
          "text": [
            "theta =  [0.         1.57079633 3.14159265]\n",
            "sin(theta) =  [0.0000000e+00 1.0000000e+00 1.2246468e-16]\n",
            "cos(theta) =  [ 1.000000e+00  6.123234e-17 -1.000000e+00]\n",
            "tan(theta) =  [ 0.00000000e+00  1.63312394e+16 -1.22464680e-16]\n"
          ]
        }
      ]
    },
    {
      "cell_type": "code",
      "source": [
        "x = [-1, 0, 1]\n",
        "print(\"x = \", x)\n",
        "print(\"arcsin(x) = \", np.arcsin(x))\n",
        "print(\"arccos(x) = \", np.arccos(x))\n",
        "print(\"arctan(x) = \", np.arctan(x))"
      ],
      "metadata": {
        "colab": {
          "base_uri": "https://localhost:8080/"
        },
        "id": "IlWnouY8JmXe",
        "outputId": "9645977b-4f30-4d45-f0d7-1c7f8a482c42"
      },
      "execution_count": null,
      "outputs": [
        {
          "output_type": "stream",
          "name": "stdout",
          "text": [
            "x =  [-1, 0, 1]\n",
            "arcsin(x) =  [-1.57079633  0.          1.57079633]\n",
            "arccos(x) =  [3.14159265 1.57079633 0.        ]\n",
            "arctan(x) =  [-0.78539816  0.          0.78539816]\n"
          ]
        }
      ]
    },
    {
      "cell_type": "markdown",
      "source": [
        "###EXponents and Logarithms"
      ],
      "metadata": {
        "id": "tVwZxa5KLwe5"
      }
    },
    {
      "cell_type": "code",
      "source": [
        "x = np.array([1, 2, 3])\n",
        "print(\"x = \", x)\n",
        "print(\"e^x = \", np.exp(x))\n",
        "print(\"2^x = \", np.exp2(x))\n",
        "print(\"3^x = \", np.power(3, x))"
      ],
      "metadata": {
        "colab": {
          "base_uri": "https://localhost:8080/"
        },
        "id": "HfaIPcMHMcs9",
        "outputId": "f460e199-77b6-40ea-a670-81228455bd1d"
      },
      "execution_count": null,
      "outputs": [
        {
          "output_type": "stream",
          "name": "stdout",
          "text": [
            "x =  [1 2 3]\n",
            "e^x =  [ 2.71828183  7.3890561  20.08553692]\n",
            "2^x =  [2. 4. 8.]\n",
            "3^x =  [ 3  9 27]\n"
          ]
        }
      ]
    },
    {
      "cell_type": "code",
      "source": [
        "x = [1, 2, 4, 10]\n",
        "print(\"ln(x) = \", np.log(x))\n",
        "print(\"log2(x) = \", np.log2(x))\n",
        "print(\"log10(x) = \", np.log10(x))"
      ],
      "metadata": {
        "colab": {
          "base_uri": "https://localhost:8080/"
        },
        "id": "-Oe1MvrzXmzg",
        "outputId": "c4e3708c-0462-45ed-9bde-e1cb9ced0077"
      },
      "execution_count": null,
      "outputs": [
        {
          "output_type": "stream",
          "name": "stdout",
          "text": [
            "ln(x) =  [0.         0.69314718 1.38629436 2.30258509]\n",
            "log2(x) =  [0.         1.         2.         3.32192809]\n",
            "log10(x) =  [0.         0.30103    0.60205999 1.        ]\n"
          ]
        }
      ]
    },
    {
      "cell_type": "markdown",
      "source": [
        "###Aggregations\n",
        "Summing the values in an array"
      ],
      "metadata": {
        "id": "lS1TSKydaAT3"
      }
    },
    {
      "cell_type": "code",
      "source": [
        "import numpy as np\n",
        "\n",
        "L = np.random.random(100)\n",
        "sum(L)"
      ],
      "metadata": {
        "colab": {
          "base_uri": "https://localhost:8080/"
        },
        "id": "bGQI7CPEe-ra",
        "outputId": "897a4655-5fd4-4eeb-d535-31562963b4c6"
      },
      "execution_count": null,
      "outputs": [
        {
          "output_type": "execute_result",
          "data": {
            "text/plain": [
              "49.988020535525685"
            ]
          },
          "metadata": {},
          "execution_count": 26
        }
      ]
    },
    {
      "cell_type": "code",
      "source": [
        "np.sum(L)"
      ],
      "metadata": {
        "colab": {
          "base_uri": "https://localhost:8080/"
        },
        "id": "wj9XvZccfnVo",
        "outputId": "3873cc49-8e90-41ef-c7b8-29a7004d6834"
      },
      "execution_count": null,
      "outputs": [
        {
          "output_type": "execute_result",
          "data": {
            "text/plain": [
              "49.988020535525685"
            ]
          },
          "metadata": {},
          "execution_count": 28
        }
      ]
    },
    {
      "cell_type": "code",
      "source": [
        "big_array = np.random.rand(1000000)\n",
        "%timeit -n10 sum(big_array)\n",
        "%timeit np.sum(big_array)"
      ],
      "metadata": {
        "colab": {
          "base_uri": "https://localhost:8080/"
        },
        "id": "aW1-eKTdmEWh",
        "outputId": "2ab6a2ae-e352-493a-e85a-5b00d0c84fa8"
      },
      "execution_count": null,
      "outputs": [
        {
          "output_type": "stream",
          "name": "stdout",
          "text": [
            "10 loops, best of 5: 83.8 ms per loop\n",
            "1000 loops, best of 5: 376 µs per loop\n"
          ]
        }
      ]
    },
    {
      "cell_type": "code",
      "source": [
        "min(big_array), max(big_array)"
      ],
      "metadata": {
        "colab": {
          "base_uri": "https://localhost:8080/"
        },
        "id": "kBK8AJyfoW7f",
        "outputId": "5a10eee4-937f-403a-a7d3-23d19509d1fc"
      },
      "execution_count": null,
      "outputs": [
        {
          "output_type": "execute_result",
          "data": {
            "text/plain": [
              "(3.2652210091299594e-07, 0.9999999376108899)"
            ]
          },
          "metadata": {},
          "execution_count": 30
        }
      ]
    },
    {
      "cell_type": "code",
      "source": [
        "np.min(big_array), np.max(big_array)"
      ],
      "metadata": {
        "colab": {
          "base_uri": "https://localhost:8080/"
        },
        "id": "hiU0NQ0kogXM",
        "outputId": "7123d33b-e769-45c7-f01c-8dbe26055579"
      },
      "execution_count": null,
      "outputs": [
        {
          "output_type": "execute_result",
          "data": {
            "text/plain": [
              "(3.2652210091299594e-07, 0.9999999376108899)"
            ]
          },
          "metadata": {},
          "execution_count": 31
        }
      ]
    },
    {
      "cell_type": "code",
      "source": [
        "%timeit  min(big_array)\n",
        "%timeit np.min(big_array)"
      ],
      "metadata": {
        "colab": {
          "base_uri": "https://localhost:8080/"
        },
        "id": "sU12zfBbzr9j",
        "outputId": "a5874d26-227f-4b6a-ea68-058ea9a066ff"
      },
      "execution_count": null,
      "outputs": [
        {
          "output_type": "stream",
          "name": "stdout",
          "text": [
            "10 loops, best of 5: 64.3 ms per loop\n",
            "1000 loops, best of 5: 425 µs per loop\n"
          ]
        }
      ]
    },
    {
      "cell_type": "markdown",
      "source": [
        "###Multi dimensionnal aggregates"
      ],
      "metadata": {
        "id": "qHfn9lz632m_"
      }
    },
    {
      "cell_type": "code",
      "source": [
        "M = np.arange(0, 6).reshape((2, 3))\n",
        "print(M)"
      ],
      "metadata": {
        "colab": {
          "base_uri": "https://localhost:8080/"
        },
        "id": "360VzckQ4PNe",
        "outputId": "85a00a5e-2558-4ff6-a87a-9f3afe3a79c9"
      },
      "execution_count": null,
      "outputs": [
        {
          "output_type": "stream",
          "name": "stdout",
          "text": [
            "[[0 1 2]\n",
            " [3 4 5]]\n"
          ]
        }
      ]
    },
    {
      "cell_type": "code",
      "source": [
        "M.sum()"
      ],
      "metadata": {
        "colab": {
          "base_uri": "https://localhost:8080/"
        },
        "id": "kucjgjd34oWh",
        "outputId": "9f061f52-b866-4a5d-f503-c1a176b42464"
      },
      "execution_count": null,
      "outputs": [
        {
          "output_type": "execute_result",
          "data": {
            "text/plain": [
              "15"
            ]
          },
          "metadata": {},
          "execution_count": 38
        }
      ]
    },
    {
      "cell_type": "code",
      "source": [
        "M.sum(axis=0)"
      ],
      "metadata": {
        "colab": {
          "base_uri": "https://localhost:8080/"
        },
        "id": "0XhFhDpo4r3N",
        "outputId": "fbaadaec-a7a9-4bb0-ba97-f1a546bc9f94"
      },
      "execution_count": null,
      "outputs": [
        {
          "output_type": "execute_result",
          "data": {
            "text/plain": [
              "array([3, 5, 7])"
            ]
          },
          "metadata": {},
          "execution_count": 39
        }
      ]
    },
    {
      "cell_type": "code",
      "source": [
        "M.sum(axis=1)"
      ],
      "metadata": {
        "colab": {
          "base_uri": "https://localhost:8080/"
        },
        "id": "Bb2-71Hf5Hjk",
        "outputId": "19232b89-87a7-47ce-9549-d00cdc11bcea"
      },
      "execution_count": null,
      "outputs": [
        {
          "output_type": "execute_result",
          "data": {
            "text/plain": [
              "array([ 3, 12])"
            ]
          },
          "metadata": {},
          "execution_count": 40
        }
      ]
    },
    {
      "cell_type": "markdown",
      "source": [
        "![numpy-axes-np-sum-axis-0.png](data:image/png;base64,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)\n",
        "\n",
        "![numpy-axes-np-sum-axis-1.png](data:image/png;base64,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)"
      ],
      "metadata": {
        "id": "ceKT6QfG6us2"
      }
    },
    {
      "cell_type": "markdown",
      "source": [
        "###Aggregation functions in Numpy\n",
        "\n",
        "![aggregation_Functions_Numpy.png](data:image/png;base64,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)"
      ],
      "metadata": {
        "id": "OC1GV0FM7VqY"
      }
    },
    {
      "cell_type": "code",
      "source": [
        "l = np.random.randint(10, 100, size = 11)\n",
        "l"
      ],
      "metadata": {
        "colab": {
          "base_uri": "https://localhost:8080/"
        },
        "id": "FoG3ZOAY73-X",
        "outputId": "c4636bd7-7eec-4c88-dd2d-3d47caf327d4"
      },
      "execution_count": null,
      "outputs": [
        {
          "output_type": "execute_result",
          "data": {
            "text/plain": [
              "array([10, 60, 29, 84, 30, 58, 83, 94, 80, 35, 47])"
            ]
          },
          "metadata": {},
          "execution_count": 42
        }
      ]
    },
    {
      "cell_type": "code",
      "source": [
        "np.max(l)"
      ],
      "metadata": {
        "colab": {
          "base_uri": "https://localhost:8080/"
        },
        "id": "fjZ4baG--F2p",
        "outputId": "1b447f2a-137f-4cb7-9cb1-dbfbffca28e2"
      },
      "execution_count": null,
      "outputs": [
        {
          "output_type": "execute_result",
          "data": {
            "text/plain": [
              "94"
            ]
          },
          "metadata": {},
          "execution_count": 43
        }
      ]
    },
    {
      "cell_type": "code",
      "source": [
        "np.argmax(l)"
      ],
      "metadata": {
        "colab": {
          "base_uri": "https://localhost:8080/"
        },
        "id": "QajzaRNq-KFK",
        "outputId": "24f7abe4-c51b-4739-d63a-55a964a19ac7"
      },
      "execution_count": null,
      "outputs": [
        {
          "output_type": "execute_result",
          "data": {
            "text/plain": [
              "7"
            ]
          },
          "metadata": {},
          "execution_count": 44
        }
      ]
    },
    {
      "cell_type": "code",
      "source": [
        "np.sort(l)"
      ],
      "metadata": {
        "colab": {
          "base_uri": "https://localhost:8080/"
        },
        "id": "Uv5innUZ-QQO",
        "outputId": "b3b03c63-f6a5-43ed-fb9c-f072a725b865"
      },
      "execution_count": null,
      "outputs": [
        {
          "output_type": "execute_result",
          "data": {
            "text/plain": [
              "array([10, 29, 30, 35, 47, 58, 60, 80, 83, 84, 94])"
            ]
          },
          "metadata": {},
          "execution_count": 45
        }
      ]
    },
    {
      "cell_type": "code",
      "source": [
        "np.median(l)"
      ],
      "metadata": {
        "colab": {
          "base_uri": "https://localhost:8080/"
        },
        "id": "BVvcdEWs-gGx",
        "outputId": "04bc7888-bd9d-4292-9609-39af5fddeb4c"
      },
      "execution_count": null,
      "outputs": [
        {
          "output_type": "execute_result",
          "data": {
            "text/plain": [
              "58.0"
            ]
          },
          "metadata": {},
          "execution_count": 48
        }
      ]
    },
    {
      "cell_type": "code",
      "source": [
        "np.percentile(l, .75)"
      ],
      "metadata": {
        "colab": {
          "base_uri": "https://localhost:8080/"
        },
        "id": "Yp7BOE3N-qGY",
        "outputId": "5aaab58a-7383-4ec0-c1af-56ff950419de"
      },
      "execution_count": null,
      "outputs": [
        {
          "output_type": "execute_result",
          "data": {
            "text/plain": [
              "11.425"
            ]
          },
          "metadata": {},
          "execution_count": 49
        }
      ]
    },
    {
      "cell_type": "code",
      "source": [
        "l = np.array([np.nan, 5, np.nan, 6, 10, 19])\n",
        "l"
      ],
      "metadata": {
        "colab": {
          "base_uri": "https://localhost:8080/"
        },
        "id": "-kqhqnLfAgtW",
        "outputId": "b4a82ca4-25b8-42fb-b5a8-2a6b155c78f5"
      },
      "execution_count": null,
      "outputs": [
        {
          "output_type": "execute_result",
          "data": {
            "text/plain": [
              "array([nan,  5., nan,  6., 10., 19.])"
            ]
          },
          "metadata": {},
          "execution_count": 50
        }
      ]
    },
    {
      "cell_type": "code",
      "source": [
        "np.sum(l)"
      ],
      "metadata": {
        "colab": {
          "base_uri": "https://localhost:8080/"
        },
        "id": "UAmvFrYfAzJB",
        "outputId": "cfb9c650-2f01-4d03-b358-7d6ce9c648c6"
      },
      "execution_count": null,
      "outputs": [
        {
          "output_type": "execute_result",
          "data": {
            "text/plain": [
              "nan"
            ]
          },
          "metadata": {},
          "execution_count": 52
        }
      ]
    },
    {
      "cell_type": "code",
      "source": [
        "np.nansum(l)"
      ],
      "metadata": {
        "colab": {
          "base_uri": "https://localhost:8080/"
        },
        "id": "UpRuuQfKBAda",
        "outputId": "cae358d2-98af-4352-e250-42d77ba30520"
      },
      "execution_count": null,
      "outputs": [
        {
          "output_type": "execute_result",
          "data": {
            "text/plain": [
              "40.0"
            ]
          },
          "metadata": {},
          "execution_count": 53
        }
      ]
    },
    {
      "cell_type": "markdown",
      "source": [
        "##Exercise\n",
        "\n",
        "https://www.kaggle.com/yersever/500-person-gender-height-weight-bodymassindex"
      ],
      "metadata": {
        "id": "xdWHFdbm7dJq"
      }
    },
    {
      "cell_type": "code",
      "source": [
        "import pandas as pd\n",
        "import numpy as np"
      ],
      "metadata": {
        "id": "XYBNA2YQ8N3j"
      },
      "execution_count": null,
      "outputs": []
    },
    {
      "cell_type": "code",
      "source": [
        "from google.colab import files \n",
        "  \n",
        "  \n",
        "uploaded = files.upload()"
      ],
      "metadata": {
        "colab": {
          "resources": {
            "http://localhost:8080/nbextensions/google.colab/files.js": {
              "data": "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",
              "ok": true,
              "headers": [
                [
                  "content-type",
                  "application/javascript"
                ]
              ],
              "status": 200,
              "status_text": ""
            }
          },
          "base_uri": "https://localhost:8080/",
          "height": 73
        },
        "id": "N_YPiruR_JWx",
        "outputId": "838ecb32-b531-4740-a599-2ec92c26db27"
      },
      "execution_count": null,
      "outputs": [
        {
          "output_type": "display_data",
          "data": {
            "text/plain": [
              "<IPython.core.display.HTML object>"
            ],
            "text/html": [
              "\n",
              "     <input type=\"file\" id=\"files-887ffd5b-3301-4681-8560-500e63ac571c\" name=\"files[]\" multiple disabled\n",
              "        style=\"border:none\" />\n",
              "     <output id=\"result-887ffd5b-3301-4681-8560-500e63ac571c\">\n",
              "      Upload widget is only available when the cell has been executed in the\n",
              "      current browser session. Please rerun this cell to enable.\n",
              "      </output>\n",
              "      <script src=\"/nbextensions/google.colab/files.js\"></script> "
            ]
          },
          "metadata": {}
        },
        {
          "output_type": "stream",
          "name": "stdout",
          "text": [
            "Saving 500_Person_Gender_Height_Weight_Index.csv to 500_Person_Gender_Height_Weight_Index.csv\n"
          ]
        }
      ]
    },
    {
      "cell_type": "code",
      "source": [
        "df = pd.read_csv('500_Person_Gender_Height_Weight_Index.csv')\n",
        "df.head()"
      ],
      "metadata": {
        "colab": {
          "base_uri": "https://localhost:8080/",
          "height": 206
        },
        "id": "1J75hqX08ha7",
        "outputId": "90660a2f-46b4-4cf2-c2de-23fdbe96ca03"
      },
      "execution_count": null,
      "outputs": [
        {
          "output_type": "execute_result",
          "data": {
            "text/plain": [
              "   Gender  Height  Weight  Index\n",
              "0    Male     174      96      4\n",
              "1    Male     189      87      2\n",
              "2  Female     185     110      4\n",
              "3  Female     195     104      3\n",
              "4    Male     149      61      3"
            ],
            "text/html": [
              "\n",
              "  <div id=\"df-cfc67e5f-f099-4250-b75b-a2ce683dff57\">\n",
              "    <div class=\"colab-df-container\">\n",
              "      <div>\n",
              "<style scoped>\n",
              "    .dataframe tbody tr th:only-of-type {\n",
              "        vertical-align: middle;\n",
              "    }\n",
              "\n",
              "    .dataframe tbody tr th {\n",
              "        vertical-align: top;\n",
              "    }\n",
              "\n",
              "    .dataframe thead th {\n",
              "        text-align: right;\n",
              "    }\n",
              "</style>\n",
              "<table border=\"1\" class=\"dataframe\">\n",
              "  <thead>\n",
              "    <tr style=\"text-align: right;\">\n",
              "      <th></th>\n",
              "      <th>Gender</th>\n",
              "      <th>Height</th>\n",
              "      <th>Weight</th>\n",
              "      <th>Index</th>\n",
              "    </tr>\n",
              "  </thead>\n",
              "  <tbody>\n",
              "    <tr>\n",
              "      <th>0</th>\n",
              "      <td>Male</td>\n",
              "      <td>174</td>\n",
              "      <td>96</td>\n",
              "      <td>4</td>\n",
              "    </tr>\n",
              "    <tr>\n",
              "      <th>1</th>\n",
              "      <td>Male</td>\n",
              "      <td>189</td>\n",
              "      <td>87</td>\n",
              "      <td>2</td>\n",
              "    </tr>\n",
              "    <tr>\n",
              "      <th>2</th>\n",
              "      <td>Female</td>\n",
              "      <td>185</td>\n",
              "      <td>110</td>\n",
              "      <td>4</td>\n",
              "    </tr>\n",
              "    <tr>\n",
              "      <th>3</th>\n",
              "      <td>Female</td>\n",
              "      <td>195</td>\n",
              "      <td>104</td>\n",
              "      <td>3</td>\n",
              "    </tr>\n",
              "    <tr>\n",
              "      <th>4</th>\n",
              "      <td>Male</td>\n",
              "      <td>149</td>\n",
              "      <td>61</td>\n",
              "      <td>3</td>\n",
              "    </tr>\n",
              "  </tbody>\n",
              "</table>\n",
              "</div>\n",
              "      <button class=\"colab-df-convert\" onclick=\"convertToInteractive('df-cfc67e5f-f099-4250-b75b-a2ce683dff57')\"\n",
              "              title=\"Convert this dataframe to an interactive table.\"\n",
              "              style=\"display:none;\">\n",
              "        \n",
              "  <svg xmlns=\"http://www.w3.org/2000/svg\" height=\"24px\"viewBox=\"0 0 24 24\"\n",
              "       width=\"24px\">\n",
              "    <path d=\"M0 0h24v24H0V0z\" fill=\"none\"/>\n",
              "    <path d=\"M18.56 5.44l.94 2.06.94-2.06 2.06-.94-2.06-.94-.94-2.06-.94 2.06-2.06.94zm-11 1L8.5 8.5l.94-2.06 2.06-.94-2.06-.94L8.5 2.5l-.94 2.06-2.06.94zm10 10l.94 2.06.94-2.06 2.06-.94-2.06-.94-.94-2.06-.94 2.06-2.06.94z\"/><path d=\"M17.41 7.96l-1.37-1.37c-.4-.4-.92-.59-1.43-.59-.52 0-1.04.2-1.43.59L10.3 9.45l-7.72 7.72c-.78.78-.78 2.05 0 2.83L4 21.41c.39.39.9.59 1.41.59.51 0 1.02-.2 1.41-.59l7.78-7.78 2.81-2.81c.8-.78.8-2.07 0-2.86zM5.41 20L4 18.59l7.72-7.72 1.47 1.35L5.41 20z\"/>\n",
              "  </svg>\n",
              "      </button>\n",
              "      \n",
              "  <style>\n",
              "    .colab-df-container {\n",
              "      display:flex;\n",
              "      flex-wrap:wrap;\n",
              "      gap: 12px;\n",
              "    }\n",
              "\n",
              "    .colab-df-convert {\n",
              "      background-color: #E8F0FE;\n",
              "      border: none;\n",
              "      border-radius: 50%;\n",
              "      cursor: pointer;\n",
              "      display: none;\n",
              "      fill: #1967D2;\n",
              "      height: 32px;\n",
              "      padding: 0 0 0 0;\n",
              "      width: 32px;\n",
              "    }\n",
              "\n",
              "    .colab-df-convert:hover {\n",
              "      background-color: #E2EBFA;\n",
              "      box-shadow: 0px 1px 2px rgba(60, 64, 67, 0.3), 0px 1px 3px 1px rgba(60, 64, 67, 0.15);\n",
              "      fill: #174EA6;\n",
              "    }\n",
              "\n",
              "    [theme=dark] .colab-df-convert {\n",
              "      background-color: #3B4455;\n",
              "      fill: #D2E3FC;\n",
              "    }\n",
              "\n",
              "    [theme=dark] .colab-df-convert:hover {\n",
              "      background-color: #434B5C;\n",
              "      box-shadow: 0px 1px 3px 1px rgba(0, 0, 0, 0.15);\n",
              "      filter: drop-shadow(0px 1px 2px rgba(0, 0, 0, 0.3));\n",
              "      fill: #FFFFFF;\n",
              "    }\n",
              "  </style>\n",
              "\n",
              "      <script>\n",
              "        const buttonEl =\n",
              "          document.querySelector('#df-cfc67e5f-f099-4250-b75b-a2ce683dff57 button.colab-df-convert');\n",
              "        buttonEl.style.display =\n",
              "          google.colab.kernel.accessAllowed ? 'block' : 'none';\n",
              "\n",
              "        async function convertToInteractive(key) {\n",
              "          const element = document.querySelector('#df-cfc67e5f-f099-4250-b75b-a2ce683dff57');\n",
              "          const dataTable =\n",
              "            await google.colab.kernel.invokeFunction('convertToInteractive',\n",
              "                                                     [key], {});\n",
              "          if (!dataTable) return;\n",
              "\n",
              "          const docLinkHtml = 'Like what you see? Visit the ' +\n",
              "            '<a target=\"_blank\" href=https://colab.research.google.com/notebooks/data_table.ipynb>data table notebook</a>'\n",
              "            + ' to learn more about interactive tables.';\n",
              "          element.innerHTML = '';\n",
              "          dataTable['output_type'] = 'display_data';\n",
              "          await google.colab.output.renderOutput(dataTable, element);\n",
              "          const docLink = document.createElement('div');\n",
              "          docLink.innerHTML = docLinkHtml;\n",
              "          element.appendChild(docLink);\n",
              "        }\n",
              "      </script>\n",
              "    </div>\n",
              "  </div>\n",
              "  "
            ]
          },
          "metadata": {},
          "execution_count": 7
        }
      ]
    },
    {
      "cell_type": "code",
      "source": [
        "df.info()"
      ],
      "metadata": {
        "colab": {
          "base_uri": "https://localhost:8080/"
        },
        "id": "RlmHLgXl_jjp",
        "outputId": "55170859-0573-4eb0-f8b4-fa2ee1b2ef18"
      },
      "execution_count": null,
      "outputs": [
        {
          "output_type": "stream",
          "name": "stdout",
          "text": [
            "<class 'pandas.core.frame.DataFrame'>\n",
            "RangeIndex: 500 entries, 0 to 499\n",
            "Data columns (total 4 columns):\n",
            " #   Column  Non-Null Count  Dtype \n",
            "---  ------  --------------  ----- \n",
            " 0   Gender  500 non-null    object\n",
            " 1   Height  500 non-null    int64 \n",
            " 2   Weight  500 non-null    int64 \n",
            " 3   Index   500 non-null    int64 \n",
            "dtypes: int64(3), object(1)\n",
            "memory usage: 15.8+ KB\n"
          ]
        }
      ]
    },
    {
      "cell_type": "code",
      "source": [
        "data = df.iloc[:, -3:].values\n",
        "data"
      ],
      "metadata": {
        "colab": {
          "base_uri": "https://localhost:8080/"
        },
        "id": "CrnTrCfNAMbS",
        "outputId": "cc7d1c87-6a0e-46c3-88fc-b7e4a00a8d84"
      },
      "execution_count": null,
      "outputs": [
        {
          "output_type": "execute_result",
          "data": {
            "text/plain": [
              "array([[174,  96,   4],\n",
              "       [189,  87,   2],\n",
              "       [185, 110,   4],\n",
              "       ...,\n",
              "       [141, 136,   5],\n",
              "       [150,  95,   5],\n",
              "       [173, 131,   5]])"
            ]
          },
          "metadata": {},
          "execution_count": 10
        }
      ]
    },
    {
      "cell_type": "code",
      "source": [
        "# 1- Find the number of dimensions, the size and the shape of this array\n",
        "\n",
        "# write your code here"
      ],
      "metadata": {
        "id": "8l8jv06JS9P9"
      },
      "execution_count": null,
      "outputs": []
    },
    {
      "cell_type": "code",
      "source": [
        "# 2- What is the data type of this array?\n",
        "\n",
        "# write your code here"
      ],
      "metadata": {
        "id": "sDeq5076Tds_"
      },
      "execution_count": null,
      "outputs": []
    },
    {
      "cell_type": "code",
      "source": [
        "# 3- Return the target value(Index) of the 500 observations \n",
        "\n",
        "# write your code here"
      ],
      "metadata": {
        "id": "iCFQkhcXToOM"
      },
      "execution_count": null,
      "outputs": []
    },
    {
      "cell_type": "code",
      "source": [
        "# 4- Extract every 3 observations of the data\n",
        "\n",
        "# write your code here"
      ],
      "metadata": {
        "id": "Zf3yfcp7T2jm"
      },
      "execution_count": null,
      "outputs": []
    },
    {
      "cell_type": "code",
      "source": [
        "# 5- Extract the first and last columns in one array. (using hstack)\n",
        "\n",
        "# write your code here"
      ],
      "metadata": {
        "id": "2dViRDl-UILZ"
      },
      "execution_count": null,
      "outputs": []
    },
    {
      "cell_type": "code",
      "source": [
        "# 6- Reverse the array (the last observation becomes the first)\n",
        "\n",
        "# write your code here"
      ],
      "metadata": {
        "id": "5OIoTnUCUdxD"
      },
      "execution_count": null,
      "outputs": []
    },
    {
      "cell_type": "code",
      "source": [
        "# 7- What is the maximum and minimum height?\n",
        "\n",
        "# write your code here"
      ],
      "metadata": {
        "id": "HZjM5svFUpM1"
      },
      "execution_count": null,
      "outputs": []
    },
    {
      "cell_type": "code",
      "source": [
        "# 8- What is the maximum and minimum weight?\n",
        "\n",
        "# write your code here"
      ],
      "metadata": {
        "id": "bzPwp6YtU24K"
      },
      "execution_count": null,
      "outputs": []
    },
    {
      "cell_type": "code",
      "source": [
        "# 9- Find the mean and standard deviation of height using the simple operations only.\n",
        "\n",
        "# write your code here"
      ],
      "metadata": {
        "id": "jcrz7kIOVDPq"
      },
      "execution_count": null,
      "outputs": []
    },
    {
      "cell_type": "code",
      "source": [
        "# 10- Find the mean and standard deviation of weight using the simple operations only.\n",
        "\n",
        "# write your code here"
      ],
      "metadata": {
        "id": "YxiNzPQlYPdr"
      },
      "execution_count": null,
      "outputs": []
    },
    {
      "cell_type": "code",
      "source": [
        "# 11- Find the mean and standard deviation of height \n",
        "\n",
        "# write your code here"
      ],
      "metadata": {
        "id": "CFFHZXmYYhV8"
      },
      "execution_count": null,
      "outputs": []
    },
    {
      "cell_type": "code",
      "source": [
        "# 12- Find the mean and standard deviation of weight\n",
        "\n",
        "# write your code here"
      ],
      "metadata": {
        "id": "G70YSnGIY2cW"
      },
      "execution_count": null,
      "outputs": []
    },
    {
      "cell_type": "code",
      "source": [
        "# 13- Find the 25th, 75th percentile and the median for height \n",
        "\n",
        "# write your code here"
      ],
      "metadata": {
        "id": "2kK47GF2ZBtJ"
      },
      "execution_count": null,
      "outputs": []
    },
    {
      "cell_type": "code",
      "source": [
        "# 14- Find the 25th, 75th percentile and the median for weight \n",
        "\n",
        "# write your code here"
      ],
      "metadata": {
        "id": "0SPkm2CHZSxp"
      },
      "execution_count": null,
      "outputs": []
    },
    {
      "cell_type": "code",
      "source": [
        "# 15- What are the indices of the tallest people ?\n",
        "\n",
        "#write your code here\n"
      ],
      "metadata": {
        "id": "AtocI941ZWXI"
      },
      "execution_count": null,
      "outputs": []
    },
    {
      "cell_type": "code",
      "source": [
        "# 16- Create two arrays representing the square of both heigh and weight\n",
        "\n",
        "#write your code here"
      ],
      "metadata": {
        "id": "4SbQUSc-ZrJX"
      },
      "execution_count": null,
      "outputs": []
    },
    {
      "cell_type": "code",
      "source": [
        "# 17- Create two arrays representing the square root of both heigh and weight\n",
        "\n",
        "#write your code here"
      ],
      "metadata": {
        "id": "Alj1n0rJaHlp"
      },
      "execution_count": null,
      "outputs": []
    },
    {
      "cell_type": "code",
      "source": [
        "# 18- Extract the last column of the data (the target). what will be its shape?\n",
        "\n",
        "#write your code here"
      ],
      "metadata": {
        "id": "JB2ni3BwaRUv"
      },
      "execution_count": null,
      "outputs": []
    }
  ],
  "metadata": {
    "colab": {
      "provenance": [],
      "toc_visible": true
    },
    "kernelspec": {
      "display_name": "Python 3",
      "name": "python3"
    },
    "language_info": {
      "name": "python"
    }
  },
  "nbformat": 4,
  "nbformat_minor": 0
}