{
 "cells": [
  {
   "cell_type": "code",
   "execution_count": 2,
   "metadata": {},
   "outputs": [
    {
     "ename": "ModuleNotFoundError",
     "evalue": "No module named 'pandasgui'",
     "output_type": "error",
     "traceback": [
      "\u001b[1;31m---------------------------------------------------------------------------\u001b[0m",
      "\u001b[1;31mModuleNotFoundError\u001b[0m                       Traceback (most recent call last)",
      "\u001b[1;32m~\\AppData\\Local\\Temp\\ipykernel_17896\\3605747615.py\u001b[0m in \u001b[0;36m<module>\u001b[1;34m\u001b[0m\n\u001b[0;32m      5\u001b[0m \u001b[1;32mimport\u001b[0m \u001b[0mscipy\u001b[0m\u001b[1;33m.\u001b[0m\u001b[0mstats\u001b[0m \u001b[1;32mas\u001b[0m \u001b[0mstats\u001b[0m\u001b[1;33m\u001b[0m\u001b[1;33m\u001b[0m\u001b[0m\n\u001b[0;32m      6\u001b[0m \u001b[1;32mimport\u001b[0m \u001b[0mresearchpy\u001b[0m \u001b[1;32mas\u001b[0m \u001b[0mrp\u001b[0m\u001b[1;33m\u001b[0m\u001b[1;33m\u001b[0m\u001b[0m\n\u001b[1;32m----> 7\u001b[1;33m \u001b[1;32mfrom\u001b[0m \u001b[0mpandasgui\u001b[0m \u001b[1;32mimport\u001b[0m \u001b[0mshow\u001b[0m\u001b[1;33m\u001b[0m\u001b[1;33m\u001b[0m\u001b[0m\n\u001b[0m",
      "\u001b[1;31mModuleNotFoundError\u001b[0m: No module named 'pandasgui'"
     ]
    }
   ],
   "source": [
    "import pandas as pd    \n",
    "import numpy as np\n",
    "import matplotlib.pyplot as plt\n",
    "import seaborn as sns\n",
    "import scipy.stats as stats\n",
    "import researchpy as rp\n",
    "from pandasgui import show"
   ]
  },
  {
   "cell_type": "code",
   "execution_count": 2,
   "metadata": {},
   "outputs": [],
   "source": [
    "data = pd.read_excel(r'Data.xlsx', encoding = 'utf-8') "
   ]
  },
  {
   "cell_type": "code",
   "execution_count": 3,
   "metadata": {},
   "outputs": [
    {
     "data": {
      "text/plain": [
       "<pandasgui.gui.PandasGui at 0x1b107e08a60>"
      ]
     },
     "execution_count": 3,
     "metadata": {},
     "output_type": "execute_result"
    }
   ],
   "source": [
    "show(data)"
   ]
  },
  {
   "cell_type": "code",
   "execution_count": 22,
   "metadata": {},
   "outputs": [
    {
     "data": {
      "image/png": "[encoded data removed]",
      "text/plain": [
       "<Figure size 432x288 with 1 Axes>"
      ]
     },
     "metadata": {
      "needs_background": "light"
     },
     "output_type": "display_data"
    },
    {
     "data": {
      "image/png": "[encoded data removed]",
      "text/plain": [
       "<Figure size 432x288 with 1 Axes>"
      ]
     },
     "metadata": {
      "needs_background": "light"
     },
     "output_type": "display_data"
    }
   ],
   "source": [
    "import statsmodels.api as sm\n",
    "import pylab\n",
    "sm.qqplot(data.Age, loc = 40.025662 , scale = 9.555669, line='s')\n",
    "sm.qqplot(data.RevenuAnnuel, loc = 1.948339e+05 , scale = 1.045110e+05, line='s')\n",
    "pylab.show()"
   ]
  },
  {
   "cell_type": "code",
   "execution_count": 5,
   "metadata": {},
   "outputs": [
    {
     "name": "stdout",
     "output_type": "stream",
     "text": [
      "(0.9777772426605225, 0.0)\n"
     ]
    },
    {
     "name": "stderr",
     "output_type": "stream",
     "text": [
      "C:\\ProgramData\\Anaconda3\\lib\\site-packages\\scipy\\stats\\morestats.py:1309: UserWarning: p-value may not be accurate for N > 5000.\n",
      "  warnings.warn(\"p-value may not be accurate for N > 5000.\")\n"
     ]
    }
   ],
   "source": [
    "sp = stats.shapiro(data.Age)\n",
    "print(sp)"
   ]
  },
  {
   "cell_type": "code",
   "execution_count": 6,
   "metadata": {},
   "outputs": [
    {
     "name": "stdout",
     "output_type": "stream",
     "text": [
      "(0.8038266897201538, 0.0)\n"
     ]
    },
    {
     "name": "stderr",
     "output_type": "stream",
     "text": [
      "C:\\ProgramData\\Anaconda3\\lib\\site-packages\\scipy\\stats\\morestats.py:1309: UserWarning: p-value may not be accurate for N > 5000.\n",
      "  warnings.warn(\"p-value may not be accurate for N > 5000.\")\n"
     ]
    }
   ],
   "source": [
    "sp = stats.shapiro(data.RevenuAnnuel)\n",
    "print(sp)"
   ]
  },
  {
   "cell_type": "code",
   "execution_count": 15,
   "metadata": {},
   "outputs": [
    {
     "name": "stdout",
     "output_type": "stream",
     "text": [
      "KstestResult(statistic=0.06495999983977713, pvalue=1.5068026470927496e-92)\n"
     ]
    }
   ],
   "source": [
    "ks = stats.kstest(data.Age,'norm',args=(40.025662, 9.555669))\n",
    "print(ks)"
   ]
  },
  {
   "cell_type": "code",
   "execution_count": 16,
   "metadata": {},
   "outputs": [
    {
     "name": "stdout",
     "output_type": "stream",
     "text": [
      "KstestResult(statistic=0.14591741465658625, pvalue=0.0)\n"
     ]
    }
   ],
   "source": [
    "ks = stats.kstest(data.RevenuAnnuel,'norm',args=(1.948339e+05, 1.045110e+05))\n",
    "print(ks)"
   ]
  },
  {
   "cell_type": "code",
   "execution_count": 9,
   "metadata": {},
   "outputs": [
    {
     "data": {
      "text/plain": [
       "(25134, 16)"
      ]
     },
     "execution_count": 9,
     "metadata": {},
     "output_type": "execute_result"
    }
   ],
   "source": [
    "data.shape"
   ]
  },
  {
   "cell_type": "code",
   "execution_count": 5,
   "metadata": {},
   "outputs": [],
   "source": [
    "dataF=data.loc[data['Sexe']==\"F\",:]"
   ]
  },
  {
   "cell_type": "code",
   "execution_count": 13,
   "metadata": {},
   "outputs": [
    {
     "data": {
      "text/plain": [
       "(15630, 16)"
      ]
     },
     "execution_count": 13,
     "metadata": {},
     "output_type": "execute_result"
    }
   ],
   "source": [
    "dataF.shape"
   ]
  },
  {
   "cell_type": "code",
   "execution_count": 6,
   "metadata": {},
   "outputs": [],
   "source": [
    "dataM=data.loc[data['Sexe']==\"M\",:]"
   ]
  },
  {
   "cell_type": "code",
   "execution_count": 16,
   "metadata": {},
   "outputs": [
    {
     "data": {
      "text/plain": [
       "(9504, 16)"
      ]
     },
     "execution_count": 16,
     "metadata": {},
     "output_type": "execute_result"
    }
   ],
   "source": [
    "dataM.shape"
   ]
  },
  {
   "cell_type": "code",
   "execution_count": 17,
   "metadata": {},
   "outputs": [
    {
     "data": {
      "text/plain": [
       "25134"
      ]
     },
     "execution_count": 17,
     "metadata": {},
     "output_type": "execute_result"
    }
   ],
   "source": [
    "15630+9504"
   ]
  },
  {
   "cell_type": "code",
   "execution_count": 19,
   "metadata": {},
   "outputs": [
    {
     "name": "stdout",
     "output_type": "stream",
     "text": [
      "Ttest_indResult(statistic=17.206779671911317, pvalue=5.64395985454444e-66)\n"
     ]
    }
   ],
   "source": [
    "print(stats.ttest_ind(dataF.Age,dataM.Age))"
   ]
  },
  {
   "cell_type": "code",
   "execution_count": 14,
   "metadata": {},
   "outputs": [
    {
     "name": "stdout",
     "output_type": "stream",
     "text": [
      "Ttest_indResult(statistic=17.206779671911317, pvalue=5.64395985454444e-66)\n"
     ]
    }
   ],
   "source": [
    "t=stats.ttest_ind(dataF.Age,dataM.Age)\n",
    "print(t)"
   ]
  },
  {
   "cell_type": "code",
   "execution_count": 8,
   "metadata": {},
   "outputs": [
    {
     "name": "stdout",
     "output_type": "stream",
     "text": [
      "Ttest_indResult(statistic=-31.051533852146385, pvalue=9.144712907300364e-208)\n"
     ]
    }
   ],
   "source": [
    "t=stats.ttest_ind(dataF.RevenuAnnuel,dataM.RevenuAnnuel)\n",
    "print(t)"
   ]
  },
  {
   "cell_type": "code",
   "execution_count": 13,
   "metadata": {},
   "outputs": [
    {
     "name": "stdout",
     "output_type": "stream",
     "text": [
      "MannwhitneyuResult(statistic=64303258.0, pvalue=8.025582018834662e-72)\n"
     ]
    }
   ],
   "source": [
    "t=stats.mannwhitneyu(dataF.Age,dataM.Age)\n",
    "print(t)"
   ]
  },
  {
   "cell_type": "code",
   "execution_count": 15,
   "metadata": {},
   "outputs": [
    {
     "name": "stdout",
     "output_type": "stream",
     "text": [
      "Ttest_indResult(statistic=17.206779671911317, pvalue=5.64395985454444e-66)\n"
     ]
    }
   ],
   "source": [
    "t=stats.ttest_ind(dataF.Age,dataM.Age,equal_var='False')\n",
    "print(t)"
   ]
  },
  {
   "cell_type": "code",
   "execution_count": 16,
   "metadata": {},
   "outputs": [
    {
     "name": "stdout",
     "output_type": "stream",
     "text": [
      "Ttest_indResult(statistic=-31.051533852146385, pvalue=9.144712907300364e-208)\n"
     ]
    }
   ],
   "source": [
    "t=stats.ttest_ind(dataF.RevenuAnnuel,dataM.RevenuAnnuel,equal_var='False')\n",
    "print(t)"
   ]
  },
  {
   "cell_type": "code",
   "execution_count": 17,
   "metadata": {},
   "outputs": [
    {
     "name": "stdout",
     "output_type": "stream",
     "text": [
      "MannwhitneyuResult(statistic=53622803.5, pvalue=9.17650194834104e-302)\n"
     ]
    }
   ],
   "source": [
    "t=stats.mannwhitneyu(dataF.RevenuAnnuel,dataM.RevenuAnnuel)\n",
    "print(t)"
   ]
  },
  {
   "cell_type": "code",
   "execution_count": 18,
   "metadata": {},
   "outputs": [],
   "source": [
    "dataWorking=data.loc[data['SecteurActivité']==\"Working\",:]\n",
    "dataCommercial=data.loc[data['SecteurActivité']==\"Commercial associate\",:]\n",
    "dataState=data.loc[data['SecteurActivité']==\"State servant\",:]"
   ]
  },
  {
   "cell_type": "code",
   "execution_count": 21,
   "metadata": {},
   "outputs": [
    {
     "name": "stdout",
     "output_type": "stream",
     "text": [
      "F_onewayResult(statistic=306.920390129821, pvalue=2.0392657703907052e-132)\n"
     ]
    }
   ],
   "source": [
    "print(stats.f_oneway(dataWorking.RevenuAnnuel,dataCommercial.RevenuAnnuel,dataState.RevenuAnnuel))"
   ]
  },
  {
   "cell_type": "code",
   "execution_count": 23,
   "metadata": {},
   "outputs": [
    {
     "name": "stdout",
     "output_type": "stream",
     "text": [
      "KruskalResult(statistic=585.3688839921708, pvalue=7.740373228321589e-128)\n"
     ]
    }
   ],
   "source": [
    "print(stats.kruskal(dataWorking.RevenuAnnuel,dataCommercial.RevenuAnnuel,dataState.RevenuAnnuel))"
   ]
  },
  {
   "cell_type": "code",
   "execution_count": 3,
   "metadata": {},
   "outputs": [],
   "source": [
    "df = pd.read_csv(\"https://raw.githubusercontent.com/researchpy/Data-sets/master/difficile.csv\")"
   ]
  },
  {
   "cell_type": "code",
   "execution_count": 24,
   "metadata": {},
   "outputs": [
    {
     "data": {
      "text/html": [
       "<div>\n",
       "<style scoped>\n",
       "    .dataframe tbody tr th:only-of-type {\n",
       "        vertical-align: middle;\n",
       "    }\n",
       "\n",
       "    .dataframe tbody tr th {\n",
       "        vertical-align: top;\n",
       "    }\n",
       "\n",
       "    .dataframe thead th {\n",
       "        text-align: right;\n",
       "    }\n",
       "</style>\n",
       "<table border=\"1\" class=\"dataframe\">\n",
       "  <thead>\n",
       "    <tr style=\"text-align: right;\">\n",
       "      <th></th>\n",
       "      <th>dose</th>\n",
       "      <th>libido</th>\n",
       "    </tr>\n",
       "  </thead>\n",
       "  <tbody>\n",
       "    <tr>\n",
       "      <th>0</th>\n",
       "      <td>placebo</td>\n",
       "      <td>3</td>\n",
       "    </tr>\n",
       "    <tr>\n",
       "      <th>1</th>\n",
       "      <td>placebo</td>\n",
       "      <td>2</td>\n",
       "    </tr>\n",
       "    <tr>\n",
       "      <th>2</th>\n",
       "      <td>placebo</td>\n",
       "      <td>1</td>\n",
       "    </tr>\n",
       "    <tr>\n",
       "      <th>3</th>\n",
       "      <td>placebo</td>\n",
       "      <td>1</td>\n",
       "    </tr>\n",
       "    <tr>\n",
       "      <th>4</th>\n",
       "      <td>placebo</td>\n",
       "      <td>4</td>\n",
       "    </tr>\n",
       "  </tbody>\n",
       "</table>\n",
       "</div>"
      ],
      "text/plain": [
       "      dose  libido\n",
       "0  placebo       3\n",
       "1  placebo       2\n",
       "2  placebo       1\n",
       "3  placebo       1\n",
       "4  placebo       4"
      ]
     },
     "execution_count": 24,
     "metadata": {},
     "output_type": "execute_result"
    }
   ],
   "source": [
    "df.head()"
   ]
  },
  {
   "cell_type": "code",
   "execution_count": 5,
   "metadata": {},
   "outputs": [],
   "source": [
    "df.drop('person', axis= 1, inplace= True)"
   ]
  },
  {
   "cell_type": "code",
   "execution_count": 7,
   "metadata": {},
   "outputs": [],
   "source": [
    "df['dose'].replace({1: 'placebo', 2: 'low', 3: 'high'}, inplace= True)"
   ]
  },
  {
   "cell_type": "code",
   "execution_count": 58,
   "metadata": {},
   "outputs": [
    {
     "name": "stdout",
     "output_type": "stream",
     "text": [
      "\n",
      "\n"
     ]
    },
    {
     "data": {
      "text/html": [
       "<div>\n",
       "<style scoped>\n",
       "    .dataframe tbody tr th:only-of-type {\n",
       "        vertical-align: middle;\n",
       "    }\n",
       "\n",
       "    .dataframe tbody tr th {\n",
       "        vertical-align: top;\n",
       "    }\n",
       "\n",
       "    .dataframe thead th {\n",
       "        text-align: right;\n",
       "    }\n",
       "</style>\n",
       "<table border=\"1\" class=\"dataframe\">\n",
       "  <thead>\n",
       "    <tr style=\"text-align: right;\">\n",
       "      <th></th>\n",
       "      <th>N</th>\n",
       "      <th>Mean</th>\n",
       "      <th>SD</th>\n",
       "      <th>SE</th>\n",
       "      <th>95% Conf.</th>\n",
       "      <th>Interval</th>\n",
       "    </tr>\n",
       "    <tr>\n",
       "      <th>SecteurActivité</th>\n",
       "      <th></th>\n",
       "      <th></th>\n",
       "      <th></th>\n",
       "      <th></th>\n",
       "      <th></th>\n",
       "      <th></th>\n",
       "    </tr>\n",
       "  </thead>\n",
       "  <tbody>\n",
       "    <tr>\n",
       "      <th>Commercial associate</th>\n",
       "      <td>7052</td>\n",
       "      <td>218450.5927</td>\n",
       "      <td>124112.9440</td>\n",
       "      <td>1477.9540</td>\n",
       "      <td>215553.3587</td>\n",
       "      <td>221347.8267</td>\n",
       "    </tr>\n",
       "    <tr>\n",
       "      <th>State servant</th>\n",
       "      <td>2437</td>\n",
       "      <td>205066.7099</td>\n",
       "      <td>118450.1358</td>\n",
       "      <td>2399.4284</td>\n",
       "      <td>200361.5788</td>\n",
       "      <td>209771.8410</td>\n",
       "    </tr>\n",
       "    <tr>\n",
       "      <th>Working</th>\n",
       "      <td>15622</td>\n",
       "      <td>182547.1688</td>\n",
       "      <td>89451.0394</td>\n",
       "      <td>715.6770</td>\n",
       "      <td>181144.3589</td>\n",
       "      <td>183949.9787</td>\n",
       "    </tr>\n",
       "  </tbody>\n",
       "</table>\n",
       "</div>"
      ],
      "text/plain": [
       "                          N         Mean           SD         SE    95% Conf.  \\\n",
       "SecteurActivité                                                                 \n",
       "Commercial associate   7052  218450.5927  124112.9440  1477.9540  215553.3587   \n",
       "State servant          2437  205066.7099  118450.1358  2399.4284  200361.5788   \n",
       "Working               15622  182547.1688   89451.0394   715.6770  181144.3589   \n",
       "\n",
       "                         Interval  \n",
       "SecteurActivité                    \n",
       "Commercial associate  221347.8267  \n",
       "State servant         209771.8410  \n",
       "Working               183949.9787  "
      ]
     },
     "execution_count": 58,
     "metadata": {},
     "output_type": "execute_result"
    }
   ],
   "source": [
    "data1=data\n",
    "# Get names of indexes for which column SecteurActivité has value Pensioner\n",
    "indexNames1 = data1[ data1['SecteurActivité'] == 'Pensioner' ].index\n",
    "# Get names of indexes for which column SecteurActivité has value Student\n",
    "indexNames2 = data1[ data1['SecteurActivité'] == 'Student' ].index\n",
    "# Delete these row indexes from dataFrame\n",
    "data1.drop(indexNames1 , inplace=True)\n",
    "data1.drop(indexNames2 , inplace=True)\n",
    "rp.summary_cont(data1['RevenuAnnuel'].groupby(data1['SecteurActivité']))"
   ]
  },
  {
   "cell_type": "code",
   "execution_count": 59,
   "metadata": {},
   "outputs": [
    {
     "data": {
      "text/html": [
       "<div>\n",
       "<style scoped>\n",
       "    .dataframe tbody tr th:only-of-type {\n",
       "        vertical-align: middle;\n",
       "    }\n",
       "\n",
       "    .dataframe tbody tr th {\n",
       "        vertical-align: top;\n",
       "    }\n",
       "\n",
       "    .dataframe thead th {\n",
       "        text-align: right;\n",
       "    }\n",
       "</style>\n",
       "<table border=\"1\" class=\"dataframe\">\n",
       "  <thead>\n",
       "    <tr style=\"text-align: right;\">\n",
       "      <th></th>\n",
       "      <th>sum_sq</th>\n",
       "      <th>df</th>\n",
       "      <th>F</th>\n",
       "      <th>PR(&gt;F)</th>\n",
       "    </tr>\n",
       "  </thead>\n",
       "  <tbody>\n",
       "    <tr>\n",
       "      <th>C(SecteurActivité)</th>\n",
       "      <td>6.546767e+12</td>\n",
       "      <td>2.0</td>\n",
       "      <td>306.92039</td>\n",
       "      <td>2.039266e-132</td>\n",
       "    </tr>\n",
       "    <tr>\n",
       "      <th>Residual</th>\n",
       "      <td>2.677832e+14</td>\n",
       "      <td>25108.0</td>\n",
       "      <td>NaN</td>\n",
       "      <td>NaN</td>\n",
       "    </tr>\n",
       "  </tbody>\n",
       "</table>\n",
       "</div>"
      ],
      "text/plain": [
       "                          sum_sq       df          F         PR(>F)\n",
       "C(SecteurActivité)  6.546767e+12      2.0  306.92039  2.039266e-132\n",
       "Residual            2.677832e+14  25108.0        NaN            NaN"
      ]
     },
     "execution_count": 59,
     "metadata": {},
     "output_type": "execute_result"
    }
   ],
   "source": [
    "import statsmodels.api as sm\n",
    "from statsmodels.formula.api import ols\n",
    "\n",
    "model = ols('RevenuAnnuel ~ C(SecteurActivité)', data=data1).fit()\n",
    "aov_table = sm.stats.anova_lm(model, typ=2)\n",
    "aov_table"
   ]
  },
  {
   "cell_type": "code",
   "execution_count": 50,
   "metadata": {},
   "outputs": [
    {
     "name": "stdout",
     "output_type": "stream",
     "text": [
      "\n",
      "\n"
     ]
    },
    {
     "data": {
      "text/html": [
       "<div>\n",
       "<style scoped>\n",
       "    .dataframe tbody tr th:only-of-type {\n",
       "        vertical-align: middle;\n",
       "    }\n",
       "\n",
       "    .dataframe tbody tr th {\n",
       "        vertical-align: top;\n",
       "    }\n",
       "\n",
       "    .dataframe thead th {\n",
       "        text-align: right;\n",
       "    }\n",
       "</style>\n",
       "<table border=\"1\" class=\"dataframe\">\n",
       "  <thead>\n",
       "    <tr style=\"text-align: right;\">\n",
       "      <th></th>\n",
       "      <th>Variable</th>\n",
       "      <th>N</th>\n",
       "      <th>Mean</th>\n",
       "      <th>SD</th>\n",
       "      <th>SE</th>\n",
       "      <th>95% Conf.</th>\n",
       "      <th>Interval</th>\n",
       "    </tr>\n",
       "  </thead>\n",
       "  <tbody>\n",
       "    <tr>\n",
       "      <th>0</th>\n",
       "      <td>RevenuAnnuel</td>\n",
       "      <td>25134.0</td>\n",
       "      <td>194833.8515</td>\n",
       "      <td>104510.9872</td>\n",
       "      <td>659.2212</td>\n",
       "      <td>193541.7395</td>\n",
       "      <td>196125.9634</td>\n",
       "    </tr>\n",
       "  </tbody>\n",
       "</table>\n",
       "</div>"
      ],
      "text/plain": [
       "       Variable        N         Mean           SD        SE    95% Conf.  \\\n",
       "0  RevenuAnnuel  25134.0  194833.8515  104510.9872  659.2212  193541.7395   \n",
       "\n",
       "      Interval  \n",
       "0  196125.9634  "
      ]
     },
     "execution_count": 50,
     "metadata": {},
     "output_type": "execute_result"
    }
   ],
   "source": [
    "rp.summary_cont(data['RevenuAnnuel'])"
   ]
  },
  {
   "cell_type": "code",
   "execution_count": 51,
   "metadata": {},
   "outputs": [
    {
     "name": "stdout",
     "output_type": "stream",
     "text": [
      "\n",
      "\n"
     ]
    },
    {
     "data": {
      "text/html": [
       "<div>\n",
       "<style scoped>\n",
       "    .dataframe tbody tr th:only-of-type {\n",
       "        vertical-align: middle;\n",
       "    }\n",
       "\n",
       "    .dataframe tbody tr th {\n",
       "        vertical-align: top;\n",
       "    }\n",
       "\n",
       "    .dataframe thead th {\n",
       "        text-align: right;\n",
       "    }\n",
       "</style>\n",
       "<table border=\"1\" class=\"dataframe\">\n",
       "  <thead>\n",
       "    <tr style=\"text-align: right;\">\n",
       "      <th></th>\n",
       "      <th>N</th>\n",
       "      <th>Mean</th>\n",
       "      <th>SD</th>\n",
       "      <th>SE</th>\n",
       "      <th>95% Conf.</th>\n",
       "      <th>Interval</th>\n",
       "    </tr>\n",
       "    <tr>\n",
       "      <th>SecteurActivité</th>\n",
       "      <th></th>\n",
       "      <th></th>\n",
       "      <th></th>\n",
       "      <th></th>\n",
       "      <th></th>\n",
       "      <th></th>\n",
       "    </tr>\n",
       "  </thead>\n",
       "  <tbody>\n",
       "    <tr>\n",
       "      <th>Commercial associate</th>\n",
       "      <td>7052</td>\n",
       "      <td>218450.5927</td>\n",
       "      <td>124112.9440</td>\n",
       "      <td>1477.9540</td>\n",
       "      <td>215553.3587</td>\n",
       "      <td>221347.8267</td>\n",
       "    </tr>\n",
       "    <tr>\n",
       "      <th>Pensioner</th>\n",
       "      <td>13</td>\n",
       "      <td>257538.4615</td>\n",
       "      <td>98832.0253</td>\n",
       "      <td>27411.0719</td>\n",
       "      <td>197814.8664</td>\n",
       "      <td>317262.0567</td>\n",
       "    </tr>\n",
       "    <tr>\n",
       "      <th>State servant</th>\n",
       "      <td>2437</td>\n",
       "      <td>205066.7099</td>\n",
       "      <td>118450.1358</td>\n",
       "      <td>2399.4284</td>\n",
       "      <td>200361.5788</td>\n",
       "      <td>209771.8410</td>\n",
       "    </tr>\n",
       "    <tr>\n",
       "      <th>Student</th>\n",
       "      <td>10</td>\n",
       "      <td>159300.0000</td>\n",
       "      <td>24665.7657</td>\n",
       "      <td>7800.0000</td>\n",
       "      <td>141655.1741</td>\n",
       "      <td>176944.8259</td>\n",
       "    </tr>\n",
       "    <tr>\n",
       "      <th>Working</th>\n",
       "      <td>15622</td>\n",
       "      <td>182547.1688</td>\n",
       "      <td>89451.0394</td>\n",
       "      <td>715.6770</td>\n",
       "      <td>181144.3589</td>\n",
       "      <td>183949.9787</td>\n",
       "    </tr>\n",
       "  </tbody>\n",
       "</table>\n",
       "</div>"
      ],
      "text/plain": [
       "                          N         Mean           SD          SE  \\\n",
       "SecteurActivité                                                     \n",
       "Commercial associate   7052  218450.5927  124112.9440   1477.9540   \n",
       "Pensioner                13  257538.4615   98832.0253  27411.0719   \n",
       "State servant          2437  205066.7099  118450.1358   2399.4284   \n",
       "Student                  10  159300.0000   24665.7657   7800.0000   \n",
       "Working               15622  182547.1688   89451.0394    715.6770   \n",
       "\n",
       "                        95% Conf.     Interval  \n",
       "SecteurActivité                                 \n",
       "Commercial associate  215553.3587  221347.8267  \n",
       "Pensioner             197814.8664  317262.0567  \n",
       "State servant         200361.5788  209771.8410  \n",
       "Student               141655.1741  176944.8259  \n",
       "Working               181144.3589  183949.9787  "
      ]
     },
     "execution_count": 51,
     "metadata": {},
     "output_type": "execute_result"
    }
   ],
   "source": [
    "rp.summary_cont(data['RevenuAnnuel'].groupby(data['SecteurActivité']))"
   ]
  },
  {
   "cell_type": "code",
   "execution_count": 52,
   "metadata": {},
   "outputs": [
    {
     "data": {
      "text/html": [
       "<div>\n",
       "<style scoped>\n",
       "    .dataframe tbody tr th:only-of-type {\n",
       "        vertical-align: middle;\n",
       "    }\n",
       "\n",
       "    .dataframe tbody tr th {\n",
       "        vertical-align: top;\n",
       "    }\n",
       "\n",
       "    .dataframe thead th {\n",
       "        text-align: right;\n",
       "    }\n",
       "</style>\n",
       "<table border=\"1\" class=\"dataframe\">\n",
       "  <thead>\n",
       "    <tr style=\"text-align: right;\">\n",
       "      <th></th>\n",
       "      <th>sum_sq</th>\n",
       "      <th>df</th>\n",
       "      <th>F</th>\n",
       "      <th>PR(&gt;F)</th>\n",
       "    </tr>\n",
       "  </thead>\n",
       "  <tbody>\n",
       "    <tr>\n",
       "      <th>C(SecteurActivité)</th>\n",
       "      <td>6.610516e+12</td>\n",
       "      <td>4.0</td>\n",
       "      <td>155.013097</td>\n",
       "      <td>2.977758e-131</td>\n",
       "    </tr>\n",
       "    <tr>\n",
       "      <th>Residual</th>\n",
       "      <td>2.679058e+14</td>\n",
       "      <td>25129.0</td>\n",
       "      <td>NaN</td>\n",
       "      <td>NaN</td>\n",
       "    </tr>\n",
       "  </tbody>\n",
       "</table>\n",
       "</div>"
      ],
      "text/plain": [
       "                          sum_sq       df           F         PR(>F)\n",
       "C(SecteurActivité)  6.610516e+12      4.0  155.013097  2.977758e-131\n",
       "Residual            2.679058e+14  25129.0         NaN            NaN"
      ]
     },
     "execution_count": 52,
     "metadata": {},
     "output_type": "execute_result"
    }
   ],
   "source": [
    "import statsmodels.api as sm\n",
    "from statsmodels.formula.api import ols\n",
    "\n",
    "model = ols('RevenuAnnuel ~ C(SecteurActivité)', data=data).fit()\n",
    "aov_table = sm.stats.anova_lm(model, typ=2)\n",
    "aov_table"
   ]
  },
  {
   "cell_type": "code",
   "execution_count": 18,
   "metadata": {},
   "outputs": [
    {
     "name": "stdout",
     "output_type": "stream",
     "text": [
      "\n",
      "\n"
     ]
    },
    {
     "data": {
      "text/html": [
       "<div>\n",
       "<style scoped>\n",
       "    .dataframe tbody tr th:only-of-type {\n",
       "        vertical-align: middle;\n",
       "    }\n",
       "\n",
       "    .dataframe tbody tr th {\n",
       "        vertical-align: top;\n",
       "    }\n",
       "\n",
       "    .dataframe thead th {\n",
       "        text-align: right;\n",
       "    }\n",
       "</style>\n",
       "<table border=\"1\" class=\"dataframe\">\n",
       "  <thead>\n",
       "    <tr style=\"text-align: right;\">\n",
       "      <th></th>\n",
       "      <th>Variable</th>\n",
       "      <th>N</th>\n",
       "      <th>Mean</th>\n",
       "      <th>SD</th>\n",
       "      <th>SE</th>\n",
       "      <th>95% Conf.</th>\n",
       "      <th>Interval</th>\n",
       "    </tr>\n",
       "  </thead>\n",
       "  <tbody>\n",
       "    <tr>\n",
       "      <th>0</th>\n",
       "      <td>Age</td>\n",
       "      <td>25134.0</td>\n",
       "      <td>40.0257</td>\n",
       "      <td>9.5557</td>\n",
       "      <td>0.0603</td>\n",
       "      <td>39.9075</td>\n",
       "      <td>40.1438</td>\n",
       "    </tr>\n",
       "  </tbody>\n",
       "</table>\n",
       "</div>"
      ],
      "text/plain": [
       "  Variable        N     Mean      SD      SE  95% Conf.  Interval\n",
       "0      Age  25134.0  40.0257  9.5557  0.0603    39.9075   40.1438"
      ]
     },
     "execution_count": 18,
     "metadata": {},
     "output_type": "execute_result"
    }
   ],
   "source": [
    "rp.summary_cont(data['Age'])"
   ]
  },
  {
   "cell_type": "code",
   "execution_count": 19,
   "metadata": {},
   "outputs": [
    {
     "name": "stdout",
     "output_type": "stream",
     "text": [
      "\n",
      "\n"
     ]
    },
    {
     "data": {
      "text/html": [
       "<div>\n",
       "<style scoped>\n",
       "    .dataframe tbody tr th:only-of-type {\n",
       "        vertical-align: middle;\n",
       "    }\n",
       "\n",
       "    .dataframe tbody tr th {\n",
       "        vertical-align: top;\n",
       "    }\n",
       "\n",
       "    .dataframe thead th {\n",
       "        text-align: right;\n",
       "    }\n",
       "</style>\n",
       "<table border=\"1\" class=\"dataframe\">\n",
       "  <thead>\n",
       "    <tr style=\"text-align: right;\">\n",
       "      <th></th>\n",
       "      <th>N</th>\n",
       "      <th>Mean</th>\n",
       "      <th>SD</th>\n",
       "      <th>SE</th>\n",
       "      <th>95% Conf.</th>\n",
       "      <th>Interval</th>\n",
       "    </tr>\n",
       "    <tr>\n",
       "      <th>Sexe</th>\n",
       "      <th></th>\n",
       "      <th></th>\n",
       "      <th></th>\n",
       "      <th></th>\n",
       "      <th></th>\n",
       "      <th></th>\n",
       "    </tr>\n",
       "  </thead>\n",
       "  <tbody>\n",
       "    <tr>\n",
       "      <th>F</th>\n",
       "      <td>15630</td>\n",
       "      <td>40.8297</td>\n",
       "      <td>9.2904</td>\n",
       "      <td>0.0743</td>\n",
       "      <td>40.6840</td>\n",
       "      <td>40.9753</td>\n",
       "    </tr>\n",
       "    <tr>\n",
       "      <th>M</th>\n",
       "      <td>9504</td>\n",
       "      <td>38.7034</td>\n",
       "      <td>9.8352</td>\n",
       "      <td>0.1009</td>\n",
       "      <td>38.5056</td>\n",
       "      <td>38.9011</td>\n",
       "    </tr>\n",
       "  </tbody>\n",
       "</table>\n",
       "</div>"
      ],
      "text/plain": [
       "          N     Mean      SD      SE  95% Conf.  Interval\n",
       "Sexe                                                     \n",
       "F     15630  40.8297  9.2904  0.0743    40.6840   40.9753\n",
       "M      9504  38.7034  9.8352  0.1009    38.5056   38.9011"
      ]
     },
     "execution_count": 19,
     "metadata": {},
     "output_type": "execute_result"
    }
   ],
   "source": [
    "rp.summary_cont(data['Age'].groupby(data['Sexe']))"
   ]
  },
  {
   "cell_type": "code",
   "execution_count": 46,
   "metadata": {},
   "outputs": [
    {
     "data": {
      "image/png": "[encoded data removed]",
      "text/plain": [
       "<Figure size 720x720 with 1 Axes>"
      ]
     },
     "metadata": {
      "needs_background": "light"
     },
     "output_type": "display_data"
    }
   ],
   "source": [
    "fig = plt.figure(figsize= (10, 10))\n",
    "ax = fig.add_subplot(111)\n",
    "\n",
    "ax.set_title(\"BoxPlot RevenuAnnuel par SecteurActivité\", fontsize= 20)\n",
    "ax.set\n",
    "\n",
    "data = [data['RevenuAnnuel'][data['SecteurActivité'] == 'Working'],\n",
    "        data['RevenuAnnuel'][data['SecteurActivité'] == 'Commercial associate'],\n",
    "        data['RevenuAnnuel'][data['SecteurActivité'] == 'State servant']]\n",
    "\n",
    "ax.boxplot(data,\n",
    "           labels= ['Working', 'Commercial associate' , 'State servant'],\n",
    "           showmeans= True)\n",
    "\n",
    "plt.xlabel(\"SecteurActivité\")\n",
    "plt.ylabel(\"RevenuAnnuel\")\n",
    "\n",
    "plt.show()"
   ]
  },
  {
   "cell_type": "code",
   "execution_count": 30,
   "metadata": {},
   "outputs": [
    {
     "data": {
      "image/png": "[encoded data removed]",
      "text/plain": [
       "<Figure size 720x720 with 1 Axes>"
      ]
     },
     "metadata": {
      "needs_background": "light"
     },
     "output_type": "display_data"
    }
   ],
   "source": [
    "fig = plt.figure(figsize= (10, 10))\n",
    "ax = fig.add_subplot(111)\n",
    "\n",
    "ax.set_title(\"BoxPlot  Age par Sexe\", fontsize= 20)\n",
    "ax.set\n",
    "\n",
    "data = [data['Age'][data['Sexe'] == 'F'],\n",
    "        data['Age'][data['Sexe'] == 'M']]\n",
    "\n",
    "ax.boxplot(data,\n",
    "           labels= ['F', 'M'],\n",
    "           showmeans= True)\n",
    "\n",
    "plt.xlabel(\"Sexe client\")\n",
    "plt.ylabel(\"Age client\")\n",
    "\n",
    "plt.show()"
   ]
  },
  {
   "cell_type": "code",
   "execution_count": 6,
   "metadata": {},
   "outputs": [
    {
     "data": {
      "text/html": [
       "<div>\n",
       "<style scoped>\n",
       "    .dataframe tbody tr th:only-of-type {\n",
       "        vertical-align: middle;\n",
       "    }\n",
       "\n",
       "    .dataframe tbody tr th {\n",
       "        vertical-align: top;\n",
       "    }\n",
       "\n",
       "    .dataframe thead th {\n",
       "        text-align: right;\n",
       "    }\n",
       "</style>\n",
       "<table border=\"1\" class=\"dataframe\">\n",
       "  <thead>\n",
       "    <tr style=\"text-align: right;\">\n",
       "      <th></th>\n",
       "      <th>Sexe</th>\n",
       "      <th>Motorisé</th>\n",
       "      <th>PropriétaireImmobilier</th>\n",
       "      <th>NombreEnfants</th>\n",
       "      <th>RevenuAnnuel</th>\n",
       "      <th>SecteurActivité</th>\n",
       "      <th>NiveauEducation</th>\n",
       "      <th>EtatCivil</th>\n",
       "      <th>TypeLogement</th>\n",
       "      <th>CategorieEmploi</th>\n",
       "      <th>MembreFamille</th>\n",
       "      <th>Age</th>\n",
       "      <th>Experience</th>\n",
       "      <th>target</th>\n",
       "    </tr>\n",
       "  </thead>\n",
       "  <tbody>\n",
       "    <tr>\n",
       "      <th>0</th>\n",
       "      <td>M</td>\n",
       "      <td>Y</td>\n",
       "      <td>Y</td>\n",
       "      <td>0</td>\n",
       "      <td>112500.0</td>\n",
       "      <td>Working</td>\n",
       "      <td>Secondary / secondary special</td>\n",
       "      <td>Married</td>\n",
       "      <td>House / apartment</td>\n",
       "      <td>Security staff</td>\n",
       "      <td>2</td>\n",
       "      <td>58</td>\n",
       "      <td>3</td>\n",
       "      <td>0</td>\n",
       "    </tr>\n",
       "    <tr>\n",
       "      <th>1</th>\n",
       "      <td>F</td>\n",
       "      <td>N</td>\n",
       "      <td>Y</td>\n",
       "      <td>0</td>\n",
       "      <td>270000.0</td>\n",
       "      <td>Commercial associate</td>\n",
       "      <td>Secondary / secondary special</td>\n",
       "      <td>Single / not married</td>\n",
       "      <td>House / apartment</td>\n",
       "      <td>Sales staff</td>\n",
       "      <td>1</td>\n",
       "      <td>52</td>\n",
       "      <td>8</td>\n",
       "      <td>0</td>\n",
       "    </tr>\n",
       "    <tr>\n",
       "      <th>2</th>\n",
       "      <td>F</td>\n",
       "      <td>N</td>\n",
       "      <td>Y</td>\n",
       "      <td>0</td>\n",
       "      <td>270000.0</td>\n",
       "      <td>Commercial associate</td>\n",
       "      <td>Secondary / secondary special</td>\n",
       "      <td>Single / not married</td>\n",
       "      <td>House / apartment</td>\n",
       "      <td>Sales staff</td>\n",
       "      <td>1</td>\n",
       "      <td>52</td>\n",
       "      <td>8</td>\n",
       "      <td>0</td>\n",
       "    </tr>\n",
       "    <tr>\n",
       "      <th>3</th>\n",
       "      <td>F</td>\n",
       "      <td>N</td>\n",
       "      <td>Y</td>\n",
       "      <td>0</td>\n",
       "      <td>270000.0</td>\n",
       "      <td>Commercial associate</td>\n",
       "      <td>Secondary / secondary special</td>\n",
       "      <td>Single / not married</td>\n",
       "      <td>House / apartment</td>\n",
       "      <td>Sales staff</td>\n",
       "      <td>1</td>\n",
       "      <td>52</td>\n",
       "      <td>8</td>\n",
       "      <td>0</td>\n",
       "    </tr>\n",
       "    <tr>\n",
       "      <th>4</th>\n",
       "      <td>F</td>\n",
       "      <td>N</td>\n",
       "      <td>Y</td>\n",
       "      <td>0</td>\n",
       "      <td>270000.0</td>\n",
       "      <td>Commercial associate</td>\n",
       "      <td>Secondary / secondary special</td>\n",
       "      <td>Single / not married</td>\n",
       "      <td>House / apartment</td>\n",
       "      <td>Sales staff</td>\n",
       "      <td>1</td>\n",
       "      <td>52</td>\n",
       "      <td>8</td>\n",
       "      <td>0</td>\n",
       "    </tr>\n",
       "  </tbody>\n",
       "</table>\n",
       "</div>"
      ],
      "text/plain": [
       "  Sexe Motorisé PropriétaireImmobilier  NombreEnfants  RevenuAnnuel  \\\n",
       "0    M        Y                      Y              0      112500.0   \n",
       "1    F        N                      Y              0      270000.0   \n",
       "2    F        N                      Y              0      270000.0   \n",
       "3    F        N                      Y              0      270000.0   \n",
       "4    F        N                      Y              0      270000.0   \n",
       "\n",
       "        SecteurActivité                NiveauEducation             EtatCivil  \\\n",
       "0               Working  Secondary / secondary special               Married   \n",
       "1  Commercial associate  Secondary / secondary special  Single / not married   \n",
       "2  Commercial associate  Secondary / secondary special  Single / not married   \n",
       "3  Commercial associate  Secondary / secondary special  Single / not married   \n",
       "4  Commercial associate  Secondary / secondary special  Single / not married   \n",
       "\n",
       "        TypeLogement CategorieEmploi  MembreFamille  Age  Experience  target  \n",
       "0  House / apartment  Security staff              2   58           3       0  \n",
       "1  House / apartment     Sales staff              1   52           8       0  \n",
       "2  House / apartment     Sales staff              1   52           8       0  \n",
       "3  House / apartment     Sales staff              1   52           8       0  \n",
       "4  House / apartment     Sales staff              1   52           8       0  "
      ]
     },
     "execution_count": 6,
     "metadata": {},
     "output_type": "execute_result"
    }
   ],
   "source": [
    "X=data[['Sexe','Motorisé','PropriétaireImmobilier','NombreEnfants','RevenuAnnuel','SecteurActivité',\n",
    "        'NiveauEducation','EtatCivil','TypeLogement','CategorieEmploi','MembreFamille','Age','Experience','target']]\n",
    "# X=sm.add_constant(X)\n",
    "# y=data['target']\n",
    "X.head()"
   ]
  },
  {
   "cell_type": "code",
   "execution_count": 7,
   "metadata": {},
   "outputs": [
    {
     "name": "stderr",
     "output_type": "stream",
     "text": [
      "C:\\Users\\lenovo\\anaconda3\\lib\\site-packages\\pandas\\core\\frame.py:3990: SettingWithCopyWarning: \n",
      "A value is trying to be set on a copy of a slice from a DataFrame\n",
      "\n",
      "See the caveats in the documentation: https://pandas.pydata.org/pandas-docs/stable/user_guide/indexing.html#returning-a-view-versus-a-copy\n",
      "  return super().drop(\n"
     ]
    },
    {
     "data": {
      "text/html": [
       "<div>\n",
       "<style scoped>\n",
       "    .dataframe tbody tr th:only-of-type {\n",
       "        vertical-align: middle;\n",
       "    }\n",
       "\n",
       "    .dataframe tbody tr th {\n",
       "        vertical-align: top;\n",
       "    }\n",
       "\n",
       "    .dataframe thead th {\n",
       "        text-align: right;\n",
       "    }\n",
       "</style>\n",
       "<table border=\"1\" class=\"dataframe\">\n",
       "  <thead>\n",
       "    <tr style=\"text-align: right;\">\n",
       "      <th></th>\n",
       "      <th>NombreEnfants</th>\n",
       "      <th>RevenuAnnuel</th>\n",
       "      <th>MembreFamille</th>\n",
       "      <th>Age</th>\n",
       "      <th>Experience</th>\n",
       "      <th>target</th>\n",
       "      <th>M</th>\n",
       "      <th>Y</th>\n",
       "      <th>Y</th>\n",
       "      <th>Pensioner</th>\n",
       "      <th>...</th>\n",
       "      <th>Separated</th>\n",
       "      <th>Single / not married</th>\n",
       "      <th>Widow</th>\n",
       "      <th>House / apartment</th>\n",
       "      <th>Municipal apartment</th>\n",
       "      <th>Office apartment</th>\n",
       "      <th>Rented apartment</th>\n",
       "      <th>With parents</th>\n",
       "      <th>Sales staff</th>\n",
       "      <th>Security staff</th>\n",
       "    </tr>\n",
       "  </thead>\n",
       "  <tbody>\n",
       "    <tr>\n",
       "      <th>0</th>\n",
       "      <td>0</td>\n",
       "      <td>112500.0</td>\n",
       "      <td>2</td>\n",
       "      <td>58</td>\n",
       "      <td>3</td>\n",
       "      <td>0</td>\n",
       "      <td>1</td>\n",
       "      <td>1</td>\n",
       "      <td>1</td>\n",
       "      <td>0</td>\n",
       "      <td>...</td>\n",
       "      <td>0</td>\n",
       "      <td>0</td>\n",
       "      <td>0</td>\n",
       "      <td>1</td>\n",
       "      <td>0</td>\n",
       "      <td>0</td>\n",
       "      <td>0</td>\n",
       "      <td>0</td>\n",
       "      <td>0</td>\n",
       "      <td>1</td>\n",
       "    </tr>\n",
       "    <tr>\n",
       "      <th>1</th>\n",
       "      <td>0</td>\n",
       "      <td>270000.0</td>\n",
       "      <td>1</td>\n",
       "      <td>52</td>\n",
       "      <td>8</td>\n",
       "      <td>0</td>\n",
       "      <td>0</td>\n",
       "      <td>0</td>\n",
       "      <td>1</td>\n",
       "      <td>0</td>\n",
       "      <td>...</td>\n",
       "      <td>0</td>\n",
       "      <td>1</td>\n",
       "      <td>0</td>\n",
       "      <td>1</td>\n",
       "      <td>0</td>\n",
       "      <td>0</td>\n",
       "      <td>0</td>\n",
       "      <td>0</td>\n",
       "      <td>1</td>\n",
       "      <td>0</td>\n",
       "    </tr>\n",
       "    <tr>\n",
       "      <th>2</th>\n",
       "      <td>0</td>\n",
       "      <td>270000.0</td>\n",
       "      <td>1</td>\n",
       "      <td>52</td>\n",
       "      <td>8</td>\n",
       "      <td>0</td>\n",
       "      <td>0</td>\n",
       "      <td>0</td>\n",
       "      <td>1</td>\n",
       "      <td>0</td>\n",
       "      <td>...</td>\n",
       "      <td>0</td>\n",
       "      <td>1</td>\n",
       "      <td>0</td>\n",
       "      <td>1</td>\n",
       "      <td>0</td>\n",
       "      <td>0</td>\n",
       "      <td>0</td>\n",
       "      <td>0</td>\n",
       "      <td>1</td>\n",
       "      <td>0</td>\n",
       "    </tr>\n",
       "    <tr>\n",
       "      <th>3</th>\n",
       "      <td>0</td>\n",
       "      <td>270000.0</td>\n",
       "      <td>1</td>\n",
       "      <td>52</td>\n",
       "      <td>8</td>\n",
       "      <td>0</td>\n",
       "      <td>0</td>\n",
       "      <td>0</td>\n",
       "      <td>1</td>\n",
       "      <td>0</td>\n",
       "      <td>...</td>\n",
       "      <td>0</td>\n",
       "      <td>1</td>\n",
       "      <td>0</td>\n",
       "      <td>1</td>\n",
       "      <td>0</td>\n",
       "      <td>0</td>\n",
       "      <td>0</td>\n",
       "      <td>0</td>\n",
       "      <td>1</td>\n",
       "      <td>0</td>\n",
       "    </tr>\n",
       "    <tr>\n",
       "      <th>4</th>\n",
       "      <td>0</td>\n",
       "      <td>270000.0</td>\n",
       "      <td>1</td>\n",
       "      <td>52</td>\n",
       "      <td>8</td>\n",
       "      <td>0</td>\n",
       "      <td>0</td>\n",
       "      <td>0</td>\n",
       "      <td>1</td>\n",
       "      <td>0</td>\n",
       "      <td>...</td>\n",
       "      <td>0</td>\n",
       "      <td>1</td>\n",
       "      <td>0</td>\n",
       "      <td>1</td>\n",
       "      <td>0</td>\n",
       "      <td>0</td>\n",
       "      <td>0</td>\n",
       "      <td>0</td>\n",
       "      <td>1</td>\n",
       "      <td>0</td>\n",
       "    </tr>\n",
       "  </tbody>\n",
       "</table>\n",
       "<p>5 rows × 28 columns</p>\n",
       "</div>"
      ],
      "text/plain": [
       "   NombreEnfants  RevenuAnnuel  MembreFamille  Age  Experience  target  M  Y  \\\n",
       "0              0      112500.0              2   58           3       0  1  1   \n",
       "1              0      270000.0              1   52           8       0  0  0   \n",
       "2              0      270000.0              1   52           8       0  0  0   \n",
       "3              0      270000.0              1   52           8       0  0  0   \n",
       "4              0      270000.0              1   52           8       0  0  0   \n",
       "\n",
       "   Y  Pensioner  ...  Separated  Single / not married  Widow  \\\n",
       "0  1          0  ...          0                     0      0   \n",
       "1  1          0  ...          0                     1      0   \n",
       "2  1          0  ...          0                     1      0   \n",
       "3  1          0  ...          0                     1      0   \n",
       "4  1          0  ...          0                     1      0   \n",
       "\n",
       "   House / apartment  Municipal apartment  Office apartment  Rented apartment  \\\n",
       "0                  1                    0                 0                 0   \n",
       "1                  1                    0                 0                 0   \n",
       "2                  1                    0                 0                 0   \n",
       "3                  1                    0                 0                 0   \n",
       "4                  1                    0                 0                 0   \n",
       "\n",
       "   With parents  Sales staff  Security staff  \n",
       "0             0            0               1  \n",
       "1             0            1               0  \n",
       "2             0            1               0  \n",
       "3             0            1               0  \n",
       "4             0            1               0  \n",
       "\n",
       "[5 rows x 28 columns]"
      ]
     },
     "execution_count": 7,
     "metadata": {},
     "output_type": "execute_result"
    }
   ],
   "source": [
    "sex = pd.get_dummies(X['Sexe'],drop_first=True)\n",
    "motor = pd.get_dummies(X['Motorisé'],drop_first=True)\n",
    "propr = pd.get_dummies(X['PropriétaireImmobilier'],drop_first=True)\n",
    "secteur = pd.get_dummies(X['SecteurActivité'],drop_first=True)\n",
    "niveau = pd.get_dummies(X['NiveauEducation'],drop_first=True)\n",
    "etat = pd.get_dummies(X['EtatCivil'],drop_first=True)\n",
    "logement = pd.get_dummies(X['TypeLogement'],drop_first=True)\n",
    "categorie = pd.get_dummies(X['CategorieEmploi'],drop_first=True)\n",
    "X.drop(['Sexe','Motorisé','PropriétaireImmobilier','SecteurActivité','NiveauEducation','EtatCivil','TypeLogement','CategorieEmploi'],axis=1,inplace=True)\n",
    "X = pd.concat([X,sex,motor,propr,secteur,niveau,etat,logement,categorie],axis=1)\n",
    "X.head()"
   ]
  },
  {
   "cell_type": "markdown",
   "metadata": {},
   "source": [
    "# Regression Logistique"
   ]
  },
  {
   "cell_type": "code",
   "execution_count": 8,
   "metadata": {},
   "outputs": [],
   "source": [
    "from sklearn.model_selection import train_test_split\n",
    "from sklearn.linear_model import LogisticRegression"
   ]
  },
  {
   "cell_type": "code",
   "execution_count": 9,
   "metadata": {},
   "outputs": [],
   "source": [
    "X_train, X_test, y_train, y_test = train_test_split(X.drop('target',axis=1), \n",
    "                                                    X['target'], test_size=0.30, \n",
    "                                                    random_state=101)"
   ]
  },
  {
   "cell_type": "code",
   "execution_count": 10,
   "metadata": {},
   "outputs": [
    {
     "data": {
      "text/plain": [
       "LogisticRegression()"
      ]
     },
     "execution_count": 10,
     "metadata": {},
     "output_type": "execute_result"
    }
   ],
   "source": [
    "logmodel = LogisticRegression()\n",
    "logmodel.fit(X_train,y_train)"
   ]
  },
  {
   "cell_type": "code",
   "execution_count": 11,
   "metadata": {},
   "outputs": [],
   "source": [
    "predictions = logmodel.predict(X_test)"
   ]
  },
  {
   "cell_type": "code",
   "execution_count": 30,
   "metadata": {},
   "outputs": [],
   "source": [
    "from sklearn.metrics import classification_report\n",
    "from sklearn import metrics"
   ]
  },
  {
   "cell_type": "code",
   "execution_count": 32,
   "metadata": {},
   "outputs": [
    {
     "name": "stdout",
     "output_type": "stream",
     "text": [
      "              precision    recall  f1-score   support\n",
      "\n",
      "           0       0.98      1.00      0.99      7396\n",
      "           1       0.00      0.00      0.00       145\n",
      "\n",
      "    accuracy                           0.98      7541\n",
      "   macro avg       0.49      0.50      0.50      7541\n",
      "weighted avg       0.96      0.98      0.97      7541\n",
      "\n",
      "logit_roc_auc :  0.5\n"
     ]
    }
   ],
   "source": [
    "# rapport de prédiction\n",
    "print(classification_report(y_test,predictions))\n",
    "# AUC\n",
    "print('logit_roc_auc : ',roc_auc_score(y_test, logmodel.predict(X_test)))"
   ]
  },
  {
   "cell_type": "code",
   "execution_count": 19,
   "metadata": {},
   "outputs": [
    {
     "data": {
      "image/png": "[encoded data removed]",
      "text/plain": [
       "<Figure size 432x432 with 1 Axes>"
      ]
     },
     "metadata": {
      "needs_background": "light"
     },
     "output_type": "display_data"
    }
   ],
   "source": [
    "logit_roc_auc=roc_auc_score(y_test, logmodel.predict(X_test))\n",
    "fpr, tpr,thresholds=roc_curve(y_test, logmodel.predict_proba(X_test)[:,1])\n",
    "# créer une figure\n",
    "from matplotlib import pyplot as plt\n",
    "fig = plt.figure(figsize=(6, 6))\n",
    "# afficher la courbe ROC\n",
    "plt.plot(fpr, tpr, '-', lw=2, label='AUC=%.2f' % logit_roc_auc)\n",
    "plt.plot([0,1],[0,1],'r--')\n",
    "# donner un titre aux axes et au graphique\n",
    "plt.xlabel('False Positive Rate', fontsize=16)\n",
    "plt.ylabel('True Positive Rate', fontsize=16)\n",
    "plt.title('Logit ROC Curve', fontsize=16)\n",
    "# afficher la légende\n",
    "plt.legend(loc=\"lower right\", fontsize=14)\n",
    "# afficher l'image\n",
    "plt.show()"
   ]
  },
  {
   "cell_type": "code",
   "execution_count": 25,
   "metadata": {},
   "outputs": [
    {
     "data": {
      "image/png": "[encoded data removed]",
      "text/plain": [
       "<Figure size 432x288 with 1 Axes>"
      ]
     },
     "metadata": {
      "needs_background": "light"
     },
     "output_type": "display_data"
    }
   ],
   "source": [
    "from sklearn.metrics import roc_auc_score\n",
    "from sklearn.metrics import roc_curve\n",
    "logit_roc_auc=roc_auc_score(y_test, logmodel.predict(X_test))\n",
    "fpr, tpr,thresholds=roc_curve(y_test, logmodel.predict_proba(X_test)[:,1])\n",
    "plt.figure()\n",
    "plt.plot(fpr, tpr, label='Logistic Regression (area= %.2f)'% logit_roc_auc)\n",
    "plt.plot([0,1],[0,1],'r--')\n",
    "plt.xlim([0.0,1.0])\n",
    "plt.ylim([0.0, 1.05])\n",
    "plt.xlabel('False Positive Rate')\n",
    "plt.ylabel('True Positive Rate')\n",
    "plt.title('Logit ROC Curve')\n",
    "plt.savefig('Log_ROC')\n",
    "plt.show()"
   ]
  },
  {
   "cell_type": "code",
   "execution_count": 14,
   "metadata": {},
   "outputs": [
    {
     "name": "stdout",
     "output_type": "stream",
     "text": [
      "0.5\n"
     ]
    }
   ],
   "source": [
    "logit_roc_auc=roc_auc_score(y_test, logmodel.predict(X_test))\n",
    "print(logit_roc_auc)"
   ]
  },
  {
   "cell_type": "code",
   "execution_count": null,
   "metadata": {},
   "outputs": [],
   "source": [
    "logit_model=sm.Logit(y,X)\n",
    "result=logit_model.fit()\n",
    "print(result.summary2())"
   ]
  },
  {
   "cell_type": "markdown",
   "metadata": {},
   "source": [
    "# Arbre de Décision"
   ]
  },
  {
   "cell_type": "code",
   "execution_count": 41,
   "metadata": {},
   "outputs": [],
   "source": [
    "from sklearn.tree import DecisionTreeClassifier\n",
    "arbreFirst = DecisionTreeClassifier(min_samples_split=10,min_samples_leaf=5)"
   ]
  },
  {
   "cell_type": "code",
   "execution_count": 42,
   "metadata": {},
   "outputs": [
    {
     "data": {
      "text/plain": [
       "DecisionTreeClassifier(min_samples_leaf=5, min_samples_split=10)"
      ]
     },
     "execution_count": 42,
     "metadata": {},
     "output_type": "execute_result"
    }
   ],
   "source": [
    "arbreFirst.fit(X_train,y_train)"
   ]
  },
  {
   "cell_type": "code",
   "execution_count": 43,
   "metadata": {},
   "outputs": [],
   "source": [
    "predFirst = arbreFirst.predict(X_test)"
   ]
  },
  {
   "cell_type": "code",
   "execution_count": 44,
   "metadata": {},
   "outputs": [
    {
     "data": {
      "text/plain": [
       "[Text(165.2009809019841, 212.49818181818182, 'Pensioner <= 0.5\\ngini = 0.031\\nsamples = 17593\\nvalue = [17316, 277]'),\n",
       " Text(164.22140697860476, 202.61454545454546, 'Y <= 0.5\\ngini = 0.03\\nsamples = 17586\\nvalue = [17316, 270]'),\n",
       " Text(92.73570848953096, 192.73090909090908, 'Experience <= 4.5\\ngini = 0.043\\nsamples = 6144\\nvalue = [6010, 134]'),\n",
       " Text(74.20750777178385, 182.84727272727272, 'Widow <= 0.5\\ngini = 0.058\\nsamples = 2936\\nvalue = [2849, 87]'),\n",
       " Text(65.64101901801226, 172.96363636363637, 'Incomplete higher <= 0.5\\ngini = 0.054\\nsamples = 2868\\nvalue = [2788, 80]'),\n",
       " Text(51.446763280607115, 163.07999999999998, 'RevenuAnnuel <= 353250.0\\ngini = 0.049\\nsamples = 2725\\nvalue = [2656, 69]'),\n",
       " Text(33.83356496296974, 153.19636363636363, 'Age <= 25.5\\ngini = 0.044\\nsamples = 2543\\nvalue = [2486, 57]'),\n",
       " Text(32.85399103959038, 143.31272727272727, 'gini = 0.0\\nsamples = 230\\nvalue = [230, 0]'),\n",
       " Text(34.813138886349094, 143.31272727272727, 'M <= 0.5\\ngini = 0.048\\nsamples = 2313\\nvalue = [2256, 57]'),\n",
       " Text(20.448605650544028, 133.42909090909092, 'Age <= 48.5\\ngini = 0.034\\nsamples = 1390\\nvalue = [1366, 24]'),\n",
       " Text(10.530419676328062, 123.54545454545455, 'RevenuAnnuel <= 74250.0\\ngini = 0.025\\nsamples = 1196\\nvalue = [1181, 15]'),\n",
       " Text(3.9182956935174182, 113.66181818181819, 'House / apartment <= 0.5\\ngini = 0.092\\nsamples = 83\\nvalue = [79, 4]'),\n",
       " Text(1.9591478467587091, 103.77818181818182, 'Experience <= 0.5\\ngini = 0.231\\nsamples = 15\\nvalue = [13, 2]'),\n",
       " Text(0.9795739233793546, 93.89454545454547, 'gini = 0.0\\nsamples = 10\\nvalue = [10, 0]'),\n",
       " Text(2.9387217701380637, 93.89454545454547, 'gini = 0.48\\nsamples = 5\\nvalue = [3, 2]'),\n",
       " Text(5.877443540276127, 103.77818181818182, 'RevenuAnnuel <= 69750.0\\ngini = 0.057\\nsamples = 68\\nvalue = [66, 2]'),\n",
       " Text(4.897869616896773, 93.89454545454547, 'gini = 0.0\\nsamples = 49\\nvalue = [49, 0]'),\n",
       " Text(6.857017463655482, 93.89454545454547, 'Age <= 32.0\\ngini = 0.188\\nsamples = 19\\nvalue = [17, 2]'),\n",
       " Text(5.877443540276127, 84.01090909090911, 'gini = 0.0\\nsamples = 9\\nvalue = [9, 0]'),\n",
       " Text(7.8365913870348365, 84.01090909090911, 'Y <= 0.5\\ngini = 0.32\\nsamples = 10\\nvalue = [8, 2]'),\n",
       " Text(6.857017463655482, 74.12727272727273, 'gini = 0.32\\nsamples = 5\\nvalue = [4, 1]'),\n",
       " Text(8.816165310414192, 74.12727272727273, 'gini = 0.32\\nsamples = 5\\nvalue = [4, 1]'),\n",
       " Text(17.142543659138706, 113.66181818181819, 'NombreEnfants <= 2.5\\ngini = 0.02\\nsamples = 1113\\nvalue = [1102, 11]'),\n",
       " Text(16.16296973575935, 103.77818181818182, 'Y <= 0.5\\ngini = 0.018\\nsamples = 1104\\nvalue = [1094, 10]'),\n",
       " Text(11.754887080552255, 93.89454545454547, 'NombreEnfants <= 0.5\\ngini = 0.01\\nsamples = 802\\nvalue = [798, 4]'),\n",
       " Text(10.7753131571729, 84.01090909090911, 'gini = 0.0\\nsamples = 495\\nvalue = [495, 0]'),\n",
       " Text(12.73446100393161, 84.01090909090911, 'Age <= 29.5\\ngini = 0.026\\nsamples = 307\\nvalue = [303, 4]'),\n",
       " Text(10.7753131571729, 74.12727272727273, 'Age <= 28.5\\ngini = 0.073\\nsamples = 79\\nvalue = [76, 3]'),\n",
       " Text(9.795739233793546, 64.24363636363637, 'gini = 0.0\\nsamples = 68\\nvalue = [68, 0]'),\n",
       " Text(11.754887080552255, 64.24363636363637, 'Experience <= 2.0\\ngini = 0.397\\nsamples = 11\\nvalue = [8, 3]'),\n",
       " Text(10.7753131571729, 54.360000000000014, 'gini = 0.0\\nsamples = 5\\nvalue = [5, 0]'),\n",
       " Text(12.73446100393161, 54.360000000000014, 'gini = 0.5\\nsamples = 6\\nvalue = [3, 3]'),\n",
       " Text(14.693608850690318, 74.12727272727273, 'Age <= 39.5\\ngini = 0.009\\nsamples = 228\\nvalue = [227, 1]'),\n",
       " Text(13.714034927310964, 64.24363636363637, 'gini = 0.0\\nsamples = 172\\nvalue = [172, 0]'),\n",
       " Text(15.673182774069673, 64.24363636363637, 'MembreFamille <= 3.5\\ngini = 0.035\\nsamples = 56\\nvalue = [55, 1]'),\n",
       " Text(14.693608850690318, 54.360000000000014, 'gini = 0.0\\nsamples = 41\\nvalue = [41, 0]'),\n",
       " Text(16.65275669744903, 54.360000000000014, 'gini = 0.124\\nsamples = 15\\nvalue = [14, 1]'),\n",
       " Text(20.571052390966447, 93.89454545454547, 'RevenuAnnuel <= 110250.0\\ngini = 0.039\\nsamples = 302\\nvalue = [296, 6]'),\n",
       " Text(18.611904544207736, 84.01090909090911, 'Working <= 0.5\\ngini = 0.198\\nsamples = 18\\nvalue = [16, 2]'),\n",
       " Text(17.632330620828384, 74.12727272727273, 'gini = 0.48\\nsamples = 5\\nvalue = [3, 2]'),\n",
       " Text(19.59147846758709, 74.12727272727273, 'gini = 0.0\\nsamples = 13\\nvalue = [13, 0]'),\n",
       " Text(22.530200237725154, 84.01090909090911, 'Separated <= 0.5\\ngini = 0.028\\nsamples = 284\\nvalue = [280, 4]'),\n",
       " Text(21.5506263143458, 74.12727272727273, 'Experience <= 3.5\\ngini = 0.021\\nsamples = 277\\nvalue = [274, 3]'),\n",
       " Text(19.59147846758709, 64.24363636363637, 'Experience <= 0.5\\ngini = 0.009\\nsamples = 214\\nvalue = [213, 1]'),\n",
       " Text(18.611904544207736, 54.360000000000014, 'Working <= 0.5\\ngini = 0.045\\nsamples = 43\\nvalue = [42, 1]'),\n",
       " Text(17.632330620828384, 44.47636363636366, 'RevenuAnnuel <= 153000.0\\ngini = 0.095\\nsamples = 20\\nvalue = [19, 1]'),\n",
       " Text(16.65275669744903, 34.592727272727274, 'gini = 0.133\\nsamples = 14\\nvalue = [13, 1]'),\n",
       " Text(18.611904544207736, 34.592727272727274, 'gini = 0.0\\nsamples = 6\\nvalue = [6, 0]'),\n",
       " Text(19.59147846758709, 44.47636363636366, 'gini = 0.0\\nsamples = 23\\nvalue = [23, 0]'),\n",
       " Text(20.571052390966447, 54.360000000000014, 'gini = 0.0\\nsamples = 171\\nvalue = [171, 0]'),\n",
       " Text(23.50977416110451, 64.24363636363637, 'Age <= 39.0\\ngini = 0.061\\nsamples = 63\\nvalue = [61, 2]'),\n",
       " Text(22.530200237725154, 54.360000000000014, 'gini = 0.0\\nsamples = 43\\nvalue = [43, 0]'),\n",
       " Text(24.489348084483865, 54.360000000000014, 'Age <= 42.5\\ngini = 0.18\\nsamples = 20\\nvalue = [18, 2]'),\n",
       " Text(23.50977416110451, 44.47636363636366, 'gini = 0.48\\nsamples = 5\\nvalue = [3, 2]'),\n",
       " Text(25.46892200786322, 44.47636363636366, 'gini = 0.0\\nsamples = 15\\nvalue = [15, 0]'),\n",
       " Text(23.50977416110451, 74.12727272727273, 'gini = 0.245\\nsamples = 7\\nvalue = [6, 1]'),\n",
       " Text(18.122117582518058, 103.77818181818182, 'gini = 0.198\\nsamples = 9\\nvalue = [8, 1]'),\n",
       " Text(30.36679162475999, 123.54545454545455, 'Working <= 0.5\\ngini = 0.088\\nsamples = 194\\nvalue = [185, 9]'),\n",
       " Text(26.448495931242572, 113.66181818181819, 'Age <= 54.5\\ngini = 0.172\\nsamples = 63\\nvalue = [57, 6]'),\n",
       " Text(24.489348084483865, 103.77818181818182, 'Higher education <= 0.5\\ngini = 0.074\\nsamples = 52\\nvalue = [50, 2]'),\n",
       " Text(23.50977416110451, 93.89454545454547, 'gini = 0.0\\nsamples = 32\\nvalue = [32, 0]'),\n",
       " Text(25.46892200786322, 93.89454545454547, 'RevenuAnnuel <= 157500.0\\ngini = 0.18\\nsamples = 20\\nvalue = [18, 2]'),\n",
       " Text(24.489348084483865, 84.01090909090911, 'gini = 0.408\\nsamples = 7\\nvalue = [5, 2]'),\n",
       " Text(26.448495931242572, 84.01090909090911, 'gini = 0.0\\nsamples = 13\\nvalue = [13, 0]'),\n",
       " Text(28.407643778001283, 103.77818181818182, 'Age <= 55.5\\ngini = 0.463\\nsamples = 11\\nvalue = [7, 4]'),\n",
       " Text(27.428069854621928, 93.89454545454547, 'gini = 0.444\\nsamples = 6\\nvalue = [2, 4]'),\n",
       " Text(29.387217701380635, 93.89454545454547, 'gini = 0.0\\nsamples = 5\\nvalue = [5, 0]'),\n",
       " Text(34.28508731827741, 113.66181818181819, 'Age <= 50.5\\ngini = 0.045\\nsamples = 131\\nvalue = [128, 3]'),\n",
       " Text(32.3259394715187, 103.77818181818182, 'MembreFamille <= 1.5\\ngini = 0.165\\nsamples = 22\\nvalue = [20, 2]'),\n",
       " Text(31.346365548139346, 93.89454545454547, 'gini = 0.0\\nsamples = 10\\nvalue = [10, 0]'),\n",
       " Text(33.30551339489806, 93.89454545454547, 'RevenuAnnuel <= 247500.0\\ngini = 0.278\\nsamples = 12\\nvalue = [10, 2]'),\n",
       " Text(32.3259394715187, 84.01090909090911, 'gini = 0.245\\nsamples = 7\\nvalue = [6, 1]'),\n",
       " Text(34.28508731827741, 84.01090909090911, 'gini = 0.32\\nsamples = 5\\nvalue = [4, 1]'),\n",
       " Text(36.244235165036116, 103.77818181818182, 'Higher education <= 0.5\\ngini = 0.018\\nsamples = 109\\nvalue = [108, 1]'),\n",
       " Text(35.26466124165677, 93.89454545454547, 'gini = 0.0\\nsamples = 78\\nvalue = [78, 0]'),\n",
       " Text(37.22380908841547, 93.89454545454547, 'MembreFamille <= 1.5\\ngini = 0.062\\nsamples = 31\\nvalue = [30, 1]'),\n",
       " Text(36.244235165036116, 84.01090909090911, 'gini = 0.0\\nsamples = 19\\nvalue = [19, 0]'),\n",
       " Text(38.20338301179483, 84.01090909090911, 'Experience <= 3.5\\ngini = 0.153\\nsamples = 12\\nvalue = [11, 1]'),\n",
       " Text(37.22380908841547, 74.12727272727273, 'gini = 0.0\\nsamples = 6\\nvalue = [6, 0]'),\n",
       " Text(39.18295693517418, 74.12727272727273, 'gini = 0.278\\nsamples = 6\\nvalue = [5, 1]'),\n",
       " Text(49.177672122154156, 133.42909090909092, 'Secondary / secondary special <= 0.5\\ngini = 0.069\\nsamples = 923\\nvalue = [890, 33]'),\n",
       " Text(43.958379811648534, 123.54545454545455, 'Municipal apartment <= 0.5\\ngini = 0.016\\nsamples = 243\\nvalue = [241, 2]'),\n",
       " Text(41.99923196488983, 113.66181818181819, 'RevenuAnnuel <= 179635.5\\ngini = 0.009\\nsamples = 233\\nvalue = [232, 1]'),\n",
       " Text(41.019658041510475, 103.77818181818182, 'RevenuAnnuel <= 168750.0\\ngini = 0.026\\nsamples = 76\\nvalue = [75, 1]'),\n",
       " Text(40.04008411813112, 93.89454545454547, 'gini = 0.0\\nsamples = 70\\nvalue = [70, 0]'),\n",
       " Text(41.99923196488983, 93.89454545454547, 'gini = 0.278\\nsamples = 6\\nvalue = [5, 1]'),\n",
       " Text(42.97880588826918, 103.77818181818182, 'gini = 0.0\\nsamples = 157\\nvalue = [157, 0]'),\n",
       " Text(45.917527658407245, 113.66181818181819, 'Age <= 44.0\\ngini = 0.18\\nsamples = 10\\nvalue = [9, 1]'),\n",
       " Text(44.93795373502789, 103.77818181818182, 'gini = 0.32\\nsamples = 5\\nvalue = [4, 1]'),\n",
       " Text(46.8971015817866, 103.77818181818182, 'gini = 0.0\\nsamples = 5\\nvalue = [5, 0]'),\n",
       " Text(54.396964432659786, 123.54545454545455, 'Age <= 26.5\\ngini = 0.087\\nsamples = 680\\nvalue = [649, 31]'),\n",
       " Text(49.83582335192467, 113.66181818181819, 'Experience <= 1.0\\ngini = 0.32\\nsamples = 15\\nvalue = [12, 3]'),\n",
       " Text(48.85624942854531, 103.77818181818182, 'gini = 0.0\\nsamples = 5\\nvalue = [5, 0]'),\n",
       " Text(50.815397275304015, 103.77818181818182, 'gini = 0.42\\nsamples = 10\\nvalue = [7, 3]'),\n",
       " Text(58.958105513394905, 113.66181818181819, 'With parents <= 0.5\\ngini = 0.081\\nsamples = 665\\nvalue = [637, 28]'),\n",
       " Text(52.774545122062726, 103.77818181818182, 'NombreEnfants <= 0.5\\ngini = 0.069\\nsamples = 614\\nvalue = [592, 22]'),\n",
       " Text(45.305293956295145, 93.89454545454547, 'RevenuAnnuel <= 110250.0\\ngini = 0.037\\nsamples = 429\\nvalue = [421, 8]'),\n",
       " Text(42.12167870531225, 84.01090909090911, 'Age <= 48.5\\ngini = 0.124\\nsamples = 45\\nvalue = [42, 3]'),\n",
       " Text(41.14210478193289, 74.12727272727273, 'Experience <= 2.5\\ngini = 0.211\\nsamples = 25\\nvalue = [22, 3]'),\n",
       " Text(40.16253085855354, 64.24363636363637, 'Y <= 0.5\\ngini = 0.32\\nsamples = 15\\nvalue = [12, 3]'),\n",
       " Text(39.18295693517418, 54.360000000000014, 'gini = 0.198\\nsamples = 9\\nvalue = [8, 1]'),\n",
       " Text(41.14210478193289, 54.360000000000014, 'gini = 0.444\\nsamples = 6\\nvalue = [4, 2]'),\n",
       " Text(42.12167870531225, 64.24363636363637, 'gini = 0.0\\nsamples = 10\\nvalue = [10, 0]'),\n",
       " Text(43.1012526286916, 74.12727272727273, 'gini = 0.0\\nsamples = 20\\nvalue = [20, 0]'),\n",
       " Text(48.48890920727805, 84.01090909090911, 'Age <= 61.5\\ngini = 0.026\\nsamples = 384\\nvalue = [379, 5]'),\n",
       " Text(47.50933528389869, 74.12727272727273, 'Rented apartment <= 0.5\\ngini = 0.021\\nsamples = 379\\nvalue = [375, 4]'),\n",
       " Text(45.06040047545031, 64.24363636363637, 'Working <= 0.5\\ngini = 0.016\\nsamples = 367\\nvalue = [364, 3]'),\n",
       " Text(43.1012526286916, 54.360000000000014, 'Experience <= 2.5\\ngini = 0.046\\nsamples = 85\\nvalue = [83, 2]'),\n",
       " Text(42.12167870531225, 44.47636363636366, 'gini = 0.0\\nsamples = 43\\nvalue = [43, 0]'),\n",
       " Text(44.08082655207095, 44.47636363636366, 'Age <= 39.5\\ngini = 0.091\\nsamples = 42\\nvalue = [40, 2]'),\n",
       " Text(43.1012526286916, 34.592727272727274, 'RevenuAnnuel <= 207699.75\\ngini = 0.054\\nsamples = 36\\nvalue = [35, 1]'),\n",
       " Text(42.12167870531225, 24.709090909090918, 'gini = 0.0\\nsamples = 20\\nvalue = [20, 0]'),\n",
       " Text(44.08082655207095, 24.709090909090918, 'RevenuAnnuel <= 247500.0\\ngini = 0.117\\nsamples = 16\\nvalue = [15, 1]'),\n",
       " Text(43.1012526286916, 14.825454545454562, 'gini = 0.245\\nsamples = 7\\nvalue = [6, 1]'),\n",
       " Text(45.06040047545031, 14.825454545454562, 'gini = 0.0\\nsamples = 9\\nvalue = [9, 0]'),\n",
       " Text(45.06040047545031, 34.592727272727274, 'gini = 0.278\\nsamples = 6\\nvalue = [5, 1]'),\n",
       " Text(47.01954832220902, 54.360000000000014, 'Single / not married <= 0.5\\ngini = 0.007\\nsamples = 282\\nvalue = [281, 1]'),\n",
       " Text(46.03997439882966, 44.47636363636366, 'gini = 0.0\\nsamples = 222\\nvalue = [222, 0]'),\n",
       " Text(47.999122245588374, 44.47636363636366, 'Age <= 42.5\\ngini = 0.033\\nsamples = 60\\nvalue = [59, 1]'),\n",
       " Text(47.01954832220902, 34.592727272727274, 'gini = 0.0\\nsamples = 49\\nvalue = [49, 0]'),\n",
       " Text(48.97869616896773, 34.592727272727274, 'Experience <= 2.5\\ngini = 0.165\\nsamples = 11\\nvalue = [10, 1]'),\n",
       " Text(47.999122245588374, 24.709090909090918, 'gini = 0.32\\nsamples = 5\\nvalue = [4, 1]'),\n",
       " Text(49.958270092347085, 24.709090909090918, 'gini = 0.0\\nsamples = 6\\nvalue = [6, 0]'),\n",
       " Text(49.958270092347085, 64.24363636363637, 'RevenuAnnuel <= 202500.0\\ngini = 0.153\\nsamples = 12\\nvalue = [11, 1]'),\n",
       " Text(48.97869616896773, 54.360000000000014, 'gini = 0.0\\nsamples = 6\\nvalue = [6, 0]'),\n",
       " Text(50.93784401572644, 54.360000000000014, 'gini = 0.278\\nsamples = 6\\nvalue = [5, 1]'),\n",
       " Text(49.468483130657404, 74.12727272727273, 'gini = 0.32\\nsamples = 5\\nvalue = [4, 1]'),\n",
       " Text(60.24379628783031, 93.89454545454547, 'Single / not married <= 0.5\\ngini = 0.14\\nsamples = 185\\nvalue = [171, 14]'),\n",
       " Text(59.26422236445095, 84.01090909090911, 'MembreFamille <= 2.5\\ngini = 0.124\\nsamples = 180\\nvalue = [168, 12]'),\n",
       " Text(58.284648441071596, 74.12727272727273, 'gini = 0.346\\nsamples = 9\\nvalue = [7, 2]'),\n",
       " Text(60.24379628783031, 74.12727272727273, 'Age <= 35.5\\ngini = 0.11\\nsamples = 171\\nvalue = [161, 10]'),\n",
       " Text(56.815287556002566, 64.24363636363637, 'RevenuAnnuel <= 173250.0\\ngini = 0.167\\nsamples = 87\\nvalue = [79, 8]'),\n",
       " Text(54.856139709243855, 54.360000000000014, 'Age <= 34.5\\ngini = 0.103\\nsamples = 55\\nvalue = [52, 3]'),\n",
       " Text(53.8765657858645, 44.47636363636366, 'Experience <= 0.5\\ngini = 0.078\\nsamples = 49\\nvalue = [47, 2]'),\n",
       " Text(52.896991862485145, 34.592727272727274, 'Y <= 0.5\\ngini = 0.198\\nsamples = 18\\nvalue = [16, 2]'),\n",
       " Text(51.91741793910579, 24.709090909090918, 'gini = 0.142\\nsamples = 13\\nvalue = [12, 1]'),\n",
       " Text(53.8765657858645, 24.709090909090918, 'gini = 0.32\\nsamples = 5\\nvalue = [4, 1]'),\n",
       " Text(54.856139709243855, 34.592727272727274, 'gini = 0.0\\nsamples = 31\\nvalue = [31, 0]'),\n",
       " Text(55.83571363262321, 44.47636363636366, 'gini = 0.278\\nsamples = 6\\nvalue = [5, 1]'),\n",
       " Text(58.77443540276127, 54.360000000000014, 'RevenuAnnuel <= 202500.0\\ngini = 0.264\\nsamples = 32\\nvalue = [27, 5]'),\n",
       " Text(57.79486147938192, 44.47636363636366, 'gini = 0.42\\nsamples = 10\\nvalue = [7, 3]'),\n",
       " Text(59.754009326140626, 44.47636363636366, 'RevenuAnnuel <= 292500.0\\ngini = 0.165\\nsamples = 22\\nvalue = [20, 2]'),\n",
       " Text(58.77443540276127, 34.592727272727274, 'Age <= 28.0\\ngini = 0.111\\nsamples = 17\\nvalue = [16, 1]'),\n",
       " Text(57.79486147938192, 24.709090909090918, 'gini = 0.153\\nsamples = 12\\nvalue = [11, 1]'),\n",
       " Text(59.754009326140626, 24.709090909090918, 'gini = 0.0\\nsamples = 5\\nvalue = [5, 0]'),\n",
       " Text(60.73358324951998, 34.592727272727274, 'gini = 0.32\\nsamples = 5\\nvalue = [4, 1]'),\n",
       " Text(63.67230501965805, 64.24363636363637, 'Age <= 40.5\\ngini = 0.046\\nsamples = 84\\nvalue = [82, 2]'),\n",
       " Text(62.69273109627869, 54.360000000000014, 'gini = 0.0\\nsamples = 59\\nvalue = [59, 0]'),\n",
       " Text(64.6518789430374, 54.360000000000014, 'RevenuAnnuel <= 168750.0\\ngini = 0.147\\nsamples = 25\\nvalue = [23, 2]'),\n",
       " Text(63.67230501965805, 44.47636363636366, 'Age <= 42.0\\ngini = 0.26\\nsamples = 13\\nvalue = [11, 2]'),\n",
       " Text(62.69273109627869, 34.592727272727274, 'gini = 0.32\\nsamples = 5\\nvalue = [4, 1]'),\n",
       " Text(64.6518789430374, 34.592727272727274, 'gini = 0.219\\nsamples = 8\\nvalue = [7, 1]'),\n",
       " Text(65.63145286641675, 44.47636363636366, 'gini = 0.0\\nsamples = 12\\nvalue = [12, 0]'),\n",
       " Text(61.22337021120966, 84.01090909090911, 'gini = 0.48\\nsamples = 5\\nvalue = [3, 2]'),\n",
       " Text(65.14166590472708, 103.77818181818182, 'NombreEnfants <= 0.5\\ngini = 0.208\\nsamples = 51\\nvalue = [45, 6]'),\n",
       " Text(64.16209198134773, 93.89454545454547, 'Age <= 36.0\\ngini = 0.386\\nsamples = 23\\nvalue = [17, 6]'),\n",
       " Text(63.182518057968366, 84.01090909090911, 'RevenuAnnuel <= 166500.0\\ngini = 0.198\\nsamples = 18\\nvalue = [16, 2]'),\n",
       " Text(62.20294413458902, 74.12727272727273, 'gini = 0.444\\nsamples = 6\\nvalue = [4, 2]'),\n",
       " Text(64.16209198134773, 74.12727272727273, 'gini = 0.0\\nsamples = 12\\nvalue = [12, 0]'),\n",
       " Text(65.14166590472708, 84.01090909090911, 'gini = 0.32\\nsamples = 5\\nvalue = [1, 4]'),\n",
       " Text(66.12123982810644, 93.89454545454547, 'gini = 0.0\\nsamples = 28\\nvalue = [28, 0]'),\n",
       " Text(69.0599615982445, 153.19636363636363, 'Age <= 25.5\\ngini = 0.123\\nsamples = 182\\nvalue = [170, 12]'),\n",
       " Text(68.08038767486514, 143.31272727272727, 'gini = 0.48\\nsamples = 5\\nvalue = [2, 3]'),\n",
       " Text(70.03953552162385, 143.31272727272727, 'Age <= 31.0\\ngini = 0.097\\nsamples = 177\\nvalue = [168, 9]'),\n",
       " Text(68.08038767486514, 133.42909090909092, 'Age <= 29.5\\ngini = 0.278\\nsamples = 42\\nvalue = [35, 7]'),\n",
       " Text(67.10081375148579, 123.54545454545455, 'RevenuAnnuel <= 445500.0\\ngini = 0.157\\nsamples = 35\\nvalue = [32, 3]'),\n",
       " Text(66.12123982810644, 113.66181818181819, 'gini = 0.0\\nsamples = 21\\nvalue = [21, 0]'),\n",
       " Text(68.08038767486514, 113.66181818181819, 'Age <= 27.5\\ngini = 0.337\\nsamples = 14\\nvalue = [11, 3]'),\n",
       " Text(67.10081375148579, 103.77818181818182, 'gini = 0.5\\nsamples = 6\\nvalue = [3, 3]'),\n",
       " Text(69.0599615982445, 103.77818181818182, 'gini = 0.0\\nsamples = 8\\nvalue = [8, 0]'),\n",
       " Text(69.0599615982445, 123.54545454545455, 'gini = 0.49\\nsamples = 7\\nvalue = [3, 4]'),\n",
       " Text(71.99868336838256, 133.42909090909092, 'Age <= 53.0\\ngini = 0.029\\nsamples = 135\\nvalue = [133, 2]'),\n",
       " Text(71.01910944500321, 123.54545454545455, 'MembreFamille <= 2.5\\ngini = 0.016\\nsamples = 127\\nvalue = [126, 1]'),\n",
       " Text(70.03953552162385, 113.66181818181819, 'gini = 0.0\\nsamples = 81\\nvalue = [81, 0]'),\n",
       " Text(71.99868336838256, 113.66181818181819, 'Age <= 38.5\\ngini = 0.043\\nsamples = 46\\nvalue = [45, 1]'),\n",
       " Text(71.01910944500321, 103.77818181818182, 'gini = 0.0\\nsamples = 39\\nvalue = [39, 0]'),\n",
       " Text(72.97825729176192, 103.77818181818182, 'gini = 0.245\\nsamples = 7\\nvalue = [6, 1]'),\n",
       " Text(72.97825729176192, 123.54545454545455, 'gini = 0.219\\nsamples = 8\\nvalue = [7, 1]'),\n",
       " Text(79.8352747554174, 163.07999999999998, 'RevenuAnnuel <= 175500.0\\ngini = 0.142\\nsamples = 143\\nvalue = [132, 11]'),\n",
       " Text(78.85570083203804, 153.19636363636363, 'MembreFamille <= 3.5\\ngini = 0.307\\nsamples = 58\\nvalue = [47, 11]'),\n",
       " Text(77.87612690865869, 143.31272727272727, 'Age <= 27.5\\ngini = 0.233\\nsamples = 52\\nvalue = [45, 7]'),\n",
       " Text(75.91697906189998, 133.42909090909092, 'Y <= 0.5\\ngini = 0.375\\nsamples = 24\\nvalue = [18, 6]'),\n",
       " Text(74.93740513852062, 123.54545454545455, 'gini = 0.0\\nsamples = 9\\nvalue = [9, 0]'),\n",
       " Text(76.89655298527933, 123.54545454545455, 'Experience <= 1.5\\ngini = 0.48\\nsamples = 15\\nvalue = [9, 6]'),\n",
       " Text(75.91697906189998, 113.66181818181819, 'gini = 0.375\\nsamples = 8\\nvalue = [6, 2]'),\n",
       " Text(77.87612690865869, 113.66181818181819, 'gini = 0.49\\nsamples = 7\\nvalue = [3, 4]'),\n",
       " Text(79.8352747554174, 133.42909090909092, 'RevenuAnnuel <= 155250.0\\ngini = 0.069\\nsamples = 28\\nvalue = [27, 1]'),\n",
       " Text(78.85570083203804, 123.54545454545455, 'gini = 0.0\\nsamples = 18\\nvalue = [18, 0]'),\n",
       " Text(80.81484867879675, 123.54545454545455, 'House / apartment <= 0.5\\ngini = 0.18\\nsamples = 10\\nvalue = [9, 1]'),\n",
       " Text(79.8352747554174, 113.66181818181819, 'gini = 0.0\\nsamples = 5\\nvalue = [5, 0]'),\n",
       " Text(81.79442260217611, 113.66181818181819, 'gini = 0.32\\nsamples = 5\\nvalue = [4, 1]'),\n",
       " Text(79.8352747554174, 143.31272727272727, 'gini = 0.444\\nsamples = 6\\nvalue = [2, 4]'),\n",
       " Text(80.81484867879675, 153.19636363636363, 'gini = 0.0\\nsamples = 85\\nvalue = [85, 0]'),\n",
       " Text(82.77399652555546, 172.96363636363637, 'Age <= 42.5\\ngini = 0.185\\nsamples = 68\\nvalue = [61, 7]'),\n",
       " Text(81.79442260217611, 163.07999999999998, 'gini = 0.0\\nsamples = 36\\nvalue = [36, 0]'),\n",
       " Text(83.75357044893481, 163.07999999999998, 'RevenuAnnuel <= 168750.0\\ngini = 0.342\\nsamples = 32\\nvalue = [25, 7]'),\n",
       " Text(82.77399652555546, 153.19636363636363, 'gini = 0.496\\nsamples = 11\\nvalue = [6, 5]'),\n",
       " Text(84.73314437231417, 153.19636363636363, 'House / apartment <= 0.5\\ngini = 0.172\\nsamples = 21\\nvalue = [19, 2]'),\n",
       " Text(83.75357044893481, 143.31272727272727, 'gini = 0.48\\nsamples = 5\\nvalue = [3, 2]'),\n",
       " Text(85.71271829569352, 143.31272727272727, 'gini = 0.0\\nsamples = 16\\nvalue = [16, 0]'),\n",
       " Text(111.26390920727806, 182.84727272727272, 'NombreEnfants <= 1.5\\ngini = 0.029\\nsamples = 3208\\nvalue = [3161, 47]'),\n",
       " Text(99.31578586449668, 172.96363636363637, 'Age <= 27.5\\ngini = 0.023\\nsamples = 2766\\nvalue = [2734, 32]'),\n",
       " Text(88.6514400658316, 163.07999999999998, 'RevenuAnnuel <= 191250.0\\ngini = 0.087\\nsamples = 88\\nvalue = [84, 4]'),\n",
       " Text(87.67186614245223, 153.19636363636363, 'gini = 0.0\\nsamples = 66\\nvalue = [66, 0]'),\n",
       " Text(89.63101398921094, 153.19636363636363, 'Experience <= 6.5\\ngini = 0.298\\nsamples = 22\\nvalue = [18, 4]'),\n",
       " Text(87.67186614245223, 143.31272727272727, 'RevenuAnnuel <= 236250.0\\ngini = 0.397\\nsamples = 11\\nvalue = [8, 3]'),\n",
       " Text(86.69229221907288, 133.42909090909092, 'gini = 0.48\\nsamples = 5\\nvalue = [3, 2]'),\n",
       " Text(88.6514400658316, 133.42909090909092, 'gini = 0.278\\nsamples = 6\\nvalue = [5, 1]'),\n",
       " Text(91.59016183596965, 143.31272727272727, 'Y <= 0.5\\ngini = 0.165\\nsamples = 11\\nvalue = [10, 1]'),\n",
       " Text(90.61058791259029, 133.42909090909092, 'gini = 0.0\\nsamples = 6\\nvalue = [6, 0]'),\n",
       " Text(92.569735759349, 133.42909090909092, 'gini = 0.32\\nsamples = 5\\nvalue = [4, 1]'),\n",
       " Text(109.98013166316176, 163.07999999999998, 'Lower secondary <= 0.5\\ngini = 0.021\\nsamples = 2678\\nvalue = [2650, 28]'),\n",
       " Text(104.82971564414375, 153.19636363636363, 'Y <= 0.5\\ngini = 0.02\\nsamples = 2666\\nvalue = [2639, 27]'),\n",
       " Text(97.46760537624579, 143.31272727272727, 'Municipal apartment <= 0.5\\ngini = 0.027\\nsamples = 1592\\nvalue = [1570, 22]'),\n",
       " Text(94.52888360610771, 133.42909090909092, 'Experience <= 19.5\\ngini = 0.024\\nsamples = 1475\\nvalue = [1457, 18]'),\n",
       " Text(93.54930968272836, 123.54545454545455, 'Experience <= 18.5\\ngini = 0.028\\nsamples = 1256\\nvalue = [1238, 18]'),\n",
       " Text(91.59016183596965, 113.66181818181819, 'Experience <= 5.5\\ngini = 0.026\\nsamples = 1235\\nvalue = [1219, 16]'),\n",
       " Text(90.61058791259029, 103.77818181818182, 'gini = 0.0\\nsamples = 208\\nvalue = [208, 0]'),\n",
       " Text(92.569735759349, 103.77818181818182, 'Office apartment <= 0.5\\ngini = 0.031\\nsamples = 1027\\nvalue = [1011, 16]'),\n",
       " Text(91.59016183596965, 93.89454545454547, 'Experience <= 6.5\\ngini = 0.029\\nsamples = 1018\\nvalue = [1003, 15]'),\n",
       " Text(85.98822346164397, 84.01090909090911, 'Age <= 31.5\\ngini = 0.073\\nsamples = 131\\nvalue = [126, 5]'),\n",
       " Text(84.02907561488526, 74.12727272727273, 'Married <= 0.5\\ngini = 0.204\\nsamples = 26\\nvalue = [23, 3]'),\n",
       " Text(83.04950169150591, 64.24363636363637, 'gini = 0.444\\nsamples = 6\\nvalue = [4, 2]'),\n",
       " Text(85.0086495382646, 64.24363636363637, 'State servant <= 0.5\\ngini = 0.095\\nsamples = 20\\nvalue = [19, 1]'),\n",
       " Text(84.02907561488526, 54.360000000000014, 'gini = 0.0\\nsamples = 12\\nvalue = [12, 0]'),\n",
       " Text(85.98822346164397, 54.360000000000014, 'gini = 0.219\\nsamples = 8\\nvalue = [7, 1]'),\n",
       " Text(87.94737130840268, 74.12727272727273, 'Age <= 40.5\\ngini = 0.037\\nsamples = 105\\nvalue = [103, 2]'),\n",
       " Text(86.96779738502332, 64.24363636363637, 'gini = 0.0\\nsamples = 59\\nvalue = [59, 0]'),\n",
       " Text(88.92694523178203, 64.24363636363637, 'Age <= 41.5\\ngini = 0.083\\nsamples = 46\\nvalue = [44, 2]'),\n",
       " Text(87.94737130840268, 54.360000000000014, 'gini = 0.346\\nsamples = 9\\nvalue = [7, 2]'),\n",
       " Text(89.90651915516139, 54.360000000000014, 'gini = 0.0\\nsamples = 37\\nvalue = [37, 0]'),\n",
       " Text(97.19210021029534, 84.01090909090911, 'RevenuAnnuel <= 92250.0\\ngini = 0.022\\nsamples = 887\\nvalue = [877, 10]'),\n",
       " Text(91.8656670019201, 74.12727272727273, 'RevenuAnnuel <= 85500.0\\ngini = 0.056\\nsamples = 105\\nvalue = [102, 3]'),\n",
       " Text(90.88609307854074, 64.24363636363637, 'gini = 0.0\\nsamples = 78\\nvalue = [78, 0]'),\n",
       " Text(92.84524092529945, 64.24363636363637, 'Age <= 45.5\\ngini = 0.198\\nsamples = 27\\nvalue = [24, 3]'),\n",
       " Text(91.8656670019201, 54.360000000000014, 'gini = 0.0\\nsamples = 19\\nvalue = [19, 0]'),\n",
       " Text(93.8248148486788, 54.360000000000014, 'gini = 0.469\\nsamples = 8\\nvalue = [5, 3]'),\n",
       " Text(102.51853341867057, 74.12727272727273, 'MembreFamille <= 1.5\\ngini = 0.018\\nsamples = 782\\nvalue = [775, 7]'),\n",
       " Text(96.76353661881687, 64.24363636363637, 'Experience <= 9.5\\ngini = 0.045\\nsamples = 129\\nvalue = [126, 3]'),\n",
       " Text(95.78396269543751, 54.360000000000014, 'gini = 0.0\\nsamples = 68\\nvalue = [68, 0]'),\n",
       " Text(97.74311054219622, 54.360000000000014, 'Experience <= 10.5\\ngini = 0.094\\nsamples = 61\\nvalue = [58, 3]'),\n",
       " Text(95.78396269543751, 44.47636363636366, 'RevenuAnnuel <= 148500.0\\ngini = 0.245\\nsamples = 14\\nvalue = [12, 2]'),\n",
       " Text(94.80438877205816, 34.592727272727274, 'gini = 0.0\\nsamples = 5\\nvalue = [5, 0]'),\n",
       " Text(96.76353661881687, 34.592727272727274, 'gini = 0.346\\nsamples = 9\\nvalue = [7, 2]'),\n",
       " Text(99.70225838895493, 44.47636363636366, 'Age <= 36.5\\ngini = 0.042\\nsamples = 47\\nvalue = [46, 1]'),\n",
       " Text(98.72268446557558, 34.592727272727274, 'gini = 0.198\\nsamples = 9\\nvalue = [8, 1]'),\n",
       " Text(100.68183231233428, 34.592727272727274, 'gini = 0.0\\nsamples = 38\\nvalue = [38, 0]'),\n",
       " Text(108.27353021852429, 64.24363636363637, 'Experience <= 12.5\\ngini = 0.012\\nsamples = 653\\nvalue = [649, 4]'),\n",
       " Text(107.29395629514492, 54.360000000000014, 'RevenuAnnuel <= 114750.0\\ngini = 0.017\\nsamples = 469\\nvalue = [465, 4]'),\n",
       " Text(103.62055408247235, 44.47636363636366, 'Age <= 40.5\\ngini = 0.051\\nsamples = 38\\nvalue = [37, 1]'),\n",
       " Text(102.64098015909299, 34.592727272727274, 'gini = 0.0\\nsamples = 33\\nvalue = [33, 0]'),\n",
       " Text(104.6001280058517, 34.592727272727274, 'gini = 0.32\\nsamples = 5\\nvalue = [4, 1]'),\n",
       " Text(110.96735850781751, 44.47636363636366, 'Higher education <= 0.5\\ngini = 0.014\\nsamples = 431\\nvalue = [428, 3]'),\n",
       " Text(106.55927585261041, 34.592727272727274, 'Age <= 51.5\\ngini = 0.007\\nsamples = 302\\nvalue = [301, 1]'),\n",
       " Text(105.57970192923106, 24.709090909090918, 'gini = 0.0\\nsamples = 256\\nvalue = [256, 0]'),\n",
       " Text(107.53884977598977, 24.709090909090918, 'RevenuAnnuel <= 213750.0\\ngini = 0.043\\nsamples = 46\\nvalue = [45, 1]'),\n",
       " Text(106.55927585261041, 14.825454545454562, 'gini = 0.0\\nsamples = 30\\nvalue = [30, 0]'),\n",
       " Text(108.51842369936912, 14.825454545454562, 'Married <= 0.5\\ngini = 0.117\\nsamples = 16\\nvalue = [15, 1]'),\n",
       " Text(107.53884977598977, 4.941818181818206, 'gini = 0.0\\nsamples = 10\\nvalue = [10, 0]'),\n",
       " Text(109.49799762274847, 4.941818181818206, 'gini = 0.278\\nsamples = 6\\nvalue = [5, 1]'),\n",
       " Text(115.3754411630246, 34.592727272727274, 'MembreFamille <= 2.5\\ngini = 0.031\\nsamples = 129\\nvalue = [127, 2]'),\n",
       " Text(113.4162933162659, 24.709090909090918, 'RevenuAnnuel <= 141750.0\\ngini = 0.018\\nsamples = 113\\nvalue = [112, 1]'),\n",
       " Text(112.43671939288654, 14.825454545454562, 'Experience <= 9.5\\ngini = 0.071\\nsamples = 27\\nvalue = [26, 1]'),\n",
       " Text(111.45714546950718, 4.941818181818206, 'gini = 0.165\\nsamples = 11\\nvalue = [10, 1]'),\n",
       " Text(113.4162933162659, 4.941818181818206, 'gini = 0.0\\nsamples = 16\\nvalue = [16, 0]'),\n",
       " Text(114.39586723964526, 14.825454545454562, 'gini = 0.0\\nsamples = 86\\nvalue = [86, 0]'),\n",
       " Text(117.33458900978331, 24.709090909090918, 'RevenuAnnuel <= 168750.0\\ngini = 0.117\\nsamples = 16\\nvalue = [15, 1]'),\n",
       " Text(116.35501508640395, 14.825454545454562, 'gini = 0.0\\nsamples = 10\\nvalue = [10, 0]'),\n",
       " Text(118.31416293316266, 14.825454545454562, 'gini = 0.278\\nsamples = 6\\nvalue = [5, 1]'),\n",
       " Text(109.25310414190363, 54.360000000000014, 'gini = 0.0\\nsamples = 184\\nvalue = [184, 0]'),\n",
       " Text(93.54930968272836, 93.89454545454547, 'gini = 0.198\\nsamples = 9\\nvalue = [8, 1]'),\n",
       " Text(95.50845752948707, 113.66181818181819, 'M <= 0.5\\ngini = 0.172\\nsamples = 21\\nvalue = [19, 2]'),\n",
       " Text(94.52888360610771, 103.77818181818182, 'gini = 0.0\\nsamples = 16\\nvalue = [16, 0]'),\n",
       " Text(96.48803145286642, 103.77818181818182, 'gini = 0.48\\nsamples = 5\\nvalue = [3, 2]'),\n",
       " Text(95.50845752948707, 123.54545454545455, 'gini = 0.0\\nsamples = 219\\nvalue = [219, 0]'),\n",
       " Text(100.40632714638384, 133.42909090909092, 'M <= 0.5\\ngini = 0.066\\nsamples = 117\\nvalue = [113, 4]'),\n",
       " Text(98.44717929962513, 123.54545454545455, 'Experience <= 25.0\\ngini = 0.024\\nsamples = 84\\nvalue = [83, 1]'),\n",
       " Text(97.46760537624579, 113.66181818181819, 'gini = 0.0\\nsamples = 67\\nvalue = [67, 0]'),\n",
       " Text(99.42675322300448, 113.66181818181819, 'RevenuAnnuel <= 168750.0\\ngini = 0.111\\nsamples = 17\\nvalue = [16, 1]'),\n",
       " Text(98.44717929962513, 103.77818181818182, 'gini = 0.0\\nsamples = 12\\nvalue = [12, 0]'),\n",
       " Text(100.40632714638384, 103.77818181818182, 'gini = 0.32\\nsamples = 5\\nvalue = [4, 1]'),\n",
       " Text(102.36547499314256, 123.54545454545455, 'RevenuAnnuel <= 112500.0\\ngini = 0.165\\nsamples = 33\\nvalue = [30, 3]'),\n",
       " Text(101.3859010697632, 113.66181818181819, 'gini = 0.444\\nsamples = 6\\nvalue = [4, 2]'),\n",
       " Text(103.3450489165219, 113.66181818181819, 'Age <= 37.0\\ngini = 0.071\\nsamples = 27\\nvalue = [26, 1]'),\n",
       " Text(102.36547499314256, 103.77818181818182, 'gini = 0.219\\nsamples = 8\\nvalue = [7, 1]'),\n",
       " Text(104.32462283990127, 103.77818181818182, 'gini = 0.0\\nsamples = 19\\nvalue = [19, 0]'),\n",
       " Text(112.19182591204171, 143.31272727272727, 'Higher education <= 0.5\\ngini = 0.009\\nsamples = 1074\\nvalue = [1069, 5]'),\n",
       " Text(110.232678065283, 133.42909090909092, 'Experience <= 5.5\\ngini = 0.003\\nsamples = 764\\nvalue = [763, 1]'),\n",
       " Text(109.25310414190363, 123.54545454545455, 'RevenuAnnuel <= 258750.0\\ngini = 0.026\\nsamples = 76\\nvalue = [75, 1]'),\n",
       " Text(108.27353021852429, 113.66181818181819, 'gini = 0.0\\nsamples = 65\\nvalue = [65, 0]'),\n",
       " Text(110.232678065283, 113.66181818181819, 'gini = 0.165\\nsamples = 11\\nvalue = [10, 1]'),\n",
       " Text(111.21225198866235, 123.54545454545455, 'gini = 0.0\\nsamples = 688\\nvalue = [688, 0]'),\n",
       " Text(114.1509737588004, 133.42909090909092, 'RevenuAnnuel <= 299250.0\\ngini = 0.025\\nsamples = 310\\nvalue = [306, 4]'),\n",
       " Text(113.17139983542106, 123.54545454545455, 'RevenuAnnuel <= 276750.0\\ngini = 0.041\\nsamples = 192\\nvalue = [188, 4]'),\n",
       " Text(112.19182591204171, 113.66181818181819, 'Age <= 54.5\\ngini = 0.032\\nsamples = 187\\nvalue = [184, 3]'),\n",
       " Text(110.232678065283, 103.77818181818182, 'Age <= 36.5\\ngini = 0.023\\nsamples = 172\\nvalue = [170, 2]'),\n",
       " Text(109.25310414190363, 93.89454545454547, 'Age <= 33.5\\ngini = 0.049\\nsamples = 80\\nvalue = [78, 2]'),\n",
       " Text(108.27353021852429, 84.01090909090911, 'gini = 0.0\\nsamples = 53\\nvalue = [53, 0]'),\n",
       " Text(110.232678065283, 84.01090909090911, 'Married <= 0.5\\ngini = 0.137\\nsamples = 27\\nvalue = [25, 2]'),\n",
       " Text(109.25310414190363, 74.12727272727273, 'gini = 0.0\\nsamples = 12\\nvalue = [12, 0]'),\n",
       " Text(111.21225198866235, 74.12727272727273, 'RevenuAnnuel <= 153000.0\\ngini = 0.231\\nsamples = 15\\nvalue = [13, 2]'),\n",
       " Text(110.232678065283, 64.24363636363637, 'gini = 0.0\\nsamples = 7\\nvalue = [7, 0]'),\n",
       " Text(112.19182591204171, 64.24363636363637, 'gini = 0.375\\nsamples = 8\\nvalue = [6, 2]'),\n",
       " Text(111.21225198866235, 93.89454545454547, 'gini = 0.0\\nsamples = 92\\nvalue = [92, 0]'),\n",
       " Text(114.1509737588004, 103.77818181818182, 'Age <= 55.5\\ngini = 0.124\\nsamples = 15\\nvalue = [14, 1]'),\n",
       " Text(113.17139983542106, 93.89454545454547, 'gini = 0.32\\nsamples = 5\\nvalue = [4, 1]'),\n",
       " Text(115.13054768217977, 93.89454545454547, 'gini = 0.0\\nsamples = 10\\nvalue = [10, 0]'),\n",
       " Text(114.1509737588004, 113.66181818181819, 'gini = 0.32\\nsamples = 5\\nvalue = [4, 1]'),\n",
       " Text(115.13054768217977, 123.54545454545455, 'gini = 0.0\\nsamples = 118\\nvalue = [118, 0]'),\n",
       " Text(115.13054768217977, 153.19636363636363, 'Age <= 40.5\\ngini = 0.153\\nsamples = 12\\nvalue = [11, 1]'),\n",
       " Text(114.1509737588004, 143.31272727272727, 'gini = 0.0\\nsamples = 6\\nvalue = [6, 0]'),\n",
       " Text(116.11012160555912, 143.31272727272727, 'gini = 0.278\\nsamples = 6\\nvalue = [5, 1]'),\n",
       " Text(123.21203255005945, 172.96363636363637, 'MembreFamille <= 3.5\\ngini = 0.066\\nsamples = 442\\nvalue = [427, 15]'),\n",
       " Text(120.02841729907654, 163.07999999999998, 'M <= 0.5\\ngini = 0.278\\nsamples = 12\\nvalue = [10, 2]'),\n",
       " Text(119.04884337569719, 153.19636363636363, 'gini = 0.0\\nsamples = 6\\nvalue = [6, 0]'),\n",
       " Text(121.0079912224559, 153.19636363636363, 'gini = 0.444\\nsamples = 6\\nvalue = [4, 2]'),\n",
       " Text(126.39564780104234, 163.07999999999998, 'Higher education <= 0.5\\ngini = 0.059\\nsamples = 430\\nvalue = [417, 13]'),\n",
       " Text(122.9671390692146, 153.19636363636363, 'RevenuAnnuel <= 137250.0\\ngini = 0.083\\nsamples = 277\\nvalue = [265, 12]'),\n",
       " Text(119.04884337569719, 143.31272727272727, 'RevenuAnnuel <= 108000.0\\ngini = 0.155\\nsamples = 71\\nvalue = [65, 6]'),\n",
       " Text(118.06926945231783, 133.42909090909092, 'gini = 0.0\\nsamples = 29\\nvalue = [29, 0]'),\n",
       " Text(120.02841729907654, 133.42909090909092, 'NombreEnfants <= 2.5\\ngini = 0.245\\nsamples = 42\\nvalue = [36, 6]'),\n",
       " Text(118.06926945231783, 123.54545454545455, 'Age <= 32.5\\ngini = 0.175\\nsamples = 31\\nvalue = [28, 3]'),\n",
       " Text(117.08969552893848, 113.66181818181819, 'gini = 0.0\\nsamples = 11\\nvalue = [11, 0]'),\n",
       " Text(119.04884337569719, 113.66181818181819, 'Age <= 38.5\\ngini = 0.255\\nsamples = 20\\nvalue = [17, 3]'),\n",
       " Text(118.06926945231783, 103.77818181818182, 'Y <= 0.5\\ngini = 0.397\\nsamples = 11\\nvalue = [8, 3]'),\n",
       " Text(117.08969552893848, 93.89454545454547, 'gini = 0.32\\nsamples = 5\\nvalue = [4, 1]'),\n",
       " Text(119.04884337569719, 93.89454545454547, 'gini = 0.444\\nsamples = 6\\nvalue = [4, 2]'),\n",
       " Text(120.02841729907654, 103.77818181818182, 'gini = 0.0\\nsamples = 9\\nvalue = [9, 0]'),\n",
       " Text(121.98756514583525, 123.54545454545455, 'Experience <= 7.5\\ngini = 0.397\\nsamples = 11\\nvalue = [8, 3]'),\n",
       " Text(121.0079912224559, 113.66181818181819, 'gini = 0.444\\nsamples = 6\\nvalue = [4, 2]'),\n",
       " Text(122.9671390692146, 113.66181818181819, 'gini = 0.32\\nsamples = 5\\nvalue = [4, 1]'),\n",
       " Text(126.88543476273202, 143.31272727272727, 'RevenuAnnuel <= 213750.0\\ngini = 0.057\\nsamples = 206\\nvalue = [200, 6]'),\n",
       " Text(125.90586083935267, 133.42909090909092, 'gini = 0.0\\nsamples = 107\\nvalue = [107, 0]'),\n",
       " Text(127.86500868611138, 133.42909090909092, 'RevenuAnnuel <= 229500.0\\ngini = 0.114\\nsamples = 99\\nvalue = [93, 6]'),\n",
       " Text(125.90586083935267, 123.54545454545455, 'Age <= 38.5\\ngini = 0.224\\nsamples = 39\\nvalue = [34, 5]'),\n",
       " Text(124.92628691597331, 113.66181818181819, 'Age <= 34.0\\ngini = 0.124\\nsamples = 30\\nvalue = [28, 2]'),\n",
       " Text(123.94671299259396, 103.77818181818182, 'gini = 0.0\\nsamples = 14\\nvalue = [14, 0]'),\n",
       " Text(125.90586083935267, 103.77818181818182, 'Experience <= 9.0\\ngini = 0.219\\nsamples = 16\\nvalue = [14, 2]'),\n",
       " Text(124.92628691597331, 93.89454545454547, 'gini = 0.165\\nsamples = 11\\nvalue = [10, 1]'),\n",
       " Text(126.88543476273202, 93.89454545454547, 'gini = 0.32\\nsamples = 5\\nvalue = [4, 1]'),\n",
       " Text(126.88543476273202, 113.66181818181819, 'gini = 0.444\\nsamples = 9\\nvalue = [6, 3]'),\n",
       " Text(129.8241565328701, 123.54545454545455, 'Working <= 0.5\\ngini = 0.033\\nsamples = 60\\nvalue = [59, 1]'),\n",
       " Text(128.84458260949074, 113.66181818181819, 'RevenuAnnuel <= 303750.0\\ngini = 0.105\\nsamples = 18\\nvalue = [17, 1]'),\n",
       " Text(127.86500868611138, 103.77818181818182, 'gini = 0.0\\nsamples = 12\\nvalue = [12, 0]'),\n",
       " Text(129.8241565328701, 103.77818181818182, 'gini = 0.278\\nsamples = 6\\nvalue = [5, 1]'),\n",
       " Text(130.80373045624944, 113.66181818181819, 'gini = 0.0\\nsamples = 42\\nvalue = [42, 0]'),\n",
       " Text(129.8241565328701, 153.19636363636363, 'RevenuAnnuel <= 83250.0\\ngini = 0.013\\nsamples = 153\\nvalue = [152, 1]'),\n",
       " Text(128.84458260949074, 143.31272727272727, 'gini = 0.219\\nsamples = 8\\nvalue = [7, 1]'),\n",
       " Text(130.80373045624944, 143.31272727272727, 'gini = 0.0\\nsamples = 145\\nvalue = [145, 0]'),\n",
       " Text(235.70710546767853, 192.73090909090908, 'RevenuAnnuel <= 194625.0\\ngini = 0.023\\nsamples = 11442\\nvalue = [11306, 136]'),\n",
       " Text(194.41098564505808, 182.84727272727272, 'Experience <= 2.5\\ngini = 0.017\\nsamples = 6756\\nvalue = [6698, 58]'),\n",
       " Text(159.18076254914513, 172.96363636363637, 'Age <= 42.5\\ngini = 0.03\\nsamples = 1989\\nvalue = [1959, 30]'),\n",
       " Text(151.80334643869435, 163.07999999999998, 'Widow <= 0.5\\ngini = 0.016\\nsamples = 1380\\nvalue = [1369, 11]'),\n",
       " Text(148.3136143366554, 153.19636363636363, 'Municipal apartment <= 0.5\\ngini = 0.015\\nsamples = 1367\\nvalue = [1357, 10]'),\n",
       " Text(144.27287190271556, 143.31272727272727, 'State servant <= 0.5\\ngini = 0.013\\nsamples = 1349\\nvalue = [1340, 9]'),\n",
       " Text(139.13010880497396, 133.42909090909092, 'RevenuAnnuel <= 105750.0\\ngini = 0.011\\nsamples = 1272\\nvalue = [1265, 7]'),\n",
       " Text(134.72202614976686, 123.54545454545455, 'RevenuAnnuel <= 101250.0\\ngini = 0.032\\nsamples = 244\\nvalue = [240, 4]'),\n",
       " Text(132.76287830300814, 113.66181818181819, 'Age <= 34.5\\ngini = 0.017\\nsamples = 227\\nvalue = [225, 2]'),\n",
       " Text(131.7833043796288, 103.77818181818182, 'gini = 0.0\\nsamples = 134\\nvalue = [134, 0]'),\n",
       " Text(133.7424522263875, 103.77818181818182, 'Age <= 35.5\\ngini = 0.042\\nsamples = 93\\nvalue = [91, 2]'),\n",
       " Text(131.7833043796288, 93.89454545454547, 'Experience <= 1.0\\ngini = 0.153\\nsamples = 12\\nvalue = [11, 1]'),\n",
       " Text(130.80373045624944, 84.01090909090911, 'gini = 0.278\\nsamples = 6\\nvalue = [5, 1]'),\n",
       " Text(132.76287830300814, 84.01090909090911, 'gini = 0.0\\nsamples = 6\\nvalue = [6, 0]'),\n",
       " Text(135.7016000731462, 93.89454545454547, 'RevenuAnnuel <= 72000.0\\ngini = 0.024\\nsamples = 81\\nvalue = [80, 1]'),\n",
       " Text(134.72202614976686, 84.01090909090911, 'Age <= 40.5\\ngini = 0.074\\nsamples = 26\\nvalue = [25, 1]'),\n",
       " Text(133.7424522263875, 74.12727272727273, 'gini = 0.198\\nsamples = 9\\nvalue = [8, 1]'),\n",
       " Text(135.7016000731462, 74.12727272727273, 'gini = 0.0\\nsamples = 17\\nvalue = [17, 0]'),\n",
       " Text(136.68117399652556, 84.01090909090911, 'gini = 0.0\\nsamples = 55\\nvalue = [55, 0]'),\n",
       " Text(136.68117399652556, 113.66181818181819, 'Age <= 28.5\\ngini = 0.208\\nsamples = 17\\nvalue = [15, 2]'),\n",
       " Text(135.7016000731462, 103.77818181818182, 'gini = 0.444\\nsamples = 6\\nvalue = [4, 2]'),\n",
       " Text(137.6607479199049, 103.77818181818182, 'gini = 0.0\\nsamples = 11\\nvalue = [11, 0]'),\n",
       " Text(143.53819146018105, 123.54545454545455, 'Single / not married <= 0.5\\ngini = 0.006\\nsamples = 1028\\nvalue = [1025, 3]'),\n",
       " Text(141.57904361342233, 113.66181818181819, 'RevenuAnnuel <= 113850.0\\ngini = 0.002\\nsamples = 861\\nvalue = [860, 1]'),\n",
       " Text(140.59946969004298, 103.77818181818182, 'Working <= 0.5\\ngini = 0.013\\nsamples = 152\\nvalue = [151, 1]'),\n",
       " Text(139.61989576666363, 93.89454545454547, 'NombreEnfants <= 1.5\\ngini = 0.062\\nsamples = 31\\nvalue = [30, 1]'),\n",
       " Text(138.64032184328428, 84.01090909090911, 'gini = 0.0\\nsamples = 24\\nvalue = [24, 0]'),\n",
       " Text(140.59946969004298, 84.01090909090911, 'gini = 0.245\\nsamples = 7\\nvalue = [6, 1]'),\n",
       " Text(141.57904361342233, 93.89454545454547, 'gini = 0.0\\nsamples = 121\\nvalue = [121, 0]'),\n",
       " Text(142.5586175368017, 103.77818181818182, 'gini = 0.0\\nsamples = 709\\nvalue = [709, 0]'),\n",
       " Text(145.49733930693975, 113.66181818181819, 'Age <= 34.0\\ngini = 0.024\\nsamples = 167\\nvalue = [165, 2]'),\n",
       " Text(144.5177653835604, 103.77818181818182, 'gini = 0.0\\nsamples = 130\\nvalue = [130, 0]'),\n",
       " Text(146.4769132303191, 103.77818181818182, 'M <= 0.5\\ngini = 0.102\\nsamples = 37\\nvalue = [35, 2]'),\n",
       " Text(145.49733930693975, 93.89454545454547, 'gini = 0.0\\nsamples = 26\\nvalue = [26, 0]'),\n",
       " Text(147.45648715369848, 93.89454545454547, 'Working <= 0.5\\ngini = 0.298\\nsamples = 11\\nvalue = [9, 2]'),\n",
       " Text(146.4769132303191, 84.01090909090911, 'gini = 0.0\\nsamples = 6\\nvalue = [6, 0]'),\n",
       " Text(148.43606107707782, 84.01090909090911, 'gini = 0.48\\nsamples = 5\\nvalue = [3, 2]'),\n",
       " Text(149.41563500045717, 133.42909090909092, 'Y <= 0.5\\ngini = 0.051\\nsamples = 77\\nvalue = [75, 2]'),\n",
       " Text(148.43606107707782, 123.54545454545455, 'gini = 0.0\\nsamples = 52\\nvalue = [52, 0]'),\n",
       " Text(150.39520892383652, 123.54545454545455, 'Age <= 28.5\\ngini = 0.147\\nsamples = 25\\nvalue = [23, 2]'),\n",
       " Text(149.41563500045717, 113.66181818181819, 'Age <= 25.5\\ngini = 0.26\\nsamples = 13\\nvalue = [11, 2]'),\n",
       " Text(148.43606107707782, 103.77818181818182, 'gini = 0.32\\nsamples = 5\\nvalue = [4, 1]'),\n",
       " Text(150.39520892383652, 103.77818181818182, 'gini = 0.219\\nsamples = 8\\nvalue = [7, 1]'),\n",
       " Text(151.3747828472159, 113.66181818181819, 'gini = 0.0\\nsamples = 12\\nvalue = [12, 0]'),\n",
       " Text(152.35435677059525, 143.31272727272727, 'MembreFamille <= 2.5\\ngini = 0.105\\nsamples = 18\\nvalue = [17, 1]'),\n",
       " Text(151.3747828472159, 133.42909090909092, 'gini = 0.0\\nsamples = 13\\nvalue = [13, 0]'),\n",
       " Text(153.3339306939746, 133.42909090909092, 'gini = 0.32\\nsamples = 5\\nvalue = [4, 1]'),\n",
       " Text(155.2930785407333, 153.19636363636363, 'Experience <= 1.5\\ngini = 0.142\\nsamples = 13\\nvalue = [12, 1]'),\n",
       " Text(154.31350461735394, 143.31272727272727, 'gini = 0.0\\nsamples = 8\\nvalue = [8, 0]'),\n",
       " Text(156.27265246411267, 143.31272727272727, 'gini = 0.32\\nsamples = 5\\nvalue = [4, 1]'),\n",
       " Text(166.55817865959588, 163.07999999999998, 'RevenuAnnuel <= 101250.0\\ngini = 0.06\\nsamples = 609\\nvalue = [590, 19]'),\n",
       " Text(159.2113742342507, 153.19636363636363, 'Single / not married <= 0.5\\ngini = 0.144\\nsamples = 115\\nvalue = [106, 9]'),\n",
       " Text(158.23180031087136, 143.31272727272727, 'Higher education <= 0.5\\ngini = 0.103\\nsamples = 110\\nvalue = [104, 6]'),\n",
       " Text(157.25222638749202, 133.42909090909092, 'RevenuAnnuel <= 88875.0\\ngini = 0.074\\nsamples = 104\\nvalue = [100, 4]'),\n",
       " Text(156.27265246411267, 123.54545454545455, 'gini = 0.0\\nsamples = 53\\nvalue = [53, 0]'),\n",
       " Text(158.23180031087136, 123.54545454545455, 'Age <= 48.5\\ngini = 0.145\\nsamples = 51\\nvalue = [47, 4]'),\n",
       " Text(156.27265246411267, 113.66181818181819, 'NombreEnfants <= 0.5\\ngini = 0.227\\nsamples = 23\\nvalue = [20, 3]'),\n",
       " Text(155.2930785407333, 103.77818181818182, 'M <= 0.5\\ngini = 0.337\\nsamples = 14\\nvalue = [11, 3]'),\n",
       " Text(154.31350461735394, 93.89454545454547, 'gini = 0.444\\nsamples = 6\\nvalue = [4, 2]'),\n",
       " Text(156.27265246411267, 93.89454545454547, 'gini = 0.219\\nsamples = 8\\nvalue = [7, 1]'),\n",
       " Text(157.25222638749202, 103.77818181818182, 'gini = 0.0\\nsamples = 9\\nvalue = [9, 0]'),\n",
       " Text(160.1909481576301, 113.66181818181819, 'Y <= 0.5\\ngini = 0.069\\nsamples = 28\\nvalue = [27, 1]'),\n",
       " Text(159.2113742342507, 103.77818181818182, 'gini = 0.0\\nsamples = 20\\nvalue = [20, 0]'),\n",
       " Text(161.17052208100944, 103.77818181818182, 'gini = 0.219\\nsamples = 8\\nvalue = [7, 1]'),\n",
       " Text(159.2113742342507, 133.42909090909092, 'gini = 0.444\\nsamples = 6\\nvalue = [4, 2]'),\n",
       " Text(160.1909481576301, 143.31272727272727, 'gini = 0.48\\nsamples = 5\\nvalue = [2, 3]'),\n",
       " Text(173.90498308494105, 153.19636363636363, 'Age <= 61.0\\ngini = 0.04\\nsamples = 494\\nvalue = [484, 10]'),\n",
       " Text(172.92540916156167, 143.31272727272727, 'Secondary / secondary special <= 0.5\\ngini = 0.036\\nsamples = 486\\nvalue = [477, 9]'),\n",
       " Text(168.51732650635458, 133.42909090909092, 'Y <= 0.5\\ngini = 0.079\\nsamples = 122\\nvalue = [117, 5]'),\n",
       " Text(166.0683916979062, 123.54545454545455, 'M <= 0.5\\ngini = 0.126\\nsamples = 59\\nvalue = [55, 4]'),\n",
       " Text(164.10924385114748, 113.66181818181819, 'Age <= 45.0\\ngini = 0.043\\nsamples = 45\\nvalue = [44, 1]'),\n",
       " Text(163.12966992776813, 103.77818181818182, 'gini = 0.278\\nsamples = 6\\nvalue = [5, 1]'),\n",
       " Text(165.08881777452686, 103.77818181818182, 'gini = 0.0\\nsamples = 39\\nvalue = [39, 0]'),\n",
       " Text(168.0275395446649, 113.66181818181819, 'Age <= 57.0\\ngini = 0.337\\nsamples = 14\\nvalue = [11, 3]'),\n",
       " Text(167.04796562128556, 103.77818181818182, 'gini = 0.469\\nsamples = 8\\nvalue = [5, 3]'),\n",
       " Text(169.00711346804425, 103.77818181818182, 'gini = 0.0\\nsamples = 6\\nvalue = [6, 0]'),\n",
       " Text(170.96626131480298, 123.54545454545455, 'Lower secondary <= 0.5\\ngini = 0.031\\nsamples = 63\\nvalue = [62, 1]'),\n",
       " Text(169.98668739142363, 113.66181818181819, 'gini = 0.0\\nsamples = 53\\nvalue = [53, 0]'),\n",
       " Text(171.94583523818233, 113.66181818181819, 'gini = 0.18\\nsamples = 10\\nvalue = [9, 1]'),\n",
       " Text(177.33349181676877, 133.42909090909092, 'Age <= 43.5\\ngini = 0.022\\nsamples = 364\\nvalue = [360, 4]'),\n",
       " Text(174.8845570083204, 123.54545454545455, 'RevenuAnnuel <= 130500.0\\ngini = 0.095\\nsamples = 20\\nvalue = [19, 1]'),\n",
       " Text(173.90498308494105, 113.66181818181819, 'gini = 0.245\\nsamples = 7\\nvalue = [6, 1]'),\n",
       " Text(175.86413093169975, 113.66181818181819, 'gini = 0.0\\nsamples = 13\\nvalue = [13, 0]'),\n",
       " Text(179.78242662521717, 123.54545454545455, 'Experience <= 0.5\\ngini = 0.017\\nsamples = 344\\nvalue = [341, 3]'),\n",
       " Text(177.82327877845844, 113.66181818181819, 'RevenuAnnuel <= 137250.0\\ngini = 0.043\\nsamples = 90\\nvalue = [88, 2]'),\n",
       " Text(176.8437048550791, 103.77818181818182, 'M <= 0.5\\ngini = 0.102\\nsamples = 37\\nvalue = [35, 2]'),\n",
       " Text(175.86413093169975, 93.89454545454547, 'RevenuAnnuel <= 119250.0\\ngini = 0.208\\nsamples = 17\\nvalue = [15, 2]'),\n",
       " Text(174.8845570083204, 84.01090909090911, 'gini = 0.0\\nsamples = 5\\nvalue = [5, 0]'),\n",
       " Text(176.8437048550791, 84.01090909090911, 'Age <= 50.5\\ngini = 0.278\\nsamples = 12\\nvalue = [10, 2]'),\n",
       " Text(175.86413093169975, 74.12727272727273, 'gini = 0.32\\nsamples = 5\\nvalue = [4, 1]'),\n",
       " Text(177.82327877845844, 74.12727272727273, 'gini = 0.245\\nsamples = 7\\nvalue = [6, 1]'),\n",
       " Text(177.82327877845844, 93.89454545454547, 'gini = 0.0\\nsamples = 20\\nvalue = [20, 0]'),\n",
       " Text(178.80285270183782, 103.77818181818182, 'gini = 0.0\\nsamples = 53\\nvalue = [53, 0]'),\n",
       " Text(181.74157447197587, 113.66181818181819, 'M <= 0.5\\ngini = 0.008\\nsamples = 254\\nvalue = [253, 1]'),\n",
       " Text(180.76200054859652, 103.77818181818182, 'gini = 0.0\\nsamples = 187\\nvalue = [187, 0]'),\n",
       " Text(182.72114839535524, 103.77818181818182, 'Experience <= 1.5\\ngini = 0.029\\nsamples = 67\\nvalue = [66, 1]'),\n",
       " Text(181.74157447197587, 93.89454545454547, 'Age <= 47.5\\ngini = 0.071\\nsamples = 27\\nvalue = [26, 1]'),\n",
       " Text(180.76200054859652, 84.01090909090911, 'NombreEnfants <= 0.5\\ngini = 0.165\\nsamples = 11\\nvalue = [10, 1]'),\n",
       " Text(179.78242662521717, 74.12727272727273, 'gini = 0.278\\nsamples = 6\\nvalue = [5, 1]'),\n",
       " Text(181.74157447197587, 74.12727272727273, 'gini = 0.0\\nsamples = 5\\nvalue = [5, 0]'),\n",
       " Text(182.72114839535524, 84.01090909090911, 'gini = 0.0\\nsamples = 16\\nvalue = [16, 0]'),\n",
       " Text(183.7007223187346, 93.89454545454547, 'gini = 0.0\\nsamples = 40\\nvalue = [40, 0]'),\n",
       " Text(174.8845570083204, 143.31272727272727, 'gini = 0.219\\nsamples = 8\\nvalue = [7, 1]'),\n",
       " Text(229.64120874097102, 172.96363636363637, 'Lower secondary <= 0.5\\ngini = 0.012\\nsamples = 4767\\nvalue = [4739, 28]'),\n",
       " Text(223.66427722410168, 163.07999999999998, 'NombreEnfants <= 2.5\\ngini = 0.011\\nsamples = 4724\\nvalue = [4698, 26]'),\n",
       " Text(214.64913596050107, 153.19636363636363, 'State servant <= 0.5\\ngini = 0.01\\nsamples = 4623\\nvalue = [4600, 23]'),\n",
       " Text(204.7003383011795, 143.31272727272727, 'Rented apartment <= 0.5\\ngini = 0.008\\nsamples = 4139\\nvalue = [4123, 16]'),\n",
       " Text(197.29231050562313, 133.42909090909092, 'Experience <= 3.5\\ngini = 0.007\\nsamples = 4095\\nvalue = [4080, 15]'),\n",
       " Text(189.5781658590107, 123.54545454545455, 'Age <= 34.5\\ngini = 0.017\\nsamples = 597\\nvalue = [592, 5]'),\n",
       " Text(187.619018012252, 113.66181818181819, 'Age <= 33.5\\ngini = 0.032\\nsamples = 243\\nvalue = [239, 4]'),\n",
       " Text(186.63944408887264, 103.77818181818182, 'RevenuAnnuel <= 171000.0\\ngini = 0.017\\nsamples = 234\\nvalue = [232, 2]'),\n",
       " Text(185.6598701654933, 93.89454545454547, 'gini = 0.0\\nsamples = 178\\nvalue = [178, 0]'),\n",
       " Text(187.619018012252, 93.89454545454547, 'M <= 0.5\\ngini = 0.069\\nsamples = 56\\nvalue = [54, 2]'),\n",
       " Text(186.63944408887264, 84.01090909090911, 'gini = 0.0\\nsamples = 28\\nvalue = [28, 0]'),\n",
       " Text(188.59859193563136, 84.01090909090911, 'Age <= 28.5\\ngini = 0.133\\nsamples = 28\\nvalue = [26, 2]'),\n",
       " Text(187.619018012252, 74.12727272727273, 'gini = 0.0\\nsamples = 15\\nvalue = [15, 0]'),\n",
       " Text(189.5781658590107, 74.12727272727273, 'RevenuAnnuel <= 182250.0\\ngini = 0.26\\nsamples = 13\\nvalue = [11, 2]'),\n",
       " Text(188.59859193563136, 64.24363636363637, 'gini = 0.408\\nsamples = 7\\nvalue = [5, 2]'),\n",
       " Text(190.55773978239006, 64.24363636363637, 'gini = 0.0\\nsamples = 6\\nvalue = [6, 0]'),\n",
       " Text(188.59859193563136, 103.77818181818182, 'gini = 0.346\\nsamples = 9\\nvalue = [7, 2]'),\n",
       " Text(191.53731370576944, 113.66181818181819, 'M <= 0.5\\ngini = 0.006\\nsamples = 354\\nvalue = [353, 1]'),\n",
       " Text(190.55773978239006, 103.77818181818182, 'gini = 0.0\\nsamples = 245\\nvalue = [245, 0]'),\n",
       " Text(192.51688762914878, 103.77818181818182, 'Age <= 42.5\\ngini = 0.018\\nsamples = 109\\nvalue = [108, 1]'),\n",
       " Text(191.53731370576944, 93.89454545454547, 'Age <= 41.5\\ngini = 0.046\\nsamples = 42\\nvalue = [41, 1]'),\n",
       " Text(190.55773978239006, 84.01090909090911, 'gini = 0.0\\nsamples = 36\\nvalue = [36, 0]'),\n",
       " Text(192.51688762914878, 84.01090909090911, 'gini = 0.278\\nsamples = 6\\nvalue = [5, 1]'),\n",
       " Text(193.49646155252813, 93.89454545454547, 'gini = 0.0\\nsamples = 67\\nvalue = [67, 0]'),\n",
       " Text(205.00645515223556, 123.54545454545455, 'Age <= 49.5\\ngini = 0.006\\nsamples = 3498\\nvalue = [3488, 10]'),\n",
       " Text(199.86369205449392, 113.66181818181819, 'Experience <= 24.5\\ngini = 0.003\\nsamples = 2641\\nvalue = [2637, 4]'),\n",
       " Text(197.41475724604555, 103.77818181818182, 'Experience <= 7.5\\ngini = 0.002\\nsamples = 2585\\nvalue = [2582, 3]'),\n",
       " Text(196.4351833226662, 93.89454545454547, 'Working <= 0.5\\ngini = 0.004\\nsamples = 1374\\nvalue = [1371, 3]'),\n",
       " Text(194.47603547590748, 84.01090909090911, 'MembreFamille <= 2.5\\ngini = 0.009\\nsamples = 429\\nvalue = [427, 2]'),\n",
       " Text(193.49646155252813, 74.12727272727273, 'gini = 0.0\\nsamples = 282\\nvalue = [282, 0]'),\n",
       " Text(195.45560939928683, 74.12727272727273, 'Married <= 0.5\\ngini = 0.027\\nsamples = 147\\nvalue = [145, 2]'),\n",
       " Text(194.47603547590748, 64.24363636363637, 'gini = 0.18\\nsamples = 10\\nvalue = [9, 1]'),\n",
       " Text(196.4351833226662, 64.24363636363637, 'RevenuAnnuel <= 117000.0\\ngini = 0.014\\nsamples = 137\\nvalue = [136, 1]'),\n",
       " Text(195.45560939928683, 54.360000000000014, 'RevenuAnnuel <= 101250.0\\ngini = 0.056\\nsamples = 35\\nvalue = [34, 1]'),\n",
       " Text(194.47603547590748, 44.47636363636366, 'gini = 0.0\\nsamples = 20\\nvalue = [20, 0]'),\n",
       " Text(196.4351833226662, 44.47636363636366, 'Age <= 38.5\\ngini = 0.124\\nsamples = 15\\nvalue = [14, 1]'),\n",
       " Text(195.45560939928683, 34.592727272727274, 'gini = 0.32\\nsamples = 5\\nvalue = [4, 1]'),\n",
       " Text(197.41475724604555, 34.592727272727274, 'gini = 0.0\\nsamples = 10\\nvalue = [10, 0]'),\n",
       " Text(197.41475724604555, 54.360000000000014, 'gini = 0.0\\nsamples = 102\\nvalue = [102, 0]'),\n",
       " Text(198.3943311694249, 84.01090909090911, 'Experience <= 6.5\\ngini = 0.002\\nsamples = 945\\nvalue = [944, 1]'),\n",
       " Text(197.41475724604555, 74.12727272727273, 'gini = 0.0\\nsamples = 832\\nvalue = [832, 0]'),\n",
       " Text(199.37390509280425, 74.12727272727273, 'RevenuAnnuel <= 173250.0\\ngini = 0.018\\nsamples = 113\\nvalue = [112, 1]'),\n",
       " Text(198.3943311694249, 64.24363636363637, 'gini = 0.0\\nsamples = 92\\nvalue = [92, 0]'),\n",
       " Text(200.3534790161836, 64.24363636363637, 'M <= 0.5\\ngini = 0.091\\nsamples = 21\\nvalue = [20, 1]'),\n",
       " Text(199.37390509280425, 54.360000000000014, 'gini = 0.0\\nsamples = 12\\nvalue = [12, 0]'),\n",
       " Text(201.33305293956298, 54.360000000000014, 'gini = 0.198\\nsamples = 9\\nvalue = [8, 1]'),\n",
       " Text(198.3943311694249, 93.89454545454547, 'gini = 0.0\\nsamples = 1211\\nvalue = [1211, 0]'),\n",
       " Text(202.31262686294232, 103.77818181818182, 'Age <= 44.5\\ngini = 0.035\\nsamples = 56\\nvalue = [55, 1]'),\n",
       " Text(201.33305293956298, 93.89454545454547, 'RevenuAnnuel <= 132750.0\\ngini = 0.117\\nsamples = 16\\nvalue = [15, 1]'),\n",
       " Text(200.3534790161836, 84.01090909090911, 'gini = 0.278\\nsamples = 6\\nvalue = [5, 1]'),\n",
       " Text(202.31262686294232, 84.01090909090911, 'gini = 0.0\\nsamples = 10\\nvalue = [10, 0]'),\n",
       " Text(203.29220078632167, 93.89454545454547, 'gini = 0.0\\nsamples = 40\\nvalue = [40, 0]'),\n",
       " Text(210.14921824997717, 113.66181818181819, 'Age <= 51.5\\ngini = 0.014\\nsamples = 857\\nvalue = [851, 6]'),\n",
       " Text(206.23092255645975, 103.77818181818182, 'RevenuAnnuel <= 74250.0\\ngini = 0.034\\nsamples = 234\\nvalue = [230, 4]'),\n",
       " Text(205.2513486330804, 93.89454545454547, 'gini = 0.32\\nsamples = 5\\nvalue = [4, 1]'),\n",
       " Text(207.2104964798391, 93.89454545454547, 'Single / not married <= 0.5\\ngini = 0.026\\nsamples = 229\\nvalue = [226, 3]'),\n",
       " Text(205.2513486330804, 84.01090909090911, 'Experience <= 20.5\\ngini = 0.01\\nsamples = 198\\nvalue = [197, 1]'),\n",
       " Text(204.27177470970102, 74.12727272727273, 'gini = 0.0\\nsamples = 179\\nvalue = [179, 0]'),\n",
       " Text(206.23092255645975, 74.12727272727273, 'Experience <= 23.0\\ngini = 0.1\\nsamples = 19\\nvalue = [18, 1]'),\n",
       " Text(205.2513486330804, 64.24363636363637, 'gini = 0.278\\nsamples = 6\\nvalue = [5, 1]'),\n",
       " Text(207.2104964798391, 64.24363636363637, 'gini = 0.0\\nsamples = 13\\nvalue = [13, 0]'),\n",
       " Text(209.1696443265978, 84.01090909090911, 'Experience <= 5.5\\ngini = 0.121\\nsamples = 31\\nvalue = [29, 2]'),\n",
       " Text(208.19007040321844, 74.12727272727273, 'gini = 0.0\\nsamples = 17\\nvalue = [17, 0]'),\n",
       " Text(210.14921824997717, 74.12727272727273, 'MembreFamille <= 1.5\\ngini = 0.245\\nsamples = 14\\nvalue = [12, 2]'),\n",
       " Text(209.1696443265978, 64.24363636363637, 'gini = 0.375\\nsamples = 8\\nvalue = [6, 2]'),\n",
       " Text(211.12879217335652, 64.24363636363637, 'gini = 0.0\\nsamples = 6\\nvalue = [6, 0]'),\n",
       " Text(214.0675139434946, 103.77818181818182, 'Experience <= 11.5\\ngini = 0.006\\nsamples = 623\\nvalue = [621, 2]'),\n",
       " Text(213.0879400201152, 93.89454545454547, 'gini = 0.0\\nsamples = 373\\nvalue = [373, 0]'),\n",
       " Text(215.04708786687394, 93.89454545454547, 'Experience <= 12.5\\ngini = 0.016\\nsamples = 250\\nvalue = [248, 2]'),\n",
       " Text(213.0879400201152, 84.01090909090911, 'RevenuAnnuel <= 146250.0\\ngini = 0.091\\nsamples = 21\\nvalue = [20, 1]'),\n",
       " Text(212.10836609673586, 74.12727272727273, 'gini = 0.0\\nsamples = 14\\nvalue = [14, 0]'),\n",
       " Text(214.0675139434946, 74.12727272727273, 'gini = 0.245\\nsamples = 7\\nvalue = [6, 1]'),\n",
       " Text(217.00623571363263, 84.01090909090911, 'Working <= 0.5\\ngini = 0.009\\nsamples = 229\\nvalue = [228, 1]'),\n",
       " Text(216.02666179025329, 74.12727272727273, 'Experience <= 18.5\\ngini = 0.059\\nsamples = 33\\nvalue = [32, 1]'),\n",
       " Text(215.04708786687394, 64.24363636363637, 'gini = 0.0\\nsamples = 23\\nvalue = [23, 0]'),\n",
       " Text(217.00623571363263, 64.24363636363637, 'gini = 0.18\\nsamples = 10\\nvalue = [9, 1]'),\n",
       " Text(217.98580963701198, 74.12727272727273, 'gini = 0.0\\nsamples = 196\\nvalue = [196, 0]'),\n",
       " Text(212.10836609673586, 133.42909090909092, 'Age <= 35.5\\ngini = 0.044\\nsamples = 44\\nvalue = [43, 1]'),\n",
       " Text(211.12879217335652, 123.54545454545455, 'gini = 0.0\\nsamples = 29\\nvalue = [29, 0]'),\n",
       " Text(213.0879400201152, 123.54545454545455, 'NombreEnfants <= 0.5\\ngini = 0.124\\nsamples = 15\\nvalue = [14, 1]'),\n",
       " Text(212.10836609673586, 113.66181818181819, 'gini = 0.245\\nsamples = 7\\nvalue = [6, 1]'),\n",
       " Text(214.0675139434946, 113.66181818181819, 'gini = 0.0\\nsamples = 8\\nvalue = [8, 0]'),\n",
       " Text(224.59793361982264, 143.31272727272727, 'Municipal apartment <= 0.5\\ngini = 0.029\\nsamples = 484\\nvalue = [477, 7]'),\n",
       " Text(221.41431836883973, 133.42909090909092, 'Higher education <= 0.5\\ngini = 0.021\\nsamples = 472\\nvalue = [467, 5]'),\n",
       " Text(217.98580963701198, 123.54545454545455, 'Experience <= 18.5\\ngini = 0.006\\nsamples = 335\\nvalue = [334, 1]'),\n",
       " Text(217.00623571363263, 113.66181818181819, 'gini = 0.0\\nsamples = 266\\nvalue = [266, 0]'),\n",
       " Text(218.96538356039136, 113.66181818181819, 'Experience <= 20.5\\ngini = 0.029\\nsamples = 69\\nvalue = [68, 1]'),\n",
       " Text(217.98580963701198, 103.77818181818182, 'Married <= 0.5\\ngini = 0.117\\nsamples = 16\\nvalue = [15, 1]'),\n",
       " Text(217.00623571363263, 93.89454545454547, 'gini = 0.0\\nsamples = 11\\nvalue = [11, 0]'),\n",
       " Text(218.96538356039136, 93.89454545454547, 'gini = 0.32\\nsamples = 5\\nvalue = [4, 1]'),\n",
       " Text(219.9449574837707, 103.77818181818182, 'gini = 0.0\\nsamples = 53\\nvalue = [53, 0]'),\n",
       " Text(224.84282710066748, 123.54545454545455, 'MembreFamille <= 2.5\\ngini = 0.057\\nsamples = 137\\nvalue = [133, 4]'),\n",
       " Text(222.88367925390878, 113.66181818181819, 'M <= 0.5\\ngini = 0.018\\nsamples = 113\\nvalue = [112, 1]'),\n",
       " Text(221.9041053305294, 103.77818181818182, 'gini = 0.0\\nsamples = 105\\nvalue = [105, 0]'),\n",
       " Text(223.86325317728813, 103.77818181818182, 'gini = 0.219\\nsamples = 8\\nvalue = [7, 1]'),\n",
       " Text(226.80197494742617, 113.66181818181819, 'Age <= 41.5\\ngini = 0.219\\nsamples = 24\\nvalue = [21, 3]'),\n",
       " Text(225.82240102404683, 103.77818181818182, 'gini = 0.0\\nsamples = 18\\nvalue = [18, 0]'),\n",
       " Text(227.78154887080555, 103.77818181818182, 'gini = 0.5\\nsamples = 6\\nvalue = [3, 3]'),\n",
       " Text(227.78154887080555, 133.42909090909092, 'Age <= 35.0\\ngini = 0.278\\nsamples = 12\\nvalue = [10, 2]'),\n",
       " Text(226.80197494742617, 123.54545454545455, 'gini = 0.48\\nsamples = 5\\nvalue = [3, 2]'),\n",
       " Text(228.7611227941849, 123.54545454545455, 'gini = 0.0\\nsamples = 7\\nvalue = [7, 0]'),\n",
       " Text(232.67941848770232, 153.19636363636363, 'RevenuAnnuel <= 96750.0\\ngini = 0.058\\nsamples = 101\\nvalue = [98, 3]'),\n",
       " Text(230.7202706409436, 143.31272727272727, 'RevenuAnnuel <= 78750.0\\ngini = 0.231\\nsamples = 15\\nvalue = [13, 2]'),\n",
       " Text(229.74069671756425, 133.42909090909092, 'gini = 0.0\\nsamples = 10\\nvalue = [10, 0]'),\n",
       " Text(231.69984456432294, 133.42909090909092, 'gini = 0.48\\nsamples = 5\\nvalue = [3, 2]'),\n",
       " Text(234.63856633446102, 143.31272727272727, 'Age <= 42.5\\ngini = 0.023\\nsamples = 86\\nvalue = [85, 1]'),\n",
       " Text(233.65899241108167, 133.42909090909092, 'gini = 0.0\\nsamples = 75\\nvalue = [75, 0]'),\n",
       " Text(235.61814025784037, 133.42909090909092, 'gini = 0.165\\nsamples = 11\\nvalue = [10, 1]'),\n",
       " Text(235.61814025784037, 163.07999999999998, 'House / apartment <= 0.5\\ngini = 0.089\\nsamples = 43\\nvalue = [41, 2]'),\n",
       " Text(234.63856633446102, 153.19636363636363, 'gini = 0.346\\nsamples = 9\\nvalue = [7, 2]'),\n",
       " Text(236.59771418121974, 153.19636363636363, 'gini = 0.0\\nsamples = 34\\nvalue = [34, 0]'),\n",
       " Text(277.003225290299, 182.84727272727272, 'RevenuAnnuel <= 204750.0\\ngini = 0.033\\nsamples = 4686\\nvalue = [4608, 78]'),\n",
       " Text(249.2097284447289, 172.96363636363637, 'Experience <= 6.5\\ngini = 0.054\\nsamples = 719\\nvalue = [699, 20]'),\n",
       " Text(242.96494468318554, 163.07999999999998, 'Separated <= 0.5\\ngini = 0.025\\nsamples = 403\\nvalue = [398, 5]'),\n",
       " Text(240.51600987473714, 153.19636363636363, 'RevenuAnnuel <= 200250.0\\ngini = 0.01\\nsamples = 386\\nvalue = [384, 2]'),\n",
       " Text(238.55686202797844, 143.31272727272727, 'Incomplete higher <= 0.5\\ngini = 0.18\\nsamples = 10\\nvalue = [9, 1]'),\n",
       " Text(237.5772881045991, 133.42909090909092, 'gini = 0.32\\nsamples = 5\\nvalue = [4, 1]'),\n",
       " Text(239.5364359513578, 133.42909090909092, 'gini = 0.0\\nsamples = 5\\nvalue = [5, 0]'),\n",
       " Text(242.47515772149586, 143.31272727272727, 'Incomplete higher <= 0.5\\ngini = 0.005\\nsamples = 376\\nvalue = [375, 1]'),\n",
       " Text(241.4955837981165, 133.42909090909092, 'gini = 0.0\\nsamples = 363\\nvalue = [363, 0]'),\n",
       " Text(243.4547316448752, 133.42909090909092, 'Y <= 0.5\\ngini = 0.142\\nsamples = 13\\nvalue = [12, 1]'),\n",
       " Text(242.47515772149586, 123.54545454545455, 'gini = 0.32\\nsamples = 5\\nvalue = [4, 1]'),\n",
       " Text(244.43430556825456, 123.54545454545455, 'gini = 0.0\\nsamples = 8\\nvalue = [8, 0]'),\n",
       " Text(245.41387949163394, 153.19636363636363, 'Age <= 42.0\\ngini = 0.291\\nsamples = 17\\nvalue = [14, 3]'),\n",
       " Text(244.43430556825456, 143.31272727272727, 'gini = 0.42\\nsamples = 10\\nvalue = [7, 3]'),\n",
       " Text(246.39345341501328, 143.31272727272727, 'gini = 0.0\\nsamples = 7\\nvalue = [7, 0]'),\n",
       " Text(255.4545122062723, 163.07999999999998, 'Experience <= 10.5\\ngini = 0.09\\nsamples = 316\\nvalue = [301, 15]'),\n",
       " Text(251.78110999359973, 153.19636363636363, 'NombreEnfants <= 0.5\\ngini = 0.181\\nsamples = 129\\nvalue = [116, 13]'),\n",
       " Text(249.33217518515133, 143.31272727272727, 'Married <= 0.5\\ngini = 0.263\\nsamples = 77\\nvalue = [65, 12]'),\n",
       " Text(247.37302733839263, 133.42909090909092, 'Experience <= 7.5\\ngini = 0.054\\nsamples = 36\\nvalue = [35, 1]'),\n",
       " Text(246.39345341501328, 123.54545454545455, 'gini = 0.219\\nsamples = 8\\nvalue = [7, 1]'),\n",
       " Text(248.35260126177198, 123.54545454545455, 'gini = 0.0\\nsamples = 28\\nvalue = [28, 0]'),\n",
       " Text(251.29132303191005, 133.42909090909092, 'Working <= 0.5\\ngini = 0.393\\nsamples = 41\\nvalue = [30, 11]'),\n",
       " Text(250.3117491085307, 123.54545454545455, 'gini = 0.0\\nsamples = 7\\nvalue = [7, 0]'),\n",
       " Text(252.2708969552894, 123.54545454545455, 'Higher education <= 0.5\\ngini = 0.438\\nsamples = 34\\nvalue = [23, 11]'),\n",
       " Text(251.29132303191005, 113.66181818181819, 'Experience <= 8.5\\ngini = 0.393\\nsamples = 26\\nvalue = [19, 7]'),\n",
       " Text(250.3117491085307, 103.77818181818182, 'gini = 0.0\\nsamples = 10\\nvalue = [10, 0]'),\n",
       " Text(252.2708969552894, 103.77818181818182, 'Age <= 47.0\\ngini = 0.492\\nsamples = 16\\nvalue = [9, 7]'),\n",
       " Text(251.29132303191005, 93.89454545454547, 'gini = 0.49\\nsamples = 7\\nvalue = [3, 4]'),\n",
       " Text(253.25047087866875, 93.89454545454547, 'gini = 0.444\\nsamples = 9\\nvalue = [6, 3]'),\n",
       " Text(253.25047087866875, 113.66181818181819, 'gini = 0.5\\nsamples = 8\\nvalue = [4, 4]'),\n",
       " Text(254.23004480204813, 143.31272727272727, 'Married <= 0.5\\ngini = 0.038\\nsamples = 52\\nvalue = [51, 1]'),\n",
       " Text(253.25047087866875, 133.42909090909092, 'gini = 0.278\\nsamples = 6\\nvalue = [5, 1]'),\n",
       " Text(255.20961872542748, 133.42909090909092, 'gini = 0.0\\nsamples = 46\\nvalue = [46, 0]'),\n",
       " Text(259.1279144189449, 153.19636363636363, 'Age <= 38.0\\ngini = 0.021\\nsamples = 187\\nvalue = [185, 2]'),\n",
       " Text(258.14834049556555, 143.31272727272727, 'Experience <= 13.5\\ngini = 0.153\\nsamples = 24\\nvalue = [22, 2]'),\n",
       " Text(257.1687665721862, 133.42909090909092, 'gini = 0.0\\nsamples = 10\\nvalue = [10, 0]'),\n",
       " Text(259.1279144189449, 133.42909090909092, 'MembreFamille <= 2.5\\ngini = 0.245\\nsamples = 14\\nvalue = [12, 2]'),\n",
       " Text(258.14834049556555, 123.54545454545455, 'gini = 0.375\\nsamples = 8\\nvalue = [6, 2]'),\n",
       " Text(260.10748834232425, 123.54545454545455, 'gini = 0.0\\nsamples = 6\\nvalue = [6, 0]'),\n",
       " Text(260.10748834232425, 143.31272727272727, 'gini = 0.0\\nsamples = 163\\nvalue = [163, 0]'),\n",
       " Text(304.7967221358691, 172.96363636363637, 'Age <= 46.5\\ngini = 0.029\\nsamples = 3967\\nvalue = [3909, 58]'),\n",
       " Text(284.81111822254735, 163.07999999999998, 'Single / not married <= 0.5\\ngini = 0.023\\nsamples = 2757\\nvalue = [2725, 32]'),\n",
       " Text(277.43370211209657, 153.19636363636363, 'With parents <= 0.5\\ngini = 0.017\\nsamples = 2270\\nvalue = [2250, 20]'),\n",
       " Text(270.5154612782299, 143.31272727272727, 'Experience <= 11.5\\ngini = 0.015\\nsamples = 2190\\nvalue = [2173, 17]'),\n",
       " Text(263.0462101124623, 133.42909090909092, 'RevenuAnnuel <= 319500.0\\ngini = 0.011\\nsamples = 1949\\nvalue = [1938, 11]'),\n",
       " Text(262.06663618908294, 123.54545454545455, 'RevenuAnnuel <= 245250.0\\ngini = 0.015\\nsamples = 1483\\nvalue = [1472, 11]'),\n",
       " Text(256.92387309134136, 113.66181818181819, 'Age <= 37.5\\ngini = 0.003\\nsamples = 636\\nvalue = [635, 1]'),\n",
       " Text(255.944299167962, 103.77818181818182, 'gini = 0.0\\nsamples = 399\\nvalue = [399, 0]'),\n",
       " Text(257.9034470147207, 103.77818181818182, 'Age <= 38.5\\ngini = 0.008\\nsamples = 237\\nvalue = [236, 1]'),\n",
       " Text(256.92387309134136, 93.89454545454547, 'Experience <= 5.0\\ngini = 0.08\\nsamples = 24\\nvalue = [23, 1]'),\n",
       " Text(255.944299167962, 84.01090909090911, 'gini = 0.32\\nsamples = 5\\nvalue = [4, 1]'),\n",
       " Text(257.9034470147207, 84.01090909090911, 'gini = 0.0\\nsamples = 19\\nvalue = [19, 0]'),\n",
       " Text(258.88302093810006, 93.89454545454547, 'gini = 0.0\\nsamples = 213\\nvalue = [213, 0]'),\n",
       " Text(267.2093992868246, 113.66181818181819, 'Working <= 0.5\\ngini = 0.023\\nsamples = 847\\nvalue = [837, 10]'),\n",
       " Text(262.80131663161745, 103.77818181818182, 'RevenuAnnuel <= 310500.0\\ngini = 0.039\\nsamples = 353\\nvalue = [346, 7]'),\n",
       " Text(260.84216878485876, 93.89454545454547, 'M <= 0.5\\ngini = 0.027\\nsamples = 295\\nvalue = [291, 4]'),\n",
       " Text(259.8625948614794, 84.01090909090911, 'gini = 0.0\\nsamples = 179\\nvalue = [179, 0]'),\n",
       " Text(261.8217427082381, 84.01090909090911, 'Y <= 0.5\\ngini = 0.067\\nsamples = 116\\nvalue = [112, 4]'),\n",
       " Text(260.84216878485876, 74.12727272727273, 'Secondary / secondary special <= 0.5\\ngini = 0.153\\nsamples = 48\\nvalue = [44, 4]'),\n",
       " Text(259.8625948614794, 64.24363636363637, 'gini = 0.0\\nsamples = 30\\nvalue = [30, 0]'),\n",
       " Text(261.8217427082381, 64.24363636363637, 'NombreEnfants <= 0.5\\ngini = 0.346\\nsamples = 18\\nvalue = [14, 4]'),\n",
       " Text(260.84216878485876, 54.360000000000014, 'Age <= 39.5\\ngini = 0.48\\nsamples = 10\\nvalue = [6, 4]'),\n",
       " Text(259.8625948614794, 44.47636363636366, 'gini = 0.48\\nsamples = 5\\nvalue = [3, 2]'),\n",
       " Text(261.8217427082381, 44.47636363636366, 'gini = 0.48\\nsamples = 5\\nvalue = [3, 2]'),\n",
       " Text(262.80131663161745, 54.360000000000014, 'gini = 0.0\\nsamples = 8\\nvalue = [8, 0]'),\n",
       " Text(262.80131663161745, 74.12727272727273, 'gini = 0.0\\nsamples = 68\\nvalue = [68, 0]'),\n",
       " Text(264.76046447837615, 93.89454545454547, 'Age <= 37.5\\ngini = 0.098\\nsamples = 58\\nvalue = [55, 3]'),\n",
       " Text(263.7808905549968, 84.01090909090911, 'gini = 0.0\\nsamples = 30\\nvalue = [30, 0]'),\n",
       " Text(265.74003840175556, 84.01090909090911, 'Experience <= 3.5\\ngini = 0.191\\nsamples = 28\\nvalue = [25, 3]'),\n",
       " Text(264.76046447837615, 74.12727272727273, 'gini = 0.48\\nsamples = 5\\nvalue = [3, 2]'),\n",
       " Text(266.7196123251349, 74.12727272727273, 'MembreFamille <= 2.5\\ngini = 0.083\\nsamples = 23\\nvalue = [22, 1]'),\n",
       " Text(265.74003840175556, 64.24363636363637, 'gini = 0.0\\nsamples = 16\\nvalue = [16, 0]'),\n",
       " Text(267.69918624851425, 64.24363636363637, 'gini = 0.245\\nsamples = 7\\nvalue = [6, 1]'),\n",
       " Text(271.61748194203165, 103.77818181818182, 'Experience <= 8.5\\ngini = 0.012\\nsamples = 494\\nvalue = [491, 3]'),\n",
       " Text(268.6787601718936, 93.89454545454547, 'Age <= 45.5\\ngini = 0.005\\nsamples = 402\\nvalue = [401, 1]'),\n",
       " Text(267.69918624851425, 84.01090909090911, 'gini = 0.0\\nsamples = 367\\nvalue = [367, 0]'),\n",
       " Text(269.65833409527295, 84.01090909090911, 'Experience <= 0.5\\ngini = 0.056\\nsamples = 35\\nvalue = [34, 1]'),\n",
       " Text(268.6787601718936, 74.12727272727273, 'gini = 0.142\\nsamples = 13\\nvalue = [12, 1]'),\n",
       " Text(270.6379080186523, 74.12727272727273, 'gini = 0.0\\nsamples = 22\\nvalue = [22, 0]'),\n",
       " Text(274.55620371216975, 93.89454545454547, 'Age <= 32.0\\ngini = 0.043\\nsamples = 92\\nvalue = [90, 2]'),\n",
       " Text(273.57662978879034, 84.01090909090911, 'Age <= 29.5\\ngini = 0.231\\nsamples = 15\\nvalue = [13, 2]'),\n",
       " Text(272.597055865411, 74.12727272727273, 'gini = 0.0\\nsamples = 5\\nvalue = [5, 0]'),\n",
       " Text(274.55620371216975, 74.12727272727273, 'gini = 0.32\\nsamples = 10\\nvalue = [8, 2]'),\n",
       " Text(275.5357776355491, 84.01090909090911, 'gini = 0.0\\nsamples = 77\\nvalue = [77, 0]'),\n",
       " Text(264.02578403584164, 123.54545454545455, 'gini = 0.0\\nsamples = 466\\nvalue = [466, 0]'),\n",
       " Text(277.98471244399747, 133.42909090909092, 'Age <= 33.5\\ngini = 0.049\\nsamples = 241\\nvalue = [235, 6]'),\n",
       " Text(275.5357776355491, 123.54545454545455, 'MembreFamille <= 2.5\\ngini = 0.298\\nsamples = 11\\nvalue = [9, 2]'),\n",
       " Text(274.55620371216975, 113.66181818181819, 'gini = 0.48\\nsamples = 5\\nvalue = [3, 2]'),\n",
       " Text(276.51535155892844, 113.66181818181819, 'gini = 0.0\\nsamples = 6\\nvalue = [6, 0]'),\n",
       " Text(280.43364725244584, 123.54545454545455, 'Experience <= 21.5\\ngini = 0.034\\nsamples = 230\\nvalue = [226, 4]'),\n",
       " Text(278.47449940568714, 113.66181818181819, 'MembreFamille <= 2.5\\ngini = 0.028\\nsamples = 215\\nvalue = [212, 3]'),\n",
       " Text(277.4949254823078, 103.77818181818182, 'gini = 0.0\\nsamples = 105\\nvalue = [105, 0]'),\n",
       " Text(279.4540733290665, 103.77818181818182, 'Experience <= 15.5\\ngini = 0.053\\nsamples = 110\\nvalue = [107, 3]'),\n",
       " Text(278.47449940568714, 93.89454545454547, 'Age <= 43.5\\ngini = 0.08\\nsamples = 72\\nvalue = [69, 3]'),\n",
       " Text(277.4949254823078, 84.01090909090911, 'Y <= 0.5\\ngini = 0.059\\nsamples = 66\\nvalue = [64, 2]'),\n",
       " Text(276.51535155892844, 74.12727272727273, 'Working <= 0.5\\ngini = 0.102\\nsamples = 37\\nvalue = [35, 2]'),\n",
       " Text(275.5357776355491, 64.24363636363637, 'Experience <= 13.5\\ngini = 0.061\\nsamples = 32\\nvalue = [31, 1]'),\n",
       " Text(274.55620371216975, 54.360000000000014, 'Experience <= 12.5\\ngini = 0.105\\nsamples = 18\\nvalue = [17, 1]'),\n",
       " Text(273.57662978879034, 44.47636363636366, 'gini = 0.0\\nsamples = 10\\nvalue = [10, 0]'),\n",
       " Text(275.5357776355491, 44.47636363636366, 'gini = 0.219\\nsamples = 8\\nvalue = [7, 1]'),\n",
       " Text(276.51535155892844, 54.360000000000014, 'gini = 0.0\\nsamples = 14\\nvalue = [14, 0]'),\n",
       " Text(277.4949254823078, 64.24363636363637, 'gini = 0.32\\nsamples = 5\\nvalue = [4, 1]'),\n",
       " Text(278.47449940568714, 74.12727272727273, 'gini = 0.0\\nsamples = 29\\nvalue = [29, 0]'),\n",
       " Text(279.4540733290665, 84.01090909090911, 'gini = 0.278\\nsamples = 6\\nvalue = [5, 1]'),\n",
       " Text(280.43364725244584, 93.89454545454547, 'gini = 0.0\\nsamples = 38\\nvalue = [38, 0]'),\n",
       " Text(282.39279509920453, 113.66181818181819, 'RevenuAnnuel <= 261000.0\\ngini = 0.124\\nsamples = 15\\nvalue = [14, 1]'),\n",
       " Text(281.4132211758252, 103.77818181818182, 'gini = 0.0\\nsamples = 9\\nvalue = [9, 0]'),\n",
       " Text(283.37236902258394, 103.77818181818182, 'gini = 0.278\\nsamples = 6\\nvalue = [5, 1]'),\n",
       " Text(284.3519429459633, 143.31272727272727, 'Age <= 30.5\\ngini = 0.072\\nsamples = 80\\nvalue = [77, 3]'),\n",
       " Text(283.37236902258394, 133.42909090909092, 'Experience <= 4.5\\ngini = 0.227\\nsamples = 23\\nvalue = [20, 3]'),\n",
       " Text(282.39279509920453, 123.54545454545455, 'gini = 0.0\\nsamples = 16\\nvalue = [16, 0]'),\n",
       " Text(284.3519429459633, 123.54545454545455, 'gini = 0.49\\nsamples = 7\\nvalue = [4, 3]'),\n",
       " Text(285.33151686934264, 133.42909090909092, 'gini = 0.0\\nsamples = 57\\nvalue = [57, 0]'),\n",
       " Text(292.1885343329981, 153.19636363636363, 'Experience <= 3.5\\ngini = 0.048\\nsamples = 487\\nvalue = [475, 12]'),\n",
       " Text(289.24981256286003, 143.31272727272727, 'Age <= 42.5\\ngini = 0.095\\nsamples = 201\\nvalue = [191, 10]'),\n",
       " Text(288.2702386394807, 133.42909090909092, 'Age <= 27.5\\ngini = 0.117\\nsamples = 160\\nvalue = [150, 10]'),\n",
       " Text(286.311090792722, 123.54545454545455, 'Experience <= 0.5\\ngini = 0.03\\nsamples = 65\\nvalue = [64, 1]'),\n",
       " Text(285.33151686934264, 113.66181818181819, 'gini = 0.219\\nsamples = 8\\nvalue = [7, 1]'),\n",
       " Text(287.29066471610133, 113.66181818181819, 'gini = 0.0\\nsamples = 57\\nvalue = [57, 0]'),\n",
       " Text(290.2293864862394, 123.54545454545455, 'House / apartment <= 0.5\\ngini = 0.172\\nsamples = 95\\nvalue = [86, 9]'),\n",
       " Text(289.24981256286003, 113.66181818181819, 'gini = 0.0\\nsamples = 20\\nvalue = [20, 0]'),\n",
       " Text(291.2089604096187, 113.66181818181819, 'Age <= 28.5\\ngini = 0.211\\nsamples = 75\\nvalue = [66, 9]'),\n",
       " Text(289.24981256286003, 103.77818181818182, 'Experience <= 1.5\\ngini = 0.391\\nsamples = 15\\nvalue = [11, 4]'),\n",
       " Text(288.2702386394807, 93.89454545454547, 'gini = 0.32\\nsamples = 10\\nvalue = [8, 2]'),\n",
       " Text(290.2293864862394, 93.89454545454547, 'gini = 0.48\\nsamples = 5\\nvalue = [3, 2]'),\n",
       " Text(293.1681082563775, 103.77818181818182, 'Higher education <= 0.5\\ngini = 0.153\\nsamples = 60\\nvalue = [55, 5]'),\n",
       " Text(292.1885343329981, 93.89454545454547, 'Working <= 0.5\\ngini = 0.32\\nsamples = 25\\nvalue = [20, 5]'),\n",
       " Text(291.2089604096187, 84.01090909090911, 'Age <= 32.0\\ngini = 0.459\\nsamples = 14\\nvalue = [9, 5]'),\n",
       " Text(290.2293864862394, 74.12727272727273, 'gini = 0.32\\nsamples = 5\\nvalue = [4, 1]'),\n",
       " Text(292.1885343329981, 74.12727272727273, 'gini = 0.494\\nsamples = 9\\nvalue = [5, 4]'),\n",
       " Text(293.1681082563775, 84.01090909090911, 'gini = 0.0\\nsamples = 11\\nvalue = [11, 0]'),\n",
       " Text(294.1476821797568, 93.89454545454547, 'gini = 0.0\\nsamples = 35\\nvalue = [35, 0]'),\n",
       " Text(290.2293864862394, 133.42909090909092, 'gini = 0.0\\nsamples = 41\\nvalue = [41, 0]'),\n",
       " Text(295.1272561031362, 143.31272727272727, 'With parents <= 0.5\\ngini = 0.014\\nsamples = 286\\nvalue = [284, 2]'),\n",
       " Text(293.1681082563775, 133.42909090909092, 'Experience <= 13.5\\ngini = 0.007\\nsamples = 273\\nvalue = [272, 1]'),\n",
       " Text(292.1885343329981, 123.54545454545455, 'gini = 0.0\\nsamples = 233\\nvalue = [233, 0]'),\n",
       " Text(294.1476821797568, 123.54545454545455, 'Age <= 38.5\\ngini = 0.049\\nsamples = 40\\nvalue = [39, 1]'),\n",
       " Text(293.1681082563775, 113.66181818181819, 'gini = 0.198\\nsamples = 9\\nvalue = [8, 1]'),\n",
       " Text(295.1272561031362, 113.66181818181819, 'gini = 0.0\\nsamples = 31\\nvalue = [31, 0]'),\n",
       " Text(297.0864039498949, 133.42909090909092, 'Working <= 0.5\\ngini = 0.142\\nsamples = 13\\nvalue = [12, 1]'),\n",
       " Text(296.1068300265155, 123.54545454545455, 'gini = 0.32\\nsamples = 5\\nvalue = [4, 1]'),\n",
       " Text(298.0659778732742, 123.54545454545455, 'gini = 0.0\\nsamples = 8\\nvalue = [8, 0]'),\n",
       " Text(324.78232604919083, 163.07999999999998, 'Age <= 52.5\\ngini = 0.042\\nsamples = 1210\\nvalue = [1184, 26]'),\n",
       " Text(318.1931608302094, 153.19636363636363, 'MembreFamille <= 3.5\\ngini = 0.068\\nsamples = 655\\nvalue = [632, 23]'),\n",
       " Text(314.3207826643504, 143.31272727272727, 'Experience <= 9.5\\ngini = 0.062\\nsamples = 626\\nvalue = [606, 20]'),\n",
       " Text(309.51474810277045, 133.42909090909092, 'Age <= 51.5\\ngini = 0.077\\nsamples = 474\\nvalue = [455, 19]'),\n",
       " Text(304.80054859650727, 123.54545454545455, 'Experience <= 8.5\\ngini = 0.063\\nsamples = 429\\nvalue = [415, 14]'),\n",
       " Text(301.24959312425716, 113.66181818181819, 'RevenuAnnuel <= 254250.0\\ngini = 0.049\\nsamples = 402\\nvalue = [392, 10]'),\n",
       " Text(297.0864039498949, 103.77818181818182, 'Experience <= 7.5\\ngini = 0.012\\nsamples = 172\\nvalue = [171, 1]'),\n",
       " Text(296.1068300265155, 93.89454545454547, 'gini = 0.0\\nsamples = 141\\nvalue = [141, 0]'),\n",
       " Text(298.0659778732742, 93.89454545454547, 'Higher education <= 0.5\\ngini = 0.062\\nsamples = 31\\nvalue = [30, 1]'),\n",
       " Text(297.0864039498949, 84.01090909090911, 'gini = 0.0\\nsamples = 21\\nvalue = [21, 0]'),\n",
       " Text(299.04555179665357, 84.01090909090911, 'gini = 0.18\\nsamples = 10\\nvalue = [9, 1]'),\n",
       " Text(305.4127822986194, 103.77818181818182, 'Age <= 50.5\\ngini = 0.075\\nsamples = 230\\nvalue = [221, 9]'),\n",
       " Text(302.963847490171, 93.89454545454547, 'Single / not married <= 0.5\\ngini = 0.056\\nsamples = 207\\nvalue = [201, 6]'),\n",
       " Text(301.00469964341227, 84.01090909090911, 'RevenuAnnuel <= 263250.0\\ngini = 0.041\\nsamples = 191\\nvalue = [187, 4]'),\n",
       " Text(300.0251257200329, 74.12727272727273, 'gini = 0.245\\nsamples = 7\\nvalue = [6, 1]'),\n",
       " Text(301.98427356679167, 74.12727272727273, 'Secondary / secondary special <= 0.5\\ngini = 0.032\\nsamples = 184\\nvalue = [181, 3]'),\n",
       " Text(301.00469964341227, 64.24363636363637, 'gini = 0.0\\nsamples = 78\\nvalue = [78, 0]'),\n",
       " Text(302.963847490171, 64.24363636363637, 'Experience <= 1.5\\ngini = 0.055\\nsamples = 106\\nvalue = [103, 3]'),\n",
       " Text(300.0251257200329, 54.360000000000014, 'Age <= 48.5\\ngini = 0.114\\nsamples = 33\\nvalue = [31, 2]'),\n",
       " Text(299.04555179665357, 44.47636363636366, 'gini = 0.0\\nsamples = 8\\nvalue = [8, 0]'),\n",
       " Text(301.00469964341227, 44.47636363636366, 'RevenuAnnuel <= 335250.0\\ngini = 0.147\\nsamples = 25\\nvalue = [23, 2]'),\n",
       " Text(300.0251257200329, 34.592727272727274, 'gini = 0.278\\nsamples = 6\\nvalue = [5, 1]'),\n",
       " Text(301.98427356679167, 34.592727272727274, 'RevenuAnnuel <= 427500.0\\ngini = 0.1\\nsamples = 19\\nvalue = [18, 1]'),\n",
       " Text(301.00469964341227, 24.709090909090918, 'gini = 0.0\\nsamples = 11\\nvalue = [11, 0]'),\n",
       " Text(302.963847490171, 24.709090909090918, 'gini = 0.219\\nsamples = 8\\nvalue = [7, 1]'),\n",
       " Text(305.90256926030906, 54.360000000000014, 'Age <= 47.5\\ngini = 0.027\\nsamples = 73\\nvalue = [72, 1]'),\n",
       " Text(304.9229953369297, 44.47636363636366, 'RevenuAnnuel <= 337500.0\\ngini = 0.117\\nsamples = 16\\nvalue = [15, 1]'),\n",
       " Text(303.94342141355037, 34.592727272727274, 'gini = 0.219\\nsamples = 8\\nvalue = [7, 1]'),\n",
       " Text(305.90256926030906, 34.592727272727274, 'gini = 0.0\\nsamples = 8\\nvalue = [8, 0]'),\n",
       " Text(306.8821431836884, 44.47636363636366, 'gini = 0.0\\nsamples = 57\\nvalue = [57, 0]'),\n",
       " Text(304.9229953369297, 84.01090909090911, 'M <= 0.5\\ngini = 0.219\\nsamples = 16\\nvalue = [14, 2]'),\n",
       " Text(303.94342141355037, 74.12727272727273, 'gini = 0.0\\nsamples = 9\\nvalue = [9, 0]'),\n",
       " Text(305.90256926030906, 74.12727272727273, 'gini = 0.408\\nsamples = 7\\nvalue = [5, 2]'),\n",
       " Text(307.86171710706776, 93.89454545454547, 'Married <= 0.5\\ngini = 0.227\\nsamples = 23\\nvalue = [20, 3]'),\n",
       " Text(306.8821431836884, 84.01090909090911, 'gini = 0.0\\nsamples = 9\\nvalue = [9, 0]'),\n",
       " Text(308.8412910304471, 84.01090909090911, 'RevenuAnnuel <= 288000.0\\ngini = 0.337\\nsamples = 14\\nvalue = [11, 3]'),\n",
       " Text(307.86171710706776, 74.12727272727273, 'gini = 0.0\\nsamples = 6\\nvalue = [6, 0]'),\n",
       " Text(309.82086495382646, 74.12727272727273, 'gini = 0.469\\nsamples = 8\\nvalue = [5, 3]'),\n",
       " Text(308.35150406875744, 113.66181818181819, 'RevenuAnnuel <= 258750.0\\ngini = 0.252\\nsamples = 27\\nvalue = [23, 4]'),\n",
       " Text(307.3719301453781, 103.77818181818182, 'gini = 0.49\\nsamples = 7\\nvalue = [3, 4]'),\n",
       " Text(309.3310779921368, 103.77818181818182, 'gini = 0.0\\nsamples = 20\\nvalue = [20, 0]'),\n",
       " Text(314.2289476090336, 123.54545454545455, 'Experience <= 6.0\\ngini = 0.198\\nsamples = 45\\nvalue = [40, 5]'),\n",
       " Text(313.24937368565423, 113.66181818181819, 'Y <= 0.5\\ngini = 0.285\\nsamples = 29\\nvalue = [24, 5]'),\n",
       " Text(311.29022583889554, 103.77818181818182, 'Married <= 0.5\\ngini = 0.375\\nsamples = 12\\nvalue = [9, 3]'),\n",
       " Text(310.3106519155162, 93.89454545454547, 'gini = 0.278\\nsamples = 6\\nvalue = [5, 1]'),\n",
       " Text(312.2697997622749, 93.89454545454547, 'gini = 0.444\\nsamples = 6\\nvalue = [4, 2]'),\n",
       " Text(315.20852153241293, 103.77818181818182, 'Higher education <= 0.5\\ngini = 0.208\\nsamples = 17\\nvalue = [15, 2]'),\n",
       " Text(314.2289476090336, 93.89454545454547, 'gini = 0.32\\nsamples = 5\\nvalue = [4, 1]'),\n",
       " Text(316.1880954557923, 93.89454545454547, 'State servant <= 0.5\\ngini = 0.153\\nsamples = 12\\nvalue = [11, 1]'),\n",
       " Text(315.20852153241293, 84.01090909090911, 'gini = 0.0\\nsamples = 5\\nvalue = [5, 0]'),\n",
       " Text(317.1676693791716, 84.01090909090911, 'gini = 0.245\\nsamples = 7\\nvalue = [6, 1]'),\n",
       " Text(315.20852153241293, 113.66181818181819, 'gini = 0.0\\nsamples = 16\\nvalue = [16, 0]'),\n",
       " Text(319.1268172259304, 133.42909090909092, 'Age <= 47.5\\ngini = 0.013\\nsamples = 152\\nvalue = [151, 1]'),\n",
       " Text(318.147243302551, 123.54545454545455, 'RevenuAnnuel <= 236250.0\\ngini = 0.105\\nsamples = 18\\nvalue = [17, 1]'),\n",
       " Text(317.1676693791716, 113.66181818181819, 'gini = 0.32\\nsamples = 5\\nvalue = [4, 1]'),\n",
       " Text(319.1268172259304, 113.66181818181819, 'gini = 0.0\\nsamples = 13\\nvalue = [13, 0]'),\n",
       " Text(320.10639114930973, 123.54545454545455, 'gini = 0.0\\nsamples = 134\\nvalue = [134, 0]'),\n",
       " Text(322.0655389960684, 143.31272727272727, 'Secondary / secondary special <= 0.5\\ngini = 0.185\\nsamples = 29\\nvalue = [26, 3]'),\n",
       " Text(321.0859650726891, 133.42909090909092, 'gini = 0.408\\nsamples = 7\\nvalue = [5, 2]'),\n",
       " Text(323.0451129194478, 133.42909090909092, 'RevenuAnnuel <= 251100.0\\ngini = 0.087\\nsamples = 22\\nvalue = [21, 1]'),\n",
       " Text(322.0655389960684, 123.54545454545455, 'gini = 0.278\\nsamples = 6\\nvalue = [5, 1]'),\n",
       " Text(324.0246868428271, 123.54545454545455, 'gini = 0.0\\nsamples = 16\\nvalue = [16, 0]'),\n",
       " Text(331.3714912681723, 153.19636363636363, 'Experience <= 4.5\\ngini = 0.011\\nsamples = 555\\nvalue = [552, 3]'),\n",
       " Text(330.39191734479294, 143.31272727272727, 'Widow <= 0.5\\ngini = 0.029\\nsamples = 204\\nvalue = [201, 3]'),\n",
       " Text(327.9429825363445, 133.42909090909092, 'RevenuAnnuel <= 416250.0\\ngini = 0.021\\nsamples = 189\\nvalue = [187, 2]'),\n",
       " Text(325.9838346895858, 123.54545454545455, 'RevenuAnnuel <= 281250.0\\ngini = 0.012\\nsamples = 169\\nvalue = [168, 1]'),\n",
       " Text(325.00426076620647, 113.66181818181819, 'gini = 0.0\\nsamples = 113\\nvalue = [113, 0]'),\n",
       " Text(326.96340861296517, 113.66181818181819, 'RevenuAnnuel <= 310500.0\\ngini = 0.035\\nsamples = 56\\nvalue = [55, 1]'),\n",
       " Text(325.9838346895858, 103.77818181818182, 'gini = 0.245\\nsamples = 7\\nvalue = [6, 1]'),\n",
       " Text(327.9429825363445, 103.77818181818182, 'gini = 0.0\\nsamples = 49\\nvalue = [49, 0]'),\n",
       " Text(329.90213038310327, 123.54545454545455, 'Higher education <= 0.5\\ngini = 0.095\\nsamples = 20\\nvalue = [19, 1]'),\n",
       " Text(328.9225564597239, 113.66181818181819, 'gini = 0.278\\nsamples = 6\\nvalue = [5, 1]'),\n",
       " Text(330.8817043064826, 113.66181818181819, 'gini = 0.0\\nsamples = 14\\nvalue = [14, 0]'),\n",
       " Text(332.8408521532413, 133.42909090909092, 'Experience <= 3.0\\ngini = 0.124\\nsamples = 15\\nvalue = [14, 1]'),\n",
       " Text(331.86127822986197, 123.54545454545455, 'gini = 0.0\\nsamples = 9\\nvalue = [9, 0]'),\n",
       " Text(333.82042607662066, 123.54545454545455, 'gini = 0.278\\nsamples = 6\\nvalue = [5, 1]'),\n",
       " Text(332.35106519155164, 143.31272727272727, 'gini = 0.0\\nsamples = 351\\nvalue = [351, 0]'),\n",
       " Text(166.18055482536346, 202.61454545454546, 'gini = 0.0\\nsamples = 7\\nvalue = [0, 7]')]"
      ]
     },
     "execution_count": 44,
     "metadata": {},
     "output_type": "execute_result"
    },
    {
     "data": {
      "image/png": "[encoded data removed]",
      "text/plain": [
       "<Figure size 432x288 with 1 Axes>"
      ]
     },
     "metadata": {
      "needs_background": "light"
     },
     "output_type": "display_data"
    }
   ],
   "source": [
    "from sklearn.tree import plot_tree\n",
    "plot_tree(arbreFirst,feature_names = list(X_train.columns),filled=True)\n",
    "# list(X_train.columns)"
   ]
  },
  {
   "cell_type": "code",
   "execution_count": 54,
   "metadata": {},
   "outputs": [
    {
     "data": {
      "image/png": "[encoded data removed]",
      "text/plain": [
       "<Figure size 720x720 with 1 Axes>"
      ]
     },
     "metadata": {
      "needs_background": "light"
     },
     "output_type": "display_data"
    }
   ],
   "source": [
    "import matplotlib.pyplot as plt\n",
    "plt.figure(figsize=(10,10))\n",
    "plot_tree(arbreFirst,feature_names = list(X_train.columns),filled=True)\n",
    "plt.show()"
   ]
  },
  {
   "cell_type": "code",
   "execution_count": 47,
   "metadata": {},
   "outputs": [],
   "source": [
    "from sklearn.tree import export_text\n",
    "tree_rules = export_text(arbreFirst,feature_names = list(X_train.columns),show_weights=True)"
   ]
  },
  {
   "cell_type": "code",
   "execution_count": 51,
   "metadata": {},
   "outputs": [
    {
     "name": "stdout",
     "output_type": "stream",
     "text": [
      "(array([0, 1], dtype=int64), array([7517,   24], dtype=int64))\n",
      "[[7383   13]\n",
      " [ 134   11]]\n",
      "0.980506564116165\n",
      "0.07586206896551724\n",
      "0.4583333333333333\n",
      "0.1301775147928994\n",
      "              precision    recall  f1-score   support\n",
      "\n",
      "           0       0.98      1.00      0.99      7396\n",
      "           1       0.46      0.08      0.13       145\n",
      "\n",
      "    accuracy                           0.98      7541\n",
      "   macro avg       0.72      0.54      0.56      7541\n",
      "weighted avg       0.97      0.98      0.97      7541\n",
      "\n",
      "Arbre_roc_auc :  0.5370521810484699\n"
     ]
    }
   ],
   "source": [
    "print(np.unique(predFirst,return_counts=True))\n",
    "from sklearn import metrics\n",
    "print(metrics.confusion_matrix(y_test,predFirst))\n",
    "# Accuracy\n",
    "print(metrics.accuracy_score(y_test,predFirst))\n",
    "# Sensibilité \n",
    "print(metrics.recall_score(y_test,predFirst))\n",
    "# précision\n",
    "print(metrics.precision_score(y_test,predFirst))\n",
    "# F1-score\n",
    "print(metrics.f1_score(y_test,predFirst))\n",
    "# rapport de prédiction\n",
    "print(classification_report(y_test,predFirst))\n",
    "# AUC\n",
    "print('Arbre_roc_auc : ',roc_auc_score(y_test, arbreFirst.predict(X_test)))"
   ]
  },
  {
   "cell_type": "code",
   "execution_count": 55,
   "metadata": {},
   "outputs": [
    {
     "data": {
      "image/png": "[encoded data removed]",
      "text/plain": [
       "<Figure size 432x288 with 1 Axes>"
      ]
     },
     "metadata": {
      "needs_background": "light"
     },
     "output_type": "display_data"
    }
   ],
   "source": [
    "from sklearn.metrics import roc_auc_score\n",
    "from sklearn.metrics import roc_curve\n",
    "logit_roc_auc=roc_auc_score(y_test, arbreFirst.predict(X_test))\n",
    "fpr, tpr,thresholds=roc_curve(y_test, arbreFirst.predict_proba(X_test)[:,1])\n",
    "plt.figure()\n",
    "plt.plot(fpr, tpr, label='Decision Tree (area= %0.2f)'% logit_roc_auc)\n",
    "plt.plot([0,1],[0,1],'r--')\n",
    "plt.xlim([0.0,1.0])\n",
    "plt.ylim([0.0, 1.05])\n",
    "plt.xlabel('False Positive Rate')\n",
    "plt.ylabel('True Positive Rate')\n",
    "plt.title('Arbre de decision ROC Curve')\n",
    "plt.savefig('Log_ROC')\n",
    "plt.show()"
   ]
  },
  {
   "cell_type": "code",
   "execution_count": 149,
   "metadata": {},
   "outputs": [
    {
     "name": "stdout",
     "output_type": "stream",
     "text": [
      "0.5064909270621585\n"
     ]
    }
   ],
   "source": [
    "logit_roc_auc=roc_auc_score(y_test, arbreFirst.predict(X_test))\n",
    "print(logit_roc_auc)"
   ]
  },
  {
   "cell_type": "markdown",
   "metadata": {},
   "source": [
    "# K-Nears-Neighbors"
   ]
  },
  {
   "cell_type": "code",
   "execution_count": 34,
   "metadata": {},
   "outputs": [
    {
     "data": {
      "text/plain": [
       "KNeighborsClassifier(n_neighbors=3)"
      ]
     },
     "execution_count": 34,
     "metadata": {},
     "output_type": "execute_result"
    }
   ],
   "source": [
    "from sklearn import neighbors\n",
    "knn = neighbors.KNeighborsClassifier(n_neighbors=3)\n",
    "knn.fit(X_train, y_train)"
   ]
  },
  {
   "cell_type": "code",
   "execution_count": 35,
   "metadata": {},
   "outputs": [],
   "source": [
    "pred = knn.predict(X_test)"
   ]
  },
  {
   "cell_type": "code",
   "execution_count": 40,
   "metadata": {},
   "outputs": [
    {
     "name": "stdout",
     "output_type": "stream",
     "text": [
      "[[7368   28]\n",
      " [ 124   21]]\n",
      "0.980771780930911\n",
      "0.9798435220792998\n",
      "0.14482758620689656\n",
      "0.42857142857142855\n",
      "0.21649484536082475\n",
      "              precision    recall  f1-score   support\n",
      "\n",
      "           0       0.98      1.00      0.99      7396\n",
      "           1       0.43      0.14      0.22       145\n",
      "\n",
      "    accuracy                           0.98      7541\n",
      "   macro avg       0.71      0.57      0.60      7541\n",
      "weighted avg       0.97      0.98      0.97      7541\n",
      "\n",
      "knn_roc_auc :  0.5\n"
     ]
    }
   ],
   "source": [
    "from sklearn import metrics\n",
    "print(metrics.confusion_matrix(y_test,pred))\n",
    "print(knn.score(X_test, y_test))\n",
    "# Accuracy\n",
    "print(metrics.accuracy_score(y_test,pred))\n",
    "# Sensibilité \n",
    "print(metrics.recall_score(y_test,pred))\n",
    "# précision\n",
    "print(metrics.precision_score(y_test,pred))\n",
    "# F1-score\n",
    "print(metrics.f1_score(y_test,pred))\n",
    "### rapport de prédiction\n",
    "############# print(metrics.classification_report(y_test,pred))\n",
    "# rapport de prédiction\n",
    "print(classification_report(y_test,pred))\n",
    "# AUC\n",
    "print('knn_roc_auc : ',roc_auc_score(y_test, knn.predict(X_test)))"
   ]
  },
  {
   "cell_type": "code",
   "execution_count": 39,
   "metadata": {},
   "outputs": [
    {
     "data": {
      "image/png": "[encoded data removed]",
      "text/plain": [
       "<Figure size 432x288 with 1 Axes>"
      ]
     },
     "metadata": {
      "needs_background": "light"
     },
     "output_type": "display_data"
    }
   ],
   "source": [
    "errors = []\n",
    "for k in range(2,15):\n",
    "    knn = neighbors.KNeighborsClassifier(k)\n",
    "    errors.append(100*(1 - knn.fit(X_train, y_train).score(X_test, y_test)))\n",
    "plt.plot(range(2,15), errors, 'o-')\n",
    "plt.xlabel('value of k')\n",
    "plt.ylabel('Error Rate')\n",
    "plt.show()"
   ]
  },
  {
   "cell_type": "code",
   "execution_count": 38,
   "metadata": {},
   "outputs": [
    {
     "data": {
      "image/png": "[encoded data removed]",
      "text/plain": [
       "<Figure size 432x288 with 1 Axes>"
      ]
     },
     "metadata": {
      "needs_background": "light"
     },
     "output_type": "display_data"
    }
   ],
   "source": [
    "from sklearn.metrics import roc_auc_score\n",
    "from sklearn.metrics import roc_curve\n",
    "logit_roc_auc=roc_auc_score(y_test, knn.predict(X_test))\n",
    "fpr, tpr,thresholds=roc_curve(y_test, knn.predict_proba(X_test)[:,1])\n",
    "plt.figure()\n",
    "plt.plot(fpr, tpr, label='Decision Tree (area= %0.2f)'% logit_roc_auc)\n",
    "plt.plot([0,1],[0,1],'r--')\n",
    "plt.xlim([0.0,1.0])\n",
    "plt.ylim([0.0, 1.05])\n",
    "plt.xlabel('False Positive Rate')\n",
    "plt.ylabel('True Positive Rate')\n",
    "plt.title('knn ROC Curve')\n",
    "plt.savefig('Log_ROC')\n",
    "plt.show()"
   ]
  },
  {
   "cell_type": "code",
   "execution_count": 37,
   "metadata": {},
   "outputs": [
    {
     "name": "stdout",
     "output_type": "stream",
     "text": [
      "0.5705208780142108\n"
     ]
    }
   ],
   "source": [
    "knn_roc_auc=roc_auc_score(y_test, knn.predict(X_test))\n",
    "print(knn_roc_auc)"
   ]
  },
  {
   "cell_type": "markdown",
   "metadata": {},
   "source": [
    "# Support Vector Machines (SVM)"
   ]
  },
  {
   "cell_type": "code",
   "execution_count": 58,
   "metadata": {},
   "outputs": [],
   "source": [
    "# Feature Scaling\n",
    "from sklearn.preprocessing import StandardScaler\n",
    "sc = StandardScaler()\n",
    "X_train = sc.fit_transform(X_train)\n",
    "X_test = sc.transform(X_test)\n",
    "# print(X_train)"
   ]
  },
  {
   "cell_type": "code",
   "execution_count": 59,
   "metadata": {},
   "outputs": [
    {
     "data": {
      "text/plain": [
       "SVC(kernel='linear', random_state=0)"
      ]
     },
     "execution_count": 59,
     "metadata": {},
     "output_type": "execute_result"
    }
   ],
   "source": [
    "# Fitting SVM to the Training set\n",
    "from sklearn.svm import SVC\n",
    "classifier = SVC(kernel = 'linear', random_state = 0)\n",
    "classifier.fit(X_train, y_train)"
   ]
  },
  {
   "cell_type": "code",
   "execution_count": 60,
   "metadata": {},
   "outputs": [],
   "source": [
    "# Predicting the Test set results\n",
    "y_pred = classifier.predict(X_test)"
   ]
  },
  {
   "cell_type": "code",
   "execution_count": 61,
   "metadata": {},
   "outputs": [
    {
     "data": {
      "text/plain": [
       "array([[7396,    0],\n",
       "       [ 139,    6]], dtype=int64)"
      ]
     },
     "execution_count": 61,
     "metadata": {},
     "output_type": "execute_result"
    }
   ],
   "source": [
    "# Making the Confusion Matrix\n",
    "from sklearn.metrics import confusion_matrix\n",
    "cm = confusion_matrix(y_test, y_pred)\n",
    "cm"
   ]
  },
  {
   "cell_type": "code",
   "execution_count": 62,
   "metadata": {},
   "outputs": [
    {
     "name": "stdout",
     "output_type": "stream",
     "text": [
      "              precision    recall  f1-score   support\n",
      "\n",
      "           0       0.98      1.00      0.99      7396\n",
      "           1       1.00      0.04      0.08       145\n",
      "\n",
      "    accuracy                           0.98      7541\n",
      "   macro avg       0.99      0.52      0.54      7541\n",
      "weighted avg       0.98      0.98      0.97      7541\n",
      "\n",
      "svm_roc_auc :  0.5206896551724138\n"
     ]
    }
   ],
   "source": [
    "from sklearn.metrics import classification_report,confusion_matrix\n",
    "print(classification_report(y_test,y_pred))\n",
    "# AUC\n",
    "print('svm_roc_auc : ',roc_auc_score(y_test,y_pred))"
   ]
  },
  {
   "cell_type": "code",
   "execution_count": 64,
   "metadata": {},
   "outputs": [
    {
     "data": {
      "image/png": "[encoded data removed]",
      "text/plain": [
       "<Figure size 432x432 with 1 Axes>"
      ]
     },
     "metadata": {
      "needs_background": "light"
     },
     "output_type": "display_data"
    }
   ],
   "source": [
    "# prédire sur le jeu de test\n",
    "y_test_pred = classifier.decision_function(X_test)\n",
    "# construire la courbe ROC\n",
    "from sklearn import metrics\n",
    "fpr, tpr, thr = metrics.roc_curve(y_test, y_test_pred ) # y_pred )\n",
    "# calculer l'aire sous la courbe ROC\n",
    "auc = metrics.auc(fpr, tpr)\n",
    "# créer une figure\n",
    "from matplotlib import pyplot as plt\n",
    "fig = plt.figure(figsize=(6, 6))\n",
    "# afficher la courbe ROC\n",
    "##### plt.plot(fpr, tpr, '-', lw=2, label='gamma=0.01, AUC=%.2f' % auc)\n",
    "plt.plot(fpr, tpr, '-', lw=2, label='gamma=0.01, AUC=%.2f' % 0.52)\n",
    "plt.plot([0,1],[0,1],'r--')\n",
    "# donner un titre aux axes et au graphique\n",
    "plt.xlabel('False Positive Rate', fontsize=16)\n",
    "plt.ylabel('True Positive Rate', fontsize=16)\n",
    "plt.title('SVM ROC Curve', fontsize=16)\n",
    "# afficher la légende\n",
    "plt.legend(loc=\"lower right\", fontsize=14)\n",
    "# afficher l'image\n",
    "plt.show()"
   ]
  },
  {
   "cell_type": "code",
   "execution_count": null,
   "metadata": {},
   "outputs": [],
   "source": [
    "# choisir 6 valeurs pour C, entre 1e-2 et 1e3\n",
    "C_range = np.logspace(-2, 3, 6)\n",
    "# choisir 4 valeurs pour gamma, entre 1e-2 et 10\n",
    "gamma_range = np.logspace(-2, 1, 4)\n",
    "# grille de paramètres\n",
    "param_grid = {'C': C_range, 'gamma': gamma_range}\n",
    "# critère de sélection du meilleur modèle\n",
    "score = 'roc_auc'\n",
    "# initialiser une recherche sur grille\n",
    "from sklearn.model_selection import GridSearchCV\n",
    "grid = GridSearchCV(SVC(kernel='rbf'), param_grid, \n",
    "                                    cv=5, # 5 folds de validation croisée  \n",
    "                                    scoring=score)\n",
    "# faire tourner la recherche sur grille\n",
    "grid.fit(X_train, y_train)\n",
    "# afficher les paramètres optimaux\n",
    "print(\"The optimal parameters are {} with a score of {:.2f}\".format(grid.best_params_, grid.best_score_))"
   ]
  },
  {
   "cell_type": "markdown",
   "metadata": {},
   "source": [
    "# Neural Network"
   ]
  },
  {
   "cell_type": "code",
   "execution_count": 65,
   "metadata": {},
   "outputs": [],
   "source": [
    "#initialisation du classifieur\n",
    "from sklearn.neural_network import MLPClassifier\n",
    "rna = MLPClassifier(hidden_layer_sizes=(2,),activation=\"logistic\",solver=\"lbfgs\")"
   ]
  },
  {
   "cell_type": "code",
   "execution_count": 66,
   "metadata": {},
   "outputs": [
    {
     "data": {
      "text/plain": [
       "MLPClassifier(activation='logistic', hidden_layer_sizes=(2,), solver='lbfgs')"
      ]
     },
     "execution_count": 66,
     "metadata": {},
     "output_type": "execute_result"
    }
   ],
   "source": [
    "#apprentissage\n",
    "rna.fit(X_train,y_train)"
   ]
  },
  {
   "cell_type": "code",
   "execution_count": 67,
   "metadata": {},
   "outputs": [
    {
     "name": "stdout",
     "output_type": "stream",
     "text": [
      "[array([[ 1.10017205, -7.67918685],\n",
      "       [-1.38662454,  0.83660535],\n",
      "       [ 4.69430191,  0.1673448 ],\n",
      "       [-0.55744553,  0.36843162],\n",
      "       [ 1.97070073,  2.8299129 ],\n",
      "       [-1.26771606, -0.45083273],\n",
      "       [-0.88773083,  2.49686922],\n",
      "       [-1.13580263,  3.61329639],\n",
      "       [-0.4624856 , -1.98384153],\n",
      "       [ 3.08628544, -1.53087035],\n",
      "       [ 0.46510974,  0.13958078],\n",
      "       [-4.30084555,  5.74401696],\n",
      "       [ 0.70683149, -1.30103377],\n",
      "       [-0.32762733,  0.27171586],\n",
      "       [-2.88608289,  2.01482711],\n",
      "       [-0.48908254,  0.69093304],\n",
      "       [ 0.67135056, -1.09460876],\n",
      "       [ 2.8505732 , -1.44379089],\n",
      "       [ 1.77224376, -1.07036465],\n",
      "       [ 1.4417475 , -1.63998253],\n",
      "       [-0.56511608,  0.73637277],\n",
      "       [-0.24758972, -0.60071235],\n",
      "       [ 0.62434735, -1.11737291],\n",
      "       [ 0.52479197, -0.12356513],\n",
      "       [ 1.35260291, -2.58440164],\n",
      "       [ 0.22850301,  0.08996356],\n",
      "       [ 0.12384356,  0.15252233]]), array([[-3.42826534],\n",
      "       [-3.5538983 ]])]\n",
      "[array([1.41203389, 4.22621332]), array([-0.56083422])]\n"
     ]
    }
   ],
   "source": [
    "#affichage des coefficients\n",
    "print(rna.coefs_)\n",
    "print(rna.intercepts_)"
   ]
  },
  {
   "cell_type": "code",
   "execution_count": 50,
   "metadata": {},
   "outputs": [
    {
     "name": "stdout",
     "output_type": "stream",
     "text": [
      "[0 0 0 ... 0 0 0]\n",
      "[[7396    0]\n",
      " [ 145    0]]\n",
      "0.980771780930911\n",
      "Taux erreur = 0.019228219069089003\n"
     ]
    }
   ],
   "source": [
    "#prédiction sur l'échantillon test\n",
    "pred = rna.predict(X_test)\n",
    "print(pred)\n",
    "#mesure des performances\n",
    "from sklearn import metrics\n",
    "print(metrics.confusion_matrix(y_test,pred))\n",
    "print(metrics.accuracy_score(y_test,pred))\n",
    "print(\"Taux erreur = \" + str(1-metrics.accuracy_score(y_test,pred)))"
   ]
  },
  {
   "cell_type": "code",
   "execution_count": 69,
   "metadata": {},
   "outputs": [
    {
     "name": "stdout",
     "output_type": "stream",
     "text": [
      "[[7368   28]\n",
      " [ 124   21]]\n",
      "0.980771780930911\n",
      "0.9798435220792998\n",
      "0.14482758620689656\n",
      "0.42857142857142855\n",
      "0.21649484536082475\n",
      "              precision    recall  f1-score   support\n",
      "\n",
      "           0       0.98      1.00      0.99      7396\n",
      "           1       0.43      0.14      0.22       145\n",
      "\n",
      "    accuracy                           0.98      7541\n",
      "   macro avg       0.71      0.57      0.60      7541\n",
      "weighted avg       0.97      0.98      0.97      7541\n",
      "\n",
      "Neural_Network_roc_auc :  0.5705208780142108\n"
     ]
    }
   ],
   "source": [
    "from sklearn import metrics\n",
    "print(metrics.confusion_matrix(y_test,pred))\n",
    "print(rna.score(X_test, y_test))\n",
    "# Accuracy\n",
    "print(metrics.accuracy_score(y_test,pred))\n",
    "# Sensibilité \n",
    "print(metrics.recall_score(y_test,pred))\n",
    "# précision\n",
    "print(metrics.precision_score(y_test,pred))\n",
    "# F1-score\n",
    "print(metrics.f1_score(y_test,pred))\n",
    "# rapport de prédiction\n",
    "print(classification_report(y_test,pred))\n",
    "# AUC\n",
    "print('Neural_Network_roc_auc : ',roc_auc_score(y_test,pred))"
   ]
  },
  {
   "cell_type": "code",
   "execution_count": 72,
   "metadata": {},
   "outputs": [
    {
     "data": {
      "image/png": "[encoded data removed]",
      "text/plain": [
       "<Figure size 432x288 with 1 Axes>"
      ]
     },
     "metadata": {
      "needs_background": "light"
     },
     "output_type": "display_data"
    }
   ],
   "source": [
    "from sklearn.metrics import roc_auc_score\n",
    "from sklearn.metrics import roc_curve\n",
    "rna_roc_auc=roc_auc_score(y_test, rna.predict(X_test))\n",
    "fpr, tpr,thresholds=roc_curve(y_test, rna.predict_proba(X_test)[:,1])\n",
    "plt.figure()\n",
    "plt.plot(fpr, tpr, label='Decision Tree (area= %0.2f)'% rna_roc_auc)\n",
    "plt.plot([0,1],[0,1],'r--')\n",
    "plt.xlim([0.0,1.0])\n",
    "plt.ylim([0.0, 1.05])\n",
    "plt.xlabel('False Positive Rate')\n",
    "plt.ylabel('True Positive Rate')\n",
    "plt.title('Réseaux Neurones ROC Curve')\n",
    "plt.savefig('Log_ROC')\n",
    "plt.show()"
   ]
  },
  {
   "cell_type": "code",
   "execution_count": 55,
   "metadata": {},
   "outputs": [
    {
     "data": {
      "image/png": "[encoded data removed]",
      "text/plain": [
       "<Figure size 432x432 with 1 Axes>"
      ]
     },
     "metadata": {
      "needs_background": "light"
     },
     "output_type": "display_data"
    }
   ],
   "source": [
    "from sklearn import metrics\n",
    "fpr, tpr, thr = metrics.roc_curve(y_test, pred ) # y_pred )\n",
    "# calculer l'aire sous la courbe ROC\n",
    "auc = metrics.auc(fpr, tpr)\n",
    "# créer une figure\n",
    "from matplotlib import pyplot as plt\n",
    "fig = plt.figure(figsize=(6, 6))\n",
    "# afficher la courbe ROC\n",
    "plt.plot(fpr, tpr, '-', lw=2, label='gamma=0.01, AUC=%.2f' % auc)\n",
    "plt.plot([0,1],[0,1],'r--')\n",
    "# donner un titre aux axes et au graphique\n",
    "plt.xlabel('False Positive Rate', fontsize=16)\n",
    "plt.ylabel('True Positive Rate', fontsize=16)\n",
    "plt.title('SVM ROC Curve', fontsize=16)\n",
    "# afficher la légende\n",
    "plt.legend(loc=\"lower right\", fontsize=14)\n",
    "# afficher l'image\n",
    "plt.show()"
   ]
  },
  {
   "cell_type": "markdown",
   "metadata": {},
   "source": [
    "# Naive Bayes "
   ]
  },
  {
   "cell_type": "code",
   "execution_count": 57,
   "metadata": {},
   "outputs": [],
   "source": [
    "from sklearn.naive_bayes import GaussianNB\n",
    "gnb = GaussianNB()\n",
    "y_pred = gnb.fit(X_train, y_train).predict(X_test)"
   ]
  },
  {
   "cell_type": "code",
   "execution_count": 59,
   "metadata": {},
   "outputs": [
    {
     "name": "stdout",
     "output_type": "stream",
     "text": [
      "Number of mislabeled points out of a total 7541 points : 145\n"
     ]
    }
   ],
   "source": [
    "print(\"Number of mislabeled points out of a total %d points : %d\" % (X_test.shape[0], (y_test != y_pred).sum()))"
   ]
  },
  {
   "cell_type": "code",
   "execution_count": 61,
   "metadata": {},
   "outputs": [
    {
     "name": "stdout",
     "output_type": "stream",
     "text": [
      "[[7396    0]\n",
      " [ 145    0]]\n",
      "0.980771780930911\n",
      "0.980771780930911\n",
      "0.0\n",
      "0.0\n",
      "0.0\n",
      "              precision    recall  f1-score   support\n",
      "\n",
      "           0       0.98      1.00      0.99      7396\n",
      "           1       0.00      0.00      0.00       145\n",
      "\n",
      "    accuracy                           0.98      7541\n",
      "   macro avg       0.49      0.50      0.50      7541\n",
      "weighted avg       0.96      0.98      0.97      7541\n",
      "\n"
     ]
    },
    {
     "name": "stderr",
     "output_type": "stream",
     "text": [
      "C:\\Users\\lenovo\\anaconda3\\lib\\site-packages\\sklearn\\metrics\\_classification.py:1221: UndefinedMetricWarning: Precision is ill-defined and being set to 0.0 due to no predicted samples. Use `zero_division` parameter to control this behavior.\n",
      "  _warn_prf(average, modifier, msg_start, len(result))\n",
      "C:\\Users\\lenovo\\anaconda3\\lib\\site-packages\\sklearn\\metrics\\_classification.py:1221: UndefinedMetricWarning: Precision and F-score are ill-defined and being set to 0.0 in labels with no predicted samples. Use `zero_division` parameter to control this behavior.\n",
      "  _warn_prf(average, modifier, msg_start, len(result))\n"
     ]
    }
   ],
   "source": [
    "from sklearn import metrics\n",
    "print(metrics.confusion_matrix(y_test,y_pred))\n",
    "print(gnb.score(X_test, y_test))\n",
    "# Accuracy\n",
    "print(metrics.accuracy_score(y_test,y_pred))\n",
    "# Sensibilité \n",
    "print(metrics.recall_score(y_test,y_pred))\n",
    "# précision\n",
    "print(metrics.precision_score(y_test,y_pred))\n",
    "# F1-score\n",
    "print(metrics.f1_score(y_test,y_pred))\n",
    "# rapport de prédiction\n",
    "print(metrics.classification_report(y_test,y_pred))"
   ]
  },
  {
   "cell_type": "code",
   "execution_count": 62,
   "metadata": {},
   "outputs": [
    {
     "data": {
      "image/png": "[encoded data removed]",
      "text/plain": [
       "<Figure size 432x288 with 1 Axes>"
      ]
     },
     "metadata": {
      "needs_background": "light"
     },
     "output_type": "display_data"
    }
   ],
   "source": [
    "from sklearn.metrics import roc_auc_score\n",
    "from sklearn.metrics import roc_curve\n",
    "logit_roc_auc=roc_auc_score(y_test, gnb.predict(X_test))\n",
    "fpr, tpr,thresholds=roc_curve(y_test, gnb.predict_proba(X_test)[:,1])\n",
    "plt.figure()\n",
    "plt.plot(fpr, tpr, label='Naive Bayes (area= %0.2f)'% Naive_Bayes_roc_auc)\n",
    "plt.plot([0,1],[0,1],'r--')\n",
    "plt.xlim([0.0,1.0])\n",
    "plt.ylim([0.0, 1.05])\n",
    "plt.xlabel('False Positive Rate')\n",
    "plt.ylabel('True Positive Rate')\n",
    "plt.savefig('Naive_Bayes_ROC')\n",
    "plt.show()"
   ]
  },
  {
   "cell_type": "code",
   "execution_count": 63,
   "metadata": {},
   "outputs": [],
   "source": [
    "from sklearn.model_selection import KFold, cross_val_score"
   ]
  },
  {
   "cell_type": "code",
   "execution_count": 72,
   "metadata": {},
   "outputs": [
    {
     "name": "stdout",
     "output_type": "stream",
     "text": [
      "KFold(n_splits=5, random_state=None, shuffle=False)\n"
     ]
    }
   ],
   "source": [
    "k_fold = KFold(n_splits=5)\n",
    "print(k_fold)"
   ]
  },
  {
   "cell_type": "code",
   "execution_count": 73,
   "metadata": {},
   "outputs": [
    {
     "name": "stdout",
     "output_type": "stream",
     "text": [
      "Train: [ 5027  5028  5029 ... 25131 25132 25133] | test: [   0    1    2 ... 5024 5025 5026]\n",
      "Train: [    0     1     2 ... 25131 25132 25133] | test: [ 5027  5028  5029 ... 10051 10052 10053]\n",
      "Train: [    0     1     2 ... 25131 25132 25133] | test: [10054 10055 10056 ... 15078 15079 15080]\n",
      "Train: [    0     1     2 ... 25131 25132 25133] | test: [15081 15082 15083 ... 20105 20106 20107]\n",
      "Train: [    0     1     2 ... 20105 20106 20107] | test: [20108 20109 20110 ... 25131 25132 25133]\n"
     ]
    }
   ],
   "source": [
    "for train_indices, test_indices in k_fold.split(X):\n",
    "    print('Train: %s | test: %s' % (train_indices, test_indices))"
   ]
  },
  {
   "cell_type": "code",
   "execution_count": 74,
   "metadata": {},
   "outputs": [
    {
     "ename": "NameError",
     "evalue": "name 'X_digits' is not defined",
     "output_type": "error",
     "traceback": [
      "\u001b[1;31m---------------------------------------------------------------------------\u001b[0m",
      "\u001b[1;31mNameError\u001b[0m                                 Traceback (most recent call last)",
      "\u001b[1;32m<ipython-input-74-45ca7536ca77>\u001b[0m in \u001b[0;36m<module>\u001b[1;34m\u001b[0m\n\u001b[0;32m      1\u001b[0m [svc.fit(X_digits[train], y_digits[train]).score(X_digits[test], y_digits[test])\n\u001b[1;32m----> 2\u001b[1;33m  for train, test in k_fold.split(X_digits)]\n\u001b[0m",
      "\u001b[1;31mNameError\u001b[0m: name 'X_digits' is not defined"
     ]
    }
   ],
   "source": [
    "[svc.fit(X_digits[train], y_digits[train]).score(X_digits[test], y_digits[test])\n",
    " for train, test in k_fold.split(X_digits)]"
   ]
  },
  {
   "cell_type": "code",
   "execution_count": null,
   "metadata": {},
   "outputs": [],
   "source": []
  }
 ],
 "metadata": {
  "kernelspec": {
   "display_name": "Python 3 (ipykernel)",
   "language": "python",
   "name": "python3"
  },
  "language_info": {
   "codemirror_mode": {
    "name": "ipython",
    "version": 3
   },
   "file_extension": ".py",
   "mimetype": "text/x-python",
   "name": "python",
   "nbconvert_exporter": "python",
   "pygments_lexer": "ipython3",
   "version": "3.9.13"
  }
 },
 "nbformat": 4,
 "nbformat_minor": 2
}
